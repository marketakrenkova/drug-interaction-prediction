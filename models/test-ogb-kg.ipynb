{
 "cells": [
  {
   "cell_type": "markdown",
   "metadata": {},
   "source": [
    "## Evaluating my KG on OGB dataset"
   ]
  },
  {
   "cell_type": "code",
   "execution_count": 1,
   "metadata": {},
   "outputs": [
    {
     "name": "stderr",
     "output_type": "stream",
     "text": [
      "/usr/local/lib/python3.8/dist-packages/pykeen/evaluation/evaluator.py:16: TqdmExperimentalWarning: Using `tqdm.autonotebook.tqdm` in notebook mode. Use `tqdm.tqdm` instead to force console mode (e.g. in jupyter console)\n",
      "  from tqdm.autonotebook import tqdm\n"
     ]
    }
   ],
   "source": [
    "import pandas as pd\n",
    "import json\n",
    "import numpy as np\n",
    "\n",
    "import torch\n",
    "import torch.nn.functional as F\n",
    "from torch.utils.data import DataLoader\n",
    "from torch_geometric.utils import negative_sampling\n",
    "import torch_geometric.transforms as T\n",
    "\n",
    "from ogb.linkproppred import Evaluator, PygLinkPropPredDataset\n",
    "\n",
    "from pykeen.evaluation import RankBasedEvaluator\n",
    "from pykeen.triples import CoreTriplesFactory\n",
    "from pykeen.pipeline import pipeline, pipeline_from_config "
   ]
  },
  {
   "cell_type": "code",
   "execution_count": 2,
   "metadata": {},
   "outputs": [],
   "source": [
    "dataset_dir = '../data/dataset-ogb/'"
   ]
  },
  {
   "cell_type": "markdown",
   "metadata": {},
   "source": [
    "### Load and prepare data"
   ]
  },
  {
   "cell_type": "code",
   "execution_count": 8,
   "metadata": {},
   "outputs": [
    {
     "data": {
      "text/plain": [
       "SparseTensor(row=tensor([   0,    0,    0,  ..., 4266, 4266, 4266]),\n",
       "             col=tensor([   4,    6,    7,  ..., 3953, 3972, 4014]),\n",
       "             size=(4267, 4267), nnz=2135822, density=11.73%)"
      ]
     },
     "execution_count": 8,
     "metadata": {},
     "output_type": "execute_result"
    }
   ],
   "source": [
    "dataset = PygLinkPropPredDataset(name='ogbl-ddi', root=dataset_dir, transform=T.ToSparseTensor())\n",
    "data = dataset[0]\n",
    "data.adj_t"
   ]
  },
  {
   "cell_type": "code",
   "execution_count": 9,
   "metadata": {},
   "outputs": [
    {
     "data": {
      "text/plain": [
       "{'edge': tensor([[4039, 2424],\n",
       "         [4039,  225],\n",
       "         [4039, 3901],\n",
       "         ...,\n",
       "         [ 647,  708],\n",
       "         [ 708,  338],\n",
       "         [ 835, 3554]])}"
      ]
     },
     "execution_count": 9,
     "metadata": {},
     "output_type": "execute_result"
    }
   ],
   "source": [
    "split_edge = dataset.get_edge_split()\n",
    "train_edge, valid_edge, test_edge = split_edge[\"train\"], split_edge[\"valid\"], split_edge[\"test\"]\n",
    "train_edge"
   ]
  },
  {
   "cell_type": "code",
   "execution_count": 10,
   "metadata": {},
   "outputs": [
    {
     "name": "stdout",
     "output_type": "stream",
     "text": [
      "torch.Size([101882, 2])\n",
      "torch.Size([133489, 2])\n"
     ]
    }
   ],
   "source": [
    "print(valid_edge['edge_neg'].shape)\n",
    "print(valid_edge['edge'].shape)"
   ]
  },
  {
   "cell_type": "code",
   "execution_count": 7,
   "metadata": {},
   "outputs": [],
   "source": [
    "def convert_to_triples_factory(data, num_entities, num_relations):\n",
    "    \n",
    "    tf_data = CoreTriplesFactory(\n",
    "        data,\n",
    "        num_entities = num_entities,\n",
    "        num_relations = num_relations\n",
    "    )\n",
    "\n",
    "    print(tf_data)\n",
    "\n",
    "    return tf_data"
   ]
  },
  {
   "cell_type": "code",
   "execution_count": 18,
   "metadata": {},
   "outputs": [
    {
     "name": "stdout",
     "output_type": "stream",
     "text": [
      "CoreTriplesFactory(num_entities=4267, num_relations=1, create_inverse_triples=False, num_triples=1067911)\n",
      "CoreTriplesFactory(num_entities=4267, num_relations=1, create_inverse_triples=False, num_triples=133489)\n",
      "CoreTriplesFactory(num_entities=4267, num_relations=1, create_inverse_triples=False, num_triples=133489)\n"
     ]
    }
   ],
   "source": [
    "# add relation type - interacts with\n",
    "\n",
    "train = train_edge['edge']\n",
    "train = torch.tensor([[x[0], 0, x[1]] for x in train])\n",
    "train_df = pd.DataFrame(train, columns=['head', 'relation', 'tail'])\n",
    "\n",
    "valid = valid_edge['edge']\n",
    "valid = torch.tensor([[x[0], 0, x[1]] for x in valid])\n",
    "valid_df = pd.DataFrame(valid, columns=['head', 'relation', 'tail'])\n",
    "\n",
    "valid_neg = valid_edge['edge_neg']\n",
    "valid_neg = torch.tensor([[x[0], 0, x[1]] for x in valid_neg])\n",
    "\n",
    "test = test_edge['edge']\n",
    "test = torch.tensor([[x[0], 0, x[1]] for x in test])\n",
    "test_df = pd.DataFrame(test, columns=['head', 'relation', 'tail'])\n",
    "\n",
    "test_neg = test_edge['edge_neg']\n",
    "test_neg = torch.tensor([[x[0], 0, x[1]] for x in test_neg])\n",
    "\n",
    "num_entities = data.num_nodes\n",
    "\n",
    "train_tf = convert_to_triples_factory(torch.tensor(train_df.values), num_entities, 1)\n",
    "valid_tf = convert_to_triples_factory(torch.tensor(valid_df.values), num_entities, 1)\n",
    "test_tf = convert_to_triples_factory(torch.tensor(test_df.values), num_entities, 1)"
   ]
  },
  {
   "cell_type": "code",
   "execution_count": null,
   "metadata": {},
   "outputs": [],
   "source": [
    "# save dataset split to txt files\n",
    "\n",
    "dir_data_my_split = 'dataset/ogbl_ddi-my_split/'\n",
    "\n",
    "train_df.to_csv(dir_data_my_split + 'train.txt', sep='\\t', header=False, index=False)\n",
    "valid_df.to_csv(dir_data_my_split + 'valid.txt', sep='\\t', header=False, index=False)\n",
    "test_df.to_csv(dir_data_my_split + 'test.txt', sep='\\t', header=False, index=False)"
   ]
  },
  {
   "cell_type": "markdown",
   "metadata": {},
   "source": [
    "### Train my KG model"
   ]
  },
  {
   "cell_type": "code",
   "execution_count": 14,
   "metadata": {},
   "outputs": [],
   "source": [
    "config = {\n",
    "        'metadata': dict(\n",
    "            title='ComplEx'\n",
    "        ),\n",
    "        'pipeline': dict(\n",
    "            training = '../data/dataset-ogb/ogbl_ddi-my_split/train.txt',\n",
    "            validation = '../data/dataset-ogb/ogbl_ddi-my_split/valid.txt',\n",
    "            testing = '../data/dataset-ogb/ogbl_ddi-my_split/test.txt',\n",
    "            model='ComplEx',\n",
    "            model_kwargs=dict(\n",
    "                   embedding_dim=1000,\n",
    "            ),\n",
    "            optimizer='Adam',\n",
    "            optimizer_kwargs=dict(lr=0.001),\n",
    "            loss='marginranking',\n",
    "            loss_kwargs=dict(margin=2.64),\n",
    "            training_loop='slcwa',\n",
    "            training_kwargs=dict(\n",
    "                num_epochs=10, \n",
    "                batch_size=512, \n",
    "                checkpoint_name='Complex_checkpoint-ogb-ddi.pt',\n",
    "                checkpoint_directory='kg_checkpoints',\n",
    "                checkpoint_frequency=5    \n",
    "            ),\n",
    "            device='gpu',\n",
    "            negative_sampler='basic',\n",
    "            negative_sampler_kwargs=dict(num_negs_per_pos=94),\n",
    "            evaluator='rankbased',\n",
    "            evaluator_kwargs=dict(filtered=True),\n",
    "            evaluation_kwargs=dict(batch_size=64),\n",
    "            stopper='early',\n",
    "            stopper_kwargs=dict(\n",
    "                patience=10,\n",
    "                relative_delta=0.002\n",
    "            )\n",
    "        )\n",
    "    }"
   ]
  },
  {
   "cell_type": "code",
   "execution_count": 15,
   "metadata": {},
   "outputs": [
    {
     "name": "stderr",
     "output_type": "stream",
     "text": [
      "INFO:pykeen.pipeline.api:Running: ComplEx\n",
      "INFO:pykeen.pipeline.api:=> no training loop checkpoint file found at 'kg_checkpoints/Complex_checkpoint-ogb-ddi.pt'. Creating a new file.\n",
      "WARNING:pykeen.pipeline.api:No random seed is specified. Setting to 3624850840.\n",
      "INFO:pykeen.pipeline.api:Using device: gpu\n",
      "INFO:pykeen.stoppers.early_stopping:Inferred checkpoint path for best model weights: /work/.data/pykeen/checkpoints/best-model-weights-d1cecd0e-5a12-4b94-bf9c-932f6999c79f.pt\n",
      "INFO:pykeen.training.training_loop:=> no checkpoint found at 'kg_checkpoints/Complex_checkpoint-ogb-ddi.pt'. Creating a new file.\n"
     ]
    },
    {
     "data": {
      "application/vnd.jupyter.widget-view+json": {
       "model_id": "646a4bb0b328478c81813b534bb727e5",
       "version_major": 2,
       "version_minor": 0
      },
      "text/plain": [
       "Training epochs on cuda:0:   0%|          | 0/10 [00:00<?, ?epoch/s]"
      ]
     },
     "metadata": {},
     "output_type": "display_data"
    },
    {
     "data": {
      "application/vnd.jupyter.widget-view+json": {
       "model_id": "",
       "version_major": 2,
       "version_minor": 0
      },
      "text/plain": [
       "Training batches on cuda:0:   0%|          | 0/2086 [00:00<?, ?batch/s]"
      ]
     },
     "metadata": {},
     "output_type": "display_data"
    },
    {
     "data": {
      "application/vnd.jupyter.widget-view+json": {
       "model_id": "",
       "version_major": 2,
       "version_minor": 0
      },
      "text/plain": [
       "Training batches on cuda:0:   0%|          | 0/2086 [00:00<?, ?batch/s]"
      ]
     },
     "metadata": {},
     "output_type": "display_data"
    },
    {
     "name": "stderr",
     "output_type": "stream",
     "text": [
      "INFO:pykeen.training.training_loop:=> Saved checkpoint after having finished epoch 2.\n"
     ]
    },
    {
     "data": {
      "application/vnd.jupyter.widget-view+json": {
       "model_id": "",
       "version_major": 2,
       "version_minor": 0
      },
      "text/plain": [
       "Training batches on cuda:0:   0%|          | 0/2086 [00:00<?, ?batch/s]"
      ]
     },
     "metadata": {},
     "output_type": "display_data"
    },
    {
     "data": {
      "application/vnd.jupyter.widget-view+json": {
       "model_id": "",
       "version_major": 2,
       "version_minor": 0
      },
      "text/plain": [
       "Training batches on cuda:0:   0%|          | 0/2086 [00:00<?, ?batch/s]"
      ]
     },
     "metadata": {},
     "output_type": "display_data"
    },
    {
     "name": "stderr",
     "output_type": "stream",
     "text": [
      "INFO:pykeen.training.training_loop:=> Saved checkpoint after having finished epoch 4.\n"
     ]
    },
    {
     "data": {
      "application/vnd.jupyter.widget-view+json": {
       "model_id": "",
       "version_major": 2,
       "version_minor": 0
      },
      "text/plain": [
       "Training batches on cuda:0:   0%|          | 0/2086 [00:00<?, ?batch/s]"
      ]
     },
     "metadata": {},
     "output_type": "display_data"
    },
    {
     "data": {
      "application/vnd.jupyter.widget-view+json": {
       "model_id": "",
       "version_major": 2,
       "version_minor": 0
      },
      "text/plain": [
       "Training batches on cuda:0:   0%|          | 0/2086 [00:00<?, ?batch/s]"
      ]
     },
     "metadata": {},
     "output_type": "display_data"
    },
    {
     "name": "stderr",
     "output_type": "stream",
     "text": [
      "INFO:pykeen.training.training_loop:=> Saved checkpoint after having finished epoch 6.\n"
     ]
    },
    {
     "data": {
      "application/vnd.jupyter.widget-view+json": {
       "model_id": "",
       "version_major": 2,
       "version_minor": 0
      },
      "text/plain": [
       "Training batches on cuda:0:   0%|          | 0/2086 [00:00<?, ?batch/s]"
      ]
     },
     "metadata": {},
     "output_type": "display_data"
    },
    {
     "data": {
      "application/vnd.jupyter.widget-view+json": {
       "model_id": "",
       "version_major": 2,
       "version_minor": 0
      },
      "text/plain": [
       "Training batches on cuda:0:   0%|          | 0/2086 [00:00<?, ?batch/s]"
      ]
     },
     "metadata": {},
     "output_type": "display_data"
    },
    {
     "name": "stderr",
     "output_type": "stream",
     "text": [
      "INFO:pykeen.training.training_loop:=> Saved checkpoint after having finished epoch 8.\n"
     ]
    },
    {
     "data": {
      "application/vnd.jupyter.widget-view+json": {
       "model_id": "",
       "version_major": 2,
       "version_minor": 0
      },
      "text/plain": [
       "Training batches on cuda:0:   0%|          | 0/2086 [00:00<?, ?batch/s]"
      ]
     },
     "metadata": {},
     "output_type": "display_data"
    },
    {
     "data": {
      "application/vnd.jupyter.widget-view+json": {
       "model_id": "",
       "version_major": 2,
       "version_minor": 0
      },
      "text/plain": [
       "Training batches on cuda:0:   0%|          | 0/2086 [00:00<?, ?batch/s]"
      ]
     },
     "metadata": {},
     "output_type": "display_data"
    },
    {
     "name": "stderr",
     "output_type": "stream",
     "text": [
      "INFO:pykeen.evaluation.evaluator:Evaluation took 73.95s seconds\n",
      "INFO:pykeen.stoppers.early_stopping:New best result at epoch 10: 0.20482961142865705. Saved model weights to /work/.data/pykeen/checkpoints/best-model-weights-d1cecd0e-5a12-4b94-bf9c-932f6999c79f.pt\n",
      "INFO:pykeen.training.training_loop:=> Saved checkpoint after having finished epoch 10.\n",
      "INFO:pykeen.training.training_loop:=> Saved checkpoint after having finished epoch 10.\n"
     ]
    },
    {
     "data": {
      "application/vnd.jupyter.widget-view+json": {
       "model_id": "e29c824058704219acb0ed73f517aca2",
       "version_major": 2,
       "version_minor": 0
      },
      "text/plain": [
       "Evaluating on cuda:0:   0%|          | 0.00/133k [00:00<?, ?triple/s]"
      ]
     },
     "metadata": {},
     "output_type": "display_data"
    },
    {
     "name": "stderr",
     "output_type": "stream",
     "text": [
      "INFO:pykeen.evaluation.evaluator:Evaluation took 78.69s seconds\n"
     ]
    }
   ],
   "source": [
    "pipeline_result = pipeline_from_config(config)"
   ]
  },
  {
   "cell_type": "code",
   "execution_count": 16,
   "metadata": {},
   "outputs": [
    {
     "data": {
      "text/plain": [
       "<Axes: title={'center': 'ComplEx'}, xlabel='Epoch', ylabel='marginranking Loss'>"
      ]
     },
     "execution_count": 16,
     "metadata": {},
     "output_type": "execute_result"
    },
    {
     "data": {
      "image/png": "[encoded data removed]",
      "text/plain": [
       "<Figure size 640x480 with 1 Axes>"
      ]
     },
     "metadata": {},
     "output_type": "display_data"
    }
   ],
   "source": [
    "pipeline_result.plot_losses()"
   ]
  },
  {
   "cell_type": "markdown",
   "metadata": {},
   "source": [
    "### Compute scores for given triplets"
   ]
  },
  {
   "cell_type": "code",
   "execution_count": 19,
   "metadata": {},
   "outputs": [],
   "source": [
    "# compute scores for positive and negative triplets \n",
    "batch_size = 512\n",
    "\n",
    "n = train.size(0) // batch_size\n",
    "pos_train_preds = []\n",
    "for i in range(n+1):\n",
    "    start_idx = i*batch_size\n",
    "    end_idx = min((i+1)*batch_size, train.size(0))\n",
    "    edge = train[start_idx:end_idx]\n",
    "    pos_train_preds += [pipeline_result.model.score_hrt(edge).squeeze().cpu().detach()]\n",
    "pos_train_pred = torch.cat(pos_train_preds, dim=0)\n",
    "\n",
    "n = valid.size(0) // batch_size\n",
    "pos_valid_preds = []\n",
    "for i in range(n+1):\n",
    "    start_idx = i*batch_size\n",
    "    end_idx = min((i+1)*batch_size, valid.size(0))\n",
    "    edge = valid[start_idx:end_idx]\n",
    "    pos_valid_preds += [pipeline_result.model.score_hrt(edge).squeeze().cpu().detach()]\n",
    "pos_valid_pred = torch.cat(pos_valid_preds, dim=0)\n",
    "\n",
    "n = valid_neg.size(0) // batch_size\n",
    "neg_valid_preds = []\n",
    "for i in range(n+1):\n",
    "    start_idx = i*batch_size\n",
    "    end_idx = min((i+1)*batch_size, valid_neg.size(0))\n",
    "    edge = valid_neg[start_idx:end_idx]\n",
    "    neg_valid_preds += [pipeline_result.model.score_hrt(edge).squeeze().cpu().detach()]\n",
    "neg_valid_pred = torch.cat(neg_valid_preds, dim=0)\n",
    "\n",
    "n = test.size(0) // batch_size\n",
    "pos_test_preds = []\n",
    "for i in range(n+1):\n",
    "    start_idx = i*batch_size\n",
    "    end_idx = min((i+1)*batch_size, test.size(0))\n",
    "    edge = test[start_idx:end_idx]\n",
    "    pos_test_preds += [pipeline_result.model.score_hrt(edge).squeeze().cpu().detach()]\n",
    "pos_test_pred = torch.cat(pos_test_preds, dim=0)\n",
    "\n",
    "n = test_neg.size(0) // batch_size\n",
    "neg_test_preds = []\n",
    "for i in range(n+1):\n",
    "    start_idx = i*batch_size\n",
    "    end_idx = min((i+1)*batch_size, test_neg.size(0))\n",
    "    edge = test_neg[start_idx:end_idx]\n",
    "    neg_test_preds += [pipeline_result.model.score_hrt(edge).squeeze().cpu().detach()]\n",
    "neg_test_pred = torch.cat(neg_test_preds, dim=0)"
   ]
  },
  {
   "cell_type": "code",
   "execution_count": 20,
   "metadata": {},
   "outputs": [
    {
     "name": "stdout",
     "output_type": "stream",
     "text": [
      "Score ranges train: -14.636493682861328 - 16.131366729736328\n",
      "Score ranges valid: -13.862576484680176 - 14.95986557006836\n",
      "Score ranges valid neg: -11.937215805053711 - 14.936182022094727\n",
      "Score ranges test: -12.03475284576416 - 14.889650344848633\n",
      "Score ranges test neg: -13.35513687133789 - 15.168292999267578\n"
     ]
    }
   ],
   "source": [
    "print(f'Score ranges train: {torch.min(pos_train_pred)} - {torch.max(pos_train_pred)}')\n",
    "print(f'Score ranges valid: {torch.min(pos_valid_pred)} - {torch.max(pos_valid_pred)}')\n",
    "print(f'Score ranges valid neg: {torch.min(neg_valid_pred)} - {torch.max(neg_valid_pred)}')\n",
    "print(f'Score ranges test: {torch.min(pos_test_pred)} - {torch.max(pos_test_pred)}')\n",
    "print(f'Score ranges test neg: {torch.min(neg_test_pred)} - {torch.max(neg_test_pred)}')"
   ]
  },
  {
   "cell_type": "markdown",
   "metadata": {},
   "source": [
    "### Evaluate my results"
   ]
  },
  {
   "cell_type": "code",
   "execution_count": 21,
   "metadata": {},
   "outputs": [
    {
     "name": "stdout",
     "output_type": "stream",
     "text": [
      "Hits@10\n",
      "Train: 0.01%\n",
      "Valid: 0.01%\n",
      "Test: 0.00%\n",
      "Hits@20\n",
      "Train: 0.02%\n",
      "Valid: 0.02%\n",
      "Test: 0.02%\n",
      "Hits@30\n",
      "Train: 0.03%\n",
      "Valid: 0.04%\n",
      "Test: 0.03%\n"
     ]
    }
   ],
   "source": [
    "# Evaluate the coputed scores - hits@K\n",
    "\n",
    "evaluator = Evaluator(name = 'ogbl-ddi')\n",
    "\n",
    "results = {}\n",
    "for K in [10, 20, 30]:\n",
    "    evaluator.K = K\n",
    "    train_hits = evaluator.eval({\n",
    "        'y_pred_pos': pos_train_pred,\n",
    "        'y_pred_neg': neg_valid_pred,\n",
    "    })[f'hits@{K}']\n",
    "    valid_hits = evaluator.eval({\n",
    "        'y_pred_pos': pos_valid_pred,\n",
    "        'y_pred_neg': neg_valid_pred,\n",
    "    })[f'hits@{K}']\n",
    "    test_hits = evaluator.eval({\n",
    "        'y_pred_pos': pos_test_pred,\n",
    "        'y_pred_neg': neg_test_pred,\n",
    "    })[f'hits@{K}']\n",
    "    \n",
    "    results[f'Hits@{K}'] = (train_hits, valid_hits, test_hits)\n",
    "    \n",
    "    \n",
    "for hits, result in results.items():\n",
    "    print(hits)\n",
    "#     print(result)\n",
    "    train_hits, valid_hits, test_hits = result\n",
    "    print(f'Train: {100 * train_hits:.2f}%')\n",
    "    print(f'Valid: {100 * valid_hits:.2f}%')\n",
    "    print(f'Test: {100 * test_hits:.2f}%')\n"
   ]
  },
  {
   "cell_type": "code",
   "execution_count": 23,
   "metadata": {},
   "outputs": [
    {
     "name": "stdout",
     "output_type": "stream",
     "text": [
      "0.011735049329907333\n",
      "0.05414303800313135\n",
      "0.09127718388781098\n"
     ]
    }
   ],
   "source": [
    "print(pipeline_result.get_metric('hits@1'))\n",
    "print(pipeline_result.get_metric('hits@5'))\n",
    "print(pipeline_result.get_metric('hits@10'))"
   ]
  },
  {
   "cell_type": "code",
   "execution_count": 25,
   "metadata": {},
   "outputs": [
    {
     "name": "stdout",
     "output_type": "stream",
     "text": [
      "0.04102858901023865\n"
     ]
    }
   ],
   "source": [
    "print(pipeline_result.get_metric('mrr'))"
   ]
  },
  {
   "cell_type": "markdown",
   "metadata": {},
   "source": [
    "### BioKG dataset"
   ]
  },
  {
   "cell_type": "code",
   "execution_count": 3,
   "metadata": {},
   "outputs": [
    {
     "data": {
      "text/plain": [
       "Data(\n",
       "  num_nodes_dict={\n",
       "    disease=10687,\n",
       "    drug=10533,\n",
       "    function=45085,\n",
       "    protein=17499,\n",
       "    sideeffect=9969\n",
       "  },\n",
       "  edge_index_dict={\n",
       "    (disease, disease-protein, protein)=[2, 73547],\n",
       "    (drug, drug-disease, disease)=[2, 5147],\n",
       "    (drug, drug-drug_acquired_metabolic_disease, drug)=[2, 63430],\n",
       "    (drug, drug-drug_bacterial_infectious_disease, drug)=[2, 18554],\n",
       "    (drug, drug-drug_benign_neoplasm, drug)=[2, 30348],\n",
       "    (drug, drug-drug_cancer, drug)=[2, 48514],\n",
       "    (drug, drug-drug_cardiovascular_system_disease, drug)=[2, 94842],\n",
       "    (drug, drug-drug_chromosomal_disease, drug)=[2, 316],\n",
       "    (drug, drug-drug_cognitive_disorder, drug)=[2, 34660],\n",
       "    (drug, drug-drug_cryptorchidism, drug)=[2, 128],\n",
       "    (drug, drug-drug_developmental_disorder_of_mental_health, drug)=[2, 14314],\n",
       "    (drug, drug-drug_endocrine_system_disease, drug)=[2, 55994],\n",
       "    (drug, drug-drug_fungal_infectious_disease, drug)=[2, 36114],\n",
       "    (drug, drug-drug_gastrointestinal_system_disease, drug)=[2, 83210],\n",
       "    (drug, drug-drug_hematopoietic_system_disease, drug)=[2, 79202],\n",
       "    (drug, drug-drug_hematopoietic_system_diseases, drug)=[2, 3006],\n",
       "    (drug, drug-drug_hypospadias, drug)=[2, 292],\n",
       "    (drug, drug-drug_immune_system_disease, drug)=[2, 34242],\n",
       "    (drug, drug-drug_inherited_metabolic_disorder, drug)=[2, 36492],\n",
       "    (drug, drug-drug_integumentary_system_disease, drug)=[2, 73902],\n",
       "    (drug, drug-drug_irritable_bowel_syndrome, drug)=[2, 8528],\n",
       "    (drug, drug-drug_monogenic_disease, drug)=[2, 600],\n",
       "    (drug, drug-drug_musculoskeletal_system_disease, drug)=[2, 57926],\n",
       "    (drug, drug-drug_nervous_system_disease, drug)=[2, 80208],\n",
       "    (drug, drug-drug_orofacial_cleft, drug)=[2, 380],\n",
       "    (drug, drug-drug_parasitic_infectious_disease, drug)=[2, 1680],\n",
       "    (drug, drug-drug_personality_disorder, drug)=[2, 972],\n",
       "    (drug, drug-drug_polycystic_ovary_syndrome, drug)=[2, 514],\n",
       "    (drug, drug-drug_pre-malignant_neoplasm, drug)=[2, 3224],\n",
       "    (drug, drug-drug_psoriatic_arthritis, drug)=[2, 2014],\n",
       "    (drug, drug-drug_reproductive_system_disease, drug)=[2, 17006],\n",
       "    (drug, drug-drug_respiratory_system_disease, drug)=[2, 82168],\n",
       "    (drug, drug-drug_sexual_disorder, drug)=[2, 1260],\n",
       "    (drug, drug-drug_sleep_disorder, drug)=[2, 25860],\n",
       "    (drug, drug-drug_somatoform_disorder, drug)=[2, 2214],\n",
       "    (drug, drug-drug_struct_sim, drug)=[2, 26348],\n",
       "    (drug, drug-drug_substance-related_disorder, drug)=[2, 4392],\n",
       "    (drug, drug-drug_thoracic_disease, drug)=[2, 4660],\n",
       "    (drug, drug-drug_urinary_system_disease, drug)=[2, 67326],\n",
       "    (drug, drug-drug_viral_infectious_disease, drug)=[2, 38846],\n",
       "    (drug, drug-protein, protein)=[2, 117930],\n",
       "    (drug, drug-sideeffect, sideeffect)=[2, 157479],\n",
       "    (function, function-function, function)=[2, 1433230],\n",
       "    (protein, protein-function, function)=[2, 777577],\n",
       "    (protein, protein-protein_activation, protein)=[2, 73044],\n",
       "    (protein, protein-protein_binding, protein)=[2, 292254],\n",
       "    (protein, protein-protein_catalysis, protein)=[2, 303434],\n",
       "    (protein, protein-protein_expression, protein)=[2, 1952],\n",
       "    (protein, protein-protein_inhibition, protein)=[2, 25732],\n",
       "    (protein, protein-protein_ptmod, protein)=[2, 15120],\n",
       "    (protein, protein-protein_reaction, protein)=[2, 352546]\n",
       "  },\n",
       "  edge_reltype={\n",
       "    (disease, disease-protein, protein)=[73547, 1],\n",
       "    (drug, drug-disease, disease)=[5147, 1],\n",
       "    (drug, drug-drug_acquired_metabolic_disease, drug)=[63430, 1],\n",
       "    (drug, drug-drug_bacterial_infectious_disease, drug)=[18554, 1],\n",
       "    (drug, drug-drug_benign_neoplasm, drug)=[30348, 1],\n",
       "    (drug, drug-drug_cancer, drug)=[48514, 1],\n",
       "    (drug, drug-drug_cardiovascular_system_disease, drug)=[94842, 1],\n",
       "    (drug, drug-drug_chromosomal_disease, drug)=[316, 1],\n",
       "    (drug, drug-drug_cognitive_disorder, drug)=[34660, 1],\n",
       "    (drug, drug-drug_cryptorchidism, drug)=[128, 1],\n",
       "    (drug, drug-drug_developmental_disorder_of_mental_health, drug)=[14314, 1],\n",
       "    (drug, drug-drug_endocrine_system_disease, drug)=[55994, 1],\n",
       "    (drug, drug-drug_fungal_infectious_disease, drug)=[36114, 1],\n",
       "    (drug, drug-drug_gastrointestinal_system_disease, drug)=[83210, 1],\n",
       "    (drug, drug-drug_hematopoietic_system_disease, drug)=[79202, 1],\n",
       "    (drug, drug-drug_hematopoietic_system_diseases, drug)=[3006, 1],\n",
       "    (drug, drug-drug_hypospadias, drug)=[292, 1],\n",
       "    (drug, drug-drug_immune_system_disease, drug)=[34242, 1],\n",
       "    (drug, drug-drug_inherited_metabolic_disorder, drug)=[36492, 1],\n",
       "    (drug, drug-drug_integumentary_system_disease, drug)=[73902, 1],\n",
       "    (drug, drug-drug_irritable_bowel_syndrome, drug)=[8528, 1],\n",
       "    (drug, drug-drug_monogenic_disease, drug)=[600, 1],\n",
       "    (drug, drug-drug_musculoskeletal_system_disease, drug)=[57926, 1],\n",
       "    (drug, drug-drug_nervous_system_disease, drug)=[80208, 1],\n",
       "    (drug, drug-drug_orofacial_cleft, drug)=[380, 1],\n",
       "    (drug, drug-drug_parasitic_infectious_disease, drug)=[1680, 1],\n",
       "    (drug, drug-drug_personality_disorder, drug)=[972, 1],\n",
       "    (drug, drug-drug_polycystic_ovary_syndrome, drug)=[514, 1],\n",
       "    (drug, drug-drug_pre-malignant_neoplasm, drug)=[3224, 1],\n",
       "    (drug, drug-drug_psoriatic_arthritis, drug)=[2014, 1],\n",
       "    (drug, drug-drug_reproductive_system_disease, drug)=[17006, 1],\n",
       "    (drug, drug-drug_respiratory_system_disease, drug)=[82168, 1],\n",
       "    (drug, drug-drug_sexual_disorder, drug)=[1260, 1],\n",
       "    (drug, drug-drug_sleep_disorder, drug)=[25860, 1],\n",
       "    (drug, drug-drug_somatoform_disorder, drug)=[2214, 1],\n",
       "    (drug, drug-drug_struct_sim, drug)=[26348, 1],\n",
       "    (drug, drug-drug_substance-related_disorder, drug)=[4392, 1],\n",
       "    (drug, drug-drug_thoracic_disease, drug)=[4660, 1],\n",
       "    (drug, drug-drug_urinary_system_disease, drug)=[67326, 1],\n",
       "    (drug, drug-drug_viral_infectious_disease, drug)=[38846, 1],\n",
       "    (drug, drug-protein, protein)=[117930, 1],\n",
       "    (drug, drug-sideeffect, sideeffect)=[157479, 1],\n",
       "    (function, function-function, function)=[1433230, 1],\n",
       "    (protein, protein-function, function)=[777577, 1],\n",
       "    (protein, protein-protein_activation, protein)=[73044, 1],\n",
       "    (protein, protein-protein_binding, protein)=[292254, 1],\n",
       "    (protein, protein-protein_catalysis, protein)=[303434, 1],\n",
       "    (protein, protein-protein_expression, protein)=[1952, 1],\n",
       "    (protein, protein-protein_inhibition, protein)=[25732, 1],\n",
       "    (protein, protein-protein_ptmod, protein)=[15120, 1],\n",
       "    (protein, protein-protein_reaction, protein)=[352546, 1]\n",
       "  }\n",
       ")"
      ]
     },
     "execution_count": 3,
     "metadata": {},
     "output_type": "execute_result"
    }
   ],
   "source": [
    "dataset = PygLinkPropPredDataset(name='ogbl-biokg', root=dataset_dir, transform=T.ToSparseTensor())\n",
    "data = dataset[0]\n",
    "data"
   ]
  },
  {
   "cell_type": "code",
   "execution_count": 4,
   "metadata": {},
   "outputs": [],
   "source": [
    "split_edge = dataset.get_edge_split()\n",
    "train_triples, valid_triples, test_triples = split_edge[\"train\"], split_edge[\"valid\"], split_edge[\"test\"]"
   ]
  },
  {
   "cell_type": "code",
   "execution_count": null,
   "metadata": {},
   "outputs": [],
   "source": [
    "int(max(train_triples['relation']))+1"
   ]
  },
  {
   "cell_type": "markdown",
   "metadata": {},
   "source": [
    "train_triples (valid/test):\n",
    "* head type (e.g. disease)\n",
    "* head - tensor\n",
    "* relation - tensor\n",
    "* tail type (e.g. protein)\n",
    "* tail - tensor\n"
   ]
  },
  {
   "cell_type": "code",
   "execution_count": 5,
   "metadata": {},
   "outputs": [
    {
     "name": "stdout",
     "output_type": "stream",
     "text": [
      "    head  relation   tail\n",
      "0   1718         0   3207\n",
      "1   4903         0  13662\n",
      "2   5480         0  15999\n",
      "3   3148         0   7247\n",
      "4  10300         0  16202\n"
     ]
    }
   ],
   "source": [
    "# relation_name_id = data['edge_index_dict'].keys()\n",
    "head = train_triples['head']\n",
    "relation = train_triples['relation']\n",
    "tail = train_triples['tail']\n",
    "train_df = pd.DataFrame({'head': head, 'relation': relation, 'tail': tail})\n",
    "print(train_df.head())\n",
    "\n",
    "head = valid_triples['head']\n",
    "relation = valid_triples['relation']\n",
    "tail = valid_triples['tail']\n",
    "valid_df = pd.DataFrame({'head': head, 'relation': relation, 'tail': tail})\n",
    "\n",
    "\n",
    "head = test_triples['head']\n",
    "relation = test_triples['relation']\n",
    "tail = test_triples['tail']\n",
    "test_df = pd.DataFrame({'head': head, 'relation': relation, 'tail': tail})\n"
   ]
  },
  {
   "cell_type": "code",
   "execution_count": 6,
   "metadata": {},
   "outputs": [],
   "source": [
    "num_entities = sum(dataset[0]['num_nodes_dict'].values())\n",
    "num_relations = int(max(train_triples['relation']))+1"
   ]
  },
  {
   "cell_type": "code",
   "execution_count": 8,
   "metadata": {},
   "outputs": [
    {
     "name": "stdout",
     "output_type": "stream",
     "text": [
      "CoreTriplesFactory(num_entities=93773, num_relations=51, create_inverse_triples=False, num_triples=4762678)\n",
      "CoreTriplesFactory(num_entities=93773, num_relations=51, create_inverse_triples=False, num_triples=162886)\n",
      "CoreTriplesFactory(num_entities=93773, num_relations=51, create_inverse_triples=False, num_triples=162870)\n"
     ]
    }
   ],
   "source": [
    "train_tf = convert_to_triples_factory(torch.tensor(train_df.values), num_entities, num_relations)\n",
    "valid_tf = convert_to_triples_factory(torch.tensor(valid_df.values), num_entities, num_relations)\n",
    "test_tf = convert_to_triples_factory(torch.tensor(test_df.values), num_entities, num_relations)"
   ]
  },
  {
   "cell_type": "code",
   "execution_count": 10,
   "metadata": {},
   "outputs": [],
   "source": [
    "dir_data_my_split = dataset_dir + 'ogbl_biokg-my_split/'\n",
    "\n",
    "train_df.to_csv(dir_data_my_split + 'train.txt', sep='\\t', header=False, index=False)\n",
    "valid_df.to_csv(dir_data_my_split + 'valid.txt', sep='\\t', header=False, index=False)\n",
    "test_df.to_csv(dir_data_my_split + 'test.txt', sep='\\t', header=False, index=False)"
   ]
  },
  {
   "cell_type": "code",
   "execution_count": 11,
   "metadata": {},
   "outputs": [
    {
     "name": "stderr",
     "output_type": "stream",
     "text": [
      "No random seed is specified. Setting to 991145354.\n"
     ]
    },
    {
     "data": {
      "application/vnd.jupyter.widget-view+json": {
       "model_id": "d5dbe82672c14aa29a1eee0b88f7ed77",
       "version_major": 2,
       "version_minor": 0
      },
      "text/plain": [
       "Training epochs on cuda:0:   0%|          | 0/1 [00:00<?, ?epoch/s]"
      ]
     },
     "metadata": {},
     "output_type": "display_data"
    },
    {
     "data": {
      "application/vnd.jupyter.widget-view+json": {
       "model_id": "",
       "version_major": 2,
       "version_minor": 0
      },
      "text/plain": [
       "Training batches on cuda:0:   0%|          | 0/47627 [00:00<?, ?batch/s]"
      ]
     },
     "metadata": {},
     "output_type": "display_data"
    },
    {
     "name": "stderr",
     "output_type": "stream",
     "text": [
      "INFO:pykeen.evaluation.evaluator:Starting batch_size search for evaluation now...\n",
      "INFO:pykeen.evaluation.evaluator:Concluded batch_size search with batch_size=16.\n"
     ]
    },
    {
     "data": {
      "application/vnd.jupyter.widget-view+json": {
       "model_id": "eb8d170273e04ddcaa6bbba825d2e277",
       "version_major": 2,
       "version_minor": 0
      },
      "text/plain": [
       "Evaluating on cuda:0:   0%|          | 0.00/163k [00:00<?, ?triple/s]"
      ]
     },
     "metadata": {},
     "output_type": "display_data"
    },
    {
     "name": "stderr",
     "output_type": "stream",
     "text": [
      "INFO:pykeen.evaluation.evaluator:Evaluation took 657.97s seconds\n"
     ]
    }
   ],
   "source": [
    "model_name = 'ComplEx'\n",
    "specification = 'ogb-biokg-text'\n",
    "\n",
    "pipeline = pipeline(\n",
    "            training = '../data/dataset-ogb/ogbl_biokg-my_split/train.txt',\n",
    "            validation = '../data/dataset-ogb/ogbl_biokg-my_split/valid.txt',\n",
    "            testing = '../data/dataset-ogb/ogbl_biokg-my_split/test.txt',\n",
    "            model = model_name,\n",
    "            model_kwargs = dict(\n",
    "                embedding_dim = 1000\n",
    "            ),\n",
    "            loss = 'MarginRankingLoss',\n",
    "            optimizer = 'Adam',\n",
    "            optimizer_kwargs = dict(\n",
    "                lr = 0.001\n",
    "            ),\n",
    "            evaluator = 'rankbased',\n",
    "            device = 'gpu',\n",
    "            training_kwargs = dict(\n",
    "                batch_size = 100,\n",
    "                num_epochs = 1,\n",
    "#                 checkpoint_name = model_name + '-' + specification + '_checkpoint.pt',\n",
    "#                 checkpoint_directory = 'kg_checkpoints'\n",
    "            ),\n",
    "        )  "
   ]
  },
  {
   "cell_type": "code",
   "execution_count": 12,
   "metadata": {},
   "outputs": [
    {
     "data": {
      "text/plain": [
       "<Axes: title={'center': 'Losses Plot'}, xlabel='Epoch', ylabel='marginranking Loss'>"
      ]
     },
     "execution_count": 12,
     "metadata": {},
     "output_type": "execute_result"
    },
    {
     "data": {
      "image/png": "[encoded data removed]",
      "text/plain": [
       "<Figure size 640x480 with 1 Axes>"
      ]
     },
     "metadata": {},
     "output_type": "display_data"
    }
   ],
   "source": [
    "pipeline.plot_losses()"
   ]
  },
  {
   "cell_type": "code",
   "execution_count": 13,
   "metadata": {},
   "outputs": [
    {
     "data": {
      "text/html": [
       "<div>\n",
       "<style scoped>\n",
       "    .dataframe tbody tr th:only-of-type {\n",
       "        vertical-align: middle;\n",
       "    }\n",
       "\n",
       "    .dataframe tbody tr th {\n",
       "        vertical-align: top;\n",
       "    }\n",
       "\n",
       "    .dataframe thead th {\n",
       "        text-align: right;\n",
       "    }\n",
       "</style>\n",
       "<table border=\"1\" class=\"dataframe\">\n",
       "  <thead>\n",
       "    <tr style=\"text-align: right;\">\n",
       "      <th></th>\n",
       "      <th>Side</th>\n",
       "      <th>Type</th>\n",
       "      <th>Metric</th>\n",
       "      <th>Value</th>\n",
       "    </tr>\n",
       "  </thead>\n",
       "  <tbody>\n",
       "    <tr>\n",
       "      <th>0</th>\n",
       "      <td>head</td>\n",
       "      <td>optimistic</td>\n",
       "      <td>standard_deviation</td>\n",
       "      <td>13934.920103</td>\n",
       "    </tr>\n",
       "    <tr>\n",
       "      <th>1</th>\n",
       "      <td>tail</td>\n",
       "      <td>optimistic</td>\n",
       "      <td>standard_deviation</td>\n",
       "      <td>13891.449100</td>\n",
       "    </tr>\n",
       "    <tr>\n",
       "      <th>2</th>\n",
       "      <td>both</td>\n",
       "      <td>optimistic</td>\n",
       "      <td>standard_deviation</td>\n",
       "      <td>13913.708163</td>\n",
       "    </tr>\n",
       "    <tr>\n",
       "      <th>3</th>\n",
       "      <td>head</td>\n",
       "      <td>realistic</td>\n",
       "      <td>standard_deviation</td>\n",
       "      <td>13934.919922</td>\n",
       "    </tr>\n",
       "    <tr>\n",
       "      <th>4</th>\n",
       "      <td>tail</td>\n",
       "      <td>realistic</td>\n",
       "      <td>standard_deviation</td>\n",
       "      <td>13891.450195</td>\n",
       "    </tr>\n",
       "    <tr>\n",
       "      <th>...</th>\n",
       "      <td>...</td>\n",
       "      <td>...</td>\n",
       "      <td>...</td>\n",
       "      <td>...</td>\n",
       "    </tr>\n",
       "    <tr>\n",
       "      <th>220</th>\n",
       "      <td>tail</td>\n",
       "      <td>realistic</td>\n",
       "      <td>adjusted_hits_at_k</td>\n",
       "      <td>0.034316</td>\n",
       "    </tr>\n",
       "    <tr>\n",
       "      <th>221</th>\n",
       "      <td>both</td>\n",
       "      <td>realistic</td>\n",
       "      <td>adjusted_hits_at_k</td>\n",
       "      <td>0.035152</td>\n",
       "    </tr>\n",
       "    <tr>\n",
       "      <th>222</th>\n",
       "      <td>head</td>\n",
       "      <td>pessimistic</td>\n",
       "      <td>adjusted_hits_at_k</td>\n",
       "      <td>0.035988</td>\n",
       "    </tr>\n",
       "    <tr>\n",
       "      <th>223</th>\n",
       "      <td>tail</td>\n",
       "      <td>pessimistic</td>\n",
       "      <td>adjusted_hits_at_k</td>\n",
       "      <td>0.034316</td>\n",
       "    </tr>\n",
       "    <tr>\n",
       "      <th>224</th>\n",
       "      <td>both</td>\n",
       "      <td>pessimistic</td>\n",
       "      <td>adjusted_hits_at_k</td>\n",
       "      <td>0.035152</td>\n",
       "    </tr>\n",
       "  </tbody>\n",
       "</table>\n",
       "<p>225 rows × 4 columns</p>\n",
       "</div>"
      ],
      "text/plain": [
       "     Side         Type              Metric         Value\n",
       "0    head   optimistic  standard_deviation  13934.920103\n",
       "1    tail   optimistic  standard_deviation  13891.449100\n",
       "2    both   optimistic  standard_deviation  13913.708163\n",
       "3    head    realistic  standard_deviation  13934.919922\n",
       "4    tail    realistic  standard_deviation  13891.450195\n",
       "..    ...          ...                 ...           ...\n",
       "220  tail    realistic  adjusted_hits_at_k      0.034316\n",
       "221  both    realistic  adjusted_hits_at_k      0.035152\n",
       "222  head  pessimistic  adjusted_hits_at_k      0.035988\n",
       "223  tail  pessimistic  adjusted_hits_at_k      0.034316\n",
       "224  both  pessimistic  adjusted_hits_at_k      0.035152\n",
       "\n",
       "[225 rows x 4 columns]"
      ]
     },
     "execution_count": 13,
     "metadata": {},
     "output_type": "execute_result"
    }
   ],
   "source": [
    "pipeline.metric_results.to_df()"
   ]
  },
  {
   "cell_type": "code",
   "execution_count": 14,
   "metadata": {},
   "outputs": [
    {
     "data": {
      "text/plain": [
       "0.013583026826381683"
      ]
     },
     "execution_count": 14,
     "metadata": {},
     "output_type": "execute_result"
    }
   ],
   "source": [
    "pipeline.get_metric('mrr')"
   ]
  },
  {
   "cell_type": "code",
   "execution_count": 15,
   "metadata": {},
   "outputs": [],
   "source": [
    "from collections import defaultdict\n",
    "\n",
    "def test_step(trained_model, test_triplets, num_entities, num_relations):   \n",
    "    evaluator = Evaluator(name = 'ogbl-biokg')\n",
    "    \n",
    "    batch_size = 512\n",
    "    \n",
    "    test_logs = defaultdict(list)\n",
    "    \n",
    "    n = test_triplets['head'].size(0) // batch_size\n",
    "    test_dataset = []\n",
    "    for i in range(n+1):\n",
    "        start_idx = i*batch_size\n",
    "        end_idx = min((i+1)*batch_size, test_triplets['head'].size(0))\n",
    "        positive_triples = torch.stack([test_triples['head'][start_idx:end_idx], \n",
    "                                        test_triples['relation'][start_idx:end_idx], \n",
    "                                        test_triples['tail'][start_idx:end_idx]], 1)\n",
    "        \n",
    "        num_neg = test_triples['head_neg'][start_idx:end_idx].size(0)\n",
    "        neg_nodes = test_triples['head_neg'].shape[1]\n",
    "        \n",
    "        negative_triples = torch.stack([test_triples['head_neg'][start_idx:end_idx], \n",
    "                                        torch.randint(0, num_relations, (num_neg, neg_nodes)), \n",
    "                                        test_triples['tail_neg'][start_idx:end_idx]], 1)\n",
    "\n",
    "        test_dataset.append((positive_triples, negative_triples))\n",
    "\n",
    "    \n",
    "    with torch.no_grad():\n",
    "        for positive_sample, negative_sample in test_dataset:\n",
    "            positive_sample = positive_sample.cuda()\n",
    "            negative_sample = negative_sample.cuda()\n",
    "\n",
    "            score = trained_model.model.score_hrt(positive_sample)\n",
    "            score_neg = trained_model.model.score_hrt(negative_sample)\n",
    "\n",
    "\n",
    "            batch_results = evaluator.eval({'y_pred_pos': score[:, 0], \n",
    "                                        'y_pred_neg': score_neg.squeeze(-1)})\n",
    "            for metric in batch_results:\n",
    "                test_logs[metric].append(batch_results[metric])\n",
    "\n",
    "    metrics = {}\n",
    "    for metric in test_logs:\n",
    "        metrics[metric] = torch.cat(test_logs[metric]).mean().item()\n",
    "        \n",
    "    return metrics    "
   ]
  },
  {
   "cell_type": "code",
   "execution_count": 17,
   "metadata": {},
   "outputs": [
    {
     "ename": "OutOfMemoryError",
     "evalue": "CUDA out of memory. Tried to allocate 1.91 GiB (GPU 0; 7.79 GiB total capacity; 4.18 GiB already allocated; 1.88 GiB free; 5.75 GiB reserved in total by PyTorch) If reserved memory is >> allocated memory try setting max_split_size_mb to avoid fragmentation.  See documentation for Memory Management and PYTORCH_CUDA_ALLOC_CONF",
     "output_type": "error",
     "traceback": [
      "\u001b[0;31m---------------------------------------------------------------------------\u001b[0m",
      "\u001b[0;31mOutOfMemoryError\u001b[0m                          Traceback (most recent call last)",
      "Cell \u001b[0;32mIn[17], line 1\u001b[0m\n\u001b[0;32m----> 1\u001b[0m metrics \u001b[38;5;241m=\u001b[39m \u001b[43mtest_step\u001b[49m\u001b[43m(\u001b[49m\u001b[43mpipeline\u001b[49m\u001b[43m,\u001b[49m\u001b[43m \u001b[49m\u001b[43mvalid_triples\u001b[49m\u001b[43m,\u001b[49m\u001b[43m \u001b[49m\u001b[43mnum_entities\u001b[49m\u001b[43m,\u001b[49m\u001b[43m \u001b[49m\u001b[43mnum_relations\u001b[49m\u001b[43m)\u001b[49m\n",
      "Cell \u001b[0;32mIn[15], line 42\u001b[0m, in \u001b[0;36mtest_step\u001b[0;34m(trained_model, test_triplets, num_entities, num_relations)\u001b[0m\n\u001b[1;32m     40\u001b[0m \u001b[38;5;66;03m#             score = model((positive_sample, negative_sample), mode)\u001b[39;00m\n\u001b[1;32m     41\u001b[0m         score \u001b[38;5;241m=\u001b[39m trained_model\u001b[38;5;241m.\u001b[39mmodel\u001b[38;5;241m.\u001b[39mscore_hrt(positive_sample)\n\u001b[0;32m---> 42\u001b[0m         score_neg \u001b[38;5;241m=\u001b[39m \u001b[43mtrained_model\u001b[49m\u001b[38;5;241;43m.\u001b[39;49m\u001b[43mmodel\u001b[49m\u001b[38;5;241;43m.\u001b[39;49m\u001b[43mscore_hrt\u001b[49m\u001b[43m(\u001b[49m\u001b[43mnegative_sample\u001b[49m\u001b[43m)\u001b[49m\n\u001b[1;32m     45\u001b[0m         batch_results \u001b[38;5;241m=\u001b[39m evaluator\u001b[38;5;241m.\u001b[39meval({\u001b[38;5;124m'\u001b[39m\u001b[38;5;124my_pred_pos\u001b[39m\u001b[38;5;124m'\u001b[39m: score[:, \u001b[38;5;241m0\u001b[39m], \n\u001b[1;32m     46\u001b[0m                                     \u001b[38;5;124m'\u001b[39m\u001b[38;5;124my_pred_neg\u001b[39m\u001b[38;5;124m'\u001b[39m: score_neg\u001b[38;5;241m.\u001b[39msqueeze(\u001b[38;5;241m-\u001b[39m\u001b[38;5;241m1\u001b[39m)})\n\u001b[1;32m     47\u001b[0m         \u001b[38;5;28;01mfor\u001b[39;00m metric \u001b[38;5;129;01min\u001b[39;00m batch_results:\n",
      "File \u001b[0;32m/usr/local/lib/python3.8/dist-packages/pykeen/models/nbase.py:476\u001b[0m, in \u001b[0;36mERModel.score_hrt\u001b[0;34m(self, hrt_batch, mode)\u001b[0m\n\u001b[1;32m    459\u001b[0m \u001b[38;5;250m\u001b[39m\u001b[38;5;124;03m\"\"\"Forward pass.\u001b[39;00m\n\u001b[1;32m    460\u001b[0m \n\u001b[1;32m    461\u001b[0m \u001b[38;5;124;03mThis method takes head, relation and tail of each triple and calculates the corresponding score.\u001b[39;00m\n\u001b[0;32m   (...)\u001b[0m\n\u001b[1;32m    470\u001b[0m \u001b[38;5;124;03m    The score for each triple.\u001b[39;00m\n\u001b[1;32m    471\u001b[0m \u001b[38;5;124;03m\"\"\"\u001b[39;00m\n\u001b[1;32m    472\u001b[0m \u001b[38;5;66;03m# Note: slicing cannot be used here: the indices for score_hrt only have a batch\u001b[39;00m\n\u001b[1;32m    473\u001b[0m \u001b[38;5;66;03m# dimension, and slicing along this dimension is already considered by sub-batching.\u001b[39;00m\n\u001b[1;32m    474\u001b[0m \u001b[38;5;66;03m# Note: we do not delegate to the general method for performance reasons\u001b[39;00m\n\u001b[1;32m    475\u001b[0m \u001b[38;5;66;03m# Note: repetition is not necessary here\u001b[39;00m\n\u001b[0;32m--> 476\u001b[0m h, r, t \u001b[38;5;241m=\u001b[39m \u001b[38;5;28;43mself\u001b[39;49m\u001b[38;5;241;43m.\u001b[39;49m\u001b[43m_get_representations\u001b[49m\u001b[43m(\u001b[49m\u001b[43mh\u001b[49m\u001b[38;5;241;43m=\u001b[39;49m\u001b[43mhrt_batch\u001b[49m\u001b[43m[\u001b[49m\u001b[43m:\u001b[49m\u001b[43m,\u001b[49m\u001b[43m \u001b[49m\u001b[38;5;241;43m0\u001b[39;49m\u001b[43m]\u001b[49m\u001b[43m,\u001b[49m\u001b[43m \u001b[49m\u001b[43mr\u001b[49m\u001b[38;5;241;43m=\u001b[39;49m\u001b[43mhrt_batch\u001b[49m\u001b[43m[\u001b[49m\u001b[43m:\u001b[49m\u001b[43m,\u001b[49m\u001b[43m \u001b[49m\u001b[38;5;241;43m1\u001b[39;49m\u001b[43m]\u001b[49m\u001b[43m,\u001b[49m\u001b[43m \u001b[49m\u001b[43mt\u001b[49m\u001b[38;5;241;43m=\u001b[39;49m\u001b[43mhrt_batch\u001b[49m\u001b[43m[\u001b[49m\u001b[43m:\u001b[49m\u001b[43m,\u001b[49m\u001b[43m \u001b[49m\u001b[38;5;241;43m2\u001b[39;49m\u001b[43m]\u001b[49m\u001b[43m,\u001b[49m\u001b[43m \u001b[49m\u001b[43mmode\u001b[49m\u001b[38;5;241;43m=\u001b[39;49m\u001b[43mmode\u001b[49m\u001b[43m)\u001b[49m\n\u001b[1;32m    477\u001b[0m \u001b[38;5;28;01mreturn\u001b[39;00m \u001b[38;5;28mself\u001b[39m\u001b[38;5;241m.\u001b[39minteraction\u001b[38;5;241m.\u001b[39mscore_hrt(h\u001b[38;5;241m=\u001b[39mh, r\u001b[38;5;241m=\u001b[39mr, t\u001b[38;5;241m=\u001b[39mt)\n",
      "File \u001b[0;32m/usr/local/lib/python3.8/dist-packages/pykeen/models/nbase.py:604\u001b[0m, in \u001b[0;36mERModel._get_representations\u001b[0;34m(self, h, r, t, mode)\u001b[0m\n\u001b[1;32m    602\u001b[0m head_representations \u001b[38;5;241m=\u001b[39m [head_representations[i] \u001b[38;5;28;01mfor\u001b[39;00m i \u001b[38;5;129;01min\u001b[39;00m \u001b[38;5;28mself\u001b[39m\u001b[38;5;241m.\u001b[39minteraction\u001b[38;5;241m.\u001b[39mhead_indices()]\n\u001b[1;32m    603\u001b[0m tail_representations \u001b[38;5;241m=\u001b[39m [tail_representations[i] \u001b[38;5;28;01mfor\u001b[39;00m i \u001b[38;5;129;01min\u001b[39;00m \u001b[38;5;28mself\u001b[39m\u001b[38;5;241m.\u001b[39minteraction\u001b[38;5;241m.\u001b[39mtail_indices()]\n\u001b[0;32m--> 604\u001b[0m hr, rr, tr \u001b[38;5;241m=\u001b[39m [\n\u001b[1;32m    605\u001b[0m     [representation(indices\u001b[38;5;241m=\u001b[39mindices) \u001b[38;5;28;01mfor\u001b[39;00m representation \u001b[38;5;129;01min\u001b[39;00m representations]\n\u001b[1;32m    606\u001b[0m     \u001b[38;5;28;01mfor\u001b[39;00m indices, representations \u001b[38;5;129;01min\u001b[39;00m (\n\u001b[1;32m    607\u001b[0m         (h, head_representations),\n\u001b[1;32m    608\u001b[0m         (r, \u001b[38;5;28mself\u001b[39m\u001b[38;5;241m.\u001b[39mrelation_representations),\n\u001b[1;32m    609\u001b[0m         (t, tail_representations),\n\u001b[1;32m    610\u001b[0m     )\n\u001b[1;32m    611\u001b[0m ]\n\u001b[1;32m    612\u001b[0m \u001b[38;5;66;03m# normalization\u001b[39;00m\n\u001b[1;32m    613\u001b[0m \u001b[38;5;28;01mreturn\u001b[39;00m cast(\n\u001b[1;32m    614\u001b[0m     Tuple[HeadRepresentation, RelationRepresentation, TailRepresentation],\n\u001b[1;32m    615\u001b[0m     \u001b[38;5;28mtuple\u001b[39m(x[\u001b[38;5;241m0\u001b[39m] \u001b[38;5;28;01mif\u001b[39;00m \u001b[38;5;28mlen\u001b[39m(x) \u001b[38;5;241m==\u001b[39m \u001b[38;5;241m1\u001b[39m \u001b[38;5;28;01melse\u001b[39;00m x \u001b[38;5;28;01mfor\u001b[39;00m x \u001b[38;5;129;01min\u001b[39;00m (hr, rr, tr)),\n\u001b[1;32m    616\u001b[0m )\n",
      "File \u001b[0;32m/usr/local/lib/python3.8/dist-packages/pykeen/models/nbase.py:605\u001b[0m, in \u001b[0;36m<listcomp>\u001b[0;34m(.0)\u001b[0m\n\u001b[1;32m    602\u001b[0m head_representations \u001b[38;5;241m=\u001b[39m [head_representations[i] \u001b[38;5;28;01mfor\u001b[39;00m i \u001b[38;5;129;01min\u001b[39;00m \u001b[38;5;28mself\u001b[39m\u001b[38;5;241m.\u001b[39minteraction\u001b[38;5;241m.\u001b[39mhead_indices()]\n\u001b[1;32m    603\u001b[0m tail_representations \u001b[38;5;241m=\u001b[39m [tail_representations[i] \u001b[38;5;28;01mfor\u001b[39;00m i \u001b[38;5;129;01min\u001b[39;00m \u001b[38;5;28mself\u001b[39m\u001b[38;5;241m.\u001b[39minteraction\u001b[38;5;241m.\u001b[39mtail_indices()]\n\u001b[1;32m    604\u001b[0m hr, rr, tr \u001b[38;5;241m=\u001b[39m [\n\u001b[0;32m--> 605\u001b[0m     [representation(indices\u001b[38;5;241m=\u001b[39mindices) \u001b[38;5;28;01mfor\u001b[39;00m representation \u001b[38;5;129;01min\u001b[39;00m representations]\n\u001b[1;32m    606\u001b[0m     \u001b[38;5;28;01mfor\u001b[39;00m indices, representations \u001b[38;5;129;01min\u001b[39;00m (\n\u001b[1;32m    607\u001b[0m         (h, head_representations),\n\u001b[1;32m    608\u001b[0m         (r, \u001b[38;5;28mself\u001b[39m\u001b[38;5;241m.\u001b[39mrelation_representations),\n\u001b[1;32m    609\u001b[0m         (t, tail_representations),\n\u001b[1;32m    610\u001b[0m     )\n\u001b[1;32m    611\u001b[0m ]\n\u001b[1;32m    612\u001b[0m \u001b[38;5;66;03m# normalization\u001b[39;00m\n\u001b[1;32m    613\u001b[0m \u001b[38;5;28;01mreturn\u001b[39;00m cast(\n\u001b[1;32m    614\u001b[0m     Tuple[HeadRepresentation, RelationRepresentation, TailRepresentation],\n\u001b[1;32m    615\u001b[0m     \u001b[38;5;28mtuple\u001b[39m(x[\u001b[38;5;241m0\u001b[39m] \u001b[38;5;28;01mif\u001b[39;00m \u001b[38;5;28mlen\u001b[39m(x) \u001b[38;5;241m==\u001b[39m \u001b[38;5;241m1\u001b[39m \u001b[38;5;28;01melse\u001b[39;00m x \u001b[38;5;28;01mfor\u001b[39;00m x \u001b[38;5;129;01min\u001b[39;00m (hr, rr, tr)),\n\u001b[1;32m    616\u001b[0m )\n",
      "File \u001b[0;32m/usr/local/lib/python3.8/dist-packages/pykeen/models/nbase.py:605\u001b[0m, in \u001b[0;36m<listcomp>\u001b[0;34m(.0)\u001b[0m\n\u001b[1;32m    602\u001b[0m head_representations \u001b[38;5;241m=\u001b[39m [head_representations[i] \u001b[38;5;28;01mfor\u001b[39;00m i \u001b[38;5;129;01min\u001b[39;00m \u001b[38;5;28mself\u001b[39m\u001b[38;5;241m.\u001b[39minteraction\u001b[38;5;241m.\u001b[39mhead_indices()]\n\u001b[1;32m    603\u001b[0m tail_representations \u001b[38;5;241m=\u001b[39m [tail_representations[i] \u001b[38;5;28;01mfor\u001b[39;00m i \u001b[38;5;129;01min\u001b[39;00m \u001b[38;5;28mself\u001b[39m\u001b[38;5;241m.\u001b[39minteraction\u001b[38;5;241m.\u001b[39mtail_indices()]\n\u001b[1;32m    604\u001b[0m hr, rr, tr \u001b[38;5;241m=\u001b[39m [\n\u001b[0;32m--> 605\u001b[0m     [\u001b[43mrepresentation\u001b[49m\u001b[43m(\u001b[49m\u001b[43mindices\u001b[49m\u001b[38;5;241;43m=\u001b[39;49m\u001b[43mindices\u001b[49m\u001b[43m)\u001b[49m \u001b[38;5;28;01mfor\u001b[39;00m representation \u001b[38;5;129;01min\u001b[39;00m representations]\n\u001b[1;32m    606\u001b[0m     \u001b[38;5;28;01mfor\u001b[39;00m indices, representations \u001b[38;5;129;01min\u001b[39;00m (\n\u001b[1;32m    607\u001b[0m         (h, head_representations),\n\u001b[1;32m    608\u001b[0m         (r, \u001b[38;5;28mself\u001b[39m\u001b[38;5;241m.\u001b[39mrelation_representations),\n\u001b[1;32m    609\u001b[0m         (t, tail_representations),\n\u001b[1;32m    610\u001b[0m     )\n\u001b[1;32m    611\u001b[0m ]\n\u001b[1;32m    612\u001b[0m \u001b[38;5;66;03m# normalization\u001b[39;00m\n\u001b[1;32m    613\u001b[0m \u001b[38;5;28;01mreturn\u001b[39;00m cast(\n\u001b[1;32m    614\u001b[0m     Tuple[HeadRepresentation, RelationRepresentation, TailRepresentation],\n\u001b[1;32m    615\u001b[0m     \u001b[38;5;28mtuple\u001b[39m(x[\u001b[38;5;241m0\u001b[39m] \u001b[38;5;28;01mif\u001b[39;00m \u001b[38;5;28mlen\u001b[39m(x) \u001b[38;5;241m==\u001b[39m \u001b[38;5;241m1\u001b[39m \u001b[38;5;28;01melse\u001b[39;00m x \u001b[38;5;28;01mfor\u001b[39;00m x \u001b[38;5;129;01min\u001b[39;00m (hr, rr, tr)),\n\u001b[1;32m    616\u001b[0m )\n",
      "File \u001b[0;32m/usr/local/lib/python3.8/dist-packages/torch/nn/modules/module.py:1501\u001b[0m, in \u001b[0;36mModule._call_impl\u001b[0;34m(self, *args, **kwargs)\u001b[0m\n\u001b[1;32m   1496\u001b[0m \u001b[38;5;66;03m# If we don't have any hooks, we want to skip the rest of the logic in\u001b[39;00m\n\u001b[1;32m   1497\u001b[0m \u001b[38;5;66;03m# this function, and just call forward.\u001b[39;00m\n\u001b[1;32m   1498\u001b[0m \u001b[38;5;28;01mif\u001b[39;00m \u001b[38;5;129;01mnot\u001b[39;00m (\u001b[38;5;28mself\u001b[39m\u001b[38;5;241m.\u001b[39m_backward_hooks \u001b[38;5;129;01mor\u001b[39;00m \u001b[38;5;28mself\u001b[39m\u001b[38;5;241m.\u001b[39m_backward_pre_hooks \u001b[38;5;129;01mor\u001b[39;00m \u001b[38;5;28mself\u001b[39m\u001b[38;5;241m.\u001b[39m_forward_hooks \u001b[38;5;129;01mor\u001b[39;00m \u001b[38;5;28mself\u001b[39m\u001b[38;5;241m.\u001b[39m_forward_pre_hooks\n\u001b[1;32m   1499\u001b[0m         \u001b[38;5;129;01mor\u001b[39;00m _global_backward_pre_hooks \u001b[38;5;129;01mor\u001b[39;00m _global_backward_hooks\n\u001b[1;32m   1500\u001b[0m         \u001b[38;5;129;01mor\u001b[39;00m _global_forward_hooks \u001b[38;5;129;01mor\u001b[39;00m _global_forward_pre_hooks):\n\u001b[0;32m-> 1501\u001b[0m     \u001b[38;5;28;01mreturn\u001b[39;00m \u001b[43mforward_call\u001b[49m\u001b[43m(\u001b[49m\u001b[38;5;241;43m*\u001b[39;49m\u001b[43margs\u001b[49m\u001b[43m,\u001b[49m\u001b[43m \u001b[49m\u001b[38;5;241;43m*\u001b[39;49m\u001b[38;5;241;43m*\u001b[39;49m\u001b[43mkwargs\u001b[49m\u001b[43m)\u001b[49m\n\u001b[1;32m   1502\u001b[0m \u001b[38;5;66;03m# Do not call functions when jit is used\u001b[39;00m\n\u001b[1;32m   1503\u001b[0m full_backward_hooks, non_full_backward_hooks \u001b[38;5;241m=\u001b[39m [], []\n",
      "File \u001b[0;32m/usr/local/lib/python3.8/dist-packages/pykeen/nn/representation.py:182\u001b[0m, in \u001b[0;36mRepresentation.forward\u001b[0;34m(self, indices)\u001b[0m\n\u001b[1;32m    180\u001b[0m \u001b[38;5;28;01mif\u001b[39;00m indices \u001b[38;5;129;01mis\u001b[39;00m \u001b[38;5;129;01mnot\u001b[39;00m \u001b[38;5;28;01mNone\u001b[39;00m \u001b[38;5;129;01mand\u001b[39;00m \u001b[38;5;28mself\u001b[39m\u001b[38;5;241m.\u001b[39munique:\n\u001b[1;32m    181\u001b[0m     indices, inverse \u001b[38;5;241m=\u001b[39m indices\u001b[38;5;241m.\u001b[39munique(return_inverse\u001b[38;5;241m=\u001b[39m\u001b[38;5;28;01mTrue\u001b[39;00m)\n\u001b[0;32m--> 182\u001b[0m x \u001b[38;5;241m=\u001b[39m \u001b[38;5;28;43mself\u001b[39;49m\u001b[38;5;241;43m.\u001b[39;49m\u001b[43m_plain_forward\u001b[49m\u001b[43m(\u001b[49m\u001b[43mindices\u001b[49m\u001b[38;5;241;43m=\u001b[39;49m\u001b[43mindices\u001b[49m\u001b[43m)\u001b[49m\n\u001b[1;32m    183\u001b[0m \u001b[38;5;66;03m# normalize *before* repeating\u001b[39;00m\n\u001b[1;32m    184\u001b[0m \u001b[38;5;28;01mif\u001b[39;00m \u001b[38;5;28mself\u001b[39m\u001b[38;5;241m.\u001b[39mnormalizer \u001b[38;5;129;01mis\u001b[39;00m \u001b[38;5;129;01mnot\u001b[39;00m \u001b[38;5;28;01mNone\u001b[39;00m:\n",
      "File \u001b[0;32m/usr/local/lib/python3.8/dist-packages/pykeen/nn/representation.py:426\u001b[0m, in \u001b[0;36mEmbedding._plain_forward\u001b[0;34m(self, indices)\u001b[0m\n\u001b[1;32m    424\u001b[0m \u001b[38;5;28;01melse\u001b[39;00m:\n\u001b[1;32m    425\u001b[0m     prefix_shape \u001b[38;5;241m=\u001b[39m indices\u001b[38;5;241m.\u001b[39mshape\n\u001b[0;32m--> 426\u001b[0m     x \u001b[38;5;241m=\u001b[39m \u001b[38;5;28;43mself\u001b[39;49m\u001b[38;5;241;43m.\u001b[39;49m\u001b[43m_embeddings\u001b[49m\u001b[43m(\u001b[49m\u001b[43mindices\u001b[49m\u001b[38;5;241;43m.\u001b[39;49m\u001b[43mto\u001b[49m\u001b[43m(\u001b[49m\u001b[38;5;28;43mself\u001b[39;49m\u001b[38;5;241;43m.\u001b[39;49m\u001b[43mdevice\u001b[49m\u001b[43m)\u001b[49m\u001b[43m)\u001b[49m\n\u001b[1;32m    427\u001b[0m x \u001b[38;5;241m=\u001b[39m x\u001b[38;5;241m.\u001b[39mview(\u001b[38;5;241m*\u001b[39mprefix_shape, \u001b[38;5;241m*\u001b[39m\u001b[38;5;28mself\u001b[39m\u001b[38;5;241m.\u001b[39m_shape)\n\u001b[1;32m    428\u001b[0m \u001b[38;5;66;03m# fixme: work-around until nn.Embedding supports complex\u001b[39;00m\n",
      "File \u001b[0;32m/usr/local/lib/python3.8/dist-packages/torch/nn/modules/module.py:1501\u001b[0m, in \u001b[0;36mModule._call_impl\u001b[0;34m(self, *args, **kwargs)\u001b[0m\n\u001b[1;32m   1496\u001b[0m \u001b[38;5;66;03m# If we don't have any hooks, we want to skip the rest of the logic in\u001b[39;00m\n\u001b[1;32m   1497\u001b[0m \u001b[38;5;66;03m# this function, and just call forward.\u001b[39;00m\n\u001b[1;32m   1498\u001b[0m \u001b[38;5;28;01mif\u001b[39;00m \u001b[38;5;129;01mnot\u001b[39;00m (\u001b[38;5;28mself\u001b[39m\u001b[38;5;241m.\u001b[39m_backward_hooks \u001b[38;5;129;01mor\u001b[39;00m \u001b[38;5;28mself\u001b[39m\u001b[38;5;241m.\u001b[39m_backward_pre_hooks \u001b[38;5;129;01mor\u001b[39;00m \u001b[38;5;28mself\u001b[39m\u001b[38;5;241m.\u001b[39m_forward_hooks \u001b[38;5;129;01mor\u001b[39;00m \u001b[38;5;28mself\u001b[39m\u001b[38;5;241m.\u001b[39m_forward_pre_hooks\n\u001b[1;32m   1499\u001b[0m         \u001b[38;5;129;01mor\u001b[39;00m _global_backward_pre_hooks \u001b[38;5;129;01mor\u001b[39;00m _global_backward_hooks\n\u001b[1;32m   1500\u001b[0m         \u001b[38;5;129;01mor\u001b[39;00m _global_forward_hooks \u001b[38;5;129;01mor\u001b[39;00m _global_forward_pre_hooks):\n\u001b[0;32m-> 1501\u001b[0m     \u001b[38;5;28;01mreturn\u001b[39;00m \u001b[43mforward_call\u001b[49m\u001b[43m(\u001b[49m\u001b[38;5;241;43m*\u001b[39;49m\u001b[43margs\u001b[49m\u001b[43m,\u001b[49m\u001b[43m \u001b[49m\u001b[38;5;241;43m*\u001b[39;49m\u001b[38;5;241;43m*\u001b[39;49m\u001b[43mkwargs\u001b[49m\u001b[43m)\u001b[49m\n\u001b[1;32m   1502\u001b[0m \u001b[38;5;66;03m# Do not call functions when jit is used\u001b[39;00m\n\u001b[1;32m   1503\u001b[0m full_backward_hooks, non_full_backward_hooks \u001b[38;5;241m=\u001b[39m [], []\n",
      "File \u001b[0;32m/usr/local/lib/python3.8/dist-packages/torch/nn/modules/sparse.py:162\u001b[0m, in \u001b[0;36mEmbedding.forward\u001b[0;34m(self, input)\u001b[0m\n\u001b[1;32m    161\u001b[0m \u001b[38;5;28;01mdef\u001b[39;00m \u001b[38;5;21mforward\u001b[39m(\u001b[38;5;28mself\u001b[39m, \u001b[38;5;28minput\u001b[39m: Tensor) \u001b[38;5;241m-\u001b[39m\u001b[38;5;241m>\u001b[39m Tensor:\n\u001b[0;32m--> 162\u001b[0m     \u001b[38;5;28;01mreturn\u001b[39;00m \u001b[43mF\u001b[49m\u001b[38;5;241;43m.\u001b[39;49m\u001b[43membedding\u001b[49m\u001b[43m(\u001b[49m\n\u001b[1;32m    163\u001b[0m \u001b[43m        \u001b[49m\u001b[38;5;28;43minput\u001b[39;49m\u001b[43m,\u001b[49m\u001b[43m \u001b[49m\u001b[38;5;28;43mself\u001b[39;49m\u001b[38;5;241;43m.\u001b[39;49m\u001b[43mweight\u001b[49m\u001b[43m,\u001b[49m\u001b[43m \u001b[49m\u001b[38;5;28;43mself\u001b[39;49m\u001b[38;5;241;43m.\u001b[39;49m\u001b[43mpadding_idx\u001b[49m\u001b[43m,\u001b[49m\u001b[43m \u001b[49m\u001b[38;5;28;43mself\u001b[39;49m\u001b[38;5;241;43m.\u001b[39;49m\u001b[43mmax_norm\u001b[49m\u001b[43m,\u001b[49m\n\u001b[1;32m    164\u001b[0m \u001b[43m        \u001b[49m\u001b[38;5;28;43mself\u001b[39;49m\u001b[38;5;241;43m.\u001b[39;49m\u001b[43mnorm_type\u001b[49m\u001b[43m,\u001b[49m\u001b[43m \u001b[49m\u001b[38;5;28;43mself\u001b[39;49m\u001b[38;5;241;43m.\u001b[39;49m\u001b[43mscale_grad_by_freq\u001b[49m\u001b[43m,\u001b[49m\u001b[43m \u001b[49m\u001b[38;5;28;43mself\u001b[39;49m\u001b[38;5;241;43m.\u001b[39;49m\u001b[43msparse\u001b[49m\u001b[43m)\u001b[49m\n",
      "File \u001b[0;32m/usr/local/lib/python3.8/dist-packages/torch/nn/functional.py:2210\u001b[0m, in \u001b[0;36membedding\u001b[0;34m(input, weight, padding_idx, max_norm, norm_type, scale_grad_by_freq, sparse)\u001b[0m\n\u001b[1;32m   2204\u001b[0m     \u001b[38;5;66;03m# Note [embedding_renorm set_grad_enabled]\u001b[39;00m\n\u001b[1;32m   2205\u001b[0m     \u001b[38;5;66;03m# XXX: equivalent to\u001b[39;00m\n\u001b[1;32m   2206\u001b[0m     \u001b[38;5;66;03m# with torch.no_grad():\u001b[39;00m\n\u001b[1;32m   2207\u001b[0m     \u001b[38;5;66;03m#   torch.embedding_renorm_\u001b[39;00m\n\u001b[1;32m   2208\u001b[0m     \u001b[38;5;66;03m# remove once script supports set_grad_enabled\u001b[39;00m\n\u001b[1;32m   2209\u001b[0m     _no_grad_embedding_renorm_(weight, \u001b[38;5;28minput\u001b[39m, max_norm, norm_type)\n\u001b[0;32m-> 2210\u001b[0m \u001b[38;5;28;01mreturn\u001b[39;00m \u001b[43mtorch\u001b[49m\u001b[38;5;241;43m.\u001b[39;49m\u001b[43membedding\u001b[49m\u001b[43m(\u001b[49m\u001b[43mweight\u001b[49m\u001b[43m,\u001b[49m\u001b[43m \u001b[49m\u001b[38;5;28;43minput\u001b[39;49m\u001b[43m,\u001b[49m\u001b[43m \u001b[49m\u001b[43mpadding_idx\u001b[49m\u001b[43m,\u001b[49m\u001b[43m \u001b[49m\u001b[43mscale_grad_by_freq\u001b[49m\u001b[43m,\u001b[49m\u001b[43m \u001b[49m\u001b[43msparse\u001b[49m\u001b[43m)\u001b[49m\n",
      "\u001b[0;31mOutOfMemoryError\u001b[0m: CUDA out of memory. Tried to allocate 1.91 GiB (GPU 0; 7.79 GiB total capacity; 4.18 GiB already allocated; 1.88 GiB free; 5.75 GiB reserved in total by PyTorch) If reserved memory is >> allocated memory try setting max_split_size_mb to avoid fragmentation.  See documentation for Memory Management and PYTORCH_CUDA_ALLOC_CONF"
     ]
    }
   ],
   "source": [
    "metrics = test_step(pipeline, valid_triples, num_entities, num_relations)"
   ]
  },
  {
   "cell_type": "code",
   "execution_count": null,
   "metadata": {},
   "outputs": [],
   "source": [
    "metrics"
   ]
  }
 ],
 "metadata": {
  "kernelspec": {
   "display_name": "Python 3 (ipykernel)",
   "language": "python",
   "name": "python3"
  },
  "language_info": {
   "codemirror_mode": {
    "name": "ipython",
    "version": 3
   },
   "file_extension": ".py",
   "mimetype": "text/x-python",
   "name": "python",
   "nbconvert_exporter": "python",
   "pygments_lexer": "ipython3",
   "version": "3.8.10"
  },
  "vscode": {
   "interpreter": {
    "hash": "8343f1c295490ad08729f17064e1ab8ac071c711efe2732632787d24e0261b0e"
   }
  }
 },
 "nbformat": 4,
 "nbformat_minor": 2
}
