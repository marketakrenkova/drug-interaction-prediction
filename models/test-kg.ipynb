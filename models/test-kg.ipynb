{
 "cells": [
  {
   "cell_type": "markdown",
   "metadata": {},
   "source": [
    "## Knowledge Graph\n",
    "#### Drug-Food or Drug-Supplements interaction prediction"
   ]
  },
  {
   "cell_type": "code",
   "execution_count": 1,
   "metadata": {},
   "outputs": [],
   "source": [
    "import warnings\n",
    "warnings.filterwarnings('ignore')"
   ]
  },
  {
   "cell_type": "code",
   "execution_count": 2,
   "metadata": {},
   "outputs": [],
   "source": [
    "import pandas as pd\n",
    "from sklearn.model_selection import train_test_split\n",
    "import matplotlib.pyplot as plt\n",
    "\n",
    "from pykeen.predict import predict_target\n",
    "from pykeen.pipeline import pipeline\n",
    "from pykeen.triples import TriplesFactory, CoreTriplesFactory\n",
    "from pykeen.models import TransE\n",
    "from pykeen.evaluation import RankBasedEvaluator, OGBEvaluator\n",
    "\n",
    "from os import listdir\n",
    "\n",
    "from kg_model import KG_model"
   ]
  },
  {
   "cell_type": "markdown",
   "metadata": {},
   "source": [
    "### Split data into train, validation and test sets"
   ]
  },
  {
   "cell_type": "code",
   "execution_count": 3,
   "metadata": {},
   "outputs": [],
   "source": [
    "data_dir = '../data/triplets/'"
   ]
  },
  {
   "cell_type": "code",
   "execution_count": 4,
   "metadata": {},
   "outputs": [
    {
     "data": {
      "text/html": [
       "<div>\n",
       "<style scoped>\n",
       "    .dataframe tbody tr th:only-of-type {\n",
       "        vertical-align: middle;\n",
       "    }\n",
       "\n",
       "    .dataframe tbody tr th {\n",
       "        vertical-align: top;\n",
       "    }\n",
       "\n",
       "    .dataframe thead th {\n",
       "        text-align: right;\n",
       "    }\n",
       "</style>\n",
       "<table border=\"1\" class=\"dataframe\">\n",
       "  <thead>\n",
       "    <tr style=\"text-align: right;\">\n",
       "      <th></th>\n",
       "      <th>drug1</th>\n",
       "      <th>interaction</th>\n",
       "      <th>drug2</th>\n",
       "    </tr>\n",
       "  </thead>\n",
       "  <tbody>\n",
       "    <tr>\n",
       "      <th>0</th>\n",
       "      <td>DB06605</td>\n",
       "      <td>increase_anticoagulant_activities</td>\n",
       "      <td>DB00001</td>\n",
       "    </tr>\n",
       "    <tr>\n",
       "      <th>1</th>\n",
       "      <td>DB06695</td>\n",
       "      <td>increase_anticoagulant_activities</td>\n",
       "      <td>DB00001</td>\n",
       "    </tr>\n",
       "    <tr>\n",
       "      <th>2</th>\n",
       "      <td>DB01254</td>\n",
       "      <td>increase_bleeding</td>\n",
       "      <td>DB00001</td>\n",
       "    </tr>\n",
       "    <tr>\n",
       "      <th>3</th>\n",
       "      <td>DB01254</td>\n",
       "      <td>increase_hemorrhage</td>\n",
       "      <td>DB00001</td>\n",
       "    </tr>\n",
       "    <tr>\n",
       "      <th>4</th>\n",
       "      <td>DB01609</td>\n",
       "      <td>increase_gastrointestinal_bleeding</td>\n",
       "      <td>DB00001</td>\n",
       "    </tr>\n",
       "  </tbody>\n",
       "</table>\n",
       "</div>"
      ],
      "text/plain": [
       "     drug1                         interaction    drug2\n",
       "0  DB06605   increase_anticoagulant_activities  DB00001\n",
       "1  DB06695   increase_anticoagulant_activities  DB00001\n",
       "2  DB01254                   increase_bleeding  DB00001\n",
       "3  DB01254                 increase_hemorrhage  DB00001\n",
       "4  DB01609  increase_gastrointestinal_bleeding  DB00001"
      ]
     },
     "execution_count": 4,
     "metadata": {},
     "output_type": "execute_result"
    }
   ],
   "source": [
    "ddi_df = pd.read_csv(data_dir + 'ddi.tsv', sep='\\t', index_col=[0])\n",
    "ddi_df.head()"
   ]
  },
  {
   "cell_type": "code",
   "execution_count": null,
   "metadata": {},
   "outputs": [],
   "source": [
    "print('total interactions:', ddi_df.shape[0])\n",
    "print('unique interactions:', len(set(ddi_df.interaction)))\n",
    "\n",
    "interaction_counts = ddi_df.groupby(by=['interaction']).size()\n",
    "interaction_counts"
   ]
  },
  {
   "cell_type": "code",
   "execution_count": null,
   "metadata": {},
   "outputs": [],
   "source": [
    "set(ddi_df.interaction)"
   ]
  },
  {
   "cell_type": "code",
   "execution_count": null,
   "metadata": {},
   "outputs": [],
   "source": [
    "drug_supplement_df = pd.read_csv(data_dir + 'ds_relations.tsv', sep='\\t', index_col=[0])\n",
    "# drug_supplement_df = drug_supplement_df[drug_supplement_df['REL'] != 'has_ingredient']\n",
    "drug_supplement_df.head()"
   ]
  },
  {
   "cell_type": "code",
   "execution_count": null,
   "metadata": {},
   "outputs": [],
   "source": [
    "print('total interactions:', drug_supplement_df.shape[0])\n",
    "print('unique interactions:', len(set(drug_supplement_df.REL)))\n",
    "\n",
    "ds_interaction_counts = drug_supplement_df.groupby(by=['REL']).size()\n",
    "ds_interaction_counts"
   ]
  },
  {
   "cell_type": "code",
   "execution_count": null,
   "metadata": {},
   "outputs": [],
   "source": [
    "interactions_count = pd.concat([interaction_counts, ds_interaction_counts])\n",
    "interactions_count.to_csv('interaction_counts.csv', header=['interaction_count'])"
   ]
  },
  {
   "cell_type": "code",
   "execution_count": null,
   "metadata": {},
   "outputs": [],
   "source": [
    "def compute_size(n):\n",
    "    if n == 2:\n",
    "        return 1, 1\n",
    "    if n == 3:\n",
    "        return 1, 2\n",
    "    if n == 4:\n",
    "        return 2, 3\n",
    "    if n == 5:\n",
    "        return 3, 4\n",
    "    if n == 6:\n",
    "        return 4, 5\n",
    "    # n == 7\n",
    "    return 4, 6 "
   ]
  },
  {
   "cell_type": "code",
   "execution_count": null,
   "metadata": {},
   "outputs": [],
   "source": [
    "# train : valid : test = 80 : 10 : 10\n",
    "def split_data_relation(df_relation):\n",
    "    \n",
    "    # too few triplets with the realtion\n",
    "    if df_relation.shape[0] <= 7:\n",
    "        train_size, valid_size = compute_size(df_relation.shape[0])\n",
    "        \n",
    "        # shuffle df_relation\n",
    "        df_relation = df_relation.sample(frac=1, random_state=42)\n",
    "        \n",
    "        X_train = df_relation.iloc[:train_size]\n",
    "        X_valid = df_relation.iloc[train_size:valid_size]\n",
    "        X_test = df_relation.iloc[valid_size:]\n",
    "\n",
    "    else:\n",
    "        X_train, X_rem = train_test_split(df_relation, train_size=0.8, random_state=42)\n",
    "        X_valid, X_test = train_test_split(X_rem, test_size=0.5, random_state=42)\n",
    "        \n",
    "    return X_train, X_valid, X_test"
   ]
  },
  {
   "cell_type": "code",
   "execution_count": null,
   "metadata": {},
   "outputs": [],
   "source": [
    "# split drug-supplements relation dataset\n",
    "def split_drug_supplements_dataset(drug_supplement_df):\n",
    "    relations = set(drug_supplement_df.REL)\n",
    "    \n",
    "    train_triplets = pd.DataFrame(columns=['CUI1', 'REL', 'CUI2'])\n",
    "    valid_triplets = pd.DataFrame(columns=['CUI1', 'REL', 'CUI2'])\n",
    "    test_triplets = pd.DataFrame(columns=['CUI1', 'REL', 'CUI2'])\n",
    "\n",
    "    for rel in relations:\n",
    "        train, valid, test = split_data_relation(drug_supplement_df[drug_supplement_df['REL'] == rel])\n",
    "        train_triplets = pd.concat([train_triplets, train])\n",
    "        valid_triplets = pd.concat([valid_triplets, valid])\n",
    "        test_triplets = pd.concat([test_triplets, test])\n",
    "\n",
    "    train_triplets.rename(columns={'CUI1': 'head', 'REL': 'relation', 'CUI2': 'tail'}, inplace=True)\n",
    "    valid_triplets.rename(columns={'CUI1': 'head', 'REL': 'relation', 'CUI2': 'tail'}, inplace=True)\n",
    "    test_triplets.rename(columns={'CUI1': 'head', 'REL': 'relation', 'CUI2': 'tail'}, inplace=True)    \n",
    "\n",
    "\n",
    "    print('train dataset size:', train_triplets.shape[0])\n",
    "    print('validation dataset size:',valid_triplets.shape[0])\n",
    "    print('test dataset size:',test_triplets.shape[0])\n",
    "    \n",
    "    return train_triplets, valid_triplets, test_triplets"
   ]
  },
  {
   "cell_type": "code",
   "execution_count": null,
   "metadata": {},
   "outputs": [],
   "source": [
    "# split drug-drug interaction dataset (from DrugBank)\n",
    "def split_ddi_dataset(ddi_df):\n",
    "    interactions = set(ddi_df.interaction)\n",
    "    \n",
    "    train_triplets = pd.DataFrame(columns=['drug1', 'interaction', 'drug2'])\n",
    "    valid_triplets = pd.DataFrame(columns=['drug1', 'interaction', 'drug2'])\n",
    "    test_triplets = pd.DataFrame(columns=['drug1', 'interaction', 'drug2'])\n",
    "    \n",
    "    for inter in interactions:\n",
    "        train, valid, test = split_data_relation(ddi_df[ddi_df['interaction'] == inter])\n",
    "        train_triplets = pd.concat([train_triplets, train])\n",
    "        valid_triplets = pd.concat([valid_triplets, valid])\n",
    "        test_triplets = pd.concat([test_triplets, test])\n",
    "        \n",
    "    train_triplets.rename(columns={'drug1': 'head', 'interaction': 'relation', 'drug2': 'tail'}, inplace=True)\n",
    "    valid_triplets.rename(columns={'drug1': 'head', 'interaction': 'relation', 'drug2': 'tail'}, inplace=True)\n",
    "    test_triplets.rename(columns={'drug1': 'head', 'interaction': 'relation', 'drug2': 'tail'}, inplace=True)    \n",
    "\n",
    "\n",
    "    print('train dataset size:', train_triplets.shape[0])\n",
    "    print('validation dataset size:',valid_triplets.shape[0])\n",
    "    print('test dataset size:',test_triplets.shape[0])\n",
    "    \n",
    "    return train_triplets, valid_triplets, test_triplets    \n",
    "    "
   ]
  },
  {
   "cell_type": "code",
   "execution_count": null,
   "metadata": {},
   "outputs": [],
   "source": [
    "# DrugBank drug-drug interactions\n",
    "print('DrugBank drug-drug interactions')\n",
    "train_triplets_ddi, valid_triplets_ddi, test_triplets_ddi = split_ddi_dataset(ddi_df)\n",
    "\n",
    "print()\n",
    "\n",
    "# Drug Supplement database - drug-suplement interactions\n",
    "print('Drug Supplement database - drug-suplement interactions')\n",
    "train_triplets_ds, valid_triplets_ds, test_triplets_ds = split_drug_supplements_dataset(drug_supplement_df)"
   ]
  },
  {
   "cell_type": "code",
   "execution_count": null,
   "metadata": {},
   "outputs": [],
   "source": [
    "# all interactions\n",
    "train_triplets = pd.concat([train_triplets_ddi, train_triplets_ds])\n",
    "valid_triplets = pd.concat([valid_triplets_ddi, valid_triplets_ds])\n",
    "test_triplets = pd.concat([test_triplets_ddi, test_triplets_ds])\n",
    "\n",
    "print('All interactions:')\n",
    "print('train dataset size:', train_triplets.shape[0])\n",
    "print('validation dataset size:',valid_triplets.shape[0])\n",
    "print('test dataset size:',test_triplets.shape[0])"
   ]
  },
  {
   "cell_type": "code",
   "execution_count": null,
   "metadata": {},
   "outputs": [],
   "source": [
    "all_relations = set(train_triplets.relation)\n",
    "print('Number of unique interactions:', len(all_relations))\n",
    "print(list(all_relations)[:10])"
   ]
  },
  {
   "cell_type": "markdown",
   "metadata": {},
   "source": [
    "#### Add rest of the data into the training set"
   ]
  },
  {
   "cell_type": "code",
   "execution_count": null,
   "metadata": {},
   "outputs": [],
   "source": [
    "files = listdir(data_dir)\n",
    "\n",
    "for file in files:\n",
    "    if file == 'ddi.tsv' or file == '.ipynb_checkpoints' or file == 'ds_relations.tsv':\n",
    "        continue\n",
    "    if 'train' in file or 'valid' in file or 'test' in file:\n",
    "        continue\n",
    "           \n",
    "    df = pd.read_csv(data_dir + file, sep='\\t', index_col=[0])\n",
    "    \n",
    "    # if file == 'ds_relations.tsv':\n",
    "    #     df = df[df['REL'] == 'has_ingredient']\n",
    "    \n",
    "    df.set_axis(['head', 'relation', 'tail'], axis=1, inplace=True) \n",
    "    train_triplets = pd.concat([train_triplets, df])\n",
    "    \n",
    "print('Final size of train dataset (with other relations):', train_triplets.shape[0]) "
   ]
  },
  {
   "cell_type": "code",
   "execution_count": null,
   "metadata": {},
   "outputs": [],
   "source": [
    "train_triplets = train_triplets.astype(str)\n",
    "valid_triplets = valid_triplets.astype(str)\n",
    "test_triplets = test_triplets.astype(str)"
   ]
  },
  {
   "cell_type": "code",
   "execution_count": null,
   "metadata": {},
   "outputs": [],
   "source": [
    "# save train, valid and test datasets\n",
    "\n",
    "train_triplets.to_csv(data_dir + 'train.tsv', sep='\\t')\n",
    "valid_triplets.to_csv(data_dir + 'valid.tsv', sep='\\t')\n",
    "test_triplets.to_csv(data_dir + 'test.tsv', sep='\\t')"
   ]
  },
  {
   "cell_type": "code",
   "execution_count": 5,
   "metadata": {},
   "outputs": [],
   "source": [
    "# read data\n",
    "\n",
    "specification = '_drugbank'\n",
    "\n",
    "train_triplets = pd.read_csv(data_dir + 'train' + specification + '.tsv', sep='\\t')\n",
    "valid_triplets = pd.read_csv(data_dir + 'valid' + specification + '.tsv', sep='\\t')\n",
    "test_triplets = pd.read_csv(data_dir + 'test' + specification + '.tsv', sep='\\t')"
   ]
  },
  {
   "cell_type": "code",
   "execution_count": 6,
   "metadata": {},
   "outputs": [
    {
     "data": {
      "text/html": [
       "<div>\n",
       "<style scoped>\n",
       "    .dataframe tbody tr th:only-of-type {\n",
       "        vertical-align: middle;\n",
       "    }\n",
       "\n",
       "    .dataframe tbody tr th {\n",
       "        vertical-align: top;\n",
       "    }\n",
       "\n",
       "    .dataframe thead th {\n",
       "        text-align: right;\n",
       "    }\n",
       "</style>\n",
       "<table border=\"1\" class=\"dataframe\">\n",
       "  <thead>\n",
       "    <tr style=\"text-align: right;\">\n",
       "      <th></th>\n",
       "      <th>head</th>\n",
       "      <th>relation</th>\n",
       "      <th>tail</th>\n",
       "    </tr>\n",
       "  </thead>\n",
       "  <tbody>\n",
       "    <tr>\n",
       "      <th>0</th>\n",
       "      <td>DB01424</td>\n",
       "      <td>interacts</td>\n",
       "      <td>DB00384</td>\n",
       "    </tr>\n",
       "    <tr>\n",
       "      <th>1</th>\n",
       "      <td>DB00292</td>\n",
       "      <td>interacts</td>\n",
       "      <td>DB00282</td>\n",
       "    </tr>\n",
       "    <tr>\n",
       "      <th>2</th>\n",
       "      <td>DB01428</td>\n",
       "      <td>interacts</td>\n",
       "      <td>DB00872</td>\n",
       "    </tr>\n",
       "    <tr>\n",
       "      <th>3</th>\n",
       "      <td>DB12474</td>\n",
       "      <td>interacts</td>\n",
       "      <td>DB00054</td>\n",
       "    </tr>\n",
       "    <tr>\n",
       "      <th>4</th>\n",
       "      <td>DB11641</td>\n",
       "      <td>interacts</td>\n",
       "      <td>DB01016</td>\n",
       "    </tr>\n",
       "    <tr>\n",
       "      <th>...</th>\n",
       "      <td>...</td>\n",
       "      <td>...</td>\n",
       "      <td>...</td>\n",
       "    </tr>\n",
       "    <tr>\n",
       "      <th>675581</th>\n",
       "      <td>SMP0062895</td>\n",
       "      <td>involved_in_pathway</td>\n",
       "      <td>P35367</td>\n",
       "    </tr>\n",
       "    <tr>\n",
       "      <th>675582</th>\n",
       "      <td>SMP0062895</td>\n",
       "      <td>involved_in_pathway</td>\n",
       "      <td>P50148</td>\n",
       "    </tr>\n",
       "    <tr>\n",
       "      <th>675583</th>\n",
       "      <td>SMP0062895</td>\n",
       "      <td>involved_in_pathway</td>\n",
       "      <td>Q14643</td>\n",
       "    </tr>\n",
       "    <tr>\n",
       "      <th>675584</th>\n",
       "      <td>SMP0062895</td>\n",
       "      <td>involved_in_pathway</td>\n",
       "      <td>P05771</td>\n",
       "    </tr>\n",
       "    <tr>\n",
       "      <th>675585</th>\n",
       "      <td>SMP0062895</td>\n",
       "      <td>involved_in_pathway</td>\n",
       "      <td>P19838</td>\n",
       "    </tr>\n",
       "  </tbody>\n",
       "</table>\n",
       "<p>675586 rows × 3 columns</p>\n",
       "</div>"
      ],
      "text/plain": [
       "              head             relation     tail\n",
       "0          DB01424            interacts  DB00384\n",
       "1          DB00292            interacts  DB00282\n",
       "2          DB01428            interacts  DB00872\n",
       "3          DB12474            interacts  DB00054\n",
       "4          DB11641            interacts  DB01016\n",
       "...            ...                  ...      ...\n",
       "675581  SMP0062895  involved_in_pathway   P35367\n",
       "675582  SMP0062895  involved_in_pathway   P50148\n",
       "675583  SMP0062895  involved_in_pathway   Q14643\n",
       "675584  SMP0062895  involved_in_pathway   P05771\n",
       "675585  SMP0062895  involved_in_pathway   P19838\n",
       "\n",
       "[675586 rows x 3 columns]"
      ]
     },
     "execution_count": 6,
     "metadata": {},
     "output_type": "execute_result"
    }
   ],
   "source": [
    "train_triplets"
   ]
  },
  {
   "cell_type": "code",
   "execution_count": 7,
   "metadata": {},
   "outputs": [],
   "source": [
    "common_drugs = pd.read_csv('../data/common_drugs.csv', sep=';')\n",
    "common_drugs = common_drugs['DrugBank_id'].values"
   ]
  },
  {
   "cell_type": "code",
   "execution_count": 8,
   "metadata": {},
   "outputs": [
    {
     "data": {
      "text/html": [
       "<div>\n",
       "<style scoped>\n",
       "    .dataframe tbody tr th:only-of-type {\n",
       "        vertical-align: middle;\n",
       "    }\n",
       "\n",
       "    .dataframe tbody tr th {\n",
       "        vertical-align: top;\n",
       "    }\n",
       "\n",
       "    .dataframe thead th {\n",
       "        text-align: right;\n",
       "    }\n",
       "</style>\n",
       "<table border=\"1\" class=\"dataframe\">\n",
       "  <thead>\n",
       "    <tr style=\"text-align: right;\">\n",
       "      <th></th>\n",
       "      <th>head</th>\n",
       "      <th>relation</th>\n",
       "      <th>tail</th>\n",
       "    </tr>\n",
       "  </thead>\n",
       "  <tbody>\n",
       "    <tr>\n",
       "      <th>8037</th>\n",
       "      <td>DB00343</td>\n",
       "      <td>interacts</td>\n",
       "      <td>DB00026</td>\n",
       "    </tr>\n",
       "    <tr>\n",
       "      <th>10406</th>\n",
       "      <td>DB00343</td>\n",
       "      <td>interacts</td>\n",
       "      <td>DB00284</td>\n",
       "    </tr>\n",
       "    <tr>\n",
       "      <th>20712</th>\n",
       "      <td>DB00343</td>\n",
       "      <td>interacts</td>\n",
       "      <td>DB00186</td>\n",
       "    </tr>\n",
       "    <tr>\n",
       "      <th>21883</th>\n",
       "      <td>DB00343</td>\n",
       "      <td>interacts</td>\n",
       "      <td>DB00202</td>\n",
       "    </tr>\n",
       "    <tr>\n",
       "      <th>35319</th>\n",
       "      <td>DB00343</td>\n",
       "      <td>interacts</td>\n",
       "      <td>DB00289</td>\n",
       "    </tr>\n",
       "    <tr>\n",
       "      <th>...</th>\n",
       "      <td>...</td>\n",
       "      <td>...</td>\n",
       "      <td>...</td>\n",
       "    </tr>\n",
       "    <tr>\n",
       "      <th>555047</th>\n",
       "      <td>DB00343</td>\n",
       "      <td>in_category</td>\n",
       "      <td>Vasodilating Agents</td>\n",
       "    </tr>\n",
       "    <tr>\n",
       "      <th>555048</th>\n",
       "      <td>DB00343</td>\n",
       "      <td>in_category</td>\n",
       "      <td>Vasoprotectives</td>\n",
       "    </tr>\n",
       "    <tr>\n",
       "      <th>644024</th>\n",
       "      <td>DB00343</td>\n",
       "      <td>contains</td>\n",
       "      <td>DBSALT000865</td>\n",
       "    </tr>\n",
       "    <tr>\n",
       "      <th>644025</th>\n",
       "      <td>DB00343</td>\n",
       "      <td>contains</td>\n",
       "      <td>DBSALT001394</td>\n",
       "    </tr>\n",
       "    <tr>\n",
       "      <th>644026</th>\n",
       "      <td>DB00343</td>\n",
       "      <td>contains</td>\n",
       "      <td>DBSALT002322</td>\n",
       "    </tr>\n",
       "  </tbody>\n",
       "</table>\n",
       "<p>151 rows × 3 columns</p>\n",
       "</div>"
      ],
      "text/plain": [
       "           head     relation                 tail\n",
       "8037    DB00343    interacts              DB00026\n",
       "10406   DB00343    interacts              DB00284\n",
       "20712   DB00343    interacts              DB00186\n",
       "21883   DB00343    interacts              DB00202\n",
       "35319   DB00343    interacts              DB00289\n",
       "...         ...          ...                  ...\n",
       "555047  DB00343  in_category  Vasodilating Agents\n",
       "555048  DB00343  in_category      Vasoprotectives\n",
       "644024  DB00343     contains         DBSALT000865\n",
       "644025  DB00343     contains         DBSALT001394\n",
       "644026  DB00343     contains         DBSALT002322\n",
       "\n",
       "[151 rows x 3 columns]"
      ]
     },
     "execution_count": 8,
     "metadata": {},
     "output_type": "execute_result"
    }
   ],
   "source": [
    "train_triplets[train_triplets['head'] == common_drugs[3]]"
   ]
  },
  {
   "cell_type": "markdown",
   "metadata": {},
   "source": [
    "#### Convert datasets into Triples Factory format"
   ]
  },
  {
   "cell_type": "code",
   "execution_count": 9,
   "metadata": {},
   "outputs": [],
   "source": [
    "def convert_to_triples_factory(data):\n",
    "    tf_data = TriplesFactory.from_labeled_triples(\n",
    "      data[[\"head\", \"relation\", \"tail\"]].values,\n",
    "      create_inverse_triples=False,\n",
    "      entity_to_id=None,\n",
    "      relation_to_id=None,\n",
    "      compact_id=False \n",
    "    )\n",
    "    print(tf_data)  \n",
    "    return tf_data\n"
   ]
  },
  {
   "cell_type": "code",
   "execution_count": 10,
   "metadata": {},
   "outputs": [
    {
     "name": "stdout",
     "output_type": "stream",
     "text": [
      "TriplesFactory(num_entities=19917, num_relations=7, create_inverse_triples=False, num_triples=673847)\n",
      "TriplesFactory(num_entities=2410, num_relations=1, create_inverse_triples=False, num_triples=68534)\n",
      "TriplesFactory(num_entities=2409, num_relations=1, create_inverse_triples=False, num_triples=68536)\n"
     ]
    }
   ],
   "source": [
    "tf_train = convert_to_triples_factory(train_triplets.astype(str))\n",
    "tf_valid = convert_to_triples_factory(valid_triplets.astype(str))\n",
    "tf_test = convert_to_triples_factory(test_triplets.astype(str))\n",
    "\n"
   ]
  },
  {
   "cell_type": "code",
   "execution_count": 11,
   "metadata": {},
   "outputs": [
    {
     "name": "stderr",
     "output_type": "stream",
     "text": [
      "using automatically assigned random_state=524780834\n",
      "using automatically assigned random_state=3320739116\n",
      "using automatically assigned random_state=2025792726\n"
     ]
    }
   ],
   "source": [
    "# take just subset of data for testing\n",
    "\n",
    "train_sub, _ = tf_train.split(0.15)\n",
    "valid_sub, _ = tf_valid.split(0.15)\n",
    "test_sub, _ = tf_test.split(0.15)"
   ]
  },
  {
   "cell_type": "markdown",
   "metadata": {},
   "source": [
    "### Model"
   ]
  },
  {
   "cell_type": "code",
   "execution_count": 14,
   "metadata": {},
   "outputs": [
    {
     "data": {
      "text/plain": [
       "2"
      ]
     },
     "execution_count": 14,
     "metadata": {},
     "output_type": "execute_result"
    }
   ],
   "source": [
    "params = {'epochs': 2, \n",
    "          'optimizer': 'adam', \n",
    "          'learning_rate': 0.005,\n",
    "          'loss': 'MarginRankingLoss',\n",
    "          'batch': 512,\n",
    "          'embedding_dim': 300,\n",
    "          'margin': 0.64,\n",
    "          'evaluator': 'rankedbased',\n",
    "          'data_name': 'drugbank'\n",
    "         }\n",
    "params['epochs']"
   ]
  },
  {
   "cell_type": "code",
   "execution_count": null,
   "metadata": {},
   "outputs": [],
   "source": [
    "model_kg = KG_model('complex', tf_train, tf_valid, tf_test, 'jupyter_test')\n",
    "model_kg.set_params2(params)\n",
    "\n",
    "print('Training...')\n",
    "model_kg.train()\n",
    "print('Training done')"
   ]
  },
  {
   "cell_type": "code",
   "execution_count": 13,
   "metadata": {},
   "outputs": [
    {
     "data": {
      "text/plain": [
       "TargetPredictions(df=       tail_id     score       tail_label\n",
       "3773      3773  4.956060          DB08918\n",
       "2789      2789  4.889006          DB00871\n",
       "4389      4389  4.857689          DB11827\n",
       "2609      2609  4.852685          DB00681\n",
       "2849      2849  4.843045          DB00934\n",
       "...        ...       ...              ...\n",
       "28589    28589 -5.563348  sideeffect_5358\n",
       "10956    10956 -5.580075      disease_880\n",
       "29970    29970 -5.617806   sideeffect_680\n",
       "24460    24460 -5.680283  sideeffect_1186\n",
       "25881    25881 -5.863306  sideeffect_2614\n",
       "\n",
       "[33046 rows x 3 columns], factory=TriplesFactory(num_entities=33046, num_relations=55, create_inverse_triples=False, num_triples=2070392), target='tail', other_columns_fixed_ids=(3272, 45))"
      ]
     },
     "execution_count": 13,
     "metadata": {},
     "output_type": "execute_result"
    }
   ],
   "source": [
    "# model_kg.trained_model.metric_results.to_df()\n",
    "\n",
    "head = common_drugs[0]\n",
    "relation = 'interacts'\n",
    "\n",
    "pred = predict_target(\n",
    "            model = model_kg.trained_model.model, \n",
    "            head = head, \n",
    "            relation = relation, \n",
    "            triples_factory = model_kg.trained_model.training,\n",
    "        )\n",
    "pred"
   ]
  },
  {
   "cell_type": "code",
   "execution_count": 18,
   "metadata": {},
   "outputs": [
    {
     "data": {
      "text/plain": [
       "0.00031339778797701"
      ]
     },
     "execution_count": 18,
     "metadata": {},
     "output_type": "execute_result"
    }
   ],
   "source": [
    "model_kg.trained_model.get_metric('mrr')"
   ]
  },
  {
   "cell_type": "code",
   "execution_count": 28,
   "metadata": {},
   "outputs": [
    {
     "data": {
      "text/html": [
       "<div>\n",
       "<style scoped>\n",
       "    .dataframe tbody tr th:only-of-type {\n",
       "        vertical-align: middle;\n",
       "    }\n",
       "\n",
       "    .dataframe tbody tr th {\n",
       "        vertical-align: top;\n",
       "    }\n",
       "\n",
       "    .dataframe thead th {\n",
       "        text-align: right;\n",
       "    }\n",
       "</style>\n",
       "<table border=\"1\" class=\"dataframe\">\n",
       "  <thead>\n",
       "    <tr style=\"text-align: right;\">\n",
       "      <th></th>\n",
       "      <th>hits@10</th>\n",
       "      <th>mrr</th>\n",
       "    </tr>\n",
       "  </thead>\n",
       "  <tbody>\n",
       "    <tr>\n",
       "      <th>0</th>\n",
       "      <td>0.000322</td>\n",
       "      <td>0.000313</td>\n",
       "    </tr>\n",
       "  </tbody>\n",
       "</table>\n",
       "</div>"
      ],
      "text/plain": [
       "    hits@10       mrr\n",
       "0  0.000322  0.000313"
      ]
     },
     "execution_count": 28,
     "metadata": {},
     "output_type": "execute_result"
    }
   ],
   "source": [
    "metrices = dict()\n",
    "metrices['hits@10'] = [model_kg.trained_model.get_metric('hits@10')]\n",
    "metrices['mrr'] = [model_kg.trained_model.get_metric('mrr')]\n",
    "\n",
    "df_result = pd.DataFrame(metrices)\n"
   ]
  },
  {
   "cell_type": "code",
   "execution_count": 25,
   "metadata": {},
   "outputs": [
    {
     "name": "stderr",
     "output_type": "stream",
     "text": [
      "INFO:pykeen.trackers.file:Logging to file:///work/models/result_tracker.json.\n"
     ]
    }
   ],
   "source": [
    "from pykeen.trackers import JSONResultTracker\n",
    "result_tracker = JSONResultTracker('result_tracker.json')"
   ]
  },
  {
   "cell_type": "code",
   "execution_count": 34,
   "metadata": {},
   "outputs": [
    {
     "name": "stderr",
     "output_type": "stream",
     "text": [
      "WARNING:pykeen.pipeline.api:No random seed is specified. Setting to 2148720106.\n",
      "INFO:pykeen.trackers.file:Logging to file:///work/models/test-tracker.csv.csv.\n"
     ]
    },
    {
     "ename": "TypeError",
     "evalue": "'metrics' is an invalid keyword argument for this function",
     "output_type": "error",
     "traceback": [
      "\u001b[0;31m---------------------------------------------------------------------------\u001b[0m",
      "\u001b[0;31mTypeError\u001b[0m                                 Traceback (most recent call last)",
      "Cell \u001b[0;32mIn[34], line 1\u001b[0m\n\u001b[0;32m----> 1\u001b[0m result \u001b[38;5;241m=\u001b[39m \u001b[43mpipeline\u001b[49m\u001b[43m(\u001b[49m\n\u001b[1;32m      2\u001b[0m \u001b[43m    \u001b[49m\u001b[43mtraining\u001b[49m\u001b[38;5;241;43m=\u001b[39;49m\u001b[43mtrain_sub\u001b[49m\u001b[43m,\u001b[49m\n\u001b[1;32m      3\u001b[0m \u001b[43m    \u001b[49m\u001b[43mtesting\u001b[49m\u001b[38;5;241;43m=\u001b[39;49m\u001b[43mtest_sub\u001b[49m\u001b[43m,\u001b[49m\n\u001b[1;32m      4\u001b[0m \u001b[43m    \u001b[49m\u001b[43mvalidation\u001b[49m\u001b[38;5;241;43m=\u001b[39;49m\u001b[43mvalid_sub\u001b[49m\u001b[43m,\u001b[49m\n\u001b[1;32m      5\u001b[0m \u001b[43m    \u001b[49m\u001b[43mmodel\u001b[49m\u001b[38;5;241;43m=\u001b[39;49m\u001b[38;5;124;43m'\u001b[39;49m\u001b[38;5;124;43mTransE\u001b[39;49m\u001b[38;5;124;43m'\u001b[39;49m\u001b[43m,\u001b[49m\n\u001b[1;32m      6\u001b[0m \u001b[43m    \u001b[49m\u001b[43mepochs\u001b[49m\u001b[38;5;241;43m=\u001b[39;49m\u001b[38;5;241;43m10\u001b[39;49m\u001b[43m,\u001b[49m\n\u001b[1;32m      7\u001b[0m \u001b[43m    \u001b[49m\u001b[43mresult_tracker\u001b[49m\u001b[38;5;241;43m=\u001b[39;49m\u001b[38;5;124;43m'\u001b[39;49m\u001b[38;5;124;43mcsv\u001b[39;49m\u001b[38;5;124;43m'\u001b[39;49m\u001b[43m,\u001b[49m\n\u001b[1;32m      8\u001b[0m \u001b[43m    \u001b[49m\u001b[43mresult_tracker_kwargs\u001b[49m\u001b[38;5;241;43m=\u001b[39;49m\u001b[38;5;28;43mdict\u001b[39;49m\u001b[43m(\u001b[49m\n\u001b[1;32m      9\u001b[0m \u001b[43m        \u001b[49m\u001b[43mname\u001b[49m\u001b[38;5;241;43m=\u001b[39;49m\u001b[38;5;124;43m'\u001b[39;49m\u001b[38;5;124;43m/work/models/test-tracker.csv\u001b[39;49m\u001b[38;5;124;43m'\u001b[39;49m\u001b[43m,\u001b[49m\n\u001b[1;32m     10\u001b[0m \u001b[43m        \u001b[49m\u001b[43mmetrics\u001b[49m\u001b[38;5;241;43m=\u001b[39;49m\u001b[38;5;124;43m'\u001b[39;49m\u001b[38;5;124;43mhits@10\u001b[39;49m\u001b[38;5;124;43m'\u001b[39;49m\n\u001b[1;32m     11\u001b[0m \u001b[43m    \u001b[49m\u001b[43m)\u001b[49m\u001b[43m,\u001b[49m\n\u001b[1;32m     12\u001b[0m \u001b[43m)\u001b[49m\n\u001b[1;32m     14\u001b[0m \u001b[38;5;66;03m# result = pipeline(\u001b[39;00m\n\u001b[1;32m     15\u001b[0m \u001b[38;5;66;03m#     training=train_sub,\u001b[39;00m\n\u001b[1;32m     16\u001b[0m \u001b[38;5;66;03m#     testing=test_sub,\u001b[39;00m\n\u001b[0;32m   (...)\u001b[0m\n\u001b[1;32m     28\u001b[0m \u001b[38;5;66;03m#     epochs=5\u001b[39;00m\n\u001b[1;32m     29\u001b[0m \u001b[38;5;66;03m# )\u001b[39;00m\n",
      "File \u001b[0;32m/usr/local/lib/python3.8/dist-packages/pykeen/pipeline/api.py:1489\u001b[0m, in \u001b[0;36mpipeline\u001b[0;34m(dataset, dataset_kwargs, training, testing, validation, evaluation_entity_whitelist, evaluation_relation_whitelist, model, model_kwargs, interaction, interaction_kwargs, dimensions, loss, loss_kwargs, regularizer, regularizer_kwargs, optimizer, optimizer_kwargs, clear_optimizer, lr_scheduler, lr_scheduler_kwargs, training_loop, training_loop_kwargs, negative_sampler, negative_sampler_kwargs, epochs, training_kwargs, stopper, stopper_kwargs, evaluator, evaluator_kwargs, evaluation_kwargs, result_tracker, result_tracker_kwargs, metadata, device, random_seed, use_testing_data, evaluation_fallback, filter_validation_when_testing, use_tqdm)\u001b[0m\n\u001b[1;32m   1484\u001b[0m _random_seed, clear_optimizer \u001b[38;5;241m=\u001b[39m _handle_random_seed(\n\u001b[1;32m   1485\u001b[0m     training_kwargs\u001b[38;5;241m=\u001b[39mtraining_kwargs, random_seed\u001b[38;5;241m=\u001b[39mrandom_seed, clear_optimizer\u001b[38;5;241m=\u001b[39mclear_optimizer\n\u001b[1;32m   1486\u001b[0m )\n\u001b[1;32m   1487\u001b[0m set_random_seed(_random_seed)\n\u001b[0;32m-> 1489\u001b[0m _result_tracker \u001b[38;5;241m=\u001b[39m \u001b[43mresolve_result_trackers\u001b[49m\u001b[43m(\u001b[49m\u001b[43mresult_tracker\u001b[49m\u001b[43m,\u001b[49m\u001b[43m \u001b[49m\u001b[43mresult_tracker_kwargs\u001b[49m\u001b[43m)\u001b[49m\n\u001b[1;32m   1491\u001b[0m \u001b[38;5;28;01mif\u001b[39;00m \u001b[38;5;129;01mnot\u001b[39;00m metadata:\n\u001b[1;32m   1492\u001b[0m     metadata \u001b[38;5;241m=\u001b[39m {}\n",
      "File \u001b[0;32m/usr/local/lib/python3.8/dist-packages/pykeen/trackers/__init__.py:58\u001b[0m, in \u001b[0;36mresolve_result_trackers\u001b[0;34m(result_tracker, result_tracker_kwargs)\u001b[0m\n\u001b[1;32m     56\u001b[0m \u001b[38;5;28;01mif\u001b[39;00m result_tracker \u001b[38;5;129;01mis\u001b[39;00m \u001b[38;5;28;01mNone\u001b[39;00m:\n\u001b[1;32m     57\u001b[0m     result_tracker \u001b[38;5;241m=\u001b[39m []\n\u001b[0;32m---> 58\u001b[0m trackers \u001b[38;5;241m=\u001b[39m \u001b[43mtracker_resolver\u001b[49m\u001b[38;5;241;43m.\u001b[39;49m\u001b[43mmake_many\u001b[49m\u001b[43m(\u001b[49m\u001b[43mqueries\u001b[49m\u001b[38;5;241;43m=\u001b[39;49m\u001b[43mresult_tracker\u001b[49m\u001b[43m,\u001b[49m\u001b[43m \u001b[49m\u001b[43mkwargs\u001b[49m\u001b[38;5;241;43m=\u001b[39;49m\u001b[43mresult_tracker_kwargs\u001b[49m\u001b[43m)\u001b[49m\n\u001b[1;32m     59\u001b[0m \u001b[38;5;66;03m# always add a Python result tracker for storing the configuration\u001b[39;00m\n\u001b[1;32m     60\u001b[0m trackers\u001b[38;5;241m.\u001b[39mappend(PythonResultTracker(store_metrics\u001b[38;5;241m=\u001b[39m\u001b[38;5;28;01mFalse\u001b[39;00m))\n",
      "File \u001b[0;32m/usr/local/lib/python3.8/dist-packages/class_resolver/api.py:345\u001b[0m, in \u001b[0;36mClassResolver.make_many\u001b[0;34m(self, queries, kwargs, **common_kwargs)\u001b[0m\n\u001b[1;32m    343\u001b[0m \u001b[38;5;28;01melif\u001b[39;00m \u001b[38;5;28mlen\u001b[39m(_kwargs_list) \u001b[38;5;241m!=\u001b[39m \u001b[38;5;28mlen\u001b[39m(_query_list):\n\u001b[1;32m    344\u001b[0m     \u001b[38;5;28;01mraise\u001b[39;00m \u001b[38;5;167;01mValueError\u001b[39;00m(\u001b[38;5;124m\"\u001b[39m\u001b[38;5;124mMismatch in number number of queries and kwargs\u001b[39m\u001b[38;5;124m\"\u001b[39m)\n\u001b[0;32m--> 345\u001b[0m \u001b[38;5;28;01mreturn\u001b[39;00m [\n\u001b[1;32m    346\u001b[0m     \u001b[38;5;28mself\u001b[39m\u001b[38;5;241m.\u001b[39mmake(query\u001b[38;5;241m=\u001b[39m_result_tracker, pos_kwargs\u001b[38;5;241m=\u001b[39m_result_tracker_kwargs, \u001b[38;5;241m*\u001b[39m\u001b[38;5;241m*\u001b[39mcommon_kwargs)\n\u001b[1;32m    347\u001b[0m     \u001b[38;5;28;01mfor\u001b[39;00m _result_tracker, _result_tracker_kwargs \u001b[38;5;129;01min\u001b[39;00m \u001b[38;5;28mzip\u001b[39m(_query_list, _kwargs_list)\n\u001b[1;32m    348\u001b[0m ]\n",
      "File \u001b[0;32m/usr/local/lib/python3.8/dist-packages/class_resolver/api.py:346\u001b[0m, in \u001b[0;36m<listcomp>\u001b[0;34m(.0)\u001b[0m\n\u001b[1;32m    343\u001b[0m \u001b[38;5;28;01melif\u001b[39;00m \u001b[38;5;28mlen\u001b[39m(_kwargs_list) \u001b[38;5;241m!=\u001b[39m \u001b[38;5;28mlen\u001b[39m(_query_list):\n\u001b[1;32m    344\u001b[0m     \u001b[38;5;28;01mraise\u001b[39;00m \u001b[38;5;167;01mValueError\u001b[39;00m(\u001b[38;5;124m\"\u001b[39m\u001b[38;5;124mMismatch in number number of queries and kwargs\u001b[39m\u001b[38;5;124m\"\u001b[39m)\n\u001b[1;32m    345\u001b[0m \u001b[38;5;28;01mreturn\u001b[39;00m [\n\u001b[0;32m--> 346\u001b[0m     \u001b[38;5;28;43mself\u001b[39;49m\u001b[38;5;241;43m.\u001b[39;49m\u001b[43mmake\u001b[49m\u001b[43m(\u001b[49m\u001b[43mquery\u001b[49m\u001b[38;5;241;43m=\u001b[39;49m\u001b[43m_result_tracker\u001b[49m\u001b[43m,\u001b[49m\u001b[43m \u001b[49m\u001b[43mpos_kwargs\u001b[49m\u001b[38;5;241;43m=\u001b[39;49m\u001b[43m_result_tracker_kwargs\u001b[49m\u001b[43m,\u001b[49m\u001b[43m \u001b[49m\u001b[38;5;241;43m*\u001b[39;49m\u001b[38;5;241;43m*\u001b[39;49m\u001b[43mcommon_kwargs\u001b[49m\u001b[43m)\u001b[49m\n\u001b[1;32m    347\u001b[0m     \u001b[38;5;28;01mfor\u001b[39;00m _result_tracker, _result_tracker_kwargs \u001b[38;5;129;01min\u001b[39;00m \u001b[38;5;28mzip\u001b[39m(_query_list, _kwargs_list)\n\u001b[1;32m    348\u001b[0m ]\n",
      "File \u001b[0;32m/usr/local/lib/python3.8/dist-packages/class_resolver/api.py:210\u001b[0m, in \u001b[0;36mClassResolver.make\u001b[0;34m(self, query, pos_kwargs, **kwargs)\u001b[0m\n\u001b[1;32m    208\u001b[0m         \u001b[38;5;28;01mif\u001b[39;00m \u001b[38;5;28many\u001b[39m(text \u001b[38;5;129;01min\u001b[39;00m e\u001b[38;5;241m.\u001b[39margs[\u001b[38;5;241m0\u001b[39m] \u001b[38;5;28;01mfor\u001b[39;00m text \u001b[38;5;129;01min\u001b[39;00m MISSING_ARGS):\n\u001b[1;32m    209\u001b[0m             \u001b[38;5;28;01mraise\u001b[39;00m UnexpectedKeywordError(\u001b[38;5;28mcls\u001b[39m) \u001b[38;5;28;01mfrom\u001b[39;00m \u001b[38;5;28;01mNone\u001b[39;00m\n\u001b[0;32m--> 210\u001b[0m         \u001b[38;5;28;01mraise\u001b[39;00m e\n\u001b[1;32m    212\u001b[0m \u001b[38;5;66;03m# An instance was passed, and it will go through without modification.\u001b[39;00m\n\u001b[1;32m    213\u001b[0m \u001b[38;5;28;01mreturn\u001b[39;00m query\n",
      "File \u001b[0;32m/usr/local/lib/python3.8/dist-packages/class_resolver/api.py:204\u001b[0m, in \u001b[0;36mClassResolver.make\u001b[0;34m(self, query, pos_kwargs, **kwargs)\u001b[0m\n\u001b[1;32m    202\u001b[0m \u001b[38;5;28mcls\u001b[39m: Type[X] \u001b[38;5;241m=\u001b[39m \u001b[38;5;28mself\u001b[39m\u001b[38;5;241m.\u001b[39mlookup(query)\n\u001b[1;32m    203\u001b[0m \u001b[38;5;28;01mtry\u001b[39;00m:\n\u001b[0;32m--> 204\u001b[0m     \u001b[38;5;28;01mreturn\u001b[39;00m \u001b[38;5;28;43mcls\u001b[39;49m\u001b[43m(\u001b[49m\u001b[38;5;241;43m*\u001b[39;49m\u001b[38;5;241;43m*\u001b[39;49m\u001b[43m(\u001b[49m\u001b[43mpos_kwargs\u001b[49m\u001b[43m \u001b[49m\u001b[38;5;129;43;01mor\u001b[39;49;00m\u001b[43m \u001b[49m\u001b[43m{\u001b[49m\u001b[43m}\u001b[49m\u001b[43m)\u001b[49m\u001b[43m,\u001b[49m\u001b[43m \u001b[49m\u001b[38;5;241;43m*\u001b[39;49m\u001b[38;5;241;43m*\u001b[39;49m\u001b[43mkwargs\u001b[49m\u001b[43m)\u001b[49m  \u001b[38;5;66;03m# type: ignore\u001b[39;00m\n\u001b[1;32m    205\u001b[0m \u001b[38;5;28;01mexcept\u001b[39;00m \u001b[38;5;167;01mTypeError\u001b[39;00m \u001b[38;5;28;01mas\u001b[39;00m e:\n\u001b[1;32m    206\u001b[0m     \u001b[38;5;28;01mif\u001b[39;00m \u001b[38;5;124m\"\u001b[39m\u001b[38;5;124mrequired keyword-only argument\u001b[39m\u001b[38;5;124m\"\u001b[39m \u001b[38;5;129;01min\u001b[39;00m e\u001b[38;5;241m.\u001b[39margs[\u001b[38;5;241m0\u001b[39m]:\n",
      "File \u001b[0;32m/usr/local/lib/python3.8/dist-packages/pykeen/trackers/file.py:102\u001b[0m, in \u001b[0;36mCSVResultTracker.__init__\u001b[0;34m(self, path, name, **kwargs)\u001b[0m\n\u001b[1;32m     92\u001b[0m \u001b[38;5;250m\u001b[39m\u001b[38;5;124;03m\"\"\"Initialize the tracker.\u001b[39;00m\n\u001b[1;32m     93\u001b[0m \n\u001b[1;32m     94\u001b[0m \u001b[38;5;124;03m:param path:\u001b[39;00m\n\u001b[0;32m   (...)\u001b[0m\n\u001b[1;32m     99\u001b[0m \u001b[38;5;124;03m    Additional keyword based arguments forwarded to csv.writer.\u001b[39;00m\n\u001b[1;32m    100\u001b[0m \u001b[38;5;124;03m\"\"\"\u001b[39;00m\n\u001b[1;32m    101\u001b[0m \u001b[38;5;28msuper\u001b[39m()\u001b[38;5;241m.\u001b[39m\u001b[38;5;21m__init__\u001b[39m(path\u001b[38;5;241m=\u001b[39mpath, name\u001b[38;5;241m=\u001b[39mname)\n\u001b[0;32m--> 102\u001b[0m \u001b[38;5;28mself\u001b[39m\u001b[38;5;241m.\u001b[39mcsv_writer \u001b[38;5;241m=\u001b[39m \u001b[43mcsv\u001b[49m\u001b[38;5;241;43m.\u001b[39;49m\u001b[43mwriter\u001b[49m\u001b[43m(\u001b[49m\u001b[38;5;28;43mself\u001b[39;49m\u001b[38;5;241;43m.\u001b[39;49m\u001b[43mfile\u001b[49m\u001b[43m,\u001b[49m\u001b[43m \u001b[49m\u001b[38;5;241;43m*\u001b[39;49m\u001b[38;5;241;43m*\u001b[39;49m\u001b[43mkwargs\u001b[49m\u001b[43m)\u001b[49m\n",
      "\u001b[0;31mTypeError\u001b[0m: 'metrics' is an invalid keyword argument for this function"
     ]
    }
   ],
   "source": [
    "result = pipeline(\n",
    "    training=train_sub,\n",
    "    testing=test_sub,\n",
    "    validation=valid_sub,\n",
    "    model='TransE',\n",
    "    epochs=10,\n",
    ")\n",
    "\n",
    "# result = pipeline(\n",
    "#     training=train_sub,\n",
    "#     testing=test_sub,\n",
    "#     validation=valid_sub,\n",
    "#     model='ConvKB',\n",
    "#     epochs=1\n",
    "# )\n",
    "# super pomala evaluace\n",
    "\n",
    "# result = pipeline(\n",
    "#     training=train_sub,\n",
    "#     testing=test_sub,\n",
    "#     validation=valid_sub,\n",
    "#     model='ConvE',\n",
    "#     epochs=5\n",
    "# )"
   ]
  },
  {
   "cell_type": "code",
   "execution_count": 19,
   "metadata": {},
   "outputs": [
    {
     "data": {
      "text/plain": [
       "<Axes: title={'center': 'Losses Plot'}, xlabel='Epoch', ylabel='marginranking Loss'>"
      ]
     },
     "execution_count": 19,
     "metadata": {},
     "output_type": "execute_result"
    },
    {
     "data": {
      "image/png": "[encoded data removed]",
      "text/plain": [
       "<Figure size 640x480 with 1 Axes>"
      ]
     },
     "metadata": {},
     "output_type": "display_data"
    }
   ],
   "source": [
    "result.plot_losses()"
   ]
  },
  {
   "cell_type": "code",
   "execution_count": 20,
   "metadata": {},
   "outputs": [
    {
     "data": {
      "text/plain": [
       "0.00030339805825242716"
      ]
     },
     "execution_count": 20,
     "metadata": {},
     "output_type": "execute_result"
    }
   ],
   "source": [
    "hits_at_10 = result.get_metric('hits@10')\n",
    "hits_at_10"
   ]
  },
  {
   "cell_type": "code",
   "execution_count": null,
   "metadata": {},
   "outputs": [],
   "source": [
    "result.metric_results.to_df()"
   ]
  },
  {
   "cell_type": "code",
   "execution_count": 30,
   "metadata": {},
   "outputs": [
    {
     "data": {
      "text/html": [
       "<div>\n",
       "<style scoped>\n",
       "    .dataframe tbody tr th:only-of-type {\n",
       "        vertical-align: middle;\n",
       "    }\n",
       "\n",
       "    .dataframe tbody tr th {\n",
       "        vertical-align: top;\n",
       "    }\n",
       "\n",
       "    .dataframe thead th {\n",
       "        text-align: right;\n",
       "    }\n",
       "</style>\n",
       "<table border=\"1\" class=\"dataframe\">\n",
       "  <thead>\n",
       "    <tr style=\"text-align: right;\">\n",
       "      <th></th>\n",
       "      <th>tail_id</th>\n",
       "      <th>score</th>\n",
       "      <th>tail_label</th>\n",
       "      <th>in_validation</th>\n",
       "      <th>in_testing</th>\n",
       "    </tr>\n",
       "  </thead>\n",
       "  <tbody>\n",
       "    <tr>\n",
       "      <th>2237</th>\n",
       "      <td>2237</td>\n",
       "      <td>1.006317</td>\n",
       "      <td>DB00292</td>\n",
       "      <td>False</td>\n",
       "      <td>False</td>\n",
       "    </tr>\n",
       "    <tr>\n",
       "      <th>3070</th>\n",
       "      <td>3070</td>\n",
       "      <td>0.991285</td>\n",
       "      <td>DB01167</td>\n",
       "      <td>False</td>\n",
       "      <td>False</td>\n",
       "    </tr>\n",
       "    <tr>\n",
       "      <th>3899</th>\n",
       "      <td>3899</td>\n",
       "      <td>0.981812</td>\n",
       "      <td>DB09123</td>\n",
       "      <td>False</td>\n",
       "      <td>False</td>\n",
       "    </tr>\n",
       "    <tr>\n",
       "      <th>2571</th>\n",
       "      <td>2571</td>\n",
       "      <td>0.977407</td>\n",
       "      <td>DB00642</td>\n",
       "      <td>False</td>\n",
       "      <td>False</td>\n",
       "    </tr>\n",
       "    <tr>\n",
       "      <th>2151</th>\n",
       "      <td>2151</td>\n",
       "      <td>0.951434</td>\n",
       "      <td>DB00203</td>\n",
       "      <td>False</td>\n",
       "      <td>False</td>\n",
       "    </tr>\n",
       "    <tr>\n",
       "      <th>...</th>\n",
       "      <td>...</td>\n",
       "      <td>...</td>\n",
       "      <td>...</td>\n",
       "      <td>...</td>\n",
       "      <td>...</td>\n",
       "    </tr>\n",
       "    <tr>\n",
       "      <th>3955</th>\n",
       "      <td>3955</td>\n",
       "      <td>0.777734</td>\n",
       "      <td>DB09255</td>\n",
       "      <td>False</td>\n",
       "      <td>False</td>\n",
       "    </tr>\n",
       "    <tr>\n",
       "      <th>2675</th>\n",
       "      <td>2675</td>\n",
       "      <td>0.775928</td>\n",
       "      <td>DB00749</td>\n",
       "      <td>False</td>\n",
       "      <td>False</td>\n",
       "    </tr>\n",
       "    <tr>\n",
       "      <th>2956</th>\n",
       "      <td>2956</td>\n",
       "      <td>0.773715</td>\n",
       "      <td>DB01046</td>\n",
       "      <td>False</td>\n",
       "      <td>False</td>\n",
       "    </tr>\n",
       "    <tr>\n",
       "      <th>4510</th>\n",
       "      <td>4510</td>\n",
       "      <td>0.773324</td>\n",
       "      <td>DB12825</td>\n",
       "      <td>False</td>\n",
       "      <td>False</td>\n",
       "    </tr>\n",
       "    <tr>\n",
       "      <th>3562</th>\n",
       "      <td>3562</td>\n",
       "      <td>0.772406</td>\n",
       "      <td>DB06366</td>\n",
       "      <td>False</td>\n",
       "      <td>False</td>\n",
       "    </tr>\n",
       "  </tbody>\n",
       "</table>\n",
       "<p>100 rows × 5 columns</p>\n",
       "</div>"
      ],
      "text/plain": [
       "      tail_id     score tail_label  in_validation  in_testing\n",
       "2237     2237  1.006317    DB00292          False       False\n",
       "3070     3070  0.991285    DB01167          False       False\n",
       "3899     3899  0.981812    DB09123          False       False\n",
       "2571     2571  0.977407    DB00642          False       False\n",
       "2151     2151  0.951434    DB00203          False       False\n",
       "...       ...       ...        ...            ...         ...\n",
       "3955     3955  0.777734    DB09255          False       False\n",
       "2675     2675  0.775928    DB00749          False       False\n",
       "2956     2956  0.773715    DB01046          False       False\n",
       "4510     4510  0.773324    DB12825          False       False\n",
       "3562     3562  0.772406    DB06366          False       False\n",
       "\n",
       "[100 rows x 5 columns]"
      ]
     },
     "execution_count": 30,
     "metadata": {},
     "output_type": "execute_result"
    }
   ],
   "source": [
    "pred = predict_target(\n",
    "                model = result.model,\n",
    "                head = common_drugs[3], \n",
    "                relation = 'interacts', \n",
    "                triples_factory = result.training,\n",
    "            )\n",
    "\n",
    "pred_filtered = pred.filter_triples(train_sub)\n",
    "pred = pred_filtered.add_membership_columns(validation=valid_sub, testing=test_sub)\n",
    "\n",
    "predicted_tails_df = pred.df.head(100)\n",
    "predicted_tails_df"
   ]
  },
  {
   "cell_type": "code",
   "execution_count": null,
   "metadata": {},
   "outputs": [],
   "source": [
    "result.save_to_directory(\"results\")"
   ]
  },
  {
   "cell_type": "markdown",
   "metadata": {},
   "source": [
    "---------------------------------------------------------------------------------------"
   ]
  },
  {
   "cell_type": "markdown",
   "metadata": {},
   "source": [
    "## KG parameters setting"
   ]
  },
  {
   "cell_type": "code",
   "execution_count": null,
   "metadata": {},
   "outputs": [],
   "source": [
    "from pykeen.datasets import Hetionet, BioKG\n",
    "dataset = Hetionet()\n",
    "dataset"
   ]
  },
  {
   "cell_type": "code",
   "execution_count": null,
   "metadata": {},
   "outputs": [],
   "source": [
    "labels = dataset.training.entity_id_to_label.values()\n",
    "for l in labels:\n",
    "    if 'Compound' in l:\n",
    "        print(l)"
   ]
  },
  {
   "cell_type": "code",
   "execution_count": null,
   "metadata": {},
   "outputs": [],
   "source": [
    "result = pipeline(\n",
    "#     dataset=BioKG,\n",
    "    training=tf_train,\n",
    "    vlidation=tf_valid,\n",
    "    model='ComplEx',\n",
    "    epochs=5,\n",
    "    evaluator=OGBEvaluator(tf_test),\n",
    "    model_kwargs={\n",
    "        'embedding_dim': 1000\n",
    "    },\n",
    "    optimizer='Adam',\n",
    "    optimizer_kwargs = dict(\n",
    "                lr = 0.001\n",
    "    ),\n",
    "    loss = 'MarginRankingLoss',\n",
    "    device='gpu'\n",
    ")"
   ]
  },
  {
   "cell_type": "code",
   "execution_count": null,
   "metadata": {},
   "outputs": [],
   "source": [
    "tf_test"
   ]
  },
  {
   "cell_type": "code",
   "execution_count": null,
   "metadata": {},
   "outputs": [],
   "source": [
    "model = result.model\n",
    "model"
   ]
  },
  {
   "cell_type": "code",
   "execution_count": null,
   "metadata": {},
   "outputs": [],
   "source": [
    "result.plot_losses()\n",
    "plt.show()"
   ]
  },
  {
   "cell_type": "code",
   "execution_count": null,
   "metadata": {},
   "outputs": [],
   "source": [
    "result.metric_results.to_df()"
   ]
  },
  {
   "cell_type": "code",
   "execution_count": null,
   "metadata": {},
   "outputs": [],
   "source": [
    "result.get_metric('mrr')"
   ]
  },
  {
   "cell_type": "code",
   "execution_count": null,
   "metadata": {},
   "outputs": [],
   "source": [
    "from pykeen.hpo import hpo_pipeline_from_config"
   ]
  },
  {
   "cell_type": "code",
   "execution_count": null,
   "metadata": {},
   "outputs": [],
   "source": [
    "config = {\n",
    "    'optuna': dict(\n",
    "        n_trials=5,\n",
    "    ),\n",
    "    'pipeline': dict(\n",
    "        training = tf_train,\n",
    "        validation = tf_valid,\n",
    "        testing = tf_test,\n",
    "        model='TransR',\n",
    "        model_kwargs_ranges=dict(\n",
    "               embedding_dim=dict(type=int, low=20, high=160, q=20),\n",
    "        ),\n",
    "        optimizer='Adam',\n",
    "        optimizer_kwargs=dict(lr=0.01),\n",
    "        loss='marginranking',\n",
    "        loss_kwargs=dict(margin=1),\n",
    "        training_loop='slcwa',\n",
    "        training_kwargs=dict(num_epochs=100, batch_size=128),\n",
    "        negative_sampler='basic',\n",
    "        negative_sampler_kwargs=dict(num_negs_per_pos=1),\n",
    "        evaluator_kwargs=dict(filtered=True),\n",
    "        evaluation_kwargs=dict(batch_size=128),\n",
    "        stopper='early',\n",
    "        stopper_kwargs=dict(frequency=5, patience=2, relative_delta=0.002),\n",
    "    )\n",
    "}"
   ]
  },
  {
   "cell_type": "code",
   "execution_count": null,
   "metadata": {},
   "outputs": [],
   "source": [
    "hpo_pipeline_result = hpo_pipeline_from_config(config)"
   ]
  },
  {
   "cell_type": "code",
   "execution_count": null,
   "metadata": {},
   "outputs": [],
   "source": [
    "hpo_pipeline_result.save_to_directory('hpo_results')"
   ]
  },
  {
   "cell_type": "code",
   "execution_count": null,
   "metadata": {},
   "outputs": [],
   "source": [
    "from pykeen.pipeline import pipeline_from_config"
   ]
  },
  {
   "cell_type": "code",
   "execution_count": null,
   "metadata": {},
   "outputs": [],
   "source": [
    "config2 = {\n",
    "    \"metadata\": {\n",
    "    \"title\": \"nations - try\",\n",
    "    \"comments\": \"comment\"\n",
    "  },\n",
    "  \"pipeline\": {\n",
    "    \"dataset\": \"nations\",\n",
    "    \"model\": \"TransE\",\n",
    "    \"model_kwargs\": {\n",
    "      \"embedding_dim\": 50,\n",
    "      \"scoring_fct_norm\": 1\n",
    "    },\n",
    "    \"optimizer\": \"SGD\",\n",
    "    \"optimizer_kwargs\": {\n",
    "      \"lr\": 0.01\n",
    "    },\n",
    "    \"loss\": \"MarginRankingLoss\",\n",
    "    \"loss_kwargs\": {\n",
    "      \"reduction\": \"mean\",\n",
    "      \"margin\": 1\n",
    "    },\n",
    "    \"training_loop\": \"slcwa\",\n",
    "    \"negative_sampler\": \"basic\",\n",
    "    \"negative_sampler_kwargs\": {\n",
    "      \"num_negs_per_pos\": 1\n",
    "    },\n",
    "    \"training_kwargs\": {\n",
    "      \"num_epochs\": 100,\n",
    "      \"batch_size\": 32\n",
    "    },\n",
    "    \"evaluator_kwargs\": {\n",
    "      \"filtered\": True\n",
    "    }\n",
    "  }\n",
    "}\n",
    "\n",
    "pipeline_result = pipeline_from_config(config2)"
   ]
  },
  {
   "cell_type": "code",
   "execution_count": null,
   "metadata": {},
   "outputs": [],
   "source": [
    "pipeline_result.metric_results.to_df()"
   ]
  },
  {
   "cell_type": "markdown",
   "metadata": {},
   "source": [
    "## Result tracking"
   ]
  },
  {
   "cell_type": "code",
   "execution_count": 1,
   "metadata": {},
   "outputs": [
    {
     "name": "stderr",
     "output_type": "stream",
     "text": [
      "\u001b[34m\u001b[1mwandb\u001b[0m: Currently logged in as: \u001b[33m487616\u001b[0m. Use \u001b[1m`wandb login --relogin`\u001b[0m to force relogin\n"
     ]
    },
    {
     "data": {
      "text/plain": [
       "True"
      ]
     },
     "execution_count": 1,
     "metadata": {},
     "output_type": "execute_result"
    }
   ],
   "source": [
    "import wandb\n",
    "import os\n",
    "\n",
    "os.environ[\"WANDB_API_KEY\"] = \"a0dcca4cf18920b5c23ec09023f46ffa76caad5b\"\n",
    "wandb.login()"
   ]
  },
  {
   "cell_type": "code",
   "execution_count": 2,
   "metadata": {},
   "outputs": [
    {
     "name": "stderr",
     "output_type": "stream",
     "text": [
      "No random seed is specified. Setting to 1624369303.\n"
     ]
    },
    {
     "data": {
      "text/html": [
       "Tracking run with wandb version 0.15.11"
      ],
      "text/plain": [
       "<IPython.core.display.HTML object>"
      ]
     },
     "metadata": {},
     "output_type": "display_data"
    },
    {
     "data": {
      "text/html": [
       "Run data is saved locally in <code>/work/models/wandb/run-20230928_080837-7lq1w12b</code>"
      ],
      "text/plain": [
       "<IPython.core.display.HTML object>"
      ]
     },
     "metadata": {},
     "output_type": "display_data"
    },
    {
     "data": {
      "text/html": [
       "Syncing run <strong><a href='https://wandb.ai/487616/pykeen_project/runs/7lq1w12b' target=\"_blank\">volcanic-fire-3</a></strong> to <a href='https://wandb.ai/487616/pykeen_project' target=\"_blank\">Weights & Biases</a> (<a href='https://wandb.me/run' target=\"_blank\">docs</a>)<br/>"
      ],
      "text/plain": [
       "<IPython.core.display.HTML object>"
      ]
     },
     "metadata": {},
     "output_type": "display_data"
    },
    {
     "data": {
      "text/html": [
       " View project at <a href='https://wandb.ai/487616/pykeen_project' target=\"_blank\">https://wandb.ai/487616/pykeen_project</a>"
      ],
      "text/plain": [
       "<IPython.core.display.HTML object>"
      ]
     },
     "metadata": {},
     "output_type": "display_data"
    },
    {
     "data": {
      "text/html": [
       " View run at <a href='https://wandb.ai/487616/pykeen_project/runs/7lq1w12b' target=\"_blank\">https://wandb.ai/487616/pykeen_project/runs/7lq1w12b</a>"
      ],
      "text/plain": [
       "<IPython.core.display.HTML object>"
      ]
     },
     "metadata": {},
     "output_type": "display_data"
    },
    {
     "data": {
      "application/vnd.jupyter.widget-view+json": {
       "model_id": "37c7c703d3994beebfb4d5c5f8304aa4",
       "version_major": 2,
       "version_minor": 0
      },
      "text/plain": [
       "Training epochs on cuda:0:   0%|          | 0/5 [00:00<?, ?epoch/s]"
      ]
     },
     "metadata": {},
     "output_type": "display_data"
    },
    {
     "data": {
      "application/vnd.jupyter.widget-view+json": {
       "model_id": "",
       "version_major": 2,
       "version_minor": 0
      },
      "text/plain": [
       "Training batches on cuda:0:   0%|          | 0/34 [00:00<?, ?batch/s]"
      ]
     },
     "metadata": {},
     "output_type": "display_data"
    },
    {
     "data": {
      "application/vnd.jupyter.widget-view+json": {
       "model_id": "",
       "version_major": 2,
       "version_minor": 0
      },
      "text/plain": [
       "Training batches on cuda:0:   0%|          | 0/34 [00:00<?, ?batch/s]"
      ]
     },
     "metadata": {},
     "output_type": "display_data"
    },
    {
     "data": {
      "application/vnd.jupyter.widget-view+json": {
       "model_id": "",
       "version_major": 2,
       "version_minor": 0
      },
      "text/plain": [
       "Training batches on cuda:0:   0%|          | 0/34 [00:00<?, ?batch/s]"
      ]
     },
     "metadata": {},
     "output_type": "display_data"
    },
    {
     "data": {
      "application/vnd.jupyter.widget-view+json": {
       "model_id": "",
       "version_major": 2,
       "version_minor": 0
      },
      "text/plain": [
       "Training batches on cuda:0:   0%|          | 0/34 [00:00<?, ?batch/s]"
      ]
     },
     "metadata": {},
     "output_type": "display_data"
    },
    {
     "data": {
      "application/vnd.jupyter.widget-view+json": {
       "model_id": "",
       "version_major": 2,
       "version_minor": 0
      },
      "text/plain": [
       "Training batches on cuda:0:   0%|          | 0/34 [00:00<?, ?batch/s]"
      ]
     },
     "metadata": {},
     "output_type": "display_data"
    },
    {
     "name": "stderr",
     "output_type": "stream",
     "text": [
      "INFO:pykeen.evaluation.evaluator:Starting batch_size search for evaluation now...\n",
      "INFO:pykeen.evaluation.evaluator:Concluded batch_size search with batch_size=2048.\n"
     ]
    },
    {
     "data": {
      "application/vnd.jupyter.widget-view+json": {
       "model_id": "96d92b9adfa44c75ad3d34a4941e04e5",
       "version_major": 2,
       "version_minor": 0
      },
      "text/plain": [
       "Evaluating on cuda:0:   0%|          | 0.00/1.07k [00:00<?, ?triple/s]"
      ]
     },
     "metadata": {},
     "output_type": "display_data"
    },
    {
     "name": "stderr",
     "output_type": "stream",
     "text": [
      "INFO:pykeen.evaluation.evaluator:Evaluation took 0.06s seconds\n"
     ]
    },
    {
     "data": {
      "text/html": [
       "Waiting for W&B process to finish... <strong style=\"color:green\">(success).</strong>"
      ],
      "text/plain": [
       "<IPython.core.display.HTML object>"
      ]
     },
     "metadata": {},
     "output_type": "display_data"
    },
    {
     "data": {
      "application/vnd.jupyter.widget-view+json": {
       "model_id": "8290c3f116f1490d95e130d8a2af6ccf",
       "version_major": 2,
       "version_minor": 0
      },
      "text/plain": [
       "VBox(children=(Label(value='0.003 MB of 0.023 MB uploaded (0.000 MB deduped)\\r'), FloatProgress(value=0.146516…"
      ]
     },
     "metadata": {},
     "output_type": "display_data"
    },
    {
     "data": {
      "text/html": [
       "<style>\n",
       "    table.wandb td:nth-child(1) { padding: 0 10px; text-align: left ; width: auto;} td:nth-child(2) {text-align: left ; width: 100%}\n",
       "    .wandb-row { display: flex; flex-direction: row; flex-wrap: wrap; justify-content: flex-start; width: 100% }\n",
       "    .wandb-col { display: flex; flex-direction: column; flex-basis: 100%; flex: 1; padding: 10px; }\n",
       "    </style>\n",
       "<div class=\"wandb-row\"><div class=\"wandb-col\"><h3>Run history:</h3><br/><table class=\"wandb\"><tr><td>loss</td><td>█▇▅▃▁</td></tr><tr><td>testing.both.optimistic.adjusted_arithmetic_mean_rank</td><td>▁</td></tr><tr><td>testing.both.optimistic.adjusted_arithmetic_mean_rank_index</td><td>▁</td></tr><tr><td>testing.both.optimistic.adjusted_geometric_mean_rank_index</td><td>▁</td></tr><tr><td>testing.both.optimistic.adjusted_hits_at_k</td><td>▁</td></tr><tr><td>testing.both.optimistic.adjusted_inverse_harmonic_mean_rank</td><td>▁</td></tr><tr><td>testing.both.optimistic.arithmetic_mean_rank</td><td>▁</td></tr><tr><td>testing.both.optimistic.count</td><td>▁</td></tr><tr><td>testing.both.optimistic.geometric_mean_rank</td><td>▁</td></tr><tr><td>testing.both.optimistic.harmonic_mean_rank</td><td>▁</td></tr><tr><td>testing.both.optimistic.hits_at_1</td><td>▁</td></tr><tr><td>testing.both.optimistic.hits_at_10</td><td>▁</td></tr><tr><td>testing.both.optimistic.hits_at_3</td><td>▁</td></tr><tr><td>testing.both.optimistic.hits_at_5</td><td>▁</td></tr><tr><td>testing.both.optimistic.inverse_arithmetic_mean_rank</td><td>▁</td></tr><tr><td>testing.both.optimistic.inverse_geometric_mean_rank</td><td>▁</td></tr><tr><td>testing.both.optimistic.inverse_harmonic_mean_rank</td><td>▁</td></tr><tr><td>testing.both.optimistic.inverse_median_rank</td><td>▁</td></tr><tr><td>testing.both.optimistic.median_absolute_deviation</td><td>▁</td></tr><tr><td>testing.both.optimistic.median_rank</td><td>▁</td></tr><tr><td>testing.both.optimistic.standard_deviation</td><td>▁</td></tr><tr><td>testing.both.optimistic.variance</td><td>▁</td></tr><tr><td>testing.both.optimistic.z_arithmetic_mean_rank</td><td>▁</td></tr><tr><td>testing.both.optimistic.z_geometric_mean_rank</td><td>▁</td></tr><tr><td>testing.both.optimistic.z_hits_at_k</td><td>▁</td></tr><tr><td>testing.both.optimistic.z_inverse_harmonic_mean_rank</td><td>▁</td></tr><tr><td>testing.both.pessimistic.adjusted_arithmetic_mean_rank</td><td>▁</td></tr><tr><td>testing.both.pessimistic.adjusted_arithmetic_mean_rank_index</td><td>▁</td></tr><tr><td>testing.both.pessimistic.adjusted_geometric_mean_rank_index</td><td>▁</td></tr><tr><td>testing.both.pessimistic.adjusted_hits_at_k</td><td>▁</td></tr><tr><td>testing.both.pessimistic.adjusted_inverse_harmonic_mean_rank</td><td>▁</td></tr><tr><td>testing.both.pessimistic.arithmetic_mean_rank</td><td>▁</td></tr><tr><td>testing.both.pessimistic.count</td><td>▁</td></tr><tr><td>testing.both.pessimistic.geometric_mean_rank</td><td>▁</td></tr><tr><td>testing.both.pessimistic.harmonic_mean_rank</td><td>▁</td></tr><tr><td>testing.both.pessimistic.hits_at_1</td><td>▁</td></tr><tr><td>testing.both.pessimistic.hits_at_10</td><td>▁</td></tr><tr><td>testing.both.pessimistic.hits_at_3</td><td>▁</td></tr><tr><td>testing.both.pessimistic.hits_at_5</td><td>▁</td></tr><tr><td>testing.both.pessimistic.inverse_arithmetic_mean_rank</td><td>▁</td></tr><tr><td>testing.both.pessimistic.inverse_geometric_mean_rank</td><td>▁</td></tr><tr><td>testing.both.pessimistic.inverse_harmonic_mean_rank</td><td>▁</td></tr><tr><td>testing.both.pessimistic.inverse_median_rank</td><td>▁</td></tr><tr><td>testing.both.pessimistic.median_absolute_deviation</td><td>▁</td></tr><tr><td>testing.both.pessimistic.median_rank</td><td>▁</td></tr><tr><td>testing.both.pessimistic.standard_deviation</td><td>▁</td></tr><tr><td>testing.both.pessimistic.variance</td><td>▁</td></tr><tr><td>testing.both.pessimistic.z_arithmetic_mean_rank</td><td>▁</td></tr><tr><td>testing.both.pessimistic.z_geometric_mean_rank</td><td>▁</td></tr><tr><td>testing.both.pessimistic.z_hits_at_k</td><td>▁</td></tr><tr><td>testing.both.pessimistic.z_inverse_harmonic_mean_rank</td><td>▁</td></tr><tr><td>testing.both.realistic.adjusted_arithmetic_mean_rank</td><td>▁</td></tr><tr><td>testing.both.realistic.adjusted_arithmetic_mean_rank_index</td><td>▁</td></tr><tr><td>testing.both.realistic.adjusted_geometric_mean_rank_index</td><td>▁</td></tr><tr><td>testing.both.realistic.adjusted_hits_at_k</td><td>▁</td></tr><tr><td>testing.both.realistic.adjusted_inverse_harmonic_mean_rank</td><td>▁</td></tr><tr><td>testing.both.realistic.arithmetic_mean_rank</td><td>▁</td></tr><tr><td>testing.both.realistic.count</td><td>▁</td></tr><tr><td>testing.both.realistic.geometric_mean_rank</td><td>▁</td></tr><tr><td>testing.both.realistic.harmonic_mean_rank</td><td>▁</td></tr><tr><td>testing.both.realistic.hits_at_1</td><td>▁</td></tr><tr><td>testing.both.realistic.hits_at_10</td><td>▁</td></tr><tr><td>testing.both.realistic.hits_at_3</td><td>▁</td></tr><tr><td>testing.both.realistic.hits_at_5</td><td>▁</td></tr><tr><td>testing.both.realistic.inverse_arithmetic_mean_rank</td><td>▁</td></tr><tr><td>testing.both.realistic.inverse_geometric_mean_rank</td><td>▁</td></tr><tr><td>testing.both.realistic.inverse_harmonic_mean_rank</td><td>▁</td></tr><tr><td>testing.both.realistic.inverse_median_rank</td><td>▁</td></tr><tr><td>testing.both.realistic.median_absolute_deviation</td><td>▁</td></tr><tr><td>testing.both.realistic.median_rank</td><td>▁</td></tr><tr><td>testing.both.realistic.standard_deviation</td><td>▁</td></tr><tr><td>testing.both.realistic.variance</td><td>▁</td></tr><tr><td>testing.both.realistic.z_arithmetic_mean_rank</td><td>▁</td></tr><tr><td>testing.both.realistic.z_geometric_mean_rank</td><td>▁</td></tr><tr><td>testing.both.realistic.z_hits_at_k</td><td>▁</td></tr><tr><td>testing.both.realistic.z_inverse_harmonic_mean_rank</td><td>▁</td></tr><tr><td>testing.head.optimistic.adjusted_arithmetic_mean_rank</td><td>▁</td></tr><tr><td>testing.head.optimistic.adjusted_arithmetic_mean_rank_index</td><td>▁</td></tr><tr><td>testing.head.optimistic.adjusted_geometric_mean_rank_index</td><td>▁</td></tr><tr><td>testing.head.optimistic.adjusted_hits_at_k</td><td>▁</td></tr><tr><td>testing.head.optimistic.adjusted_inverse_harmonic_mean_rank</td><td>▁</td></tr><tr><td>testing.head.optimistic.arithmetic_mean_rank</td><td>▁</td></tr><tr><td>testing.head.optimistic.count</td><td>▁</td></tr><tr><td>testing.head.optimistic.geometric_mean_rank</td><td>▁</td></tr><tr><td>testing.head.optimistic.harmonic_mean_rank</td><td>▁</td></tr><tr><td>testing.head.optimistic.hits_at_1</td><td>▁</td></tr><tr><td>testing.head.optimistic.hits_at_10</td><td>▁</td></tr><tr><td>testing.head.optimistic.hits_at_3</td><td>▁</td></tr><tr><td>testing.head.optimistic.hits_at_5</td><td>▁</td></tr><tr><td>testing.head.optimistic.inverse_arithmetic_mean_rank</td><td>▁</td></tr><tr><td>testing.head.optimistic.inverse_geometric_mean_rank</td><td>▁</td></tr><tr><td>testing.head.optimistic.inverse_harmonic_mean_rank</td><td>▁</td></tr><tr><td>testing.head.optimistic.inverse_median_rank</td><td>▁</td></tr><tr><td>testing.head.optimistic.median_absolute_deviation</td><td>▁</td></tr><tr><td>testing.head.optimistic.median_rank</td><td>▁</td></tr><tr><td>testing.head.optimistic.standard_deviation</td><td>▁</td></tr><tr><td>testing.head.optimistic.variance</td><td>▁</td></tr><tr><td>testing.head.optimistic.z_arithmetic_mean_rank</td><td>▁</td></tr><tr><td>testing.head.optimistic.z_geometric_mean_rank</td><td>▁</td></tr><tr><td>testing.head.optimistic.z_hits_at_k</td><td>▁</td></tr><tr><td>testing.head.optimistic.z_inverse_harmonic_mean_rank</td><td>▁</td></tr><tr><td>testing.head.pessimistic.adjusted_arithmetic_mean_rank</td><td>▁</td></tr><tr><td>testing.head.pessimistic.adjusted_arithmetic_mean_rank_index</td><td>▁</td></tr><tr><td>testing.head.pessimistic.adjusted_geometric_mean_rank_index</td><td>▁</td></tr><tr><td>testing.head.pessimistic.adjusted_hits_at_k</td><td>▁</td></tr><tr><td>testing.head.pessimistic.adjusted_inverse_harmonic_mean_rank</td><td>▁</td></tr><tr><td>testing.head.pessimistic.arithmetic_mean_rank</td><td>▁</td></tr><tr><td>testing.head.pessimistic.count</td><td>▁</td></tr><tr><td>testing.head.pessimistic.geometric_mean_rank</td><td>▁</td></tr><tr><td>testing.head.pessimistic.harmonic_mean_rank</td><td>▁</td></tr><tr><td>testing.head.pessimistic.hits_at_1</td><td>▁</td></tr><tr><td>testing.head.pessimistic.hits_at_10</td><td>▁</td></tr><tr><td>testing.head.pessimistic.hits_at_3</td><td>▁</td></tr><tr><td>testing.head.pessimistic.hits_at_5</td><td>▁</td></tr><tr><td>testing.head.pessimistic.inverse_arithmetic_mean_rank</td><td>▁</td></tr><tr><td>testing.head.pessimistic.inverse_geometric_mean_rank</td><td>▁</td></tr><tr><td>testing.head.pessimistic.inverse_harmonic_mean_rank</td><td>▁</td></tr><tr><td>testing.head.pessimistic.inverse_median_rank</td><td>▁</td></tr><tr><td>testing.head.pessimistic.median_absolute_deviation</td><td>▁</td></tr><tr><td>testing.head.pessimistic.median_rank</td><td>▁</td></tr><tr><td>testing.head.pessimistic.standard_deviation</td><td>▁</td></tr><tr><td>testing.head.pessimistic.variance</td><td>▁</td></tr><tr><td>testing.head.pessimistic.z_arithmetic_mean_rank</td><td>▁</td></tr><tr><td>testing.head.pessimistic.z_geometric_mean_rank</td><td>▁</td></tr><tr><td>testing.head.pessimistic.z_hits_at_k</td><td>▁</td></tr><tr><td>testing.head.pessimistic.z_inverse_harmonic_mean_rank</td><td>▁</td></tr><tr><td>testing.head.realistic.adjusted_arithmetic_mean_rank</td><td>▁</td></tr><tr><td>testing.head.realistic.adjusted_arithmetic_mean_rank_index</td><td>▁</td></tr><tr><td>testing.head.realistic.adjusted_geometric_mean_rank_index</td><td>▁</td></tr><tr><td>testing.head.realistic.adjusted_hits_at_k</td><td>▁</td></tr><tr><td>testing.head.realistic.adjusted_inverse_harmonic_mean_rank</td><td>▁</td></tr><tr><td>testing.head.realistic.arithmetic_mean_rank</td><td>▁</td></tr><tr><td>testing.head.realistic.count</td><td>▁</td></tr><tr><td>testing.head.realistic.geometric_mean_rank</td><td>▁</td></tr><tr><td>testing.head.realistic.harmonic_mean_rank</td><td>▁</td></tr><tr><td>testing.head.realistic.hits_at_1</td><td>▁</td></tr><tr><td>testing.head.realistic.hits_at_10</td><td>▁</td></tr><tr><td>testing.head.realistic.hits_at_3</td><td>▁</td></tr><tr><td>testing.head.realistic.hits_at_5</td><td>▁</td></tr><tr><td>testing.head.realistic.inverse_arithmetic_mean_rank</td><td>▁</td></tr><tr><td>testing.head.realistic.inverse_geometric_mean_rank</td><td>▁</td></tr><tr><td>testing.head.realistic.inverse_harmonic_mean_rank</td><td>▁</td></tr><tr><td>testing.head.realistic.inverse_median_rank</td><td>▁</td></tr><tr><td>testing.head.realistic.median_absolute_deviation</td><td>▁</td></tr><tr><td>testing.head.realistic.median_rank</td><td>▁</td></tr><tr><td>testing.head.realistic.standard_deviation</td><td>▁</td></tr><tr><td>testing.head.realistic.variance</td><td>▁</td></tr><tr><td>testing.head.realistic.z_arithmetic_mean_rank</td><td>▁</td></tr><tr><td>testing.head.realistic.z_geometric_mean_rank</td><td>▁</td></tr><tr><td>testing.head.realistic.z_hits_at_k</td><td>▁</td></tr><tr><td>testing.head.realistic.z_inverse_harmonic_mean_rank</td><td>▁</td></tr><tr><td>testing.tail.optimistic.adjusted_arithmetic_mean_rank</td><td>▁</td></tr><tr><td>testing.tail.optimistic.adjusted_arithmetic_mean_rank_index</td><td>▁</td></tr><tr><td>testing.tail.optimistic.adjusted_geometric_mean_rank_index</td><td>▁</td></tr><tr><td>testing.tail.optimistic.adjusted_hits_at_k</td><td>▁</td></tr><tr><td>testing.tail.optimistic.adjusted_inverse_harmonic_mean_rank</td><td>▁</td></tr><tr><td>testing.tail.optimistic.arithmetic_mean_rank</td><td>▁</td></tr><tr><td>testing.tail.optimistic.count</td><td>▁</td></tr><tr><td>testing.tail.optimistic.geometric_mean_rank</td><td>▁</td></tr><tr><td>testing.tail.optimistic.harmonic_mean_rank</td><td>▁</td></tr><tr><td>testing.tail.optimistic.hits_at_1</td><td>▁</td></tr><tr><td>testing.tail.optimistic.hits_at_10</td><td>▁</td></tr><tr><td>testing.tail.optimistic.hits_at_3</td><td>▁</td></tr><tr><td>testing.tail.optimistic.hits_at_5</td><td>▁</td></tr><tr><td>testing.tail.optimistic.inverse_arithmetic_mean_rank</td><td>▁</td></tr><tr><td>testing.tail.optimistic.inverse_geometric_mean_rank</td><td>▁</td></tr><tr><td>testing.tail.optimistic.inverse_harmonic_mean_rank</td><td>▁</td></tr><tr><td>testing.tail.optimistic.inverse_median_rank</td><td>▁</td></tr><tr><td>testing.tail.optimistic.median_absolute_deviation</td><td>▁</td></tr><tr><td>testing.tail.optimistic.median_rank</td><td>▁</td></tr><tr><td>testing.tail.optimistic.standard_deviation</td><td>▁</td></tr><tr><td>testing.tail.optimistic.variance</td><td>▁</td></tr><tr><td>testing.tail.optimistic.z_arithmetic_mean_rank</td><td>▁</td></tr><tr><td>testing.tail.optimistic.z_geometric_mean_rank</td><td>▁</td></tr><tr><td>testing.tail.optimistic.z_hits_at_k</td><td>▁</td></tr><tr><td>testing.tail.optimistic.z_inverse_harmonic_mean_rank</td><td>▁</td></tr><tr><td>testing.tail.pessimistic.adjusted_arithmetic_mean_rank</td><td>▁</td></tr><tr><td>testing.tail.pessimistic.adjusted_arithmetic_mean_rank_index</td><td>▁</td></tr><tr><td>testing.tail.pessimistic.adjusted_geometric_mean_rank_index</td><td>▁</td></tr><tr><td>testing.tail.pessimistic.adjusted_hits_at_k</td><td>▁</td></tr><tr><td>testing.tail.pessimistic.adjusted_inverse_harmonic_mean_rank</td><td>▁</td></tr><tr><td>testing.tail.pessimistic.arithmetic_mean_rank</td><td>▁</td></tr><tr><td>testing.tail.pessimistic.count</td><td>▁</td></tr><tr><td>testing.tail.pessimistic.geometric_mean_rank</td><td>▁</td></tr><tr><td>testing.tail.pessimistic.harmonic_mean_rank</td><td>▁</td></tr><tr><td>testing.tail.pessimistic.hits_at_1</td><td>▁</td></tr><tr><td>testing.tail.pessimistic.hits_at_10</td><td>▁</td></tr><tr><td>testing.tail.pessimistic.hits_at_3</td><td>▁</td></tr><tr><td>testing.tail.pessimistic.hits_at_5</td><td>▁</td></tr><tr><td>testing.tail.pessimistic.inverse_arithmetic_mean_rank</td><td>▁</td></tr><tr><td>testing.tail.pessimistic.inverse_geometric_mean_rank</td><td>▁</td></tr><tr><td>testing.tail.pessimistic.inverse_harmonic_mean_rank</td><td>▁</td></tr><tr><td>testing.tail.pessimistic.inverse_median_rank</td><td>▁</td></tr><tr><td>testing.tail.pessimistic.median_absolute_deviation</td><td>▁</td></tr><tr><td>testing.tail.pessimistic.median_rank</td><td>▁</td></tr><tr><td>testing.tail.pessimistic.standard_deviation</td><td>▁</td></tr><tr><td>testing.tail.pessimistic.variance</td><td>▁</td></tr><tr><td>testing.tail.pessimistic.z_arithmetic_mean_rank</td><td>▁</td></tr><tr><td>testing.tail.pessimistic.z_geometric_mean_rank</td><td>▁</td></tr><tr><td>testing.tail.pessimistic.z_hits_at_k</td><td>▁</td></tr><tr><td>testing.tail.pessimistic.z_inverse_harmonic_mean_rank</td><td>▁</td></tr><tr><td>testing.tail.realistic.adjusted_arithmetic_mean_rank</td><td>▁</td></tr><tr><td>testing.tail.realistic.adjusted_arithmetic_mean_rank_index</td><td>▁</td></tr><tr><td>testing.tail.realistic.adjusted_geometric_mean_rank_index</td><td>▁</td></tr><tr><td>testing.tail.realistic.adjusted_hits_at_k</td><td>▁</td></tr><tr><td>testing.tail.realistic.adjusted_inverse_harmonic_mean_rank</td><td>▁</td></tr><tr><td>testing.tail.realistic.arithmetic_mean_rank</td><td>▁</td></tr><tr><td>testing.tail.realistic.count</td><td>▁</td></tr><tr><td>testing.tail.realistic.geometric_mean_rank</td><td>▁</td></tr><tr><td>testing.tail.realistic.harmonic_mean_rank</td><td>▁</td></tr><tr><td>testing.tail.realistic.hits_at_1</td><td>▁</td></tr><tr><td>testing.tail.realistic.hits_at_10</td><td>▁</td></tr><tr><td>testing.tail.realistic.hits_at_3</td><td>▁</td></tr><tr><td>testing.tail.realistic.hits_at_5</td><td>▁</td></tr><tr><td>testing.tail.realistic.inverse_arithmetic_mean_rank</td><td>▁</td></tr><tr><td>testing.tail.realistic.inverse_geometric_mean_rank</td><td>▁</td></tr><tr><td>testing.tail.realistic.inverse_harmonic_mean_rank</td><td>▁</td></tr><tr><td>testing.tail.realistic.inverse_median_rank</td><td>▁</td></tr><tr><td>testing.tail.realistic.median_absolute_deviation</td><td>▁</td></tr><tr><td>testing.tail.realistic.median_rank</td><td>▁</td></tr><tr><td>testing.tail.realistic.standard_deviation</td><td>▁</td></tr><tr><td>testing.tail.realistic.variance</td><td>▁</td></tr><tr><td>testing.tail.realistic.z_arithmetic_mean_rank</td><td>▁</td></tr><tr><td>testing.tail.realistic.z_geometric_mean_rank</td><td>▁</td></tr><tr><td>testing.tail.realistic.z_hits_at_k</td><td>▁</td></tr><tr><td>testing.tail.realistic.z_inverse_harmonic_mean_rank</td><td>▁</td></tr><tr><td>times.final_evaluation</td><td>▁</td></tr><tr><td>times.total_training</td><td>▁</td></tr></table><br/></div><div class=\"wandb-col\"><h3>Run summary:</h3><br/><table class=\"wandb\"><tr><td>loss</td><td>0.96394</td></tr><tr><td>testing.both.optimistic.adjusted_arithmetic_mean_rank</td><td>1.00471</td></tr><tr><td>testing.both.optimistic.adjusted_arithmetic_mean_rank_index</td><td>-0.00481</td></tr><tr><td>testing.both.optimistic.adjusted_geometric_mean_rank_index</td><td>-0.01434</td></tr><tr><td>testing.both.optimistic.adjusted_hits_at_k</td><td>-0.00429</td></tr><tr><td>testing.both.optimistic.adjusted_inverse_harmonic_mean_rank</td><td>-0.00301</td></tr><tr><td>testing.both.optimistic.arithmetic_mean_rank</td><td>47.94367</td></tr><tr><td>testing.both.optimistic.count</td><td>2148.0</td></tr><tr><td>testing.both.optimistic.geometric_mean_rank</td><td>36.38572</td></tr><tr><td>testing.both.optimistic.harmonic_mean_rank</td><td>19.37373</td></tr><tr><td>testing.both.optimistic.hits_at_1</td><td>0.00931</td></tr><tr><td>testing.both.optimistic.hits_at_10</td><td>0.10242</td></tr><tr><td>testing.both.optimistic.hits_at_3</td><td>0.027</td></tr><tr><td>testing.both.optimistic.hits_at_5</td><td>0.04469</td></tr><tr><td>testing.both.optimistic.inverse_arithmetic_mean_rank</td><td>0.02086</td></tr><tr><td>testing.both.optimistic.inverse_geometric_mean_rank</td><td>0.02748</td></tr><tr><td>testing.both.optimistic.inverse_harmonic_mean_rank</td><td>0.05162</td></tr><tr><td>testing.both.optimistic.inverse_median_rank</td><td>0.02128</td></tr><tr><td>testing.both.optimistic.median_absolute_deviation</td><td>35.58245</td></tr><tr><td>testing.both.optimistic.median_rank</td><td>47.0</td></tr><tr><td>testing.both.optimistic.standard_deviation</td><td>27.51766</td></tr><tr><td>testing.both.optimistic.variance</td><td>757.22169</td></tr><tr><td>testing.both.optimistic.z_arithmetic_mean_rank</td><td>-0.38126</td></tr><tr><td>testing.both.optimistic.z_geometric_mean_rank</td><td>-0.70202</td></tr><tr><td>testing.both.optimistic.z_hits_at_k</td><td>-0.57717</td></tr><tr><td>testing.both.optimistic.z_inverse_harmonic_mean_rank</td><td>-1.09839</td></tr><tr><td>testing.both.pessimistic.adjusted_arithmetic_mean_rank</td><td>1.00471</td></tr><tr><td>testing.both.pessimistic.adjusted_arithmetic_mean_rank_index</td><td>-0.00481</td></tr><tr><td>testing.both.pessimistic.adjusted_geometric_mean_rank_index</td><td>-0.01434</td></tr><tr><td>testing.both.pessimistic.adjusted_hits_at_k</td><td>-0.00429</td></tr><tr><td>testing.both.pessimistic.adjusted_inverse_harmonic_mean_rank</td><td>-0.00301</td></tr><tr><td>testing.both.pessimistic.arithmetic_mean_rank</td><td>47.94367</td></tr><tr><td>testing.both.pessimistic.count</td><td>2148.0</td></tr><tr><td>testing.both.pessimistic.geometric_mean_rank</td><td>36.38572</td></tr><tr><td>testing.both.pessimistic.harmonic_mean_rank</td><td>19.37373</td></tr><tr><td>testing.both.pessimistic.hits_at_1</td><td>0.00931</td></tr><tr><td>testing.both.pessimistic.hits_at_10</td><td>0.10242</td></tr><tr><td>testing.both.pessimistic.hits_at_3</td><td>0.027</td></tr><tr><td>testing.both.pessimistic.hits_at_5</td><td>0.04469</td></tr><tr><td>testing.both.pessimistic.inverse_arithmetic_mean_rank</td><td>0.02086</td></tr><tr><td>testing.both.pessimistic.inverse_geometric_mean_rank</td><td>0.02748</td></tr><tr><td>testing.both.pessimistic.inverse_harmonic_mean_rank</td><td>0.05162</td></tr><tr><td>testing.both.pessimistic.inverse_median_rank</td><td>0.02128</td></tr><tr><td>testing.both.pessimistic.median_absolute_deviation</td><td>35.58245</td></tr><tr><td>testing.both.pessimistic.median_rank</td><td>47.0</td></tr><tr><td>testing.both.pessimistic.standard_deviation</td><td>27.51766</td></tr><tr><td>testing.both.pessimistic.variance</td><td>757.22169</td></tr><tr><td>testing.both.pessimistic.z_arithmetic_mean_rank</td><td>-0.38126</td></tr><tr><td>testing.both.pessimistic.z_geometric_mean_rank</td><td>-0.70202</td></tr><tr><td>testing.both.pessimistic.z_hits_at_k</td><td>-0.57717</td></tr><tr><td>testing.both.pessimistic.z_inverse_harmonic_mean_rank</td><td>-1.09839</td></tr><tr><td>testing.both.realistic.adjusted_arithmetic_mean_rank</td><td>1.00471</td></tr><tr><td>testing.both.realistic.adjusted_arithmetic_mean_rank_index</td><td>-0.00481</td></tr><tr><td>testing.both.realistic.adjusted_geometric_mean_rank_index</td><td>-0.01434</td></tr><tr><td>testing.both.realistic.adjusted_hits_at_k</td><td>-0.00429</td></tr><tr><td>testing.both.realistic.adjusted_inverse_harmonic_mean_rank</td><td>-0.00301</td></tr><tr><td>testing.both.realistic.arithmetic_mean_rank</td><td>47.94367</td></tr><tr><td>testing.both.realistic.count</td><td>2148.0</td></tr><tr><td>testing.both.realistic.geometric_mean_rank</td><td>36.38573</td></tr><tr><td>testing.both.realistic.harmonic_mean_rank</td><td>19.37373</td></tr><tr><td>testing.both.realistic.hits_at_1</td><td>0.00931</td></tr><tr><td>testing.both.realistic.hits_at_10</td><td>0.10242</td></tr><tr><td>testing.both.realistic.hits_at_3</td><td>0.027</td></tr><tr><td>testing.both.realistic.hits_at_5</td><td>0.04469</td></tr><tr><td>testing.both.realistic.inverse_arithmetic_mean_rank</td><td>0.02086</td></tr><tr><td>testing.both.realistic.inverse_geometric_mean_rank</td><td>0.02748</td></tr><tr><td>testing.both.realistic.inverse_harmonic_mean_rank</td><td>0.05162</td></tr><tr><td>testing.both.realistic.inverse_median_rank</td><td>0.02128</td></tr><tr><td>testing.both.realistic.median_absolute_deviation</td><td>35.58245</td></tr><tr><td>testing.both.realistic.median_rank</td><td>47.0</td></tr><tr><td>testing.both.realistic.standard_deviation</td><td>27.51766</td></tr><tr><td>testing.both.realistic.variance</td><td>757.22174</td></tr><tr><td>testing.both.realistic.z_arithmetic_mean_rank</td><td>-0.38126</td></tr><tr><td>testing.both.realistic.z_geometric_mean_rank</td><td>-0.70203</td></tr><tr><td>testing.both.realistic.z_hits_at_k</td><td>-0.57717</td></tr><tr><td>testing.both.realistic.z_inverse_harmonic_mean_rank</td><td>-1.09839</td></tr><tr><td>testing.head.optimistic.adjusted_arithmetic_mean_rank</td><td>1.00064</td></tr><tr><td>testing.head.optimistic.adjusted_arithmetic_mean_rank_index</td><td>-0.00066</td></tr><tr><td>testing.head.optimistic.adjusted_geometric_mean_rank_index</td><td>0.0032</td></tr><tr><td>testing.head.optimistic.adjusted_hits_at_k</td><td>0.00891</td></tr><tr><td>testing.head.optimistic.adjusted_inverse_harmonic_mean_rank</td><td>9e-05</td></tr><tr><td>testing.head.optimistic.arithmetic_mean_rank</td><td>47.22346</td></tr><tr><td>testing.head.optimistic.count</td><td>1074.0</td></tr><tr><td>testing.head.optimistic.geometric_mean_rank</td><td>35.38602</td></tr><tr><td>testing.head.optimistic.harmonic_mean_rank</td><td>18.16385</td></tr><tr><td>testing.head.optimistic.hits_at_1</td><td>0.01024</td></tr><tr><td>testing.head.optimistic.hits_at_10</td><td>0.11546</td></tr><tr><td>testing.head.optimistic.hits_at_3</td><td>0.03073</td></tr><tr><td>testing.head.optimistic.hits_at_5</td><td>0.05121</td></tr><tr><td>testing.head.optimistic.inverse_arithmetic_mean_rank</td><td>0.02118</td></tr><tr><td>testing.head.optimistic.inverse_geometric_mean_rank</td><td>0.02826</td></tr><tr><td>testing.head.optimistic.inverse_harmonic_mean_rank</td><td>0.05505</td></tr><tr><td>testing.head.optimistic.inverse_median_rank</td><td>0.02128</td></tr><tr><td>testing.head.optimistic.median_absolute_deviation</td><td>35.58245</td></tr><tr><td>testing.head.optimistic.median_rank</td><td>47.0</td></tr><tr><td>testing.head.optimistic.standard_deviation</td><td>27.51668</td></tr><tr><td>testing.head.optimistic.variance</td><td>757.16794</td></tr><tr><td>testing.head.optimistic.z_arithmetic_mean_rank</td><td>-0.03672</td></tr><tr><td>testing.head.optimistic.z_geometric_mean_rank</td><td>0.11099</td></tr><tr><td>testing.head.optimistic.z_hits_at_k</td><td>0.84159</td></tr><tr><td>testing.head.optimistic.z_inverse_harmonic_mean_rank</td><td>0.02265</td></tr><tr><td>testing.head.pessimistic.adjusted_arithmetic_mean_rank</td><td>1.00064</td></tr><tr><td>testing.head.pessimistic.adjusted_arithmetic_mean_rank_index</td><td>-0.00066</td></tr><tr><td>testing.head.pessimistic.adjusted_geometric_mean_rank_index</td><td>0.0032</td></tr><tr><td>testing.head.pessimistic.adjusted_hits_at_k</td><td>0.00891</td></tr><tr><td>testing.head.pessimistic.adjusted_inverse_harmonic_mean_rank</td><td>9e-05</td></tr><tr><td>testing.head.pessimistic.arithmetic_mean_rank</td><td>47.22346</td></tr><tr><td>testing.head.pessimistic.count</td><td>1074.0</td></tr><tr><td>testing.head.pessimistic.geometric_mean_rank</td><td>35.38602</td></tr><tr><td>testing.head.pessimistic.harmonic_mean_rank</td><td>18.16385</td></tr><tr><td>testing.head.pessimistic.hits_at_1</td><td>0.01024</td></tr><tr><td>testing.head.pessimistic.hits_at_10</td><td>0.11546</td></tr><tr><td>testing.head.pessimistic.hits_at_3</td><td>0.03073</td></tr><tr><td>testing.head.pessimistic.hits_at_5</td><td>0.05121</td></tr><tr><td>testing.head.pessimistic.inverse_arithmetic_mean_rank</td><td>0.02118</td></tr><tr><td>testing.head.pessimistic.inverse_geometric_mean_rank</td><td>0.02826</td></tr><tr><td>testing.head.pessimistic.inverse_harmonic_mean_rank</td><td>0.05505</td></tr><tr><td>testing.head.pessimistic.inverse_median_rank</td><td>0.02128</td></tr><tr><td>testing.head.pessimistic.median_absolute_deviation</td><td>35.58245</td></tr><tr><td>testing.head.pessimistic.median_rank</td><td>47.0</td></tr><tr><td>testing.head.pessimistic.standard_deviation</td><td>27.51668</td></tr><tr><td>testing.head.pessimistic.variance</td><td>757.16794</td></tr><tr><td>testing.head.pessimistic.z_arithmetic_mean_rank</td><td>-0.03672</td></tr><tr><td>testing.head.pessimistic.z_geometric_mean_rank</td><td>0.11099</td></tr><tr><td>testing.head.pessimistic.z_hits_at_k</td><td>0.84159</td></tr><tr><td>testing.head.pessimistic.z_inverse_harmonic_mean_rank</td><td>0.02265</td></tr><tr><td>testing.head.realistic.adjusted_arithmetic_mean_rank</td><td>1.00064</td></tr><tr><td>testing.head.realistic.adjusted_arithmetic_mean_rank_index</td><td>-0.00066</td></tr><tr><td>testing.head.realistic.adjusted_geometric_mean_rank_index</td><td>0.0032</td></tr><tr><td>testing.head.realistic.adjusted_hits_at_k</td><td>0.00891</td></tr><tr><td>testing.head.realistic.adjusted_inverse_harmonic_mean_rank</td><td>9e-05</td></tr><tr><td>testing.head.realistic.arithmetic_mean_rank</td><td>47.22346</td></tr><tr><td>testing.head.realistic.count</td><td>1074.0</td></tr><tr><td>testing.head.realistic.geometric_mean_rank</td><td>35.38602</td></tr><tr><td>testing.head.realistic.harmonic_mean_rank</td><td>18.16385</td></tr><tr><td>testing.head.realistic.hits_at_1</td><td>0.01024</td></tr><tr><td>testing.head.realistic.hits_at_10</td><td>0.11546</td></tr><tr><td>testing.head.realistic.hits_at_3</td><td>0.03073</td></tr><tr><td>testing.head.realistic.hits_at_5</td><td>0.05121</td></tr><tr><td>testing.head.realistic.inverse_arithmetic_mean_rank</td><td>0.02118</td></tr><tr><td>testing.head.realistic.inverse_geometric_mean_rank</td><td>0.02826</td></tr><tr><td>testing.head.realistic.inverse_harmonic_mean_rank</td><td>0.05505</td></tr><tr><td>testing.head.realistic.inverse_median_rank</td><td>0.02128</td></tr><tr><td>testing.head.realistic.median_absolute_deviation</td><td>35.58245</td></tr><tr><td>testing.head.realistic.median_rank</td><td>47.0</td></tr><tr><td>testing.head.realistic.standard_deviation</td><td>27.51669</td></tr><tr><td>testing.head.realistic.variance</td><td>757.16797</td></tr><tr><td>testing.head.realistic.z_arithmetic_mean_rank</td><td>-0.03672</td></tr><tr><td>testing.head.realistic.z_geometric_mean_rank</td><td>0.11099</td></tr><tr><td>testing.head.realistic.z_hits_at_k</td><td>0.84159</td></tr><tr><td>testing.head.realistic.z_inverse_harmonic_mean_rank</td><td>0.02265</td></tr><tr><td>testing.tail.optimistic.adjusted_arithmetic_mean_rank</td><td>1.00868</td></tr><tr><td>testing.tail.optimistic.adjusted_arithmetic_mean_rank_index</td><td>-0.00887</td></tr><tr><td>testing.tail.optimistic.adjusted_geometric_mean_rank_index</td><td>-0.03175</td></tr><tr><td>testing.tail.optimistic.adjusted_hits_at_k</td><td>-0.01746</td></tr><tr><td>testing.tail.optimistic.adjusted_inverse_harmonic_mean_rank</td><td>-0.0061</td></tr><tr><td>testing.tail.optimistic.arithmetic_mean_rank</td><td>48.66387</td></tr><tr><td>testing.tail.optimistic.count</td><td>1074.0</td></tr><tr><td>testing.tail.optimistic.geometric_mean_rank</td><td>37.41366</td></tr><tr><td>testing.tail.optimistic.harmonic_mean_rank</td><td>20.7563</td></tr><tr><td>testing.tail.optimistic.hits_at_1</td><td>0.00838</td></tr><tr><td>testing.tail.optimistic.hits_at_10</td><td>0.08939</td></tr><tr><td>testing.tail.optimistic.hits_at_3</td><td>0.02328</td></tr><tr><td>testing.tail.optimistic.hits_at_5</td><td>0.03818</td></tr><tr><td>testing.tail.optimistic.inverse_arithmetic_mean_rank</td><td>0.02055</td></tr><tr><td>testing.tail.optimistic.inverse_geometric_mean_rank</td><td>0.02673</td></tr><tr><td>testing.tail.optimistic.inverse_harmonic_mean_rank</td><td>0.04818</td></tr><tr><td>testing.tail.optimistic.inverse_median_rank</td><td>0.02041</td></tr><tr><td>testing.tail.optimistic.median_absolute_deviation</td><td>35.58245</td></tr><tr><td>testing.tail.optimistic.median_rank</td><td>49.0</td></tr><tr><td>testing.tail.optimistic.standard_deviation</td><td>27.49978</td></tr><tr><td>testing.tail.optimistic.variance</td><td>756.23804</td></tr><tr><td>testing.tail.optimistic.z_arithmetic_mean_rank</td><td>-0.4975</td></tr><tr><td>testing.tail.optimistic.z_geometric_mean_rank</td><td>-1.09914</td></tr><tr><td>testing.tail.optimistic.z_hits_at_k</td><td>-1.67073</td></tr><tr><td>testing.tail.optimistic.z_inverse_harmonic_mean_rank</td><td>-1.58414</td></tr><tr><td>testing.tail.pessimistic.adjusted_arithmetic_mean_rank</td><td>1.00868</td></tr><tr><td>testing.tail.pessimistic.adjusted_arithmetic_mean_rank_index</td><td>-0.00887</td></tr><tr><td>testing.tail.pessimistic.adjusted_geometric_mean_rank_index</td><td>-0.03175</td></tr><tr><td>testing.tail.pessimistic.adjusted_hits_at_k</td><td>-0.01746</td></tr><tr><td>testing.tail.pessimistic.adjusted_inverse_harmonic_mean_rank</td><td>-0.0061</td></tr><tr><td>testing.tail.pessimistic.arithmetic_mean_rank</td><td>48.66387</td></tr><tr><td>testing.tail.pessimistic.count</td><td>1074.0</td></tr><tr><td>testing.tail.pessimistic.geometric_mean_rank</td><td>37.41366</td></tr><tr><td>testing.tail.pessimistic.harmonic_mean_rank</td><td>20.7563</td></tr><tr><td>testing.tail.pessimistic.hits_at_1</td><td>0.00838</td></tr><tr><td>testing.tail.pessimistic.hits_at_10</td><td>0.08939</td></tr><tr><td>testing.tail.pessimistic.hits_at_3</td><td>0.02328</td></tr><tr><td>testing.tail.pessimistic.hits_at_5</td><td>0.03818</td></tr><tr><td>testing.tail.pessimistic.inverse_arithmetic_mean_rank</td><td>0.02055</td></tr><tr><td>testing.tail.pessimistic.inverse_geometric_mean_rank</td><td>0.02673</td></tr><tr><td>testing.tail.pessimistic.inverse_harmonic_mean_rank</td><td>0.04818</td></tr><tr><td>testing.tail.pessimistic.inverse_median_rank</td><td>0.02041</td></tr><tr><td>testing.tail.pessimistic.median_absolute_deviation</td><td>35.58245</td></tr><tr><td>testing.tail.pessimistic.median_rank</td><td>49.0</td></tr><tr><td>testing.tail.pessimistic.standard_deviation</td><td>27.49978</td></tr><tr><td>testing.tail.pessimistic.variance</td><td>756.23804</td></tr><tr><td>testing.tail.pessimistic.z_arithmetic_mean_rank</td><td>-0.4975</td></tr><tr><td>testing.tail.pessimistic.z_geometric_mean_rank</td><td>-1.09914</td></tr><tr><td>testing.tail.pessimistic.z_hits_at_k</td><td>-1.67073</td></tr><tr><td>testing.tail.pessimistic.z_inverse_harmonic_mean_rank</td><td>-1.58414</td></tr><tr><td>testing.tail.realistic.adjusted_arithmetic_mean_rank</td><td>1.00868</td></tr><tr><td>testing.tail.realistic.adjusted_arithmetic_mean_rank_index</td><td>-0.00887</td></tr><tr><td>testing.tail.realistic.adjusted_geometric_mean_rank_index</td><td>-0.03175</td></tr><tr><td>testing.tail.realistic.adjusted_hits_at_k</td><td>-0.01746</td></tr><tr><td>testing.tail.realistic.adjusted_inverse_harmonic_mean_rank</td><td>-0.0061</td></tr><tr><td>testing.tail.realistic.arithmetic_mean_rank</td><td>48.66387</td></tr><tr><td>testing.tail.realistic.count</td><td>1074.0</td></tr><tr><td>testing.tail.realistic.geometric_mean_rank</td><td>37.41366</td></tr><tr><td>testing.tail.realistic.harmonic_mean_rank</td><td>20.7563</td></tr><tr><td>testing.tail.realistic.hits_at_1</td><td>0.00838</td></tr><tr><td>testing.tail.realistic.hits_at_10</td><td>0.08939</td></tr><tr><td>testing.tail.realistic.hits_at_3</td><td>0.02328</td></tr><tr><td>testing.tail.realistic.hits_at_5</td><td>0.03818</td></tr><tr><td>testing.tail.realistic.inverse_arithmetic_mean_rank</td><td>0.02055</td></tr><tr><td>testing.tail.realistic.inverse_geometric_mean_rank</td><td>0.02673</td></tr><tr><td>testing.tail.realistic.inverse_harmonic_mean_rank</td><td>0.04818</td></tr><tr><td>testing.tail.realistic.inverse_median_rank</td><td>0.02041</td></tr><tr><td>testing.tail.realistic.median_absolute_deviation</td><td>35.58245</td></tr><tr><td>testing.tail.realistic.median_rank</td><td>49.0</td></tr><tr><td>testing.tail.realistic.standard_deviation</td><td>27.49978</td></tr><tr><td>testing.tail.realistic.variance</td><td>756.2381</td></tr><tr><td>testing.tail.realistic.z_arithmetic_mean_rank</td><td>-0.4975</td></tr><tr><td>testing.tail.realistic.z_geometric_mean_rank</td><td>-1.09914</td></tr><tr><td>testing.tail.realistic.z_hits_at_k</td><td>-1.67073</td></tr><tr><td>testing.tail.realistic.z_inverse_harmonic_mean_rank</td><td>-1.58414</td></tr><tr><td>times.final_evaluation</td><td>1.09429</td></tr><tr><td>times.total_training</td><td>1.05332</td></tr></table><br/></div></div>"
      ],
      "text/plain": [
       "<IPython.core.display.HTML object>"
      ]
     },
     "metadata": {},
     "output_type": "display_data"
    },
    {
     "data": {
      "text/html": [
       " View run <strong style=\"color:#cdcd00\">volcanic-fire-3</strong> at: <a href='https://wandb.ai/487616/pykeen_project/runs/7lq1w12b' target=\"_blank\">https://wandb.ai/487616/pykeen_project/runs/7lq1w12b</a><br/>Synced 5 W&B file(s), 0 media file(s), 0 artifact file(s) and 0 other file(s)"
      ],
      "text/plain": [
       "<IPython.core.display.HTML object>"
      ]
     },
     "metadata": {},
     "output_type": "display_data"
    },
    {
     "data": {
      "text/html": [
       "Find logs at: <code>./wandb/run-20230928_080837-7lq1w12b/logs</code>"
      ],
      "text/plain": [
       "<IPython.core.display.HTML object>"
      ]
     },
     "metadata": {},
     "output_type": "display_data"
    }
   ],
   "source": [
    "from pykeen.pipeline import pipeline\n",
    "\n",
    "pipeline_result = pipeline(\n",
    "    model='RotatE',\n",
    "    dataset='Kinships',\n",
    "    result_tracker='wandb',\n",
    "    result_tracker_kwargs=dict(\n",
    "        project='pykeen_project',\n",
    "    ),\n",
    ")\n"
   ]
  },
  {
   "cell_type": "markdown",
   "metadata": {},
   "source": [
    "## Beyond the pipeline"
   ]
  },
  {
   "cell_type": "code",
   "execution_count": 25,
   "metadata": {},
   "outputs": [
    {
     "name": "stderr",
     "output_type": "stream",
     "text": [
      "No random seed is specified. This may lead to non-reproducible results.\n"
     ]
    },
    {
     "data": {
      "application/vnd.jupyter.widget-view+json": {
       "model_id": "ad18a2c4a3464d52b5e1890bfbcbd76a",
       "version_major": 2,
       "version_minor": 0
      },
      "text/plain": [
       "Training epochs on cpu:   0%|          | 0/5 [00:00<?, ?epoch/s]"
      ]
     },
     "metadata": {},
     "output_type": "display_data"
    },
    {
     "data": {
      "application/vnd.jupyter.widget-view+json": {
       "model_id": "",
       "version_major": 2,
       "version_minor": 0
      },
      "text/plain": [
       "Training batches on cpu:   0%|          | 0/1214 [00:00<?, ?batch/s]"
      ]
     },
     "metadata": {},
     "output_type": "display_data"
    },
    {
     "data": {
      "application/vnd.jupyter.widget-view+json": {
       "model_id": "",
       "version_major": 2,
       "version_minor": 0
      },
      "text/plain": [
       "Training batches on cpu:   0%|          | 0/1214 [00:00<?, ?batch/s]"
      ]
     },
     "metadata": {},
     "output_type": "display_data"
    },
    {
     "data": {
      "application/vnd.jupyter.widget-view+json": {
       "model_id": "",
       "version_major": 2,
       "version_minor": 0
      },
      "text/plain": [
       "Training batches on cpu:   0%|          | 0/1214 [00:00<?, ?batch/s]"
      ]
     },
     "metadata": {},
     "output_type": "display_data"
    },
    {
     "data": {
      "application/vnd.jupyter.widget-view+json": {
       "model_id": "",
       "version_major": 2,
       "version_minor": 0
      },
      "text/plain": [
       "Training batches on cpu:   0%|          | 0/1214 [00:00<?, ?batch/s]"
      ]
     },
     "metadata": {},
     "output_type": "display_data"
    },
    {
     "data": {
      "application/vnd.jupyter.widget-view+json": {
       "model_id": "",
       "version_major": 2,
       "version_minor": 0
      },
      "text/plain": [
       "Training batches on cpu:   0%|          | 0/1214 [00:00<?, ?batch/s]"
      ]
     },
     "metadata": {},
     "output_type": "display_data"
    }
   ],
   "source": [
    "from pykeen.models import TransE\n",
    "from torch.optim import Adam\n",
    "from pykeen.training import SLCWATrainingLoop\n",
    "\n",
    "model_name_dict = {'transe': TransE}\n",
    "\n",
    "model = model_name_dict['transe'](triples_factory=train_sub)\n",
    "optimizer = Adam(params=model.get_grad_params())\n",
    "\n",
    "training_loop = SLCWATrainingLoop(\n",
    "    model=model,\n",
    "    triples_factory=train_sub,\n",
    "    optimizer=optimizer,\n",
    " \n",
    ")\n",
    "\n",
    "_ = training_loop.train(\n",
    "    triples_factory=train_sub,\n",
    "    num_epochs=5,\n",
    "    batch_size=256,\n",
    ")"
   ]
  },
  {
   "cell_type": "code",
   "execution_count": 26,
   "metadata": {},
   "outputs": [
    {
     "data": {
      "text/plain": [
       "'cpu'"
      ]
     },
     "execution_count": 26,
     "metadata": {},
     "output_type": "execute_result"
    }
   ],
   "source": [
    "training_loop.device.type"
   ]
  },
  {
   "cell_type": "code",
   "execution_count": 27,
   "metadata": {},
   "outputs": [
    {
     "data": {
      "application/vnd.jupyter.widget-view+json": {
       "model_id": "04f4d63b14a5467e8981e4e18c84d892",
       "version_major": 2,
       "version_minor": 0
      },
      "text/plain": [
       "Evaluating on cpu:   0%|          | 0.00/24.7k [00:00<?, ?triple/s]"
      ]
     },
     "metadata": {},
     "output_type": "display_data"
    },
    {
     "ename": "KeyboardInterrupt",
     "evalue": "",
     "output_type": "error",
     "traceback": [
      "\u001b[0;31m---------------------------------------------------------------------------\u001b[0m",
      "\u001b[0;31mKeyboardInterrupt\u001b[0m                         Traceback (most recent call last)",
      "Cell \u001b[0;32mIn[27], line 8\u001b[0m\n\u001b[1;32m      5\u001b[0m mapped_triples \u001b[38;5;241m=\u001b[39m test_sub\u001b[38;5;241m.\u001b[39mmapped_triples\n\u001b[1;32m      7\u001b[0m \u001b[38;5;66;03m# Evaluate\u001b[39;00m\n\u001b[0;32m----> 8\u001b[0m results \u001b[38;5;241m=\u001b[39m \u001b[43mevaluator\u001b[49m\u001b[38;5;241;43m.\u001b[39;49m\u001b[43mevaluate\u001b[49m\u001b[43m(\u001b[49m\n\u001b[1;32m      9\u001b[0m \u001b[43m    \u001b[49m\u001b[43mmodel\u001b[49m\u001b[38;5;241;43m=\u001b[39;49m\u001b[43mmodel\u001b[49m\u001b[43m,\u001b[49m\n\u001b[1;32m     10\u001b[0m \u001b[43m    \u001b[49m\u001b[43mmapped_triples\u001b[49m\u001b[38;5;241;43m=\u001b[39;49m\u001b[43mmapped_triples\u001b[49m\u001b[43m,\u001b[49m\n\u001b[1;32m     11\u001b[0m \u001b[43m    \u001b[49m\u001b[43mbatch_size\u001b[49m\u001b[38;5;241;43m=\u001b[39;49m\u001b[38;5;241;43m1024\u001b[39;49m\u001b[43m,\u001b[49m\n\u001b[1;32m     12\u001b[0m \u001b[43m    \u001b[49m\u001b[43madditional_filter_triples\u001b[49m\u001b[38;5;241;43m=\u001b[39;49m\u001b[43m[\u001b[49m\n\u001b[1;32m     13\u001b[0m \u001b[43m        \u001b[49m\u001b[43mtrain_sub\u001b[49m\u001b[38;5;241;43m.\u001b[39;49m\u001b[43mmapped_triples\u001b[49m\u001b[43m,\u001b[49m\n\u001b[1;32m     14\u001b[0m \u001b[43m        \u001b[49m\u001b[43mvalid_sub\u001b[49m\u001b[38;5;241;43m.\u001b[39;49m\u001b[43mmapped_triples\u001b[49m\u001b[43m,\u001b[49m\n\u001b[1;32m     15\u001b[0m \u001b[43m    \u001b[49m\u001b[43m]\u001b[49m\u001b[43m,\u001b[49m\n\u001b[1;32m     16\u001b[0m \u001b[43m)\u001b[49m\n\u001b[1;32m     18\u001b[0m \u001b[38;5;28mprint\u001b[39m(results)\n",
      "File \u001b[0;32m/usr/local/lib/python3.8/dist-packages/pykeen/evaluation/evaluator.py:213\u001b[0m, in \u001b[0;36mEvaluator.evaluate\u001b[0;34m(self, model, mapped_triples, batch_size, slice_size, **kwargs)\u001b[0m\n\u001b[1;32m    210\u001b[0m         \u001b[38;5;66;03m# Clear the ranks from the current evaluator\u001b[39;00m\n\u001b[1;32m    211\u001b[0m         \u001b[38;5;28mself\u001b[39m\u001b[38;5;241m.\u001b[39mclear()\n\u001b[0;32m--> 213\u001b[0m rv \u001b[38;5;241m=\u001b[39m \u001b[43mevaluate\u001b[49m\u001b[43m(\u001b[49m\n\u001b[1;32m    214\u001b[0m \u001b[43m    \u001b[49m\u001b[43mmodel\u001b[49m\u001b[38;5;241;43m=\u001b[39;49m\u001b[43mmodel\u001b[49m\u001b[43m,\u001b[49m\n\u001b[1;32m    215\u001b[0m \u001b[43m    \u001b[49m\u001b[43mmapped_triples\u001b[49m\u001b[38;5;241;43m=\u001b[39;49m\u001b[43mmapped_triples\u001b[49m\u001b[43m,\u001b[49m\n\u001b[1;32m    216\u001b[0m \u001b[43m    \u001b[49m\u001b[43mevaluator\u001b[49m\u001b[38;5;241;43m=\u001b[39;49m\u001b[38;5;28;43mself\u001b[39;49m\u001b[43m,\u001b[49m\n\u001b[1;32m    217\u001b[0m \u001b[43m    \u001b[49m\u001b[43mbatch_size\u001b[49m\u001b[38;5;241;43m=\u001b[39;49m\u001b[43mbatch_size\u001b[49m\u001b[43m,\u001b[49m\n\u001b[1;32m    218\u001b[0m \u001b[43m    \u001b[49m\u001b[43mslice_size\u001b[49m\u001b[38;5;241;43m=\u001b[39;49m\u001b[43mslice_size\u001b[49m\u001b[43m,\u001b[49m\n\u001b[1;32m    219\u001b[0m \u001b[43m    \u001b[49m\u001b[38;5;241;43m*\u001b[39;49m\u001b[38;5;241;43m*\u001b[39;49m\u001b[43mkwargs\u001b[49m\u001b[43m,\u001b[49m\n\u001b[1;32m    220\u001b[0m \u001b[43m\u001b[49m\u001b[43m)\u001b[49m\n\u001b[1;32m    221\u001b[0m \u001b[38;5;66;03m# Since squeeze is true, we can expect that evaluate returns a MetricResult, but we need to tell MyPy that\u001b[39;00m\n\u001b[1;32m    222\u001b[0m \u001b[38;5;28;01mreturn\u001b[39;00m cast(MetricResults, rv)\n",
      "File \u001b[0;32m/usr/local/lib/python3.8/dist-packages/pykeen/evaluation/evaluator.py:687\u001b[0m, in \u001b[0;36mevaluate\u001b[0;34m(model, mapped_triples, evaluator, only_size_probing, batch_size, slice_size, device, use_tqdm, tqdm_kwargs, restrict_entities_to, restrict_relations_to, do_time_consuming_checks, additional_filter_triples, pre_filtered_triples, targets, mode)\u001b[0m\n\u001b[1;32m    685\u001b[0m relation_filter \u001b[38;5;241m=\u001b[39m \u001b[38;5;28;01mNone\u001b[39;00m\n\u001b[1;32m    686\u001b[0m \u001b[38;5;28;01mfor\u001b[39;00m target \u001b[38;5;129;01min\u001b[39;00m targets:\n\u001b[0;32m--> 687\u001b[0m     relation_filter \u001b[38;5;241m=\u001b[39m \u001b[43m_evaluate_batch\u001b[49m\u001b[43m(\u001b[49m\n\u001b[1;32m    688\u001b[0m \u001b[43m        \u001b[49m\u001b[43mbatch\u001b[49m\u001b[38;5;241;43m=\u001b[39;49m\u001b[43mbatch\u001b[49m\u001b[43m,\u001b[49m\n\u001b[1;32m    689\u001b[0m \u001b[43m        \u001b[49m\u001b[43mmodel\u001b[49m\u001b[38;5;241;43m=\u001b[39;49m\u001b[43mmodel\u001b[49m\u001b[43m,\u001b[49m\n\u001b[1;32m    690\u001b[0m \u001b[43m        \u001b[49m\u001b[43mtarget\u001b[49m\u001b[38;5;241;43m=\u001b[39;49m\u001b[43mtarget\u001b[49m\u001b[43m,\u001b[49m\n\u001b[1;32m    691\u001b[0m \u001b[43m        \u001b[49m\u001b[43mevaluator\u001b[49m\u001b[38;5;241;43m=\u001b[39;49m\u001b[43mevaluator\u001b[49m\u001b[43m,\u001b[49m\n\u001b[1;32m    692\u001b[0m \u001b[43m        \u001b[49m\u001b[43mslice_size\u001b[49m\u001b[38;5;241;43m=\u001b[39;49m\u001b[43mslice_size\u001b[49m\u001b[43m,\u001b[49m\n\u001b[1;32m    693\u001b[0m \u001b[43m        \u001b[49m\u001b[43mall_pos_triples\u001b[49m\u001b[38;5;241;43m=\u001b[39;49m\u001b[43mall_pos_triples\u001b[49m\u001b[43m,\u001b[49m\n\u001b[1;32m    694\u001b[0m \u001b[43m        \u001b[49m\u001b[43mrelation_filter\u001b[49m\u001b[38;5;241;43m=\u001b[39;49m\u001b[43mrelation_filter\u001b[49m\u001b[43m,\u001b[49m\n\u001b[1;32m    695\u001b[0m \u001b[43m        \u001b[49m\u001b[43mrestrict_entities_to\u001b[49m\u001b[38;5;241;43m=\u001b[39;49m\u001b[43mrestrict_entities_to\u001b[49m\u001b[43m,\u001b[49m\n\u001b[1;32m    696\u001b[0m \u001b[43m        \u001b[49m\u001b[43mmode\u001b[49m\u001b[38;5;241;43m=\u001b[39;49m\u001b[43mmode\u001b[49m\u001b[43m,\u001b[49m\n\u001b[1;32m    697\u001b[0m \u001b[43m    \u001b[49m\u001b[43m)\u001b[49m\n\u001b[1;32m    699\u001b[0m \u001b[38;5;66;03m# If we only probe sizes we do not need more than one batch\u001b[39;00m\n\u001b[1;32m    700\u001b[0m \u001b[38;5;28;01mif\u001b[39;00m only_size_probing \u001b[38;5;129;01mand\u001b[39;00m evaluated_once:\n",
      "File \u001b[0;32m/usr/local/lib/python3.8/dist-packages/pykeen/evaluation/evaluator.py:760\u001b[0m, in \u001b[0;36m_evaluate_batch\u001b[0;34m(batch, model, target, evaluator, slice_size, all_pos_triples, relation_filter, restrict_entities_to, mode)\u001b[0m\n\u001b[1;32m    720\u001b[0m \u001b[38;5;28;01mdef\u001b[39;00m \u001b[38;5;21m_evaluate_batch\u001b[39m(\n\u001b[1;32m    721\u001b[0m     batch: MappedTriples,\n\u001b[1;32m    722\u001b[0m     model: Model,\n\u001b[0;32m   (...)\u001b[0m\n\u001b[1;32m    730\u001b[0m     mode: Optional[InductiveMode],\n\u001b[1;32m    731\u001b[0m ) \u001b[38;5;241m-\u001b[39m\u001b[38;5;241m>\u001b[39m torch\u001b[38;5;241m.\u001b[39mBoolTensor:\n\u001b[1;32m    732\u001b[0m \u001b[38;5;250m    \u001b[39m\u001b[38;5;124;03m\"\"\"\u001b[39;00m\n\u001b[1;32m    733\u001b[0m \u001b[38;5;124;03m    Evaluate ranking for batch.\u001b[39;00m\n\u001b[1;32m    734\u001b[0m \n\u001b[0;32m   (...)\u001b[0m\n\u001b[1;32m    758\u001b[0m \u001b[38;5;124;03m        The relation filter, which can be re-used for the same batch.\u001b[39;00m\n\u001b[1;32m    759\u001b[0m \u001b[38;5;124;03m    \"\"\"\u001b[39;00m\n\u001b[0;32m--> 760\u001b[0m     scores \u001b[38;5;241m=\u001b[39m \u001b[43mmodel\u001b[49m\u001b[38;5;241;43m.\u001b[39;49m\u001b[43mpredict\u001b[49m\u001b[43m(\u001b[49m\u001b[43mhrt_batch\u001b[49m\u001b[38;5;241;43m=\u001b[39;49m\u001b[43mbatch\u001b[49m\u001b[43m,\u001b[49m\u001b[43m \u001b[49m\u001b[43mtarget\u001b[49m\u001b[38;5;241;43m=\u001b[39;49m\u001b[43mtarget\u001b[49m\u001b[43m,\u001b[49m\u001b[43m \u001b[49m\u001b[43mslice_size\u001b[49m\u001b[38;5;241;43m=\u001b[39;49m\u001b[43mslice_size\u001b[49m\u001b[43m,\u001b[49m\u001b[43m \u001b[49m\u001b[43mmode\u001b[49m\u001b[38;5;241;43m=\u001b[39;49m\u001b[43mmode\u001b[49m\u001b[43m)\u001b[49m\n\u001b[1;32m    762\u001b[0m     \u001b[38;5;28;01mif\u001b[39;00m evaluator\u001b[38;5;241m.\u001b[39mfiltered \u001b[38;5;129;01mor\u001b[39;00m evaluator\u001b[38;5;241m.\u001b[39mrequires_positive_mask:\n\u001b[1;32m    763\u001b[0m         column \u001b[38;5;241m=\u001b[39m TARGET_TO_INDEX[target]\n",
      "File \u001b[0;32m/usr/local/lib/python3.8/dist-packages/pykeen/models/base.py:471\u001b[0m, in \u001b[0;36mModel.predict\u001b[0;34m(self, hrt_batch, target, full_batch, ids, **kwargs)\u001b[0m\n\u001b[1;32m    469\u001b[0m     \u001b[38;5;28;01mif\u001b[39;00m full_batch:\n\u001b[1;32m    470\u001b[0m         hrt_batch \u001b[38;5;241m=\u001b[39m hrt_batch[:, \u001b[38;5;241m0\u001b[39m:\u001b[38;5;241m2\u001b[39m]\n\u001b[0;32m--> 471\u001b[0m     \u001b[38;5;28;01mreturn\u001b[39;00m \u001b[38;5;28;43mself\u001b[39;49m\u001b[38;5;241;43m.\u001b[39;49m\u001b[43mpredict_t\u001b[49m\u001b[43m(\u001b[49m\u001b[43mhrt_batch\u001b[49m\u001b[43m,\u001b[49m\u001b[43m \u001b[49m\u001b[38;5;241;43m*\u001b[39;49m\u001b[38;5;241;43m*\u001b[39;49m\u001b[43mkwargs\u001b[49m\u001b[43m,\u001b[49m\u001b[43m \u001b[49m\u001b[43mtails\u001b[49m\u001b[38;5;241;43m=\u001b[39;49m\u001b[43mids\u001b[49m\u001b[43m)\u001b[49m\n\u001b[1;32m    473\u001b[0m \u001b[38;5;28;01mif\u001b[39;00m target \u001b[38;5;241m==\u001b[39m LABEL_RELATION:\n\u001b[1;32m    474\u001b[0m     \u001b[38;5;28;01mif\u001b[39;00m full_batch:\n",
      "File \u001b[0;32m/usr/local/lib/python3.8/dist-packages/pykeen/models/base.py:409\u001b[0m, in \u001b[0;36mModel.predict_t\u001b[0;34m(self, hr_batch, **kwargs)\u001b[0m\n\u001b[1;32m    407\u001b[0m \u001b[38;5;28mself\u001b[39m\u001b[38;5;241m.\u001b[39meval()  \u001b[38;5;66;03m# Enforce evaluation mode\u001b[39;00m\n\u001b[1;32m    408\u001b[0m hr_batch \u001b[38;5;241m=\u001b[39m \u001b[38;5;28mself\u001b[39m\u001b[38;5;241m.\u001b[39m_prepare_batch(batch\u001b[38;5;241m=\u001b[39mhr_batch, index_relation\u001b[38;5;241m=\u001b[39m\u001b[38;5;241m1\u001b[39m)\n\u001b[0;32m--> 409\u001b[0m scores \u001b[38;5;241m=\u001b[39m \u001b[38;5;28;43mself\u001b[39;49m\u001b[38;5;241;43m.\u001b[39;49m\u001b[43mscore_t\u001b[49m\u001b[43m(\u001b[49m\u001b[43mhr_batch\u001b[49m\u001b[43m,\u001b[49m\u001b[43m \u001b[49m\u001b[38;5;241;43m*\u001b[39;49m\u001b[38;5;241;43m*\u001b[39;49m\u001b[43mkwargs\u001b[49m\u001b[43m)\u001b[49m\n\u001b[1;32m    410\u001b[0m \u001b[38;5;28;01mif\u001b[39;00m \u001b[38;5;28mself\u001b[39m\u001b[38;5;241m.\u001b[39mpredict_with_sigmoid:\n\u001b[1;32m    411\u001b[0m     scores \u001b[38;5;241m=\u001b[39m torch\u001b[38;5;241m.\u001b[39msigmoid(scores)\n",
      "File \u001b[0;32m/usr/local/lib/python3.8/dist-packages/pykeen/models/nbase.py:505\u001b[0m, in \u001b[0;36mERModel.score_t\u001b[0;34m(self, hr_batch, slice_size, mode, tails)\u001b[0m\n\u001b[1;32m    502\u001b[0m \u001b[38;5;28;01mif\u001b[39;00m tails \u001b[38;5;129;01mis\u001b[39;00m \u001b[38;5;28;01mNone\u001b[39;00m \u001b[38;5;129;01mor\u001b[39;00m tails\u001b[38;5;241m.\u001b[39mndimension() \u001b[38;5;241m==\u001b[39m \u001b[38;5;241m1\u001b[39m:\n\u001b[1;32m    503\u001b[0m     t \u001b[38;5;241m=\u001b[39m parallel_unsqueeze(t, dim\u001b[38;5;241m=\u001b[39m\u001b[38;5;241m0\u001b[39m)\n\u001b[1;32m    504\u001b[0m \u001b[38;5;28;01mreturn\u001b[39;00m repeat_if_necessary(\n\u001b[0;32m--> 505\u001b[0m     scores\u001b[38;5;241m=\u001b[39m\u001b[38;5;28;43mself\u001b[39;49m\u001b[38;5;241;43m.\u001b[39;49m\u001b[43minteraction\u001b[49m\u001b[38;5;241;43m.\u001b[39;49m\u001b[43mscore\u001b[49m\u001b[43m(\u001b[49m\u001b[43mh\u001b[49m\u001b[38;5;241;43m=\u001b[39;49m\u001b[43mh\u001b[49m\u001b[43m,\u001b[49m\u001b[43m \u001b[49m\u001b[43mr\u001b[49m\u001b[38;5;241;43m=\u001b[39;49m\u001b[43mr\u001b[49m\u001b[43m,\u001b[49m\u001b[43m \u001b[49m\u001b[43mt\u001b[49m\u001b[38;5;241;43m=\u001b[39;49m\u001b[43mt\u001b[49m\u001b[43m,\u001b[49m\u001b[43m \u001b[49m\u001b[43mslice_size\u001b[49m\u001b[38;5;241;43m=\u001b[39;49m\u001b[43mslice_size\u001b[49m\u001b[43m,\u001b[49m\u001b[43m \u001b[49m\u001b[43mslice_dim\u001b[49m\u001b[38;5;241;43m=\u001b[39;49m\u001b[38;5;241;43m1\u001b[39;49m\u001b[43m)\u001b[49m,\n\u001b[1;32m    506\u001b[0m     representations\u001b[38;5;241m=\u001b[39m\u001b[38;5;28mself\u001b[39m\u001b[38;5;241m.\u001b[39mentity_representations,\n\u001b[1;32m    507\u001b[0m     num\u001b[38;5;241m=\u001b[39m\u001b[38;5;28mself\u001b[39m\u001b[38;5;241m.\u001b[39m_get_entity_len(mode\u001b[38;5;241m=\u001b[39mmode) \u001b[38;5;28;01mif\u001b[39;00m tails \u001b[38;5;129;01mis\u001b[39;00m \u001b[38;5;28;01mNone\u001b[39;00m \u001b[38;5;28;01melse\u001b[39;00m tails\u001b[38;5;241m.\u001b[39mshape[\u001b[38;5;241m-\u001b[39m\u001b[38;5;241m1\u001b[39m],\n\u001b[1;32m    508\u001b[0m )\n",
      "File \u001b[0;32m/usr/local/lib/python3.8/dist-packages/pykeen/nn/modules.py:265\u001b[0m, in \u001b[0;36mInteraction.score\u001b[0;34m(self, h, r, t, slice_size, slice_dim)\u001b[0m\n\u001b[1;32m    243\u001b[0m \u001b[38;5;250m\u001b[39m\u001b[38;5;124;03m\"\"\"Compute broadcasted triple scores with optional slicing.\u001b[39;00m\n\u001b[1;32m    244\u001b[0m \n\u001b[1;32m    245\u001b[0m \u001b[38;5;124;03m.. note ::\u001b[39;00m\n\u001b[0;32m   (...)\u001b[0m\n\u001b[1;32m    262\u001b[0m \u001b[38;5;124;03m    The scores.\u001b[39;00m\n\u001b[1;32m    263\u001b[0m \u001b[38;5;124;03m\"\"\"\u001b[39;00m\n\u001b[1;32m    264\u001b[0m \u001b[38;5;28;01mif\u001b[39;00m slice_size \u001b[38;5;129;01mis\u001b[39;00m \u001b[38;5;28;01mNone\u001b[39;00m:\n\u001b[0;32m--> 265\u001b[0m     \u001b[38;5;28;01mreturn\u001b[39;00m \u001b[38;5;28;43mself\u001b[39;49m\u001b[43m(\u001b[49m\u001b[43mh\u001b[49m\u001b[38;5;241;43m=\u001b[39;49m\u001b[43mh\u001b[49m\u001b[43m,\u001b[49m\u001b[43m \u001b[49m\u001b[43mr\u001b[49m\u001b[38;5;241;43m=\u001b[39;49m\u001b[43mr\u001b[49m\u001b[43m,\u001b[49m\u001b[43m \u001b[49m\u001b[43mt\u001b[49m\u001b[38;5;241;43m=\u001b[39;49m\u001b[43mt\u001b[49m\u001b[43m)\u001b[49m\n\u001b[1;32m    267\u001b[0m \u001b[38;5;28;01mreturn\u001b[39;00m torch\u001b[38;5;241m.\u001b[39mcat(\n\u001b[1;32m    268\u001b[0m     [\n\u001b[1;32m    269\u001b[0m         \u001b[38;5;28mself\u001b[39m(h\u001b[38;5;241m=\u001b[39mh_batch, r\u001b[38;5;241m=\u001b[39mr_batch, t\u001b[38;5;241m=\u001b[39mt_batch)\n\u001b[0;32m   (...)\u001b[0m\n\u001b[1;32m    272\u001b[0m     dim\u001b[38;5;241m=\u001b[39mslice_dim,\n\u001b[1;32m    273\u001b[0m )\n",
      "File \u001b[0;32m/usr/local/lib/python3.8/dist-packages/torch/nn/modules/module.py:1501\u001b[0m, in \u001b[0;36mModule._call_impl\u001b[0;34m(self, *args, **kwargs)\u001b[0m\n\u001b[1;32m   1496\u001b[0m \u001b[38;5;66;03m# If we don't have any hooks, we want to skip the rest of the logic in\u001b[39;00m\n\u001b[1;32m   1497\u001b[0m \u001b[38;5;66;03m# this function, and just call forward.\u001b[39;00m\n\u001b[1;32m   1498\u001b[0m \u001b[38;5;28;01mif\u001b[39;00m \u001b[38;5;129;01mnot\u001b[39;00m (\u001b[38;5;28mself\u001b[39m\u001b[38;5;241m.\u001b[39m_backward_hooks \u001b[38;5;129;01mor\u001b[39;00m \u001b[38;5;28mself\u001b[39m\u001b[38;5;241m.\u001b[39m_backward_pre_hooks \u001b[38;5;129;01mor\u001b[39;00m \u001b[38;5;28mself\u001b[39m\u001b[38;5;241m.\u001b[39m_forward_hooks \u001b[38;5;129;01mor\u001b[39;00m \u001b[38;5;28mself\u001b[39m\u001b[38;5;241m.\u001b[39m_forward_pre_hooks\n\u001b[1;32m   1499\u001b[0m         \u001b[38;5;129;01mor\u001b[39;00m _global_backward_pre_hooks \u001b[38;5;129;01mor\u001b[39;00m _global_backward_hooks\n\u001b[1;32m   1500\u001b[0m         \u001b[38;5;129;01mor\u001b[39;00m _global_forward_hooks \u001b[38;5;129;01mor\u001b[39;00m _global_forward_pre_hooks):\n\u001b[0;32m-> 1501\u001b[0m     \u001b[38;5;28;01mreturn\u001b[39;00m \u001b[43mforward_call\u001b[49m\u001b[43m(\u001b[49m\u001b[38;5;241;43m*\u001b[39;49m\u001b[43margs\u001b[49m\u001b[43m,\u001b[49m\u001b[43m \u001b[49m\u001b[38;5;241;43m*\u001b[39;49m\u001b[38;5;241;43m*\u001b[39;49m\u001b[43mkwargs\u001b[49m\u001b[43m)\u001b[49m\n\u001b[1;32m   1502\u001b[0m \u001b[38;5;66;03m# Do not call functions when jit is used\u001b[39;00m\n\u001b[1;32m   1503\u001b[0m full_backward_hooks, non_full_backward_hooks \u001b[38;5;241m=\u001b[39m [], []\n",
      "File \u001b[0;32m/usr/local/lib/python3.8/dist-packages/pykeen/nn/modules.py:412\u001b[0m, in \u001b[0;36mFunctionalInteraction.forward\u001b[0;34m(self, h, r, t)\u001b[0m\n\u001b[1;32m    394\u001b[0m \u001b[38;5;28;01mdef\u001b[39;00m \u001b[38;5;21mforward\u001b[39m(\n\u001b[1;32m    395\u001b[0m     \u001b[38;5;28mself\u001b[39m,\n\u001b[1;32m    396\u001b[0m     h: HeadRepresentation,\n\u001b[1;32m    397\u001b[0m     r: RelationRepresentation,\n\u001b[1;32m    398\u001b[0m     t: TailRepresentation,\n\u001b[1;32m    399\u001b[0m ) \u001b[38;5;241m-\u001b[39m\u001b[38;5;241m>\u001b[39m torch\u001b[38;5;241m.\u001b[39mFloatTensor:\n\u001b[1;32m    400\u001b[0m \u001b[38;5;250m    \u001b[39m\u001b[38;5;124;03m\"\"\"Compute broadcasted triple scores given broadcasted representations for head, relation and tails.\u001b[39;00m\n\u001b[1;32m    401\u001b[0m \n\u001b[1;32m    402\u001b[0m \u001b[38;5;124;03m    :param h: shape: (`*batch_dims`, `*dims`)\u001b[39;00m\n\u001b[0;32m   (...)\u001b[0m\n\u001b[1;32m    410\u001b[0m \u001b[38;5;124;03m        The scores.\u001b[39;00m\n\u001b[1;32m    411\u001b[0m \u001b[38;5;124;03m    \"\"\"\u001b[39;00m\n\u001b[0;32m--> 412\u001b[0m     \u001b[38;5;28;01mreturn\u001b[39;00m \u001b[38;5;28;43mself\u001b[39;49m\u001b[38;5;241;43m.\u001b[39;49m\u001b[38;5;18;43m__class__\u001b[39;49m\u001b[38;5;241;43m.\u001b[39;49m\u001b[43mfunc\u001b[49m\u001b[43m(\u001b[49m\u001b[38;5;241;43m*\u001b[39;49m\u001b[38;5;241;43m*\u001b[39;49m\u001b[38;5;28;43mself\u001b[39;49m\u001b[38;5;241;43m.\u001b[39;49m\u001b[43m_prepare_for_functional\u001b[49m\u001b[43m(\u001b[49m\u001b[43mh\u001b[49m\u001b[38;5;241;43m=\u001b[39;49m\u001b[43mh\u001b[49m\u001b[43m,\u001b[49m\u001b[43m \u001b[49m\u001b[43mr\u001b[49m\u001b[38;5;241;43m=\u001b[39;49m\u001b[43mr\u001b[49m\u001b[43m,\u001b[49m\u001b[43m \u001b[49m\u001b[43mt\u001b[49m\u001b[38;5;241;43m=\u001b[39;49m\u001b[43mt\u001b[49m\u001b[43m)\u001b[49m\u001b[43m)\u001b[49m\n",
      "File \u001b[0;32m/usr/local/lib/python3.8/dist-packages/pykeen/nn/functional.py:754\u001b[0m, in \u001b[0;36mtranse_interaction\u001b[0;34m(h, r, t, p, power_norm)\u001b[0m\n\u001b[1;32m    731\u001b[0m \u001b[38;5;28;01mdef\u001b[39;00m \u001b[38;5;21mtranse_interaction\u001b[39m(\n\u001b[1;32m    732\u001b[0m     h: torch\u001b[38;5;241m.\u001b[39mFloatTensor,\n\u001b[1;32m    733\u001b[0m     r: torch\u001b[38;5;241m.\u001b[39mFloatTensor,\n\u001b[0;32m   (...)\u001b[0m\n\u001b[1;32m    736\u001b[0m     power_norm: \u001b[38;5;28mbool\u001b[39m \u001b[38;5;241m=\u001b[39m \u001b[38;5;28;01mFalse\u001b[39;00m,\n\u001b[1;32m    737\u001b[0m ) \u001b[38;5;241m-\u001b[39m\u001b[38;5;241m>\u001b[39m torch\u001b[38;5;241m.\u001b[39mFloatTensor:\n\u001b[1;32m    738\u001b[0m \u001b[38;5;250m    \u001b[39m\u001b[38;5;124;03m\"\"\"Evaluate the TransE interaction function.\u001b[39;00m\n\u001b[1;32m    739\u001b[0m \n\u001b[1;32m    740\u001b[0m \u001b[38;5;124;03m    :param h: shape: (`*batch_dims`, dim)\u001b[39;00m\n\u001b[0;32m   (...)\u001b[0m\n\u001b[1;32m    752\u001b[0m \u001b[38;5;124;03m        The scores.\u001b[39;00m\n\u001b[1;32m    753\u001b[0m \u001b[38;5;124;03m    \"\"\"\u001b[39;00m\n\u001b[0;32m--> 754\u001b[0m     \u001b[38;5;28;01mreturn\u001b[39;00m \u001b[43mnegative_norm_of_sum\u001b[49m\u001b[43m(\u001b[49m\u001b[43mh\u001b[49m\u001b[43m,\u001b[49m\u001b[43m \u001b[49m\u001b[43mr\u001b[49m\u001b[43m,\u001b[49m\u001b[43m \u001b[49m\u001b[38;5;241;43m-\u001b[39;49m\u001b[43mt\u001b[49m\u001b[43m,\u001b[49m\u001b[43m \u001b[49m\u001b[43mp\u001b[49m\u001b[38;5;241;43m=\u001b[39;49m\u001b[43mp\u001b[49m\u001b[43m,\u001b[49m\u001b[43m \u001b[49m\u001b[43mpower_norm\u001b[49m\u001b[38;5;241;43m=\u001b[39;49m\u001b[43mpower_norm\u001b[49m\u001b[43m)\u001b[49m\n",
      "File \u001b[0;32m/usr/local/lib/python3.8/dist-packages/pykeen/utils.py:652\u001b[0m, in \u001b[0;36mnegative_norm_of_sum\u001b[0;34m(p, power_norm, *x)\u001b[0m\n\u001b[1;32m    635\u001b[0m \u001b[38;5;28;01mdef\u001b[39;00m \u001b[38;5;21mnegative_norm_of_sum\u001b[39m(\n\u001b[1;32m    636\u001b[0m     \u001b[38;5;241m*\u001b[39mx: torch\u001b[38;5;241m.\u001b[39mFloatTensor,\n\u001b[1;32m    637\u001b[0m     p: Union[\u001b[38;5;28mstr\u001b[39m, \u001b[38;5;28mint\u001b[39m, \u001b[38;5;28mfloat\u001b[39m] \u001b[38;5;241m=\u001b[39m \u001b[38;5;241m2\u001b[39m,\n\u001b[1;32m    638\u001b[0m     power_norm: \u001b[38;5;28mbool\u001b[39m \u001b[38;5;241m=\u001b[39m \u001b[38;5;28;01mFalse\u001b[39;00m,\n\u001b[1;32m    639\u001b[0m ) \u001b[38;5;241m-\u001b[39m\u001b[38;5;241m>\u001b[39m torch\u001b[38;5;241m.\u001b[39mFloatTensor:\n\u001b[1;32m    640\u001b[0m \u001b[38;5;250m    \u001b[39m\u001b[38;5;124;03m\"\"\"Evaluate negative norm of a sum of vectors on already broadcasted representations.\u001b[39;00m\n\u001b[1;32m    641\u001b[0m \n\u001b[1;32m    642\u001b[0m \u001b[38;5;124;03m    :param x: shape: (batch_size, num_heads, num_relations, num_tails, dim)\u001b[39;00m\n\u001b[0;32m   (...)\u001b[0m\n\u001b[1;32m    650\u001b[0m \u001b[38;5;124;03m        The scores.\u001b[39;00m\n\u001b[1;32m    651\u001b[0m \u001b[38;5;124;03m    \"\"\"\u001b[39;00m\n\u001b[0;32m--> 652\u001b[0m     \u001b[38;5;28;01mreturn\u001b[39;00m \u001b[43mnegative_norm\u001b[49m\u001b[43m(\u001b[49m\u001b[43mtensor_sum\u001b[49m\u001b[43m(\u001b[49m\u001b[38;5;241;43m*\u001b[39;49m\u001b[43mx\u001b[49m\u001b[43m)\u001b[49m\u001b[43m,\u001b[49m\u001b[43m \u001b[49m\u001b[43mp\u001b[49m\u001b[38;5;241;43m=\u001b[39;49m\u001b[43mp\u001b[49m\u001b[43m,\u001b[49m\u001b[43m \u001b[49m\u001b[43mpower_norm\u001b[49m\u001b[38;5;241;43m=\u001b[39;49m\u001b[43mpower_norm\u001b[49m\u001b[43m)\u001b[49m\n",
      "File \u001b[0;32m/usr/local/lib/python3.8/dist-packages/pykeen/utils.py:676\u001b[0m, in \u001b[0;36mnegative_norm\u001b[0;34m(x, p, power_norm)\u001b[0m\n\u001b[1;32m    673\u001b[0m     \u001b[38;5;28;01massert\u001b[39;00m \u001b[38;5;129;01mnot\u001b[39;00m \u001b[38;5;28misinstance\u001b[39m(p, \u001b[38;5;28mstr\u001b[39m)\n\u001b[1;32m    674\u001b[0m     \u001b[38;5;28;01mreturn\u001b[39;00m \u001b[38;5;241m-\u001b[39m(x\u001b[38;5;241m.\u001b[39mabs() \u001b[38;5;241m*\u001b[39m\u001b[38;5;241m*\u001b[39m p)\u001b[38;5;241m.\u001b[39msum(dim\u001b[38;5;241m=\u001b[39m\u001b[38;5;241m-\u001b[39m\u001b[38;5;241m1\u001b[39m)\n\u001b[0;32m--> 676\u001b[0m \u001b[38;5;28;01mreturn\u001b[39;00m \u001b[38;5;241m-\u001b[39m\u001b[43mx\u001b[49m\u001b[38;5;241;43m.\u001b[39;49m\u001b[43mnorm\u001b[49m\u001b[43m(\u001b[49m\u001b[43mp\u001b[49m\u001b[38;5;241;43m=\u001b[39;49m\u001b[43mp\u001b[49m\u001b[43m,\u001b[49m\u001b[43m \u001b[49m\u001b[43mdim\u001b[49m\u001b[38;5;241;43m=\u001b[39;49m\u001b[38;5;241;43m-\u001b[39;49m\u001b[38;5;241;43m1\u001b[39;49m\u001b[43m)\u001b[49m\n",
      "File \u001b[0;32m/usr/local/lib/python3.8/dist-packages/torch/_tensor.py:647\u001b[0m, in \u001b[0;36mTensor.norm\u001b[0;34m(self, p, dim, keepdim, dtype)\u001b[0m\n\u001b[1;32m    643\u001b[0m \u001b[38;5;28;01mif\u001b[39;00m has_torch_function_unary(\u001b[38;5;28mself\u001b[39m):\n\u001b[1;32m    644\u001b[0m     \u001b[38;5;28;01mreturn\u001b[39;00m handle_torch_function(\n\u001b[1;32m    645\u001b[0m         Tensor\u001b[38;5;241m.\u001b[39mnorm, (\u001b[38;5;28mself\u001b[39m,), \u001b[38;5;28mself\u001b[39m, p\u001b[38;5;241m=\u001b[39mp, dim\u001b[38;5;241m=\u001b[39mdim, keepdim\u001b[38;5;241m=\u001b[39mkeepdim, dtype\u001b[38;5;241m=\u001b[39mdtype\n\u001b[1;32m    646\u001b[0m     )\n\u001b[0;32m--> 647\u001b[0m \u001b[38;5;28;01mreturn\u001b[39;00m \u001b[43mtorch\u001b[49m\u001b[38;5;241;43m.\u001b[39;49m\u001b[43mnorm\u001b[49m\u001b[43m(\u001b[49m\u001b[38;5;28;43mself\u001b[39;49m\u001b[43m,\u001b[49m\u001b[43m \u001b[49m\u001b[43mp\u001b[49m\u001b[43m,\u001b[49m\u001b[43m \u001b[49m\u001b[43mdim\u001b[49m\u001b[43m,\u001b[49m\u001b[43m \u001b[49m\u001b[43mkeepdim\u001b[49m\u001b[43m,\u001b[49m\u001b[43m \u001b[49m\u001b[43mdtype\u001b[49m\u001b[38;5;241;43m=\u001b[39;49m\u001b[43mdtype\u001b[49m\u001b[43m)\u001b[49m\n",
      "File \u001b[0;32m/usr/local/lib/python3.8/dist-packages/torch/functional.py:1517\u001b[0m, in \u001b[0;36mnorm\u001b[0;34m(input, p, dim, keepdim, out, dtype)\u001b[0m\n\u001b[1;32m   1515\u001b[0m _p \u001b[38;5;241m=\u001b[39m \u001b[38;5;241m2.0\u001b[39m \u001b[38;5;28;01mif\u001b[39;00m p \u001b[38;5;129;01mis\u001b[39;00m \u001b[38;5;28;01mNone\u001b[39;00m \u001b[38;5;28;01melse\u001b[39;00m p\n\u001b[1;32m   1516\u001b[0m \u001b[38;5;28;01mif\u001b[39;00m out \u001b[38;5;129;01mis\u001b[39;00m \u001b[38;5;28;01mNone\u001b[39;00m:\n\u001b[0;32m-> 1517\u001b[0m     \u001b[38;5;28;01mreturn\u001b[39;00m \u001b[43mtorch\u001b[49m\u001b[38;5;241;43m.\u001b[39;49m\u001b[43mlinalg\u001b[49m\u001b[38;5;241;43m.\u001b[39;49m\u001b[43mvector_norm\u001b[49m\u001b[43m(\u001b[49m\u001b[38;5;28;43minput\u001b[39;49m\u001b[43m,\u001b[49m\u001b[43m \u001b[49m\u001b[43m_p\u001b[49m\u001b[43m,\u001b[49m\u001b[43m \u001b[49m\u001b[43m_dim\u001b[49m\u001b[43m,\u001b[49m\u001b[43m \u001b[49m\u001b[43mkeepdim\u001b[49m\u001b[43m,\u001b[49m\u001b[43m \u001b[49m\u001b[43mdtype\u001b[49m\u001b[38;5;241;43m=\u001b[39;49m\u001b[43mdtype\u001b[49m\u001b[43m)\u001b[49m\n\u001b[1;32m   1518\u001b[0m \u001b[38;5;28;01melse\u001b[39;00m:\n\u001b[1;32m   1519\u001b[0m     \u001b[38;5;28;01mreturn\u001b[39;00m torch\u001b[38;5;241m.\u001b[39mlinalg\u001b[38;5;241m.\u001b[39mvector_norm(\u001b[38;5;28minput\u001b[39m, _p, _dim, keepdim, dtype\u001b[38;5;241m=\u001b[39mdtype, out\u001b[38;5;241m=\u001b[39mout)\n",
      "\u001b[0;31mKeyboardInterrupt\u001b[0m: "
     ]
    }
   ],
   "source": [
    "from pykeen.evaluation import RankBasedEvaluator\n",
    "evaluator = RankBasedEvaluator()\n",
    "\n",
    "# Get triples to test\n",
    "mapped_triples = test_sub.mapped_triples\n",
    "\n",
    "# Evaluate\n",
    "results = evaluator.evaluate(\n",
    "    model=model,\n",
    "    mapped_triples=mapped_triples,\n",
    "    batch_size=1024,\n",
    "    additional_filter_triples=[\n",
    "        train_sub.mapped_triples,\n",
    "        valid_sub.mapped_triples,\n",
    "    ],\n",
    ")\n",
    "\n",
    "print(results)"
   ]
  },
  {
   "cell_type": "markdown",
   "metadata": {},
   "source": []
  },
  {
   "cell_type": "code",
   "execution_count": 23,
   "metadata": {},
   "outputs": [],
   "source": [
    "from pykeen.models import TransE\n",
    "from pykeen.training import SLCWATrainingLoop\n",
    "from pykeen.triples import TriplesFactory\n",
    "from torch.optim import Adam\n",
    "from pykeen.datasets import Nations\n",
    "\n",
    "def train2():\n",
    "        resolve_device(\"gpu\")\n",
    "        triples_factory = train_sub\n",
    "        model = TransE(\n",
    "            triples_factory=triples_factory,\n",
    "            random_seed=123,\n",
    "        )\n",
    "\n",
    "        optimizer = Adam(params=model.get_grad_params())\n",
    "        training_loop = SLCWATrainingLoop(model=model, triples_factory=triples_factory, optimizer=optimizer)\n",
    "\n",
    "        losses = training_loop.train(\n",
    "            triples_factory=triples_factory,\n",
    "            num_epochs=2,\n",
    "            batch_size=512,\n",
    "#             checkpoint_name=self.model_name + '-' + self.specification + '_checkpoint.pt',     \n",
    "#             checkpoint_frequency=10,\n",
    "#             checkpoint_directory='kg_checkpoints'\n",
    "        )\n",
    "\n",
    "        return model, losses"
   ]
  },
  {
   "cell_type": "code",
   "execution_count": 24,
   "metadata": {},
   "outputs": [
    {
     "data": {
      "application/vnd.jupyter.widget-view+json": {
       "model_id": "56dc4967dad944c891e2eec2671eaa22",
       "version_major": 2,
       "version_minor": 0
      },
      "text/plain": [
       "Training epochs on cpu:   0%|          | 0/2 [00:00<?, ?epoch/s]"
      ]
     },
     "metadata": {},
     "output_type": "display_data"
    },
    {
     "data": {
      "application/vnd.jupyter.widget-view+json": {
       "model_id": "",
       "version_major": 2,
       "version_minor": 0
      },
      "text/plain": [
       "Training batches on cpu:   0%|          | 0/607 [00:00<?, ?batch/s]"
      ]
     },
     "metadata": {},
     "output_type": "display_data"
    },
    {
     "data": {
      "application/vnd.jupyter.widget-view+json": {
       "model_id": "",
       "version_major": 2,
       "version_minor": 0
      },
      "text/plain": [
       "Training batches on cpu:   0%|          | 0/607 [00:00<?, ?batch/s]"
      ]
     },
     "metadata": {},
     "output_type": "display_data"
    },
    {
     "name": "stdout",
     "output_type": "stream",
     "text": [
      "[1.0312737463137267, 0.6153485694964596]\n"
     ]
    }
   ],
   "source": [
    "model, losses = train2()\n",
    "\n",
    "print(losses)"
   ]
  },
  {
   "cell_type": "code",
   "execution_count": 10,
   "metadata": {},
   "outputs": [
    {
     "name": "stderr",
     "output_type": "stream",
     "text": [
      "The filtered setting was enabled, but there were no `additional_filter_triples`\n",
      "given. This means you probably forgot to pass (at least) the training triples. Try:\n",
      "\n",
      "    additional_filter_triples=[dataset.training.mapped_triples]\n",
      "\n",
      "Or if you want to use the Bordes et al. (2013) approach to filtering, do:\n",
      "\n",
      "    additional_filter_triples=[\n",
      "        dataset.training.mapped_triples,\n",
      "        dataset.validation.mapped_triples,\n",
      "    ]\n",
      "\n"
     ]
    },
    {
     "data": {
      "application/vnd.jupyter.widget-view+json": {
       "model_id": "9ba1fc80ec1c44159e7634519c7ab55c",
       "version_major": 2,
       "version_minor": 0
      },
      "text/plain": [
       "Evaluating on cpu:   0%|          | 0.00/24.7k [00:00<?, ?triple/s]"
      ]
     },
     "metadata": {},
     "output_type": "display_data"
    }
   ],
   "source": [
    "evaluator = RankBasedEvaluator()\n",
    "results = evaluator.evaluate(model, test_sub.mapped_triples, batch_size=16)"
   ]
  },
  {
   "cell_type": "code",
   "execution_count": 11,
   "metadata": {},
   "outputs": [
    {
     "data": {
      "text/plain": [
       "0.0002942772989626974"
      ]
     },
     "execution_count": 11,
     "metadata": {},
     "output_type": "execute_result"
    }
   ],
   "source": [
    "results.get_metric('mrr')"
   ]
  },
  {
   "cell_type": "markdown",
   "metadata": {},
   "source": [
    "### Load model"
   ]
  },
  {
   "cell_type": "code",
   "execution_count": 109,
   "metadata": {
    "scrolled": true
   },
   "outputs": [],
   "source": [
    "import torch\n",
    "model = torch.load(\"results/results-complex_best_pipeline2.2/trained_model.pkl\")"
   ]
  },
  {
   "cell_type": "code",
   "execution_count": 110,
   "metadata": {},
   "outputs": [
    {
     "data": {
      "text/plain": [
       "<All keys matched successfully>"
      ]
     },
     "execution_count": 110,
     "metadata": {},
     "output_type": "execute_result"
    }
   ],
   "source": [
    "checkpoint = torch.load(\"kg_checkpoints/complex-best_pipeline2.2_checkpoint.pt\")\n",
    "model.load_state_dict(checkpoint['model_state_dict'])"
   ]
  },
  {
   "cell_type": "code",
   "execution_count": 94,
   "metadata": {},
   "outputs": [],
   "source": [
    "entity_ids = torch.as_tensor(tf_train.entities_to_ids([\"DB01558\"]))\n",
    "relation_ids = torch.as_tensor(tf_train.relations_to_ids([\"interacts\"]))"
   ]
  },
  {
   "cell_type": "code",
   "execution_count": 112,
   "metadata": {},
   "outputs": [
    {
     "name": "stdout",
     "output_type": "stream",
     "text": [
      "DB08813\n"
     ]
    },
    {
     "data": {
      "text/plain": [
       "TargetPredictions(df=      tail_id      score  tail_label\n",
       "3693     3693  15.568054     DB06822\n",
       "4805     4805  14.277541     DB14562\n",
       "2614     2614  13.750781     DB00686\n",
       "4196     4196  13.639177     DB11126\n",
       "3958     3958  13.620421     DB09258\n",
       "...       ...        ...         ...\n",
       "7010     7010  -7.504188   FDB013567\n",
       "8985     8985  -7.841544  SMP0000113\n",
       "6839     6839  -7.995562   FDB001014\n",
       "8586     8586  -8.243190      Q14643\n",
       "6840     6840  -9.058373   FDB001131\n",
       "\n",
       "[9981 rows x 3 columns], factory=TriplesFactory(num_entities=9981, num_relations=6, create_inverse_triples=False, num_triples=1167601), target='tail', other_columns_fixed_ids=(3709, 3))"
      ]
     },
     "execution_count": 112,
     "metadata": {},
     "output_type": "execute_result"
    }
   ],
   "source": [
    "\n",
    "head = common_drugs[1]\n",
    "print(head)\n",
    "relation = 'interacts'\n",
    "\n",
    "pred = predict_target(\n",
    "            model = model, \n",
    "            head = head, \n",
    "            relation = relation, \n",
    "            triples_factory = tf_train,\n",
    "        )\n",
    "pred"
   ]
  }
 ],
 "metadata": {
  "kernelspec": {
   "display_name": "Python 3 (ipykernel)",
   "language": "python",
   "name": "python3"
  },
  "language_info": {
   "codemirror_mode": {
    "name": "ipython",
    "version": 3
   },
   "file_extension": ".py",
   "mimetype": "text/x-python",
   "name": "python",
   "nbconvert_exporter": "python",
   "pygments_lexer": "ipython3",
   "version": "3.8.10"
  },
  "vscode": {
   "interpreter": {
    "hash": "8343f1c295490ad08729f17064e1ab8ac071c711efe2732632787d24e0261b0e"
   }
  }
 },
 "nbformat": 4,
 "nbformat_minor": 2
}
