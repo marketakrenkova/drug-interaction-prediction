{
 "cells": [
  {
   "cell_type": "code",
   "execution_count": 1,
   "id": "1b84966a",
   "metadata": {},
   "outputs": [],
   "source": [
    "import pandas as pd\n",
    "import json"
   ]
  },
  {
   "cell_type": "code",
   "execution_count": 6,
   "id": "13526644",
   "metadata": {},
   "outputs": [],
   "source": [
    "models = ['complex', 'rotate']\n",
    "data = ['interactions', 'drugbank']"
   ]
  },
  {
   "cell_type": "code",
   "execution_count": 7,
   "id": "114cbc7d",
   "metadata": {},
   "outputs": [
    {
     "name": "stdout",
     "output_type": "stream",
     "text": [
      "complex interactions 2\n",
      "Hits@10: 0.1995885374109957\n",
      "MRR: 0.1780621169181259\n",
      "\n",
      "rotate interactions 2\n",
      "Hits@10: 0.2033821641181277\n",
      "MRR: 0.18294653527533514\n",
      "\n",
      "complex drugbank 2\n",
      "Hits@10: 2.9181743901015526e-05\n",
      "MRR: 0.00014045936720391837\n",
      "\n",
      "rotate drugbank 2\n",
      "Hits@10: 7.295435975253881e-06\n",
      "MRR: 0.00015988820231439886\n",
      "\n"
     ]
    }
   ],
   "source": [
    "for d in data:\n",
    "    for model in models:\n",
    "        for i in range(2, 3):\n",
    "            file_path = f'../models/results/results-{model}_best_pipeline4-run{i}-{d}/results.json'\n",
    "\n",
    "            with open(file_path, 'r') as f:\n",
    "                data = json.load(f)\n",
    "\n",
    "            hits10 = data['metrics']['both']['optimistic']['hits_at_10']\n",
    "            mrr = data['metrics']['both']['optimistic']['inverse_harmonic_mean_rank']\n",
    "\n",
    "            print(model, d, i)\n",
    "            print('Hits@10:', hits10)\n",
    "            print('MRR:', mrr)\n",
    "            print()"
   ]
  }
 ],
 "metadata": {
  "kernelspec": {
   "display_name": "Python 3 (ipykernel)",
   "language": "python",
   "name": "python3"
  },
  "language_info": {
   "codemirror_mode": {
    "name": "ipython",
    "version": 3
   },
   "file_extension": ".py",
   "mimetype": "text/x-python",
   "name": "python",
   "nbconvert_exporter": "python",
   "pygments_lexer": "ipython3",
   "version": "3.8.10"
  }
 },
 "nbformat": 4,
 "nbformat_minor": 5
}
