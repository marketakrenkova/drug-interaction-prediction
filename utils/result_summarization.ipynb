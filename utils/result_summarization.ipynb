{
 "cells": [
  {
   "cell_type": "code",
   "execution_count": 14,
   "id": "1b84966a",
   "metadata": {},
   "outputs": [],
   "source": [
    "import pandas as pd\n",
    "import json\n",
    "import numpy as np"
   ]
  },
  {
   "cell_type": "code",
   "execution_count": 23,
   "id": "13526644",
   "metadata": {},
   "outputs": [],
   "source": [
    "models = ['complex', 'rotate']\n",
    "data = ['interactions', 'drugbank', 'biokg', 'hetionet']"
   ]
  },
  {
   "cell_type": "code",
   "execution_count": 24,
   "id": "114cbc7d",
   "metadata": {},
   "outputs": [
    {
     "name": "stdout",
     "output_type": "stream",
     "text": [
      "Model: complex\n",
      "Data: interactions \n",
      "Avg. hits@10: 0.20324111902260614, std: 0.004793881748219037\n",
      "Avg. MRR: 0.18913007935058287, std: 0.009138702018338692\n",
      "\n",
      "Model: rotate\n",
      "Data: interactions \n",
      "Avg. hits@10: 0.20473668339753318, std: 0.003536424911812766\n",
      "Avg. MRR: 0.18332870226667233, std: 0.0032039299861966342\n",
      "\n",
      "Model: complex\n",
      "Data: drugbank \n",
      "Avg. hits@10: 0.00029424925100190655, std: 0.0001913883931554317\n",
      "Avg. MRR: 0.00036931611303292375, std: 0.00016208486054077606\n",
      "\n",
      "Model: rotate\n",
      "Data: drugbank \n",
      "Avg. hits@10: 4.863623983502588e-06, std: 3.4391014998762084e-06\n",
      "Avg. MRR: 0.00014720783886709282, std: 8.969087669105636e-06\n",
      "\n",
      "\n",
      "Model: complex\n",
      "Data: biokg \n",
      "Avg. hits@10: 1.0943153962880822e-05, std: 3.6477179876269407e-06\n",
      "Avg. MRR: 7.07870131871536e-05, std: 2.8318564361147153e-06\n",
      "\n",
      "\n",
      "\n",
      "\n",
      "Model: rotate\n",
      "Data: biokg \n",
      "Avg. hits@10: nan, std: nan\n",
      "Avg. MRR: nan, std: nan\n",
      "\n",
      "Model: complex\n",
      "Data: hetionet \n",
      "Avg. hits@10: 0.00010699972763705693, std: 0.00011021233797930684\n",
      "Avg. MRR: 0.00011936409948924962, std: 7.464050314727505e-05\n",
      "\n",
      "\n",
      "\n",
      "\n",
      "Model: rotate\n",
      "Data: hetionet \n",
      "Avg. hits@10: nan, std: nan\n",
      "Avg. MRR: nan, std: nan\n",
      "\n"
     ]
    }
   ],
   "source": [
    "\n",
    "for d in data:\n",
    "    for model in models:\n",
    "        hits = []\n",
    "        mrrs = []\n",
    "        for i in range(1, 4):\n",
    "            file_path = f'../models/results/results-{model}_best_pipeline4-run{i}-{d}/results.json'\n",
    "\n",
    "            try:\n",
    "                with open(file_path, 'r') as f:\n",
    "                    data = json.load(f)\n",
    "\n",
    "                hits10 = data['metrics']['both']['optimistic']['hits_at_10']\n",
    "                mrr = data['metrics']['both']['optimistic']['inverse_harmonic_mean_rank']\n",
    "                \n",
    "                hits.append(hits10)\n",
    "                mrrs.append(mrr)\n",
    "                \n",
    "            except:\n",
    "                print()\n",
    "        \n",
    "        print(f'Model: {model}\\nData: {d} \\nAvg. hits@10: {np.mean(hits)}, std: {np.std(hits)}\\nAvg. MRR: {np.mean(mrrs)}, std: {np.std(mrrs)}')\n",
    "        print()"
   ]
  }
 ],
 "metadata": {
  "kernelspec": {
   "display_name": "Python 3 (ipykernel)",
   "language": "python",
   "name": "python3"
  },
  "language_info": {
   "codemirror_mode": {
    "name": "ipython",
    "version": 3
   },
   "file_extension": ".py",
   "mimetype": "text/x-python",
   "name": "python",
   "nbconvert_exporter": "python",
   "pygments_lexer": "ipython3",
   "version": "3.8.10"
  }
 },
 "nbformat": 4,
 "nbformat_minor": 5
}
