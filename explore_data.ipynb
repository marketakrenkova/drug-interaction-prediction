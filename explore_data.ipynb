{
 "cells": [
  {
   "cell_type": "markdown",
   "id": "d07cf306-3aff-45cc-ac11-19ce48f337e7",
   "metadata": {},
   "source": [
    "## Data Exploration "
   ]
  },
  {
   "cell_type": "code",
   "execution_count": 10,
   "id": "1c594a27-e105-4a1d-9a8e-1b8620bdf3d9",
   "metadata": {
    "tags": []
   },
   "outputs": [],
   "source": [
    "import pandas as pd"
   ]
  },
  {
   "cell_type": "markdown",
   "id": "7c4c23ae-b508-4614-bdf0-88d4d63ecc4b",
   "metadata": {},
   "source": [
    "#### Drugs ids with names"
   ]
  },
  {
   "cell_type": "code",
   "execution_count": 30,
   "id": "e6b64010-69f6-40fc-b13e-e2e41f1dcae2",
   "metadata": {},
   "outputs": [
    {
     "data": {
      "text/html": [
       "<div>\n",
       "<style scoped>\n",
       "    .dataframe tbody tr th:only-of-type {\n",
       "        vertical-align: middle;\n",
       "    }\n",
       "\n",
       "    .dataframe tbody tr th {\n",
       "        vertical-align: top;\n",
       "    }\n",
       "\n",
       "    .dataframe thead th {\n",
       "        text-align: right;\n",
       "    }\n",
       "</style>\n",
       "<table border=\"1\" class=\"dataframe\">\n",
       "  <thead>\n",
       "    <tr style=\"text-align: right;\">\n",
       "      <th></th>\n",
       "      <th>id</th>\n",
       "      <th>drug_name</th>\n",
       "    </tr>\n",
       "  </thead>\n",
       "  <tbody>\n",
       "    <tr>\n",
       "      <th>1</th>\n",
       "      <td>DB00001</td>\n",
       "      <td>Lepirudin</td>\n",
       "    </tr>\n",
       "    <tr>\n",
       "      <th>2</th>\n",
       "      <td>DB00002</td>\n",
       "      <td>Cetuximab</td>\n",
       "    </tr>\n",
       "    <tr>\n",
       "      <th>3</th>\n",
       "      <td>DB00003</td>\n",
       "      <td>Dornase alfa</td>\n",
       "    </tr>\n",
       "    <tr>\n",
       "      <th>4</th>\n",
       "      <td>DB00004</td>\n",
       "      <td>Denileukin diftitox</td>\n",
       "    </tr>\n",
       "    <tr>\n",
       "      <th>5</th>\n",
       "      <td>DB00005</td>\n",
       "      <td>Etanercept</td>\n",
       "    </tr>\n",
       "  </tbody>\n",
       "</table>\n",
       "</div>"
      ],
      "text/plain": [
       "        id            drug_name\n",
       "1  DB00001            Lepirudin\n",
       "2  DB00002            Cetuximab\n",
       "3  DB00003         Dornase alfa\n",
       "4  DB00004  Denileukin diftitox\n",
       "5  DB00005           Etanercept"
      ]
     },
     "execution_count": 30,
     "metadata": {},
     "output_type": "execute_result"
    }
   ],
   "source": [
    "drugs = pd.read_csv('data/drug_id_name_map.csv', index_col=[0])\n",
    "drugs.head()"
   ]
  },
  {
   "cell_type": "code",
   "execution_count": 18,
   "id": "ef2424b0-5b7a-4a32-8d7b-cf9017a5a53a",
   "metadata": {},
   "outputs": [
    {
     "name": "stdout",
     "output_type": "stream",
     "text": [
      "Number of drugs in dataset is 14594\n"
     ]
    }
   ],
   "source": [
    "num_drugs = len(drugs.id)\n",
    "print(f'Number of drugs in dataset is {num_drugs}')"
   ]
  },
  {
   "cell_type": "markdown",
   "id": "c2c07142-3b7a-4b82-b265-df3a6f77aa90",
   "metadata": {},
   "source": [
    "#### Drug's categories"
   ]
  },
  {
   "cell_type": "code",
   "execution_count": 31,
   "id": "53377c02-488a-4dfb-bc07-8e90ea3e44ef",
   "metadata": {},
   "outputs": [
    {
     "data": {
      "text/html": [
       "<div>\n",
       "<style scoped>\n",
       "    .dataframe tbody tr th:only-of-type {\n",
       "        vertical-align: middle;\n",
       "    }\n",
       "\n",
       "    .dataframe tbody tr th {\n",
       "        vertical-align: top;\n",
       "    }\n",
       "\n",
       "    .dataframe thead th {\n",
       "        text-align: right;\n",
       "    }\n",
       "</style>\n",
       "<table border=\"1\" class=\"dataframe\">\n",
       "  <thead>\n",
       "    <tr style=\"text-align: right;\">\n",
       "      <th></th>\n",
       "      <th>mesh_id</th>\n",
       "      <th>category</th>\n",
       "    </tr>\n",
       "  </thead>\n",
       "  <tbody>\n",
       "    <tr>\n",
       "      <th>1</th>\n",
       "      <td>D000602</td>\n",
       "      <td>Amino Acids, Peptides, and Proteins</td>\n",
       "    </tr>\n",
       "    <tr>\n",
       "      <th>2</th>\n",
       "      <td>D000925</td>\n",
       "      <td>Anticoagulants</td>\n",
       "    </tr>\n",
       "    <tr>\n",
       "      <th>3</th>\n",
       "      <td>D058833</td>\n",
       "      <td>Antithrombin Proteins</td>\n",
       "    </tr>\n",
       "    <tr>\n",
       "      <th>4</th>\n",
       "      <td>D000991</td>\n",
       "      <td>Antithrombins</td>\n",
       "    </tr>\n",
       "    <tr>\n",
       "      <th>6</th>\n",
       "      <td>D002317</td>\n",
       "      <td>Cardiovascular Agents</td>\n",
       "    </tr>\n",
       "  </tbody>\n",
       "</table>\n",
       "</div>"
      ],
      "text/plain": [
       "   mesh_id                             category\n",
       "1  D000602  Amino Acids, Peptides, and Proteins\n",
       "2  D000925                       Anticoagulants\n",
       "3  D058833                Antithrombin Proteins\n",
       "4  D000991                        Antithrombins\n",
       "6  D002317                Cardiovascular Agents"
      ]
     },
     "execution_count": 31,
     "metadata": {},
     "output_type": "execute_result"
    }
   ],
   "source": [
    "categories = pd.read_csv('data/drug_category.csv', index_col=[0]).dropna()\n",
    "categories.head()"
   ]
  },
  {
   "cell_type": "code",
   "execution_count": 32,
   "id": "9457cbe0-9fde-4958-a46c-0e8ba109cd07",
   "metadata": {},
   "outputs": [
    {
     "data": {
      "text/html": [
       "<div>\n",
       "<style scoped>\n",
       "    .dataframe tbody tr th:only-of-type {\n",
       "        vertical-align: middle;\n",
       "    }\n",
       "\n",
       "    .dataframe tbody tr th {\n",
       "        vertical-align: top;\n",
       "    }\n",
       "\n",
       "    .dataframe thead th {\n",
       "        text-align: right;\n",
       "    }\n",
       "</style>\n",
       "<table border=\"1\" class=\"dataframe\">\n",
       "  <thead>\n",
       "    <tr style=\"text-align: right;\">\n",
       "      <th></th>\n",
       "      <th>mesh_id</th>\n",
       "    </tr>\n",
       "    <tr>\n",
       "      <th>category</th>\n",
       "      <th></th>\n",
       "    </tr>\n",
       "  </thead>\n",
       "  <tbody>\n",
       "    <tr>\n",
       "      <th>11-Hydroxycorticosteroids</th>\n",
       "      <td>16</td>\n",
       "    </tr>\n",
       "    <tr>\n",
       "      <th>14-alpha Demethylase Inhibitors</th>\n",
       "      <td>8</td>\n",
       "    </tr>\n",
       "    <tr>\n",
       "      <th>17-Hydroxycorticosteroids</th>\n",
       "      <td>17</td>\n",
       "    </tr>\n",
       "    <tr>\n",
       "      <th>17-Ketosteroids</th>\n",
       "      <td>17</td>\n",
       "    </tr>\n",
       "    <tr>\n",
       "      <th>2-Chloroadenosine</th>\n",
       "      <td>1</td>\n",
       "    </tr>\n",
       "    <tr>\n",
       "      <th>...</th>\n",
       "      <td>...</td>\n",
       "    </tr>\n",
       "    <tr>\n",
       "      <th>meta-Aminobenzoates</th>\n",
       "      <td>3</td>\n",
       "    </tr>\n",
       "    <tr>\n",
       "      <th>ortho-Aminobenzoates</th>\n",
       "      <td>8</td>\n",
       "    </tr>\n",
       "    <tr>\n",
       "      <th>p38 Mitogen-Activated Protein Kinases</th>\n",
       "      <td>1</td>\n",
       "    </tr>\n",
       "    <tr>\n",
       "      <th>para-Aminobenzoates</th>\n",
       "      <td>19</td>\n",
       "    </tr>\n",
       "    <tr>\n",
       "      <th>von Willebrand Factor</th>\n",
       "      <td>1</td>\n",
       "    </tr>\n",
       "  </tbody>\n",
       "</table>\n",
       "<p>2181 rows × 1 columns</p>\n",
       "</div>"
      ],
      "text/plain": [
       "                                       mesh_id\n",
       "category                                      \n",
       "11-Hydroxycorticosteroids                   16\n",
       "14-alpha Demethylase Inhibitors              8\n",
       "17-Hydroxycorticosteroids                   17\n",
       "17-Ketosteroids                             17\n",
       "2-Chloroadenosine                            1\n",
       "...                                        ...\n",
       "meta-Aminobenzoates                          3\n",
       "ortho-Aminobenzoates                         8\n",
       "p38 Mitogen-Activated Protein Kinases        1\n",
       "para-Aminobenzoates                         19\n",
       "von Willebrand Factor                        1\n",
       "\n",
       "[2181 rows x 1 columns]"
      ]
     },
     "execution_count": 32,
     "metadata": {},
     "output_type": "execute_result"
    }
   ],
   "source": [
    "categories.groupby('category').count()"
   ]
  },
  {
   "cell_type": "code",
   "execution_count": null,
   "id": "c22e3c01-6468-451a-99d3-2d1c7cad958f",
   "metadata": {},
   "outputs": [],
   "source": []
  }
 ],
 "metadata": {
  "kernelspec": {
   "display_name": "Python 3 (ipykernel)",
   "language": "python",
   "name": "python3"
  },
  "language_info": {
   "codemirror_mode": {
    "name": "ipython",
    "version": 3
   },
   "file_extension": ".py",
   "mimetype": "text/x-python",
   "name": "python",
   "nbconvert_exporter": "python",
   "pygments_lexer": "ipython3",
   "version": "3.9.7"
  }
 },
 "nbformat": 4,
 "nbformat_minor": 5
}
