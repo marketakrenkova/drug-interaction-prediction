{
 "cells": [
  {
   "cell_type": "markdown",
   "id": "d07cf306-3aff-45cc-ac11-19ce48f337e7",
   "metadata": {},
   "source": [
    "## DrugBank Data Exploration "
   ]
  },
  {
   "cell_type": "code",
   "execution_count": 1,
   "id": "1c594a27-e105-4a1d-9a8e-1b8620bdf3d9",
   "metadata": {
    "tags": []
   },
   "outputs": [],
   "source": [
    "import pandas as pd"
   ]
  },
  {
   "cell_type": "code",
   "execution_count": 2,
   "id": "901ada14",
   "metadata": {},
   "outputs": [],
   "source": [
    "drug_dir = '../data/drugbank/'"
   ]
  },
  {
   "cell_type": "markdown",
   "id": "7c4c23ae-b508-4614-bdf0-88d4d63ecc4b",
   "metadata": {},
   "source": [
    "#### Drugs ids with names"
   ]
  },
  {
   "cell_type": "code",
   "execution_count": 3,
   "id": "e6b64010-69f6-40fc-b13e-e2e41f1dcae2",
   "metadata": {},
   "outputs": [
    {
     "data": {
      "text/html": [
       "<div>\n",
       "<style scoped>\n",
       "    .dataframe tbody tr th:only-of-type {\n",
       "        vertical-align: middle;\n",
       "    }\n",
       "\n",
       "    .dataframe tbody tr th {\n",
       "        vertical-align: top;\n",
       "    }\n",
       "\n",
       "    .dataframe thead th {\n",
       "        text-align: right;\n",
       "    }\n",
       "</style>\n",
       "<table border=\"1\" class=\"dataframe\">\n",
       "  <thead>\n",
       "    <tr style=\"text-align: right;\">\n",
       "      <th></th>\n",
       "      <th>id</th>\n",
       "      <th>drug_name</th>\n",
       "    </tr>\n",
       "  </thead>\n",
       "  <tbody>\n",
       "    <tr>\n",
       "      <th>1</th>\n",
       "      <td>DB00001</td>\n",
       "      <td>Lepirudin</td>\n",
       "    </tr>\n",
       "    <tr>\n",
       "      <th>2</th>\n",
       "      <td>DB00002</td>\n",
       "      <td>Cetuximab</td>\n",
       "    </tr>\n",
       "    <tr>\n",
       "      <th>3</th>\n",
       "      <td>DB00003</td>\n",
       "      <td>Dornase alfa</td>\n",
       "    </tr>\n",
       "    <tr>\n",
       "      <th>4</th>\n",
       "      <td>DB00004</td>\n",
       "      <td>Denileukin diftitox</td>\n",
       "    </tr>\n",
       "    <tr>\n",
       "      <th>5</th>\n",
       "      <td>DB00005</td>\n",
       "      <td>Etanercept</td>\n",
       "    </tr>\n",
       "  </tbody>\n",
       "</table>\n",
       "</div>"
      ],
      "text/plain": [
       "        id            drug_name\n",
       "1  DB00001            Lepirudin\n",
       "2  DB00002            Cetuximab\n",
       "3  DB00003         Dornase alfa\n",
       "4  DB00004  Denileukin diftitox\n",
       "5  DB00005           Etanercept"
      ]
     },
     "execution_count": 3,
     "metadata": {},
     "output_type": "execute_result"
    }
   ],
   "source": [
    "drugs = pd.read_csv(drug_dir + 'drug_id_name_map.csv', index_col=[0])\n",
    "drugs.head()"
   ]
  },
  {
   "cell_type": "code",
   "execution_count": 4,
   "id": "ef2424b0-5b7a-4a32-8d7b-cf9017a5a53a",
   "metadata": {},
   "outputs": [
    {
     "name": "stdout",
     "output_type": "stream",
     "text": [
      "Number of drugs in dataset is 14594\n"
     ]
    }
   ],
   "source": [
    "num_drugs = len(drugs.id)\n",
    "print(f'Number of drugs in dataset is {num_drugs}')"
   ]
  },
  {
   "cell_type": "markdown",
   "id": "c2c07142-3b7a-4b82-b265-df3a6f77aa90",
   "metadata": {},
   "source": [
    "#### Drug's categories"
   ]
  },
  {
   "cell_type": "code",
   "execution_count": 5,
   "id": "53377c02-488a-4dfb-bc07-8e90ea3e44ef",
   "metadata": {},
   "outputs": [
    {
     "data": {
      "text/html": [
       "<div>\n",
       "<style scoped>\n",
       "    .dataframe tbody tr th:only-of-type {\n",
       "        vertical-align: middle;\n",
       "    }\n",
       "\n",
       "    .dataframe tbody tr th {\n",
       "        vertical-align: top;\n",
       "    }\n",
       "\n",
       "    .dataframe thead th {\n",
       "        text-align: right;\n",
       "    }\n",
       "</style>\n",
       "<table border=\"1\" class=\"dataframe\">\n",
       "  <thead>\n",
       "    <tr style=\"text-align: right;\">\n",
       "      <th></th>\n",
       "      <th>mesh_id</th>\n",
       "      <th>category</th>\n",
       "    </tr>\n",
       "  </thead>\n",
       "  <tbody>\n",
       "    <tr>\n",
       "      <th>1</th>\n",
       "      <td>D000602</td>\n",
       "      <td>Amino Acids, Peptides, and Proteins</td>\n",
       "    </tr>\n",
       "    <tr>\n",
       "      <th>2</th>\n",
       "      <td>D000925</td>\n",
       "      <td>Anticoagulants</td>\n",
       "    </tr>\n",
       "    <tr>\n",
       "      <th>3</th>\n",
       "      <td>D058833</td>\n",
       "      <td>Antithrombin Proteins</td>\n",
       "    </tr>\n",
       "    <tr>\n",
       "      <th>4</th>\n",
       "      <td>D000991</td>\n",
       "      <td>Antithrombins</td>\n",
       "    </tr>\n",
       "    <tr>\n",
       "      <th>6</th>\n",
       "      <td>D002317</td>\n",
       "      <td>Cardiovascular Agents</td>\n",
       "    </tr>\n",
       "  </tbody>\n",
       "</table>\n",
       "</div>"
      ],
      "text/plain": [
       "   mesh_id                             category\n",
       "1  D000602  Amino Acids, Peptides, and Proteins\n",
       "2  D000925                       Anticoagulants\n",
       "3  D058833                Antithrombin Proteins\n",
       "4  D000991                        Antithrombins\n",
       "6  D002317                Cardiovascular Agents"
      ]
     },
     "execution_count": 5,
     "metadata": {},
     "output_type": "execute_result"
    }
   ],
   "source": [
    "categories = pd.read_csv(drug_dir + 'drug_category.csv', index_col=[0]).dropna()\n",
    "categories.head()\n",
    "# mesh-id - The Medical Subjects Headings (MeSH) identifier for the category"
   ]
  },
  {
   "cell_type": "code",
   "execution_count": 6,
   "id": "9457cbe0-9fde-4958-a46c-0e8ba109cd07",
   "metadata": {},
   "outputs": [
    {
     "data": {
      "text/html": [
       "<div>\n",
       "<style scoped>\n",
       "    .dataframe tbody tr th:only-of-type {\n",
       "        vertical-align: middle;\n",
       "    }\n",
       "\n",
       "    .dataframe tbody tr th {\n",
       "        vertical-align: top;\n",
       "    }\n",
       "\n",
       "    .dataframe thead th {\n",
       "        text-align: right;\n",
       "    }\n",
       "</style>\n",
       "<table border=\"1\" class=\"dataframe\">\n",
       "  <thead>\n",
       "    <tr style=\"text-align: right;\">\n",
       "      <th></th>\n",
       "      <th>mesh_id</th>\n",
       "    </tr>\n",
       "    <tr>\n",
       "      <th>category</th>\n",
       "      <th></th>\n",
       "    </tr>\n",
       "  </thead>\n",
       "  <tbody>\n",
       "    <tr>\n",
       "      <th>11-Hydroxycorticosteroids</th>\n",
       "      <td>16</td>\n",
       "    </tr>\n",
       "    <tr>\n",
       "      <th>14-alpha Demethylase Inhibitors</th>\n",
       "      <td>8</td>\n",
       "    </tr>\n",
       "    <tr>\n",
       "      <th>17-Hydroxycorticosteroids</th>\n",
       "      <td>17</td>\n",
       "    </tr>\n",
       "    <tr>\n",
       "      <th>17-Ketosteroids</th>\n",
       "      <td>17</td>\n",
       "    </tr>\n",
       "    <tr>\n",
       "      <th>2-Chloroadenosine</th>\n",
       "      <td>1</td>\n",
       "    </tr>\n",
       "    <tr>\n",
       "      <th>...</th>\n",
       "      <td>...</td>\n",
       "    </tr>\n",
       "    <tr>\n",
       "      <th>meta-Aminobenzoates</th>\n",
       "      <td>3</td>\n",
       "    </tr>\n",
       "    <tr>\n",
       "      <th>ortho-Aminobenzoates</th>\n",
       "      <td>8</td>\n",
       "    </tr>\n",
       "    <tr>\n",
       "      <th>p38 Mitogen-Activated Protein Kinases</th>\n",
       "      <td>1</td>\n",
       "    </tr>\n",
       "    <tr>\n",
       "      <th>para-Aminobenzoates</th>\n",
       "      <td>19</td>\n",
       "    </tr>\n",
       "    <tr>\n",
       "      <th>von Willebrand Factor</th>\n",
       "      <td>1</td>\n",
       "    </tr>\n",
       "  </tbody>\n",
       "</table>\n",
       "<p>2181 rows × 1 columns</p>\n",
       "</div>"
      ],
      "text/plain": [
       "                                       mesh_id\n",
       "category                                      \n",
       "11-Hydroxycorticosteroids                   16\n",
       "14-alpha Demethylase Inhibitors              8\n",
       "17-Hydroxycorticosteroids                   17\n",
       "17-Ketosteroids                             17\n",
       "2-Chloroadenosine                            1\n",
       "...                                        ...\n",
       "meta-Aminobenzoates                          3\n",
       "ortho-Aminobenzoates                         8\n",
       "p38 Mitogen-Activated Protein Kinases        1\n",
       "para-Aminobenzoates                         19\n",
       "von Willebrand Factor                        1\n",
       "\n",
       "[2181 rows x 1 columns]"
      ]
     },
     "execution_count": 6,
     "metadata": {},
     "output_type": "execute_result"
    }
   ],
   "source": [
    "categories.groupby('category').count()"
   ]
  },
  {
   "cell_type": "markdown",
   "id": "6aa967db-8355-4b4e-847f-c3a2cb22d588",
   "metadata": {},
   "source": [
    "#### Drugs classification"
   ]
  },
  {
   "cell_type": "code",
   "execution_count": 7,
   "id": "7e8286bf-bef6-47f4-a9bf-d0e7d73867ba",
   "metadata": {},
   "outputs": [],
   "source": [
    "drug_class = pd.read_csv(drug_dir + 'drug_classification.csv', index_col=[0])"
   ]
  },
  {
   "cell_type": "code",
   "execution_count": 8,
   "id": "8c1f7d77-3333-4585-8e9e-b9c2a665476e",
   "metadata": {},
   "outputs": [
    {
     "data": {
      "text/html": [
       "<div>\n",
       "<style scoped>\n",
       "    .dataframe tbody tr th:only-of-type {\n",
       "        vertical-align: middle;\n",
       "    }\n",
       "\n",
       "    .dataframe tbody tr th {\n",
       "        vertical-align: top;\n",
       "    }\n",
       "\n",
       "    .dataframe thead th {\n",
       "        text-align: right;\n",
       "    }\n",
       "</style>\n",
       "<table border=\"1\" class=\"dataframe\">\n",
       "  <thead>\n",
       "    <tr style=\"text-align: right;\">\n",
       "      <th></th>\n",
       "      <th>id</th>\n",
       "      <th>kingdom</th>\n",
       "      <th>superclass</th>\n",
       "      <th>class</th>\n",
       "      <th>subclass</th>\n",
       "      <th>substituent</th>\n",
       "    </tr>\n",
       "  </thead>\n",
       "  <tbody>\n",
       "    <tr>\n",
       "      <th>1</th>\n",
       "      <td>DB00001</td>\n",
       "      <td>Organic Compounds</td>\n",
       "      <td>Organic Acids</td>\n",
       "      <td>Carboxylic Acids and Derivatives</td>\n",
       "      <td>Amino Acids, Peptides, and Analogues</td>\n",
       "      <td>NaN</td>\n",
       "    </tr>\n",
       "    <tr>\n",
       "      <th>2</th>\n",
       "      <td>DB00002</td>\n",
       "      <td>Organic Compounds</td>\n",
       "      <td>Organic Acids</td>\n",
       "      <td>Carboxylic Acids and Derivatives</td>\n",
       "      <td>Amino Acids, Peptides, and Analogues</td>\n",
       "      <td>NaN</td>\n",
       "    </tr>\n",
       "    <tr>\n",
       "      <th>3</th>\n",
       "      <td>DB00003</td>\n",
       "      <td>Organic Compounds</td>\n",
       "      <td>Organic Acids</td>\n",
       "      <td>Carboxylic Acids and Derivatives</td>\n",
       "      <td>Amino Acids, Peptides, and Analogues</td>\n",
       "      <td>NaN</td>\n",
       "    </tr>\n",
       "    <tr>\n",
       "      <th>4</th>\n",
       "      <td>DB00004</td>\n",
       "      <td>Organic Compounds</td>\n",
       "      <td>Organic Acids</td>\n",
       "      <td>Carboxylic Acids and Derivatives</td>\n",
       "      <td>Amino Acids, Peptides, and Analogues</td>\n",
       "      <td>NaN</td>\n",
       "    </tr>\n",
       "    <tr>\n",
       "      <th>5</th>\n",
       "      <td>DB00005</td>\n",
       "      <td>Organic Compounds</td>\n",
       "      <td>Organic Acids</td>\n",
       "      <td>Carboxylic Acids and Derivatives</td>\n",
       "      <td>Amino Acids, Peptides, and Analogues</td>\n",
       "      <td>NaN</td>\n",
       "    </tr>\n",
       "  </tbody>\n",
       "</table>\n",
       "</div>"
      ],
      "text/plain": [
       "        id            kingdom     superclass  \\\n",
       "1  DB00001  Organic Compounds  Organic Acids   \n",
       "2  DB00002  Organic Compounds  Organic Acids   \n",
       "3  DB00003  Organic Compounds  Organic Acids   \n",
       "4  DB00004  Organic Compounds  Organic Acids   \n",
       "5  DB00005  Organic Compounds  Organic Acids   \n",
       "\n",
       "                              class                              subclass  \\\n",
       "1  Carboxylic Acids and Derivatives  Amino Acids, Peptides, and Analogues   \n",
       "2  Carboxylic Acids and Derivatives  Amino Acids, Peptides, and Analogues   \n",
       "3  Carboxylic Acids and Derivatives  Amino Acids, Peptides, and Analogues   \n",
       "4  Carboxylic Acids and Derivatives  Amino Acids, Peptides, and Analogues   \n",
       "5  Carboxylic Acids and Derivatives  Amino Acids, Peptides, and Analogues   \n",
       "\n",
       "  substituent  \n",
       "1         NaN  \n",
       "2         NaN  \n",
       "3         NaN  \n",
       "4         NaN  \n",
       "5         NaN  "
      ]
     },
     "execution_count": 8,
     "metadata": {},
     "output_type": "execute_result"
    }
   ],
   "source": [
    "drug_class.head()"
   ]
  },
  {
   "cell_type": "markdown",
   "id": "74408cf6-21d9-4715-a752-bc24cffde212",
   "metadata": {},
   "source": [
    "#### Drugs interactions"
   ]
  },
  {
   "cell_type": "code",
   "execution_count": 9,
   "id": "1a0008fb-4c27-4fcb-bde9-f02495a7b307",
   "metadata": {},
   "outputs": [],
   "source": [
    "interactions = pd.read_csv(drug_dir + 'drug_interactions.csv', index_col=[0])"
   ]
  },
  {
   "cell_type": "code",
   "execution_count": 10,
   "id": "ce28bf1b-706b-4306-b706-8e72fc93ce6b",
   "metadata": {},
   "outputs": [
    {
     "data": {
      "text/html": [
       "<div>\n",
       "<style scoped>\n",
       "    .dataframe tbody tr th:only-of-type {\n",
       "        vertical-align: middle;\n",
       "    }\n",
       "\n",
       "    .dataframe tbody tr th {\n",
       "        vertical-align: top;\n",
       "    }\n",
       "\n",
       "    .dataframe thead th {\n",
       "        text-align: right;\n",
       "    }\n",
       "</style>\n",
       "<table border=\"1\" class=\"dataframe\">\n",
       "  <thead>\n",
       "    <tr style=\"text-align: right;\">\n",
       "      <th></th>\n",
       "      <th>id</th>\n",
       "      <th>interacted_drug_name</th>\n",
       "      <th>description</th>\n",
       "    </tr>\n",
       "  </thead>\n",
       "  <tbody>\n",
       "    <tr>\n",
       "      <th>1</th>\n",
       "      <td>DB06605</td>\n",
       "      <td>Apixaban</td>\n",
       "      <td>Apixaban may increase the anticoagulant activi...</td>\n",
       "    </tr>\n",
       "    <tr>\n",
       "      <th>2</th>\n",
       "      <td>DB06695</td>\n",
       "      <td>Dabigatran etexilate</td>\n",
       "      <td>Dabigatran etexilate may increase the anticoag...</td>\n",
       "    </tr>\n",
       "    <tr>\n",
       "      <th>3</th>\n",
       "      <td>DB01254</td>\n",
       "      <td>Dasatinib</td>\n",
       "      <td>The risk or severity of bleeding and hemorrhag...</td>\n",
       "    </tr>\n",
       "    <tr>\n",
       "      <th>4</th>\n",
       "      <td>DB01609</td>\n",
       "      <td>Deferasirox</td>\n",
       "      <td>The risk or severity of gastrointestinal bleed...</td>\n",
       "    </tr>\n",
       "    <tr>\n",
       "      <th>5</th>\n",
       "      <td>DB01586</td>\n",
       "      <td>Ursodeoxycholic acid</td>\n",
       "      <td>The risk or severity of bleeding and bruising ...</td>\n",
       "    </tr>\n",
       "  </tbody>\n",
       "</table>\n",
       "</div>"
      ],
      "text/plain": [
       "        id  interacted_drug_name  \\\n",
       "1  DB06605              Apixaban   \n",
       "2  DB06695  Dabigatran etexilate   \n",
       "3  DB01254             Dasatinib   \n",
       "4  DB01609           Deferasirox   \n",
       "5  DB01586  Ursodeoxycholic acid   \n",
       "\n",
       "                                         description  \n",
       "1  Apixaban may increase the anticoagulant activi...  \n",
       "2  Dabigatran etexilate may increase the anticoag...  \n",
       "3  The risk or severity of bleeding and hemorrhag...  \n",
       "4  The risk or severity of gastrointestinal bleed...  \n",
       "5  The risk or severity of bleeding and bruising ...  "
      ]
     },
     "execution_count": 10,
     "metadata": {},
     "output_type": "execute_result"
    }
   ],
   "source": [
    "interactions.head()"
   ]
  },
  {
   "cell_type": "code",
   "execution_count": 11,
   "id": "e1678ada-33ae-452f-b332-9ed8f05d5b7d",
   "metadata": {},
   "outputs": [],
   "source": [
    "food_interactions = pd.read_csv(drug_dir + 'drug_food_interactions.csv', index_col=[0])"
   ]
  },
  {
   "cell_type": "code",
   "execution_count": 12,
   "id": "7038a793-11dc-48b9-88e7-ae10229d5bad",
   "metadata": {},
   "outputs": [
    {
     "data": {
      "text/html": [
       "<div>\n",
       "<style scoped>\n",
       "    .dataframe tbody tr th:only-of-type {\n",
       "        vertical-align: middle;\n",
       "    }\n",
       "\n",
       "    .dataframe tbody tr th {\n",
       "        vertical-align: top;\n",
       "    }\n",
       "\n",
       "    .dataframe thead th {\n",
       "        text-align: right;\n",
       "    }\n",
       "</style>\n",
       "<table border=\"1\" class=\"dataframe\">\n",
       "  <thead>\n",
       "    <tr style=\"text-align: right;\">\n",
       "      <th></th>\n",
       "      <th>id</th>\n",
       "      <th>description</th>\n",
       "    </tr>\n",
       "  </thead>\n",
       "  <tbody>\n",
       "    <tr>\n",
       "      <th>1</th>\n",
       "      <td>DB00001</td>\n",
       "      <td>Avoid herbs and supplements with anticoagulant...</td>\n",
       "    </tr>\n",
       "    <tr>\n",
       "      <th>2</th>\n",
       "      <td>DB00006</td>\n",
       "      <td>Avoid echinacea.</td>\n",
       "    </tr>\n",
       "    <tr>\n",
       "      <th>3</th>\n",
       "      <td>DB00006</td>\n",
       "      <td>Avoid herbs and supplements with anticoagulant...</td>\n",
       "    </tr>\n",
       "    <tr>\n",
       "      <th>4</th>\n",
       "      <td>DB00008</td>\n",
       "      <td>Drink plenty of fluids.</td>\n",
       "    </tr>\n",
       "    <tr>\n",
       "      <th>5</th>\n",
       "      <td>DB00009</td>\n",
       "      <td>Avoid herbs and supplements with anticoagulant...</td>\n",
       "    </tr>\n",
       "  </tbody>\n",
       "</table>\n",
       "</div>"
      ],
      "text/plain": [
       "        id                                        description\n",
       "1  DB00001  Avoid herbs and supplements with anticoagulant...\n",
       "2  DB00006                                   Avoid echinacea.\n",
       "3  DB00006  Avoid herbs and supplements with anticoagulant...\n",
       "4  DB00008                            Drink plenty of fluids.\n",
       "5  DB00009  Avoid herbs and supplements with anticoagulant..."
      ]
     },
     "execution_count": 12,
     "metadata": {},
     "output_type": "execute_result"
    }
   ],
   "source": [
    "food_interactions.head()"
   ]
  },
  {
   "cell_type": "markdown",
   "id": "cd8f6492-b88d-47b5-975f-88481318c0c7",
   "metadata": {},
   "source": [
    "#### Drugs mixtures"
   ]
  },
  {
   "cell_type": "code",
   "execution_count": 13,
   "id": "cfc898ea-197a-462a-a934-f7375e4f5dd1",
   "metadata": {},
   "outputs": [],
   "source": [
    "mixtures = pd.read_csv(drug_dir + 'drug_mixtures.csv', index_col=[0])"
   ]
  },
  {
   "cell_type": "code",
   "execution_count": 14,
   "id": "90ed5787-d699-40dd-ada0-c853347e84dd",
   "metadata": {},
   "outputs": [
    {
     "data": {
      "text/html": [
       "<div>\n",
       "<style scoped>\n",
       "    .dataframe tbody tr th:only-of-type {\n",
       "        vertical-align: middle;\n",
       "    }\n",
       "\n",
       "    .dataframe tbody tr th {\n",
       "        vertical-align: top;\n",
       "    }\n",
       "\n",
       "    .dataframe thead th {\n",
       "        text-align: right;\n",
       "    }\n",
       "</style>\n",
       "<table border=\"1\" class=\"dataframe\">\n",
       "  <thead>\n",
       "    <tr style=\"text-align: right;\">\n",
       "      <th></th>\n",
       "      <th>drug_name</th>\n",
       "      <th>ingredients</th>\n",
       "    </tr>\n",
       "  </thead>\n",
       "  <tbody>\n",
       "    <tr>\n",
       "      <th>1</th>\n",
       "      <td>Refludan</td>\n",
       "      <td>Lepirudin</td>\n",
       "    </tr>\n",
       "    <tr>\n",
       "      <th>2</th>\n",
       "      <td>Erbitux</td>\n",
       "      <td>Cetuximab</td>\n",
       "    </tr>\n",
       "    <tr>\n",
       "      <th>3</th>\n",
       "      <td>Pulmozyme</td>\n",
       "      <td>Dornase alfa</td>\n",
       "    </tr>\n",
       "    <tr>\n",
       "      <th>4</th>\n",
       "      <td>Pulmozyme 1mg/ml</td>\n",
       "      <td>Dornase alfa</td>\n",
       "    </tr>\n",
       "    <tr>\n",
       "      <th>5</th>\n",
       "      <td>Ontak</td>\n",
       "      <td>Denileukin diftitox</td>\n",
       "    </tr>\n",
       "  </tbody>\n",
       "</table>\n",
       "</div>"
      ],
      "text/plain": [
       "          drug_name          ingredients\n",
       "1          Refludan            Lepirudin\n",
       "2           Erbitux            Cetuximab\n",
       "3         Pulmozyme         Dornase alfa\n",
       "4  Pulmozyme 1mg/ml         Dornase alfa\n",
       "5             Ontak  Denileukin diftitox"
      ]
     },
     "execution_count": 14,
     "metadata": {},
     "output_type": "execute_result"
    }
   ],
   "source": [
    "mixtures.head()"
   ]
  },
  {
   "cell_type": "markdown",
   "id": "8a26a986",
   "metadata": {},
   "source": [
    "#### Drug InChi key"
   ]
  },
  {
   "cell_type": "code",
   "execution_count": 15,
   "id": "82d666fc-bc55-43e5-a29d-4e58ff307cc5",
   "metadata": {},
   "outputs": [
    {
     "data": {
      "text/html": [
       "<div>\n",
       "<style scoped>\n",
       "    .dataframe tbody tr th:only-of-type {\n",
       "        vertical-align: middle;\n",
       "    }\n",
       "\n",
       "    .dataframe tbody tr th {\n",
       "        vertical-align: top;\n",
       "    }\n",
       "\n",
       "    .dataframe thead th {\n",
       "        text-align: right;\n",
       "    }\n",
       "</style>\n",
       "<table border=\"1\" class=\"dataframe\">\n",
       "  <thead>\n",
       "    <tr style=\"text-align: right;\">\n",
       "      <th></th>\n",
       "      <th>id</th>\n",
       "      <th>inchi_key</th>\n",
       "    </tr>\n",
       "  </thead>\n",
       "  <tbody>\n",
       "    <tr>\n",
       "      <th>1</th>\n",
       "      <td>DB00006</td>\n",
       "      <td>OIRCOABEOLEUMC-GEJPAHFPSA-N</td>\n",
       "    </tr>\n",
       "    <tr>\n",
       "      <th>2</th>\n",
       "      <td>DB00007</td>\n",
       "      <td>GFIJNRVAKGFPGQ-LIJARHBVSA-N</td>\n",
       "    </tr>\n",
       "    <tr>\n",
       "      <th>3</th>\n",
       "      <td>DB00014</td>\n",
       "      <td>BLCLNMBMMGCOAS-URPVMXJPSA-N</td>\n",
       "    </tr>\n",
       "    <tr>\n",
       "      <th>4</th>\n",
       "      <td>DB00027</td>\n",
       "      <td>NDAYQJDHGXTBJL-MWWSRJDJSA-N</td>\n",
       "    </tr>\n",
       "    <tr>\n",
       "      <th>5</th>\n",
       "      <td>DB00035</td>\n",
       "      <td>NFLWUMRGJYTJIN-PNIOQBSNSA-N</td>\n",
       "    </tr>\n",
       "  </tbody>\n",
       "</table>\n",
       "</div>"
      ],
      "text/plain": [
       "        id                    inchi_key\n",
       "1  DB00006  OIRCOABEOLEUMC-GEJPAHFPSA-N\n",
       "2  DB00007  GFIJNRVAKGFPGQ-LIJARHBVSA-N\n",
       "3  DB00014  BLCLNMBMMGCOAS-URPVMXJPSA-N\n",
       "4  DB00027  NDAYQJDHGXTBJL-MWWSRJDJSA-N\n",
       "5  DB00035  NFLWUMRGJYTJIN-PNIOQBSNSA-N"
      ]
     },
     "execution_count": 15,
     "metadata": {},
     "output_type": "execute_result"
    }
   ],
   "source": [
    "inchi_key = pd.read_csv(drug_dir + 'drug_inchi_key.csv', index_col=[0])\n",
    "inchi_key.head()"
   ]
  },
  {
   "cell_type": "markdown",
   "id": "80c4b30d",
   "metadata": {},
   "source": [
    "#### Drug molecules"
   ]
  },
  {
   "cell_type": "code",
   "execution_count": 16,
   "id": "4df780b6",
   "metadata": {},
   "outputs": [
    {
     "data": {
      "text/html": [
       "<div>\n",
       "<style scoped>\n",
       "    .dataframe tbody tr th:only-of-type {\n",
       "        vertical-align: middle;\n",
       "    }\n",
       "\n",
       "    .dataframe tbody tr th {\n",
       "        vertical-align: top;\n",
       "    }\n",
       "\n",
       "    .dataframe thead th {\n",
       "        text-align: right;\n",
       "    }\n",
       "</style>\n",
       "<table border=\"1\" class=\"dataframe\">\n",
       "  <thead>\n",
       "    <tr style=\"text-align: right;\">\n",
       "      <th></th>\n",
       "      <th>id</th>\n",
       "      <th>molecule</th>\n",
       "    </tr>\n",
       "  </thead>\n",
       "  <tbody>\n",
       "    <tr>\n",
       "      <th>1</th>\n",
       "      <td>DB00001</td>\n",
       "      <td>C287H440N80O110S6</td>\n",
       "    </tr>\n",
       "    <tr>\n",
       "      <th>2</th>\n",
       "      <td>DB00002</td>\n",
       "      <td>C6484H10042N1732O2023S36</td>\n",
       "    </tr>\n",
       "    <tr>\n",
       "      <th>3</th>\n",
       "      <td>DB00003</td>\n",
       "      <td>C1321H1999N339O396S9</td>\n",
       "    </tr>\n",
       "    <tr>\n",
       "      <th>4</th>\n",
       "      <td>DB00004</td>\n",
       "      <td>C2560H4042N678O799S17</td>\n",
       "    </tr>\n",
       "    <tr>\n",
       "      <th>5</th>\n",
       "      <td>DB00005</td>\n",
       "      <td>C2224H3475N621O698S36</td>\n",
       "    </tr>\n",
       "  </tbody>\n",
       "</table>\n",
       "</div>"
      ],
      "text/plain": [
       "        id                  molecule\n",
       "1  DB00001         C287H440N80O110S6\n",
       "2  DB00002  C6484H10042N1732O2023S36\n",
       "3  DB00003      C1321H1999N339O396S9\n",
       "4  DB00004     C2560H4042N678O799S17\n",
       "5  DB00005     C2224H3475N621O698S36"
      ]
     },
     "execution_count": 16,
     "metadata": {},
     "output_type": "execute_result"
    }
   ],
   "source": [
    "molecules = pd.read_csv(drug_dir + 'drug_molecul.csv', index_col=[0])\n",
    "molecules.head()"
   ]
  },
  {
   "cell_type": "markdown",
   "id": "938c0931",
   "metadata": {},
   "source": [
    "#### Drug salts"
   ]
  },
  {
   "cell_type": "code",
   "execution_count": 17,
   "id": "5177e200",
   "metadata": {},
   "outputs": [
    {
     "data": {
      "text/html": [
       "<div>\n",
       "<style scoped>\n",
       "    .dataframe tbody tr th:only-of-type {\n",
       "        vertical-align: middle;\n",
       "    }\n",
       "\n",
       "    .dataframe tbody tr th {\n",
       "        vertical-align: top;\n",
       "    }\n",
       "\n",
       "    .dataframe thead th {\n",
       "        text-align: right;\n",
       "    }\n",
       "</style>\n",
       "<table border=\"1\" class=\"dataframe\">\n",
       "  <thead>\n",
       "    <tr style=\"text-align: right;\">\n",
       "      <th></th>\n",
       "      <th>id</th>\n",
       "      <th>name</th>\n",
       "      <th>cas_number</th>\n",
       "      <th>inchi_key</th>\n",
       "      <th>drug</th>\n",
       "    </tr>\n",
       "  </thead>\n",
       "  <tbody>\n",
       "    <tr>\n",
       "      <th>1</th>\n",
       "      <td>DBSALT000105</td>\n",
       "      <td>Leuprolide acetate</td>\n",
       "      <td>74381-53-6</td>\n",
       "      <td>YFDMUNOZURYOCP-XNHQSDQCSA-N</td>\n",
       "      <td>DB00007</td>\n",
       "    </tr>\n",
       "    <tr>\n",
       "      <th>2</th>\n",
       "      <td>DBSALT003182</td>\n",
       "      <td>Leuprolide mesylate</td>\n",
       "      <td>944347-41-5</td>\n",
       "      <td>MBIDSOMXPLCOHS-XNHQSDQCSA-N</td>\n",
       "      <td>DB00007</td>\n",
       "    </tr>\n",
       "    <tr>\n",
       "      <th>3</th>\n",
       "      <td>DBSALT001439</td>\n",
       "      <td>Sermorelin acetate</td>\n",
       "      <td>114466-38-5</td>\n",
       "      <td>NaN</td>\n",
       "      <td>DB00010</td>\n",
       "    </tr>\n",
       "    <tr>\n",
       "      <th>4</th>\n",
       "      <td>DBSALT000093</td>\n",
       "      <td>Goserelin acetate</td>\n",
       "      <td>145781-92-6</td>\n",
       "      <td>IKDXDQDKCZPQSZ-JHYYTBFNSA-N</td>\n",
       "      <td>DB00014</td>\n",
       "    </tr>\n",
       "    <tr>\n",
       "      <th>5</th>\n",
       "      <td>DBSALT001733</td>\n",
       "      <td>Insulin human zinc suspension</td>\n",
       "      <td>NaN</td>\n",
       "      <td>NaN</td>\n",
       "      <td>DB00030</td>\n",
       "    </tr>\n",
       "  </tbody>\n",
       "</table>\n",
       "</div>"
      ],
      "text/plain": [
       "             id                           name   cas_number  \\\n",
       "1  DBSALT000105             Leuprolide acetate   74381-53-6   \n",
       "2  DBSALT003182            Leuprolide mesylate  944347-41-5   \n",
       "3  DBSALT001439             Sermorelin acetate  114466-38-5   \n",
       "4  DBSALT000093              Goserelin acetate  145781-92-6   \n",
       "5  DBSALT001733  Insulin human zinc suspension          NaN   \n",
       "\n",
       "                     inchi_key     drug  \n",
       "1  YFDMUNOZURYOCP-XNHQSDQCSA-N  DB00007  \n",
       "2  MBIDSOMXPLCOHS-XNHQSDQCSA-N  DB00007  \n",
       "3                          NaN  DB00010  \n",
       "4  IKDXDQDKCZPQSZ-JHYYTBFNSA-N  DB00014  \n",
       "5                          NaN  DB00030  "
      ]
     },
     "execution_count": 17,
     "metadata": {},
     "output_type": "execute_result"
    }
   ],
   "source": [
    "salts = pd.read_csv(drug_dir + 'drug_salts.csv', index_col=[0])\n",
    "salts.head()"
   ]
  }
 ],
 "metadata": {
  "kernelspec": {
   "display_name": "Python 3.7.3 ('env': venv)",
   "language": "python",
   "name": "python3"
  },
  "language_info": {
   "codemirror_mode": {
    "name": "ipython",
    "version": 3
   },
   "file_extension": ".py",
   "mimetype": "text/x-python",
   "name": "python",
   "nbconvert_exporter": "python",
   "pygments_lexer": "ipython3",
   "version": "3.7.3"
  },
  "vscode": {
   "interpreter": {
    "hash": "8343f1c295490ad08729f17064e1ab8ac071c711efe2732632787d24e0261b0e"
   }
  }
 },
 "nbformat": 4,
 "nbformat_minor": 5
}
