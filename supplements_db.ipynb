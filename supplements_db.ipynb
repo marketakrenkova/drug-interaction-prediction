{
 "cells": [
  {
   "cell_type": "markdown",
   "metadata": {},
   "source": [
    "## integrated Dietary Supplements Knowledge Base (iDISK)"
   ]
  },
  {
   "cell_type": "code",
   "execution_count": 1,
   "metadata": {},
   "outputs": [],
   "source": [
    "import pandas as pd"
   ]
  },
  {
   "cell_type": "code",
   "execution_count": 2,
   "metadata": {},
   "outputs": [],
   "source": [
    "data_dir = '../data/idisk-rrf/'"
   ]
  },
  {
   "cell_type": "markdown",
   "metadata": {},
   "source": [
    "#### Types of each concept\n",
    "Concept = product/ingredient\n",
    "\n",
    "CUI - concept id\n",
    "\n",
    "STY - type:\n",
    "* `has_adverse_effect_on(SDSI, SOC)`\n",
    " * `has_adverse_reaction(SDSI, SS)`\n",
    " * `has_ingredient(DSP, SDSI)`\n",
    " * `has_therapeutic_class(SDSI, TC)`\n",
    " * `interacts_with(SDSI, SPD)`\n",
    " * `is_effective_for(SDSI, DIS)`"
   ]
  },
  {
   "cell_type": "code",
   "execution_count": 10,
   "metadata": {},
   "outputs": [
    {
     "data": {
      "text/html": [
       "<div>\n",
       "<style scoped>\n",
       "    .dataframe tbody tr th:only-of-type {\n",
       "        vertical-align: middle;\n",
       "    }\n",
       "\n",
       "    .dataframe tbody tr th {\n",
       "        vertical-align: top;\n",
       "    }\n",
       "\n",
       "    .dataframe thead th {\n",
       "        text-align: right;\n",
       "    }\n",
       "</style>\n",
       "<table border=\"1\" class=\"dataframe\">\n",
       "  <thead>\n",
       "    <tr style=\"text-align: right;\">\n",
       "      <th></th>\n",
       "      <th>CUI</th>\n",
       "      <th>STY</th>\n",
       "    </tr>\n",
       "  </thead>\n",
       "  <tbody>\n",
       "    <tr>\n",
       "      <th>0</th>\n",
       "      <td>DC0001354</td>\n",
       "      <td>DSP</td>\n",
       "    </tr>\n",
       "    <tr>\n",
       "      <th>1</th>\n",
       "      <td>DC0001355</td>\n",
       "      <td>DSP</td>\n",
       "    </tr>\n",
       "    <tr>\n",
       "      <th>2</th>\n",
       "      <td>DC0001356</td>\n",
       "      <td>DSP</td>\n",
       "    </tr>\n",
       "    <tr>\n",
       "      <th>3</th>\n",
       "      <td>DC0001357</td>\n",
       "      <td>DSP</td>\n",
       "    </tr>\n",
       "    <tr>\n",
       "      <th>4</th>\n",
       "      <td>DC0001358</td>\n",
       "      <td>DSP</td>\n",
       "    </tr>\n",
       "  </tbody>\n",
       "</table>\n",
       "</div>"
      ],
      "text/plain": [
       "         CUI  STY\n",
       "0  DC0001354  DSP\n",
       "1  DC0001355  DSP\n",
       "2  DC0001356  DSP\n",
       "3  DC0001357  DSP\n",
       "4  DC0001358  DSP"
      ]
     },
     "execution_count": 10,
     "metadata": {},
     "output_type": "execute_result"
    }
   ],
   "source": [
    "concept_type = pd.read_csv(data_dir + 'MRSTY.csv', sep='|')\n",
    "concept_type.head()"
   ]
  },
  {
   "cell_type": "markdown",
   "metadata": {},
   "source": [
    "#### Atoms of each concept\n",
    "\n",
    "* `CUI`: The unique concept identifier.\n",
    "* `AUI`: The unique atom identifier.\n",
    "* `STR`: This atom's string representation.\n",
    "* `TTY`: Term type of this atom. `CN`: common name, `SN`: scientific name, `SY`: synonym (unspecified).\n",
    "* `SAB`: Source database from where this atom was obtained.\n",
    "* `SCODE`: The ID in the source (if available) of this atom.\n",
    "* `ISPREF`: `Y` if this atom is the preferred term in the source, `N` otherwise."
   ]
  },
  {
   "cell_type": "code",
   "execution_count": 11,
   "metadata": {},
   "outputs": [
    {
     "name": "stderr",
     "output_type": "stream",
     "text": [
      "/home/marketa/diplomka/env/lib/python3.7/site-packages/IPython/core/interactiveshell.py:3553: DtypeWarning: Columns (5) have mixed types.Specify dtype option on import or set low_memory=False.\n",
      "  exec(code_obj, self.user_global_ns, self.user_ns)\n"
     ]
    },
    {
     "data": {
      "text/html": [
       "<div>\n",
       "<style scoped>\n",
       "    .dataframe tbody tr th:only-of-type {\n",
       "        vertical-align: middle;\n",
       "    }\n",
       "\n",
       "    .dataframe tbody tr th {\n",
       "        vertical-align: top;\n",
       "    }\n",
       "\n",
       "    .dataframe thead th {\n",
       "        text-align: right;\n",
       "    }\n",
       "</style>\n",
       "<table border=\"1\" class=\"dataframe\">\n",
       "  <thead>\n",
       "    <tr style=\"text-align: right;\">\n",
       "      <th></th>\n",
       "      <th>CUI</th>\n",
       "      <th>AUI</th>\n",
       "      <th>STR</th>\n",
       "      <th>TTY</th>\n",
       "      <th>SAB</th>\n",
       "      <th>SCODE</th>\n",
       "      <th>ISPREF</th>\n",
       "    </tr>\n",
       "  </thead>\n",
       "  <tbody>\n",
       "    <tr>\n",
       "      <th>0</th>\n",
       "      <td>DC0001354</td>\n",
       "      <td>DA0000001</td>\n",
       "      <td>Douglas Laboratories - L-Lysine 500 mg</td>\n",
       "      <td>SY</td>\n",
       "      <td>DSLD</td>\n",
       "      <td>30552</td>\n",
       "      <td>Y</td>\n",
       "    </tr>\n",
       "    <tr>\n",
       "      <th>1</th>\n",
       "      <td>DC0001355</td>\n",
       "      <td>DA0000002</td>\n",
       "      <td>Met-Rx - Pure Protein Shake Vanilla Cream</td>\n",
       "      <td>SY</td>\n",
       "      <td>DSLD</td>\n",
       "      <td>37297</td>\n",
       "      <td>Y</td>\n",
       "    </tr>\n",
       "    <tr>\n",
       "      <th>2</th>\n",
       "      <td>DC0001356</td>\n",
       "      <td>DA0000003</td>\n",
       "      <td>MuscleMeds(TM)  - HEXAGHEN(TM)</td>\n",
       "      <td>SY</td>\n",
       "      <td>DSLD</td>\n",
       "      <td>3721</td>\n",
       "      <td>Y</td>\n",
       "    </tr>\n",
       "    <tr>\n",
       "      <th>3</th>\n",
       "      <td>DC0001357</td>\n",
       "      <td>DA0000004</td>\n",
       "      <td>Herb Pharm - Stoneroot Blend</td>\n",
       "      <td>SY</td>\n",
       "      <td>DSLD</td>\n",
       "      <td>51041</td>\n",
       "      <td>Y</td>\n",
       "    </tr>\n",
       "    <tr>\n",
       "      <th>4</th>\n",
       "      <td>DC0001358</td>\n",
       "      <td>DA0000005</td>\n",
       "      <td>NOW - MSM</td>\n",
       "      <td>SY</td>\n",
       "      <td>DSLD</td>\n",
       "      <td>2833</td>\n",
       "      <td>Y</td>\n",
       "    </tr>\n",
       "  </tbody>\n",
       "</table>\n",
       "</div>"
      ],
      "text/plain": [
       "         CUI        AUI                                        STR TTY   SAB  \\\n",
       "0  DC0001354  DA0000001     Douglas Laboratories - L-Lysine 500 mg  SY  DSLD   \n",
       "1  DC0001355  DA0000002  Met-Rx - Pure Protein Shake Vanilla Cream  SY  DSLD   \n",
       "2  DC0001356  DA0000003             MuscleMeds(TM)  - HEXAGHEN(TM)  SY  DSLD   \n",
       "3  DC0001357  DA0000004               Herb Pharm - Stoneroot Blend  SY  DSLD   \n",
       "4  DC0001358  DA0000005                                  NOW - MSM  SY  DSLD   \n",
       "\n",
       "   SCODE ISPREF  \n",
       "0  30552      Y  \n",
       "1  37297      Y  \n",
       "2   3721      Y  \n",
       "3  51041      Y  \n",
       "4   2833      Y  "
      ]
     },
     "execution_count": 11,
     "metadata": {},
     "output_type": "execute_result"
    }
   ],
   "source": [
    "atoms = pd.read_csv(data_dir + 'MRCONSO.csv', sep='|')\n",
    "atoms.head()"
   ]
  },
  {
   "cell_type": "markdown",
   "metadata": {},
   "source": [
    "#### Attributes of each concept or relation\n",
    "\n",
    " * `ATUI`: The unique attribute identifier.\n",
    " * `UI`: The unique concept or relationship identifier.\n",
    " * `STYPE`: `DSCUI` if `UI` is a concept or `DSRUI` if `UI` is a relationship.\n",
    " * `ATN`: The attribute name.\n",
    " * `ATV`: The attribute value.\n",
    " * `SAB`: Source database from where this attribute was obtained."
   ]
  },
  {
   "cell_type": "code",
   "execution_count": 12,
   "metadata": {},
   "outputs": [
    {
     "data": {
      "text/html": [
       "<div>\n",
       "<style scoped>\n",
       "    .dataframe tbody tr th:only-of-type {\n",
       "        vertical-align: middle;\n",
       "    }\n",
       "\n",
       "    .dataframe tbody tr th {\n",
       "        vertical-align: top;\n",
       "    }\n",
       "\n",
       "    .dataframe thead th {\n",
       "        text-align: right;\n",
       "    }\n",
       "</style>\n",
       "<table border=\"1\" class=\"dataframe\">\n",
       "  <thead>\n",
       "    <tr style=\"text-align: right;\">\n",
       "      <th></th>\n",
       "      <th>ATUI</th>\n",
       "      <th>UI</th>\n",
       "      <th>STYPE</th>\n",
       "      <th>ATN</th>\n",
       "      <th>ATV</th>\n",
       "      <th>SAB</th>\n",
       "    </tr>\n",
       "  </thead>\n",
       "  <tbody>\n",
       "    <tr>\n",
       "      <th>0</th>\n",
       "      <td>DAT0000001</td>\n",
       "      <td>DC0001354</td>\n",
       "      <td>DSCUI</td>\n",
       "      <td>langual_type</td>\n",
       "      <td>DIETARY SUPPLEMENT, AMINO ACID OR PROTEIN [A1305]</td>\n",
       "      <td>DSLD</td>\n",
       "    </tr>\n",
       "    <tr>\n",
       "      <th>1</th>\n",
       "      <td>DAT0000003</td>\n",
       "      <td>DC0001355</td>\n",
       "      <td>DSCUI</td>\n",
       "      <td>langual_type</td>\n",
       "      <td>DIETARY SUPPLEMENT, COMBINATION, OTHER [A1325]</td>\n",
       "      <td>DSLD</td>\n",
       "    </tr>\n",
       "    <tr>\n",
       "      <th>2</th>\n",
       "      <td>DAT0000005</td>\n",
       "      <td>DC0001356</td>\n",
       "      <td>DSCUI</td>\n",
       "      <td>langual_type</td>\n",
       "      <td>DIETARY SUPPLEMENT, NON-NUTRIENT/NON-BOTANICAL...</td>\n",
       "      <td>DSLD</td>\n",
       "    </tr>\n",
       "    <tr>\n",
       "      <th>3</th>\n",
       "      <td>DAT0000007</td>\n",
       "      <td>DC0001357</td>\n",
       "      <td>DSCUI</td>\n",
       "      <td>langual_type</td>\n",
       "      <td>DIETARY SUPPLEMENT, HERBAL OR BOTANICAL [A1306]</td>\n",
       "      <td>DSLD</td>\n",
       "    </tr>\n",
       "    <tr>\n",
       "      <th>4</th>\n",
       "      <td>DAT0000009</td>\n",
       "      <td>DC0001358</td>\n",
       "      <td>DSCUI</td>\n",
       "      <td>langual_type</td>\n",
       "      <td>DIETARY SUPPLEMENT, NON-NUTRIENT/NON-BOTANICAL...</td>\n",
       "      <td>DSLD</td>\n",
       "    </tr>\n",
       "  </tbody>\n",
       "</table>\n",
       "</div>"
      ],
      "text/plain": [
       "         ATUI         UI  STYPE           ATN  \\\n",
       "0  DAT0000001  DC0001354  DSCUI  langual_type   \n",
       "1  DAT0000003  DC0001355  DSCUI  langual_type   \n",
       "2  DAT0000005  DC0001356  DSCUI  langual_type   \n",
       "3  DAT0000007  DC0001357  DSCUI  langual_type   \n",
       "4  DAT0000009  DC0001358  DSCUI  langual_type   \n",
       "\n",
       "                                                 ATV   SAB  \n",
       "0  DIETARY SUPPLEMENT, AMINO ACID OR PROTEIN [A1305]  DSLD  \n",
       "1     DIETARY SUPPLEMENT, COMBINATION, OTHER [A1325]  DSLD  \n",
       "2  DIETARY SUPPLEMENT, NON-NUTRIENT/NON-BOTANICAL...  DSLD  \n",
       "3    DIETARY SUPPLEMENT, HERBAL OR BOTANICAL [A1306]  DSLD  \n",
       "4  DIETARY SUPPLEMENT, NON-NUTRIENT/NON-BOTANICAL...  DSLD  "
      ]
     },
     "execution_count": 12,
     "metadata": {},
     "output_type": "execute_result"
    }
   ],
   "source": [
    "attributes = pd.read_csv(data_dir + 'MRSAT.csv', sep='|')\n",
    "attributes.head()"
   ]
  },
  {
   "cell_type": "markdown",
   "metadata": {},
   "source": [
    "#### Relations between concepts\n",
    "\n",
    " * `RUI`: The unique relationship identifier.\n",
    " * `CUI1`: The CUI of the subject concept of this relationship.\n",
    " * `REL`: The relation type.\n",
    " * `CUI2`: The CUI of the object concept of this relationship.\n",
    " * `SAB`: Source database from where this relationship was obtained"
   ]
  },
  {
   "cell_type": "code",
   "execution_count": 13,
   "metadata": {},
   "outputs": [
    {
     "data": {
      "text/html": [
       "<div>\n",
       "<style scoped>\n",
       "    .dataframe tbody tr th:only-of-type {\n",
       "        vertical-align: middle;\n",
       "    }\n",
       "\n",
       "    .dataframe tbody tr th {\n",
       "        vertical-align: top;\n",
       "    }\n",
       "\n",
       "    .dataframe thead th {\n",
       "        text-align: right;\n",
       "    }\n",
       "</style>\n",
       "<table border=\"1\" class=\"dataframe\">\n",
       "  <thead>\n",
       "    <tr style=\"text-align: right;\">\n",
       "      <th></th>\n",
       "      <th>RUI</th>\n",
       "      <th>CUI1</th>\n",
       "      <th>REL</th>\n",
       "      <th>CUI2</th>\n",
       "      <th>SAB</th>\n",
       "    </tr>\n",
       "  </thead>\n",
       "  <tbody>\n",
       "    <tr>\n",
       "      <th>0</th>\n",
       "      <td>DR0000001</td>\n",
       "      <td>DC0001354</td>\n",
       "      <td>has_ingredient</td>\n",
       "      <td>DC0482825</td>\n",
       "      <td>DSLD</td>\n",
       "    </tr>\n",
       "    <tr>\n",
       "      <th>1</th>\n",
       "      <td>DR0000021</td>\n",
       "      <td>DC0001355</td>\n",
       "      <td>has_ingredient</td>\n",
       "      <td>DC0483212</td>\n",
       "      <td>DSLD</td>\n",
       "    </tr>\n",
       "    <tr>\n",
       "      <th>2</th>\n",
       "      <td>DR0000007</td>\n",
       "      <td>DC0001355</td>\n",
       "      <td>has_ingredient</td>\n",
       "      <td>DC0478167</td>\n",
       "      <td>DSLD</td>\n",
       "    </tr>\n",
       "    <tr>\n",
       "      <th>3</th>\n",
       "      <td>DR0000013</td>\n",
       "      <td>DC0001355</td>\n",
       "      <td>has_ingredient</td>\n",
       "      <td>DC0478268</td>\n",
       "      <td>DSLD</td>\n",
       "    </tr>\n",
       "    <tr>\n",
       "      <th>4</th>\n",
       "      <td>DR0000015</td>\n",
       "      <td>DC0001355</td>\n",
       "      <td>has_ingredient</td>\n",
       "      <td>DC0477973</td>\n",
       "      <td>DSLD</td>\n",
       "    </tr>\n",
       "  </tbody>\n",
       "</table>\n",
       "</div>"
      ],
      "text/plain": [
       "         RUI       CUI1             REL       CUI2   SAB\n",
       "0  DR0000001  DC0001354  has_ingredient  DC0482825  DSLD\n",
       "1  DR0000021  DC0001355  has_ingredient  DC0483212  DSLD\n",
       "2  DR0000007  DC0001355  has_ingredient  DC0478167  DSLD\n",
       "3  DR0000013  DC0001355  has_ingredient  DC0478268  DSLD\n",
       "4  DR0000015  DC0001355  has_ingredient  DC0477973  DSLD"
      ]
     },
     "execution_count": 13,
     "metadata": {},
     "output_type": "execute_result"
    }
   ],
   "source": [
    "relations = pd.read_csv(data_dir + 'MRREL.csv', sep='|')\n",
    "relations.head()"
   ]
  }
 ],
 "metadata": {
  "kernelspec": {
   "display_name": "Python 3.7.3 ('env': venv)",
   "language": "python",
   "name": "python3"
  },
  "language_info": {
   "codemirror_mode": {
    "name": "ipython",
    "version": 3
   },
   "file_extension": ".py",
   "mimetype": "text/x-python",
   "name": "python",
   "nbconvert_exporter": "python",
   "pygments_lexer": "ipython3",
   "version": "3.7.3"
  },
  "orig_nbformat": 4,
  "vscode": {
   "interpreter": {
    "hash": "8343f1c295490ad08729f17064e1ab8ac071c711efe2732632787d24e0261b0e"
   }
  }
 },
 "nbformat": 4,
 "nbformat_minor": 2
}
