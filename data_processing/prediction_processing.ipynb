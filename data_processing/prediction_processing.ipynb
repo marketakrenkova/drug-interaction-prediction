{
 "cells": [
  {
   "cell_type": "code",
   "execution_count": 1,
   "id": "b3c65a24",
   "metadata": {},
   "outputs": [],
   "source": [
    "import pandas as pd\n",
    "import itertools\n",
    "import numpy as np"
   ]
  },
  {
   "cell_type": "code",
   "execution_count": 42,
   "id": "fdb1d285",
   "metadata": {},
   "outputs": [],
   "source": [
    "prediction_dir = '../predictions/'\n",
    "triplets_dir = '../data/triplets/'\n",
    "drugbank_dir = '../data/drugbank/'\n",
    "specification = 'best_pipeline2.2-200epochs'\n",
    "data = '/drugbank/'\n",
    "food_compounds_names_path = '../data/triplets/compounds_names.tsv'"
   ]
  },
  {
   "cell_type": "markdown",
   "id": "fb06a3a9",
   "metadata": {},
   "source": [
    "### Create id - name mappings"
   ]
  },
  {
   "cell_type": "code",
   "execution_count": 3,
   "id": "61395743",
   "metadata": {},
   "outputs": [],
   "source": [
    "drug_name_map = pd.read_csv(drugbank_dir + 'drug_id_name_map.csv', sep=',', index_col=[0])\n",
    "food_name_map = pd.read_csv(triplets_dir + 'food_name.tsv', sep='\\t', index_col=[0])\n",
    "food_compound_map = pd.read_csv(triplets_dir + 'compounds_names.tsv', sep='\\t', index_col=[0])"
   ]
  },
  {
   "cell_type": "code",
   "execution_count": 4,
   "id": "8a368210",
   "metadata": {},
   "outputs": [],
   "source": [
    "drug_ids = drug_name_map.id\n",
    "drug_names = drug_name_map.drug_name\n",
    "drug_id_map_dict = dict(zip(drug_ids, drug_names))\n",
    "\n",
    "food_ids = food_name_map.public_id\n",
    "food_names = food_name_map.name\n",
    "food_id_map_dict = dict(zip(food_ids, food_names))\n",
    "\n",
    "compound_ids = food_compound_map.compound_id\n",
    "compound_names = food_compound_map.name\n",
    "compound_id_map_dict = dict(zip(compound_ids, compound_names))"
   ]
  },
  {
   "cell_type": "markdown",
   "id": "d6ca606e",
   "metadata": {},
   "source": [
    "### Load drugs and foods "
   ]
  },
  {
   "cell_type": "code",
   "execution_count": 5,
   "id": "aa174626",
   "metadata": {},
   "outputs": [
    {
     "name": "stdout",
     "output_type": "stream",
     "text": [
      "['DB00321' 'DB00091' 'DB00564' ... 'DB11237' 'DB00878' 'DB00768']\n"
     ]
    }
   ],
   "source": [
    "common_drugs = pd.read_csv('../data/common_drugs_num_interactions.csv', sep=';')\n",
    "common_drugs = common_drugs.dropna()\n",
    "common_drugs_ids = common_drugs.db_id.values\n",
    "\n",
    "# print(common_drugs)\n",
    "print(common_drugs_ids)"
   ]
  },
  {
   "cell_type": "code",
   "execution_count": 34,
   "id": "d022f37d",
   "metadata": {},
   "outputs": [],
   "source": [
    "with open('../data/foods4predictions.txt', 'r') as f:\n",
    "    foods = f.readlines()\n",
    "\n",
    "foods = [food.strip() for food in foods]\n",
    "# foods[:10]"
   ]
  },
  {
   "cell_type": "markdown",
   "id": "107ffa5f",
   "metadata": {},
   "source": [
    "### Load predictions for specific drug/food"
   ]
  },
  {
   "cell_type": "code",
   "execution_count": 35,
   "id": "7633811c",
   "metadata": {},
   "outputs": [],
   "source": [
    "def get_predictions(prediction_file):\n",
    "    try:\n",
    "        predictions = pd.read_csv(prediction_file, sep=',', index_col=[0])\n",
    "    except:\n",
    "        return None\n",
    "    # keep just drug/food/food compound predictions\n",
    "    predictions['node_type'] = list(itertools.repeat('xxx', predictions.shape[0]))\n",
    "    predictions.loc[predictions['tail_label'].str.contains(\"DB\\d+\", regex=True), 'node_type'] = \"drug\"\n",
    "    predictions.loc[predictions['tail_label'].str.contains(\"FDB\"), 'node_type'] = \"food_compound\"\n",
    "    predictions.loc[predictions['tail_label'].str.contains(\"FOOD\"), 'node_type'] = \"food\"\n",
    "    predictions = predictions.loc[predictions['node_type'] != 'xxx']\n",
    "    \n",
    "    return predictions\n",
    "\n",
    "# assign entity names to ids\n",
    "def assign_names(predictions):\n",
    "    for row in predictions.iterrows():\n",
    "        tail = row[1].tail_label\n",
    "        node_type = row[1].node_type\n",
    "\n",
    "        if node_type == 'drug':\n",
    "            tail_name = drug_id_map_dict[tail]\n",
    "        elif node_type == 'food':\n",
    "            tail_name = food_id_map_dict[tail]\n",
    "        else:\n",
    "            tail_name = compound_id_map_dict[tail]\n",
    "\n",
    "        print(tail, tail_name)    "
   ]
  },
  {
   "cell_type": "code",
   "execution_count": 43,
   "id": "c0e67f2d",
   "metadata": {},
   "outputs": [
    {
     "name": "stdout",
     "output_type": "stream",
     "text": [
      "Interactions with Zonisamide\n",
      "      tail_id      score tail_label node_type\n",
      "3532     3532  11.472713    DB06212      drug\n",
      "3048     3048  11.335865    DB01144      drug\n",
      "2668     2668  11.303630    DB00742      drug\n",
      "3240     3240  10.999071    DB01396      drug\n",
      "4043     4043  10.925892    DB09407      drug\n",
      "...       ...        ...        ...       ...\n",
      "3608     3608   9.562111    DB06700      drug\n",
      "3603     3603   9.555648    DB06694      drug\n",
      "2215     2215   9.550627    DB00270      drug\n",
      "3887     3887   9.543069    DB09111      drug\n",
      "3104     3104   9.542161    DB01201      drug\n",
      "\n",
      "[100 rows x 4 columns]\n",
      "\n",
      "DB06212 Tolvaptan\n",
      "DB01144 Diclofenamide\n",
      "DB00742 Mannitol\n",
      "DB01396 Digitoxin\n",
      "DB09407 Magnesium chloride\n",
      "DB00955 Netilmicin\n",
      "DB00220 Nelfinavir\n",
      "DB14500 Potassium\n",
      "DB06283 Ziconotide\n",
      "DB01026 Ketoconazole\n",
      "DB01211 Clarithromycin\n",
      "DB13967 Patent Blue\n",
      "DB00421 Spironolactone\n",
      "DB00390 Digoxin\n",
      "DB11901 Apalutamide\n",
      "DB09401 Isosorbide\n",
      "DB00185 Cevimeline\n",
      "DB01111 Colistimethate\n",
      "DB00932 Tipranavir\n",
      "DB09015 Canrenoic acid\n",
      "DB00577 Valaciclovir\n",
      "DB00594 Amiloride\n",
      "DB06480 Prucalopride\n",
      "DB08826 Deferiprone\n",
      "DB11581 Venetoclax\n",
      "DB00836 Loperamide\n",
      "DB00612 Bisoprolol\n",
      "DB11915 Valbenazine\n",
      "DB11127 Selenious acid\n",
      "DB09238 Manidipine\n",
      "DB00319 Piperacillin\n",
      "DB11989 Benznidazole\n",
      "DB00903 Etacrynic acid\n",
      "DB01135 Doxacurium\n",
      "DB00384 Triamterene\n",
      "DB00703 Methazolamide\n",
      "DB04861 Nebivolol\n",
      "DB00653 Magnesium sulfate\n",
      "DB00700 Eplerenone\n",
      "DB11560 Lesinurad\n",
      "DB01115 Nifedipine\n",
      "DB00343 Diltiazem\n",
      "DB00681 Amphotericin B\n",
      "DB01232 Saquinavir\n",
      "DB00427 Triprolidine\n",
      "DB01183 Naloxone\n",
      "DB01329 Cefoperazone\n",
      "DB01263 Posaconazole\n",
      "DB00790 Perindopril\n",
      "DB09256 Tegafur\n",
      "DB00437 Allopurinol\n",
      "DB08907 Canagliflozin\n",
      "DB06292 Dapagliflozin\n",
      "DB04842 Fluspirilene\n",
      "DB00842 Oxazepam\n",
      "DB06282 Levocetirizine\n",
      "DB00196 Fluconazole\n",
      "DB09481 Magnesium carbonate\n",
      "DB00308 Ibutilide\n",
      "DB01416 Cefpodoxime\n",
      "DB00312 Pentobarbital\n",
      "DB08872 Gabapentin enacarbil\n",
      "DB00834 Mifepristone\n",
      "DB00712 Flurbiprofen\n",
      "DB00420 Promazine\n",
      "DB00908 Quinidine\n",
      "DB06448 Lonafarnib\n",
      "DB06589 Pazopanib\n",
      "DB00418 Secobarbital\n",
      "DB11827 Ertugliflozin\n",
      "DB00921 Buprenorphine\n",
      "DB00562 Benzthiazide\n",
      "DB00493 Cefotaxime\n",
      "DB01032 Probenecid\n",
      "DB01608 Periciazine\n",
      "DB00593 Ethosuximide\n",
      "DB01638 Sorbitol\n",
      "DB09027 Ledipasvir\n",
      "DB04920 Clevidipine\n",
      "DB11121 Chloroxylenol\n",
      "DB11796 Fostemsavir\n",
      "DB01173 Orphenadrine\n",
      "DB14713 Inotersen\n",
      "DB00680 Moricizine\n",
      "DB01328 Cefonicid\n",
      "DB00458 Imipramine\n",
      "DB01222 Budesonide\n",
      "DB09048 Netupitant\n",
      "DB05246 Methsuximide\n",
      "DB00889 Granisetron\n",
      "DB06402 Telavancin\n",
      "DB03615 Ribostamycin\n",
      "DB09089 Trimebutine\n",
      "DB11978 Glasdegib\n",
      "DB06796 Mangafodipir\n",
      "DB06700 Desvenlafaxine\n",
      "DB06694 Xylometazoline\n",
      "DB00270 Isradipine\n",
      "DB09111 Pentastarch\n",
      "DB01201 Rifapentine\n"
     ]
    }
   ],
   "source": [
    "# drug predictions\n",
    "drug_id = common_drugs_ids[10]\n",
    "prediction_file = prediction_dir + specification + data +'complex_' + drug_id + '_interacts_' + specification + '.csv'\n",
    "\n",
    "print('Interactions with', drug_id_map_dict[drug_id])\n",
    "\n",
    "predictions = get_predictions(prediction_file)\n",
    "print(predictions)\n",
    "print()\n",
    "assign_names(predictions)"
   ]
  },
  {
   "cell_type": "code",
   "execution_count": null,
   "id": "db1f61f2",
   "metadata": {},
   "outputs": [],
   "source": [
    "predictions.in_testing.sum()"
   ]
  },
  {
   "cell_type": "code",
   "execution_count": 40,
   "id": "bb88138b",
   "metadata": {},
   "outputs": [
    {
     "name": "stdout",
     "output_type": "stream",
     "text": [
      "Interactions with Pterostilbene\n",
      "      tail_id     score tail_label      node_type\n",
      "7414     7414  0.444300  FOOD00394           food\n",
      "2965     2965  0.443989    DB01057           drug\n",
      "4887     4887  0.409787    DB15270           drug\n",
      "4954     4954  0.375224    DB16746           drug\n",
      "4146     4146  0.350639    DB10966           drug\n",
      "4115     4115  0.317418    DB10370           drug\n",
      "6981     6981  0.317366  FDB012521  food_compound\n",
      "3892     3892  0.306063    DB09116           drug\n",
      "4299     4299  0.302085    DB11575           drug\n",
      "4838     4838  0.290141    DB14712           drug\n",
      "\n",
      "FOOD00394 Lambsquarters\n",
      "DB01057 Echothiophate\n",
      "DB15270 Efgartigimod alfa\n",
      "DB16746 Elivaldogene autotemcel\n",
      "DB10966 Sorghum bicolor subsp. drummondii pollen\n",
      "DB10370 Festuca pratensis pollen\n",
      "FDB012521 Campesterol\n",
      "DB09116 Calcium carbimide\n",
      "DB11575 Grazoprevir\n",
      "DB14712 Elapegademase\n"
     ]
    }
   ],
   "source": [
    "# food predicitons\n",
    "food_id = foods[11]\n",
    "prediction_file = prediction_dir + specification + data +'complex_' + food_id + '_interacts_' + specification + '.csv'\n",
    "\n",
    "print('Interactions with', compound_id_map_dict[food_id])\n",
    "\n",
    "predictions = get_predictions(prediction_file)\n",
    "print(predictions)\n",
    "print()\n",
    "assign_names(predictions)"
   ]
  },
  {
   "cell_type": "code",
   "execution_count": 46,
   "id": "a17d2195",
   "metadata": {},
   "outputs": [],
   "source": [
    "# # check if the predicted drug/food is in different interaction with the same drug in the training data\n",
    "\n",
    "# idx = drug_id\n",
    "# snd_idx = 'DB11166'\n",
    "\n",
    "# train_triplets = pd.read_csv(triplets_dir + 'train_with_biokg.tsv', sep='\\t', index_col=[0])\n",
    "# valid_triplets = pd.read_csv(triplets_dir + 'valid_with_biokg.tsv', sep='\\t', index_col=[0])\n",
    "# test_triplets = pd.read_csv(triplets_dir + 'test_with_biokg.tsv', sep='\\t', index_col=[0])\n",
    "\n",
    "# filtered_triplets = train_triplets.loc[train_triplets.index == idx]\n",
    "# in_train = filtered_triplets.loc[filtered_triplets['tail'] == snd_idx].any().sum()\n",
    "\n",
    "# filtered_triplets = valid_triplets.loc[valid_triplets.index == idx]\n",
    "# in_valid = filtered_triplets.loc[filtered_triplets['tail'] == snd_idx].any().sum()\n",
    "\n",
    "# filtered_triplets = test_triplets.loc[test_triplets.index == idx]\n",
    "# in_test = filtered_triplets.loc[filtered_triplets['tail'] == snd_idx].any().sum()\n",
    "\n",
    "# print(f'Relation in triplets:')\n",
    "# print(f'- train:', 'yes' if in_train else 'no')\n",
    "# print(f'- valid:', 'yes' if in_valid else 'no')\n",
    "# print(f'- test:', 'yes' if in_test else 'no')\n",
    "      "
   ]
  },
  {
   "cell_type": "markdown",
   "id": "ad8a5389",
   "metadata": {},
   "source": [
    "### Metrics"
   ]
  },
  {
   "cell_type": "code",
   "execution_count": 20,
   "id": "4ee463a1",
   "metadata": {},
   "outputs": [
    {
     "name": "stdout",
     "output_type": "stream",
     "text": [
      "Avg. hits@10: nan\n",
      "Avg. hits@20: nan\n",
      "Avg. hits@30: nan\n",
      "Avg. hits@100: nan\n"
     ]
    },
    {
     "name": "stderr",
     "output_type": "stream",
     "text": [
      "/usr/local/lib/python3.8/dist-packages/numpy/core/fromnumeric.py:3464: RuntimeWarning: Mean of empty slice.\n",
      "  return _methods._mean(a, axis=axis, dtype=dtype,\n",
      "/usr/local/lib/python3.8/dist-packages/numpy/core/_methods.py:192: RuntimeWarning: invalid value encountered in scalar divide\n",
      "  ret = ret.dtype.type(ret / rcount)\n"
     ]
    }
   ],
   "source": [
    "# hits@k (how many predicted triplets in the first k positions are in test data)\n",
    "\n",
    "hits10 = []\n",
    "hits20 = []\n",
    "hits30 = []\n",
    "hits100 = []\n",
    "\n",
    "for drug in common_drugs_ids:\n",
    "    prediction_file = prediction_dir + specification + '/complex_' + drug + '_negative_' + specification + '.csv'\n",
    "    preds = get_predictions(prediction_file)\n",
    "    \n",
    "    if preds is None:\n",
    "        continue\n",
    "        \n",
    "    hits10.append(preds.in_testing[:10].sum())\n",
    "    hits20.append(preds.in_testing[:20].sum())\n",
    "    hits30.append(preds.in_testing[:30].sum())\n",
    "    hits100.append(preds.in_testing[:100].sum())\n",
    "    \n",
    "\n",
    "print('Avg. hits@10:', np.mean(hits10))\n",
    "print('Avg. hits@20:', np.mean(hits20))\n",
    "print('Avg. hits@30:', np.mean(hits30))\n",
    "print('Avg. hits@100:', np.mean(hits100))"
   ]
  },
  {
   "cell_type": "code",
   "execution_count": 21,
   "id": "5607da9c",
   "metadata": {},
   "outputs": [
    {
     "name": "stdout",
     "output_type": "stream",
     "text": [
      "MRR: nan\n"
     ]
    }
   ],
   "source": [
    "# MRR (https://en.wikipedia.org/wiki/Mean_reciprocal_rank)\n",
    "# if the predicted triplet isn't in the first 100 test data -> index = 100\n",
    "\n",
    "mrr = []\n",
    "\n",
    "for drug in common_drugs_ids:\n",
    "    prediction_file = prediction_dir + specification + '/complex_' + drug + '_negative_' + specification + '.csv'\n",
    "    preds = get_predictions(prediction_file)\n",
    "    \n",
    "    if preds is None:\n",
    "        continue\n",
    "    \n",
    "    try:\n",
    "        idx = 1 / (list(preds.in_testing).index(True) + 1)\n",
    "    except:\n",
    "        idx = 1 / 100\n",
    "    mrr.append(idx)\n",
    "    \n",
    "print('MRR:', np.mean(mrr))"
   ]
  }
 ],
 "metadata": {
  "kernelspec": {
   "display_name": "Python 3 (ipykernel)",
   "language": "python",
   "name": "python3"
  },
  "language_info": {
   "codemirror_mode": {
    "name": "ipython",
    "version": 3
   },
   "file_extension": ".py",
   "mimetype": "text/x-python",
   "name": "python",
   "nbconvert_exporter": "python",
   "pygments_lexer": "ipython3",
   "version": "3.8.10"
  }
 },
 "nbformat": 4,
 "nbformat_minor": 5
}
