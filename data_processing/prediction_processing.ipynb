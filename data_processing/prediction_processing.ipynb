{
 "cells": [
  {
   "cell_type": "code",
   "execution_count": 16,
   "id": "b3c65a24",
   "metadata": {},
   "outputs": [],
   "source": [
    "import pandas as pd\n",
    "import itertools\n",
    "import numpy as np"
   ]
  },
  {
   "cell_type": "code",
   "execution_count": 2,
   "id": "fdb1d285",
   "metadata": {},
   "outputs": [],
   "source": [
    "prediction_dir = '../predictions/'\n",
    "triplets_dir = '../data/triplets/'\n",
    "drugbank_dir = '../data/drugbank/'"
   ]
  },
  {
   "cell_type": "code",
   "execution_count": 3,
   "id": "61395743",
   "metadata": {},
   "outputs": [],
   "source": [
    "drug_name_map = pd.read_csv(drugbank_dir + 'drug_id_name_map.csv', sep=',', index_col=[0])\n",
    "food_name_map = pd.read_csv(triplets_dir + 'food_name.tsv', sep='\\t', index_col=[0])\n",
    "food_compound_map = pd.read_csv(triplets_dir + 'compounds_names.tsv', sep='\\t', index_col=[0])"
   ]
  },
  {
   "cell_type": "code",
   "execution_count": 4,
   "id": "8a368210",
   "metadata": {},
   "outputs": [],
   "source": [
    "drug_ids = drug_name_map.id\n",
    "drug_names = drug_name_map.drug_name\n",
    "drug_id_map_dict = dict(zip(drug_ids, drug_names))\n",
    "\n",
    "food_ids = food_name_map.public_id\n",
    "food_names = food_name_map.name\n",
    "food_id_map_dict = dict(zip(food_ids, food_names))\n",
    "\n",
    "compound_ids = food_compound_map.compound_id\n",
    "compound_names = food_compound_map.name\n",
    "compound_id_map_dict = dict(zip(compound_ids, compound_names))"
   ]
  },
  {
   "cell_type": "code",
   "execution_count": 5,
   "id": "aa174626",
   "metadata": {},
   "outputs": [
    {
     "name": "stdout",
     "output_type": "stream",
     "text": [
      "                    drug  DrugBank_name DrugBank_id\n",
      "0               lexaurin     Bromazepam     DB01558\n",
      "1            fraxiparine     Nadroparin     DB08813\n",
      "2               novalgin     Metamizole     DB04817\n",
      "3              dithiaden      Diltiazem     DB00343\n",
      "4               diazepam       Diazepam     DB00829\n",
      "5              tamoxifen      Tamoxifen     DB00675\n",
      "6   paracetamol(paralen)  Acetaminophen     DB00316\n",
      "7              metamizol     Metamizole     DB04817\n",
      "8              neurontin     Gabapentin     DB00996\n",
      "9                ketonal      Ketoprofe     DB01009\n",
      "10               ibalgin      Ibuprofen     DB01050\n",
      "11               calcium        Calcium     DB01373\n",
      "12              euthyrox  Levothyroxine     DB00451\n",
      "13            filgrastim     Filgrastim     DB00099\n",
      "14                ananas      pineapple   FOOD00012\n",
      "15                   mak          poppy   FOOD00127\n",
      "16               merunka       appricot   FOOD00144\n",
      "17                  grep     grapefruit   FOOD00256\n",
      "18                zazvor         ginger   FOOD00206\n",
      "19                spenat        spinach   FOOD00178\n"
     ]
    },
    {
     "data": {
      "text/plain": [
       "array(['DB01558', 'DB08813', 'DB04817', 'DB00343', 'DB00829', 'DB00675',\n",
       "       'DB00316', 'DB04817', 'DB00996', 'DB01009', 'DB01050', 'DB01373',\n",
       "       'DB00451', 'DB00099', 'FOOD00012', 'FOOD00127', 'FOOD00144',\n",
       "       'FOOD00256', 'FOOD00206', 'FOOD00178'], dtype=object)"
      ]
     },
     "execution_count": 5,
     "metadata": {},
     "output_type": "execute_result"
    }
   ],
   "source": [
    "common_drugs = pd.read_csv('../data/common_drugs.csv', sep=';')\n",
    "common_drugs_ids = common_drugs.DrugBank_id.values\n",
    "print(common_drugs)\n",
    "common_drugs_ids"
   ]
  },
  {
   "cell_type": "code",
   "execution_count": 18,
   "id": "c0e67f2d",
   "metadata": {},
   "outputs": [
    {
     "data": {
      "text/html": [
       "<div>\n",
       "<style scoped>\n",
       "    .dataframe tbody tr th:only-of-type {\n",
       "        vertical-align: middle;\n",
       "    }\n",
       "\n",
       "    .dataframe tbody tr th {\n",
       "        vertical-align: top;\n",
       "    }\n",
       "\n",
       "    .dataframe thead th {\n",
       "        text-align: right;\n",
       "    }\n",
       "</style>\n",
       "<table border=\"1\" class=\"dataframe\">\n",
       "  <thead>\n",
       "    <tr style=\"text-align: right;\">\n",
       "      <th></th>\n",
       "      <th>tail_id</th>\n",
       "      <th>score</th>\n",
       "      <th>tail_label</th>\n",
       "      <th>in_validation</th>\n",
       "      <th>in_testing</th>\n",
       "      <th>node_type</th>\n",
       "    </tr>\n",
       "  </thead>\n",
       "  <tbody>\n",
       "    <tr>\n",
       "      <th>1991</th>\n",
       "      <td>1991</td>\n",
       "      <td>8.604259</td>\n",
       "      <td>DB11166</td>\n",
       "      <td>False</td>\n",
       "      <td>False</td>\n",
       "      <td>drug</td>\n",
       "    </tr>\n",
       "    <tr>\n",
       "      <th>459</th>\n",
       "      <td>459</td>\n",
       "      <td>8.298801</td>\n",
       "      <td>DB00552</td>\n",
       "      <td>False</td>\n",
       "      <td>True</td>\n",
       "      <td>drug</td>\n",
       "    </tr>\n",
       "    <tr>\n",
       "      <th>584</th>\n",
       "      <td>584</td>\n",
       "      <td>8.085953</td>\n",
       "      <td>DB00686</td>\n",
       "      <td>False</td>\n",
       "      <td>False</td>\n",
       "      <td>drug</td>\n",
       "    </tr>\n",
       "    <tr>\n",
       "      <th>570</th>\n",
       "      <td>570</td>\n",
       "      <td>7.685174</td>\n",
       "      <td>DB00671</td>\n",
       "      <td>False</td>\n",
       "      <td>False</td>\n",
       "      <td>drug</td>\n",
       "    </tr>\n",
       "    <tr>\n",
       "      <th>852</th>\n",
       "      <td>852</td>\n",
       "      <td>7.239124</td>\n",
       "      <td>DB00974</td>\n",
       "      <td>True</td>\n",
       "      <td>False</td>\n",
       "      <td>drug</td>\n",
       "    </tr>\n",
       "    <tr>\n",
       "      <th>...</th>\n",
       "      <td>...</td>\n",
       "      <td>...</td>\n",
       "      <td>...</td>\n",
       "      <td>...</td>\n",
       "      <td>...</td>\n",
       "      <td>...</td>\n",
       "    </tr>\n",
       "    <tr>\n",
       "      <th>603</th>\n",
       "      <td>603</td>\n",
       "      <td>3.608001</td>\n",
       "      <td>DB00706</td>\n",
       "      <td>False</td>\n",
       "      <td>False</td>\n",
       "      <td>drug</td>\n",
       "    </tr>\n",
       "    <tr>\n",
       "      <th>322</th>\n",
       "      <td>322</td>\n",
       "      <td>3.586452</td>\n",
       "      <td>DB00398</td>\n",
       "      <td>False</td>\n",
       "      <td>False</td>\n",
       "      <td>drug</td>\n",
       "    </tr>\n",
       "    <tr>\n",
       "      <th>1098</th>\n",
       "      <td>1098</td>\n",
       "      <td>3.540261</td>\n",
       "      <td>DB01242</td>\n",
       "      <td>False</td>\n",
       "      <td>False</td>\n",
       "      <td>drug</td>\n",
       "    </tr>\n",
       "    <tr>\n",
       "      <th>28</th>\n",
       "      <td>28</td>\n",
       "      <td>3.531218</td>\n",
       "      <td>DB00033</td>\n",
       "      <td>True</td>\n",
       "      <td>False</td>\n",
       "      <td>drug</td>\n",
       "    </tr>\n",
       "    <tr>\n",
       "      <th>1592</th>\n",
       "      <td>1592</td>\n",
       "      <td>3.525858</td>\n",
       "      <td>DB08822</td>\n",
       "      <td>False</td>\n",
       "      <td>False</td>\n",
       "      <td>drug</td>\n",
       "    </tr>\n",
       "  </tbody>\n",
       "</table>\n",
       "<p>100 rows × 6 columns</p>\n",
       "</div>"
      ],
      "text/plain": [
       "      tail_id     score tail_label  in_validation  in_testing node_type\n",
       "1991     1991  8.604259    DB11166          False       False      drug\n",
       "459       459  8.298801    DB00552          False        True      drug\n",
       "584       584  8.085953    DB00686          False       False      drug\n",
       "570       570  7.685174    DB00671          False       False      drug\n",
       "852       852  7.239124    DB00974           True       False      drug\n",
       "...       ...       ...        ...            ...         ...       ...\n",
       "603       603  3.608001    DB00706          False       False      drug\n",
       "322       322  3.586452    DB00398          False       False      drug\n",
       "1098     1098  3.540261    DB01242          False       False      drug\n",
       "28         28  3.531218    DB00033           True       False      drug\n",
       "1592     1592  3.525858    DB08822          False       False      drug\n",
       "\n",
       "[100 rows x 6 columns]"
      ]
     },
     "execution_count": 18,
     "metadata": {},
     "output_type": "execute_result"
    }
   ],
   "source": [
    "drug_id = common_drugs_ids[1]\n",
    "\n",
    "def get_predictions(drug_id):\n",
    "    try:\n",
    "        predictions = pd.read_csv(prediction_dir + 'complex_' + drug_id + '_interacts_ddi.csv', sep=',', index_col=[0])\n",
    "    except:\n",
    "        return None\n",
    "    # keep just drug/food/food compound predictions\n",
    "    predictions['node_type'] = list(itertools.repeat('xxx', predictions.shape[0]))\n",
    "    predictions.loc[predictions['tail_label'].str.contains(\"DB\\d+\", regex=True), 'node_type'] = \"drug\"\n",
    "    predictions.loc[predictions['tail_label'].str.contains(\"FDB\"), 'node_type'] = \"food_compound\"\n",
    "    predictions.loc[predictions['tail_label'].str.contains(\"FOOD\"), 'node_type'] = \"food\"\n",
    "    predictions = predictions.loc[predictions['node_type'] != 'xxx']\n",
    "    \n",
    "    return predictions\n",
    "\n",
    "get_predictions(drug_id)"
   ]
  },
  {
   "cell_type": "code",
   "execution_count": 7,
   "id": "af713b05",
   "metadata": {},
   "outputs": [
    {
     "name": "stdout",
     "output_type": "stream",
     "text": [
      "7\n",
      "2\n"
     ]
    }
   ],
   "source": [
    "print(predictions.in_validation.sum())\n",
    "print(predictions.in_testing.sum())"
   ]
  },
  {
   "cell_type": "code",
   "execution_count": null,
   "id": "7633811c",
   "metadata": {},
   "outputs": [],
   "source": [
    "# assign entity names to ids\n",
    "for row in predictions.iterrows():\n",
    "    tail = row[1].tail_label\n",
    "    node_type = row[1].node_type\n",
    "    \n",
    "    if node_type == 'drug':\n",
    "        tail_name = drug_id_map_dict[tail]\n",
    "    elif node_type == 'food':\n",
    "        tail_name = food_id_map_dict[tail]\n",
    "    else:\n",
    "        tail_name = compound_id_map_dict[tail]\n",
    "        \n",
    "    print(tail, tail_name)    "
   ]
  },
  {
   "cell_type": "code",
   "execution_count": 9,
   "id": "a17d2195",
   "metadata": {},
   "outputs": [
    {
     "name": "stdout",
     "output_type": "stream",
     "text": [
      "Relation in triplets:\n",
      "- train: no\n",
      "- valid: no\n",
      "- test: yes\n"
     ]
    }
   ],
   "source": [
    "# check if the predicted drug/food is in different interaction with the same drug in the training data\n",
    "\n",
    "# idx = drug_id\n",
    "# snd_idx = 'DB11166'\n",
    "\n",
    "# train_triplets = pd.read_csv(triplets_dir + 'train.tsv', sep='\\t', index_col=[0])\n",
    "# valid_triplets = pd.read_csv(triplets_dir + 'valid.tsv', sep='\\t', index_col=[0])\n",
    "# test_triplets = pd.read_csv(triplets_dir + 'test.tsv', sep='\\t', index_col=[0])\n",
    "\n",
    "# filtered_triplets = train_triplets.loc[train_triplets.index == idx]\n",
    "# in_train = filtered_triplets.loc[filtered_triplets['tail'] == snd_idx].any().sum()\n",
    "\n",
    "# filtered_triplets = valid_triplets.loc[valid_triplets.index == idx]\n",
    "# in_valid = filtered_triplets.loc[filtered_triplets['tail'] == snd_idx].any().sum()\n",
    "\n",
    "# filtered_triplets = test_triplets.loc[test_triplets.index == idx]\n",
    "# in_test = filtered_triplets.loc[filtered_triplets['tail'] == snd_idx].any().sum()\n",
    "\n",
    "# print(f'Relation in triplets:')\n",
    "# print(f'- train:', 'yes' if in_train else 'no')\n",
    "# print(f'- valid:', 'yes' if in_valid else 'no')\n",
    "# print(f'- test:', 'yes' if in_test else 'no')\n",
    "      "
   ]
  },
  {
   "cell_type": "markdown",
   "id": "ad8a5389",
   "metadata": {},
   "source": [
    "### Metrics"
   ]
  },
  {
   "cell_type": "code",
   "execution_count": 29,
   "id": "4ee463a1",
   "metadata": {},
   "outputs": [
    {
     "name": "stdout",
     "output_type": "stream",
     "text": [
      "Avg. hits@10: 0.5\n",
      "Avg. hits@20: 0.75\n",
      "Avg. hits@30: 0.8125\n",
      "Avg. hits@100: 3.5\n"
     ]
    }
   ],
   "source": [
    "# hits@k (how many predicted triplets in the first k positions are in test data)\n",
    "\n",
    "hits10 = []\n",
    "hits20 = []\n",
    "hits30 = []\n",
    "hits100 = []\n",
    "\n",
    "for drug in common_drugs_ids:\n",
    "    preds = get_predictions(drug)\n",
    "    \n",
    "    if preds is None:\n",
    "        continue\n",
    "        \n",
    "    hits10.append(preds.in_testing[:10].sum())\n",
    "    hits20.append(preds.in_testing[:20].sum())\n",
    "    hits30.append(preds.in_testing[:30].sum())\n",
    "    hits100.append(preds.in_testing[:100].sum())\n",
    "    \n",
    "\n",
    "print('Avg. hits@10:', np.mean(hits10))\n",
    "print('Avg. hits@20:', np.mean(hits20))\n",
    "print('Avg. hits@30:', np.mean(hits30))\n",
    "print('Avg. hits@100:', np.mean(hits100))"
   ]
  },
  {
   "cell_type": "code",
   "execution_count": 37,
   "id": "5607da9c",
   "metadata": {},
   "outputs": [
    {
     "name": "stdout",
     "output_type": "stream",
     "text": [
      "MRR: 22.3\n"
     ]
    }
   ],
   "source": [
    "# MRR (https://en.wikipedia.org/wiki/Mean_reciprocal_rank)\n",
    "# if the predicted triplet isn't in the first 100 test data -> index = 100\n",
    "\n",
    "mrr = []\n",
    "\n",
    "for drug in common_drugs_ids:\n",
    "    preds = get_predictions(drug)\n",
    "    \n",
    "    if preds is None:\n",
    "        continue\n",
    "    \n",
    "    try:\n",
    "        idx = list(preds.in_testing).index(True) + 1\n",
    "        mrr.append(idx)\n",
    "    except:\n",
    "        idx = 100\n",
    "    \n",
    "print('MRR:', np.mean(mrr))"
   ]
  },
  {
   "cell_type": "code",
   "execution_count": 34,
   "id": "5bf7f266",
   "metadata": {},
   "outputs": [
    {
     "ename": "ValueError",
     "evalue": "True is not in list",
     "output_type": "error",
     "traceback": [
      "\u001b[0;31m---------------------------------------------------------------------------\u001b[0m",
      "\u001b[0;31mValueError\u001b[0m                                Traceback (most recent call last)",
      "Cell \u001b[0;32mIn[34], line 2\u001b[0m\n\u001b[1;32m      1\u001b[0m l \u001b[38;5;241m=\u001b[39m [\u001b[38;5;28;01mFalse\u001b[39;00m, \u001b[38;5;28;01mFalse\u001b[39;00m]\n\u001b[0;32m----> 2\u001b[0m \u001b[43ml\u001b[49m\u001b[38;5;241;43m.\u001b[39;49m\u001b[43mindex\u001b[49m\u001b[43m(\u001b[49m\u001b[38;5;28;43;01mTrue\u001b[39;49;00m\u001b[43m,\u001b[49m\u001b[43m \u001b[49m\u001b[38;5;241;43m0\u001b[39;49m\u001b[43m)\u001b[49m\n",
      "\u001b[0;31mValueError\u001b[0m: True is not in list"
     ]
    }
   ],
   "source": [
    "l = [False, False]\n",
    "l.index(True, 0)"
   ]
  },
  {
   "cell_type": "markdown",
   "id": "a167c642",
   "metadata": {},
   "source": [
    "### All common drugs"
   ]
  },
  {
   "cell_type": "code",
   "execution_count": 10,
   "id": "0b07e5e5",
   "metadata": {},
   "outputs": [],
   "source": [
    "# common_drugs_all = pd.read_csv('../data/common_drugs_num_interactions.csv', sep=';', index_col=[0])\n",
    "# common_drugs_all = common_drugs_all[['drug_name', 'db_id']].dropna()\n",
    "# common_drugs_all"
   ]
  }
 ],
 "metadata": {
  "kernelspec": {
   "display_name": "Python 3 (ipykernel)",
   "language": "python",
   "name": "python3"
  },
  "language_info": {
   "codemirror_mode": {
    "name": "ipython",
    "version": 3
   },
   "file_extension": ".py",
   "mimetype": "text/x-python",
   "name": "python",
   "nbconvert_exporter": "python",
   "pygments_lexer": "ipython3",
   "version": "3.8.10"
  }
 },
 "nbformat": 4,
 "nbformat_minor": 5
}
