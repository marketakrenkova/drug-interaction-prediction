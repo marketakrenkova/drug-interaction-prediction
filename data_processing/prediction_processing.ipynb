{
 "cells": [
  {
   "cell_type": "code",
   "execution_count": 16,
   "id": "b3c65a24",
   "metadata": {},
   "outputs": [],
   "source": [
    "import pandas as pd\n",
    "import itertools\n",
    "import numpy as np"
   ]
  },
  {
   "cell_type": "code",
   "execution_count": 2,
   "id": "fdb1d285",
   "metadata": {},
   "outputs": [],
   "source": [
    "prediction_dir = '../predictions/'\n",
    "triplets_dir = '../data/triplets/'\n",
    "drugbank_dir = '../data/drugbank/'"
   ]
  },
  {
   "cell_type": "code",
   "execution_count": 3,
   "id": "61395743",
   "metadata": {},
   "outputs": [],
   "source": [
    "drug_name_map = pd.read_csv(drugbank_dir + 'drug_id_name_map.csv', sep=',', index_col=[0])\n",
    "food_name_map = pd.read_csv(triplets_dir + 'food_name.tsv', sep='\\t', index_col=[0])\n",
    "food_compound_map = pd.read_csv(triplets_dir + 'compounds_names.tsv', sep='\\t', index_col=[0])"
   ]
  },
  {
   "cell_type": "code",
   "execution_count": 4,
   "id": "8a368210",
   "metadata": {},
   "outputs": [],
   "source": [
    "drug_ids = drug_name_map.id\n",
    "drug_names = drug_name_map.drug_name\n",
    "drug_id_map_dict = dict(zip(drug_ids, drug_names))\n",
    "\n",
    "food_ids = food_name_map.public_id\n",
    "food_names = food_name_map.name\n",
    "food_id_map_dict = dict(zip(food_ids, food_names))\n",
    "\n",
    "compound_ids = food_compound_map.compound_id\n",
    "compound_names = food_compound_map.name\n",
    "compound_id_map_dict = dict(zip(compound_ids, compound_names))"
   ]
  },
  {
   "cell_type": "code",
   "execution_count": 5,
   "id": "aa174626",
   "metadata": {},
   "outputs": [
    {
     "name": "stdout",
     "output_type": "stream",
     "text": [
      "      Unnamed: 0    drug_name  ATC_WHO    db_id  num_interactions atc_code\n",
      "0              0     lexaurin  N05BA08  DB01558            1497.0  N05BA08\n",
      "1              1  fraxiparine  B01AB06  DB08813             621.0  B01AB06\n",
      "2              2     novalgin  N02BB02  DB04817            1438.0  N02BB02\n",
      "3              3    dithiaden    R06AX      NaN               0.0      NaN\n",
      "4              4     diazepam  N05BA01  DB00829            1714.0  N05BA01\n",
      "...          ...          ...      ...      ...               ...      ...\n",
      "1582        1582     vectibix  L01FE02      NaN               0.0      NaN\n",
      "1583        1583      lonsurf  L01BC59  DB00432            1351.0  L01BC59\n",
      "1584        1584   amlodipine  C08CA01  DB00381             804.0  C08CA01\n",
      "1585        1585        daxas  R03DX07  DB01656            1488.0  R03DX07\n",
      "1586        1586     ibustrin  B01AC10      NaN               0.0      NaN\n",
      "\n",
      "[1587 rows x 6 columns]\n"
     ]
    },
    {
     "data": {
      "text/plain": [
       "array(['DB01558', 'DB08813', 'DB04817', ..., 'DB00381', 'DB01656', nan],\n",
       "      dtype=object)"
      ]
     },
     "execution_count": 5,
     "metadata": {},
     "output_type": "execute_result"
    }
   ],
   "source": [
    "common_drugs = pd.read_csv('../data/common_drugs_num_interactions.csv', sep=';')\n",
    "common_drugs_ids = common_drugs.db_id.values\n",
    "print(common_drugs)\n",
    "common_drugs_ids"
   ]
  },
  {
   "cell_type": "code",
<<<<<<< HEAD
   "execution_count": 23,
=======
   "execution_count": 18,
>>>>>>> af1f1bf05939d59fffa98a301cd66975a330dae0
   "id": "c0e67f2d",
   "metadata": {},
   "outputs": [
    {
     "data": {
      "text/html": [
       "<div>\n",
       "<style scoped>\n",
       "    .dataframe tbody tr th:only-of-type {\n",
       "        vertical-align: middle;\n",
       "    }\n",
       "\n",
       "    .dataframe tbody tr th {\n",
       "        vertical-align: top;\n",
       "    }\n",
       "\n",
       "    .dataframe thead th {\n",
       "        text-align: right;\n",
       "    }\n",
       "</style>\n",
       "<table border=\"1\" class=\"dataframe\">\n",
       "  <thead>\n",
       "    <tr style=\"text-align: right;\">\n",
       "      <th></th>\n",
       "      <th>tail_id</th>\n",
       "      <th>score</th>\n",
       "      <th>tail_label</th>\n",
       "      <th>in_validation</th>\n",
       "      <th>in_testing</th>\n",
       "      <th>node_type</th>\n",
       "    </tr>\n",
       "  </thead>\n",
       "  <tbody>\n",
       "    <tr>\n",
<<<<<<< HEAD
       "      <th>551</th>\n",
       "      <td>551</td>\n",
       "      <td>9.489568</td>\n",
       "      <td>DB00651</td>\n",
=======
       "      <th>1991</th>\n",
       "      <td>1991</td>\n",
       "      <td>8.604259</td>\n",
       "      <td>DB11166</td>\n",
>>>>>>> af1f1bf05939d59fffa98a301cd66975a330dae0
       "      <td>False</td>\n",
       "      <td>False</td>\n",
       "      <td>drug</td>\n",
       "    </tr>\n",
       "    <tr>\n",
<<<<<<< HEAD
       "      <th>580</th>\n",
       "      <td>580</td>\n",
       "      <td>9.438305</td>\n",
       "      <td>DB00682</td>\n",
       "      <td>False</td>\n",
=======
       "      <th>459</th>\n",
       "      <td>459</td>\n",
       "      <td>8.298801</td>\n",
       "      <td>DB00552</td>\n",
>>>>>>> af1f1bf05939d59fffa98a301cd66975a330dae0
       "      <td>False</td>\n",
       "      <td>True</td>\n",
       "      <td>drug</td>\n",
       "    </tr>\n",
       "    <tr>\n",
<<<<<<< HEAD
       "      <th>1902</th>\n",
       "      <td>1902</td>\n",
       "      <td>9.256014</td>\n",
       "      <td>DB09570</td>\n",
=======
       "      <th>584</th>\n",
       "      <td>584</td>\n",
       "      <td>8.085953</td>\n",
       "      <td>DB00686</td>\n",
>>>>>>> af1f1bf05939d59fffa98a301cd66975a330dae0
       "      <td>False</td>\n",
       "      <td>False</td>\n",
       "      <td>drug</td>\n",
       "    </tr>\n",
       "    <tr>\n",
<<<<<<< HEAD
       "      <th>531</th>\n",
       "      <td>531</td>\n",
       "      <td>8.877972</td>\n",
       "      <td>DB00628</td>\n",
=======
       "      <th>570</th>\n",
       "      <td>570</td>\n",
       "      <td>7.685174</td>\n",
       "      <td>DB00671</td>\n",
>>>>>>> af1f1bf05939d59fffa98a301cd66975a330dae0
       "      <td>False</td>\n",
       "      <td>False</td>\n",
       "      <td>drug</td>\n",
       "    </tr>\n",
       "    <tr>\n",
<<<<<<< HEAD
       "      <th>941</th>\n",
       "      <td>941</td>\n",
       "      <td>8.769602</td>\n",
       "      <td>DB01072</td>\n",
       "      <td>False</td>\n",
=======
       "      <th>852</th>\n",
       "      <td>852</td>\n",
       "      <td>7.239124</td>\n",
       "      <td>DB00974</td>\n",
       "      <td>True</td>\n",
>>>>>>> af1f1bf05939d59fffa98a301cd66975a330dae0
       "      <td>False</td>\n",
       "      <td>drug</td>\n",
       "    </tr>\n",
       "    <tr>\n",
       "      <th>...</th>\n",
       "      <td>...</td>\n",
       "      <td>...</td>\n",
       "      <td>...</td>\n",
       "      <td>...</td>\n",
       "      <td>...</td>\n",
       "      <td>...</td>\n",
<<<<<<< HEAD
       "    </tr>\n",
       "    <tr>\n",
       "      <th>221</th>\n",
       "      <td>221</td>\n",
       "      <td>5.925367</td>\n",
       "      <td>DB00292</td>\n",
=======
       "    </tr>\n",
       "    <tr>\n",
       "      <th>603</th>\n",
       "      <td>603</td>\n",
       "      <td>3.608001</td>\n",
       "      <td>DB00706</td>\n",
       "      <td>False</td>\n",
       "      <td>False</td>\n",
       "      <td>drug</td>\n",
       "    </tr>\n",
       "    <tr>\n",
       "      <th>322</th>\n",
       "      <td>322</td>\n",
       "      <td>3.586452</td>\n",
       "      <td>DB00398</td>\n",
>>>>>>> af1f1bf05939d59fffa98a301cd66975a330dae0
       "      <td>False</td>\n",
       "      <td>False</td>\n",
       "      <td>drug</td>\n",
       "    </tr>\n",
       "    <tr>\n",
<<<<<<< HEAD
       "      <th>2063</th>\n",
       "      <td>2063</td>\n",
       "      <td>5.921728</td>\n",
       "      <td>DB11633</td>\n",
=======
       "      <th>1098</th>\n",
       "      <td>1098</td>\n",
       "      <td>3.540261</td>\n",
       "      <td>DB01242</td>\n",
>>>>>>> af1f1bf05939d59fffa98a301cd66975a330dae0
       "      <td>False</td>\n",
       "      <td>False</td>\n",
       "      <td>drug</td>\n",
       "    </tr>\n",
       "    <tr>\n",
<<<<<<< HEAD
       "      <th>381</th>\n",
       "      <td>381</td>\n",
       "      <td>5.915318</td>\n",
       "      <td>DB00461</td>\n",
       "      <td>False</td>\n",
=======
       "      <th>28</th>\n",
       "      <td>28</td>\n",
       "      <td>3.531218</td>\n",
       "      <td>DB00033</td>\n",
       "      <td>True</td>\n",
>>>>>>> af1f1bf05939d59fffa98a301cd66975a330dae0
       "      <td>False</td>\n",
       "      <td>drug</td>\n",
       "    </tr>\n",
       "    <tr>\n",
<<<<<<< HEAD
       "      <th>1802</th>\n",
       "      <td>1802</td>\n",
       "      <td>5.913276</td>\n",
       "      <td>DB09256</td>\n",
       "      <td>False</td>\n",
       "      <td>False</td>\n",
       "      <td>drug</td>\n",
       "    </tr>\n",
       "    <tr>\n",
       "      <th>907</th>\n",
       "      <td>907</td>\n",
       "      <td>5.885674</td>\n",
       "      <td>DB01032</td>\n",
=======
       "      <th>1592</th>\n",
       "      <td>1592</td>\n",
       "      <td>3.525858</td>\n",
       "      <td>DB08822</td>\n",
>>>>>>> af1f1bf05939d59fffa98a301cd66975a330dae0
       "      <td>False</td>\n",
       "      <td>False</td>\n",
       "      <td>drug</td>\n",
       "    </tr>\n",
       "  </tbody>\n",
       "</table>\n",
       "<p>100 rows × 6 columns</p>\n",
       "</div>"
      ],
      "text/plain": [
       "      tail_id     score tail_label  in_validation  in_testing node_type\n",
<<<<<<< HEAD
       "551       551  9.489568    DB00651          False       False      drug\n",
       "580       580  9.438305    DB00682          False       False      drug\n",
       "1902     1902  9.256014    DB09570          False       False      drug\n",
       "531       531  8.877972    DB00628          False       False      drug\n",
       "941       941  8.769602    DB01072          False       False      drug\n",
       "...       ...       ...        ...            ...         ...       ...\n",
       "221       221  5.925367    DB00292          False       False      drug\n",
       "2063     2063  5.921728    DB11633          False       False      drug\n",
       "381       381  5.915318    DB00461          False       False      drug\n",
       "1802     1802  5.913276    DB09256          False       False      drug\n",
       "907       907  5.885674    DB01032          False       False      drug\n",
=======
       "1991     1991  8.604259    DB11166          False       False      drug\n",
       "459       459  8.298801    DB00552          False        True      drug\n",
       "584       584  8.085953    DB00686          False       False      drug\n",
       "570       570  7.685174    DB00671          False       False      drug\n",
       "852       852  7.239124    DB00974           True       False      drug\n",
       "...       ...       ...        ...            ...         ...       ...\n",
       "603       603  3.608001    DB00706          False       False      drug\n",
       "322       322  3.586452    DB00398          False       False      drug\n",
       "1098     1098  3.540261    DB01242          False       False      drug\n",
       "28         28  3.531218    DB00033           True       False      drug\n",
       "1592     1592  3.525858    DB08822          False       False      drug\n",
>>>>>>> af1f1bf05939d59fffa98a301cd66975a330dae0
       "\n",
       "[100 rows x 6 columns]"
      ]
     },
<<<<<<< HEAD
     "execution_count": 23,
=======
     "execution_count": 18,
>>>>>>> af1f1bf05939d59fffa98a301cd66975a330dae0
     "metadata": {},
     "output_type": "execute_result"
    }
   ],
   "source": [
<<<<<<< HEAD
    "drug_id = common_drugs_ids[4]\n",
=======
    "drug_id = common_drugs_ids[1]\n",
>>>>>>> af1f1bf05939d59fffa98a301cd66975a330dae0
    "\n",
    "def get_predictions(drug_id):\n",
    "    try:\n",
    "        predictions = pd.read_csv(prediction_dir + 'complex_' + drug_id + '_interacts_ddi.csv', sep=',', index_col=[0])\n",
    "    except:\n",
    "        return None\n",
    "    # keep just drug/food/food compound predictions\n",
    "    predictions['node_type'] = list(itertools.repeat('xxx', predictions.shape[0]))\n",
    "    predictions.loc[predictions['tail_label'].str.contains(\"DB\\d+\", regex=True), 'node_type'] = \"drug\"\n",
    "    predictions.loc[predictions['tail_label'].str.contains(\"FDB\"), 'node_type'] = \"food_compound\"\n",
    "    predictions.loc[predictions['tail_label'].str.contains(\"FOOD\"), 'node_type'] = \"food\"\n",
    "    predictions = predictions.loc[predictions['node_type'] != 'xxx']\n",
    "    \n",
    "    return predictions\n",
    "\n",
<<<<<<< HEAD
    "predictions = get_predictions(drug_id)\n",
    "predictions"
=======
    "get_predictions(drug_id)"
>>>>>>> af1f1bf05939d59fffa98a301cd66975a330dae0
   ]
  },
  {
   "cell_type": "code",
<<<<<<< HEAD
   "execution_count": 17,
   "id": "db1f61f2",
   "metadata": {},
   "outputs": [
    {
     "data": {
      "text/plain": [
       "0"
      ]
     },
     "execution_count": 17,
     "metadata": {},
     "output_type": "execute_result"
    }
   ],
   "source": [
    "predictions.in_testing.sum()"
   ]
  },
  {
   "cell_type": "code",
   "execution_count": 22,
   "id": "7633811c",
=======
   "execution_count": 7,
   "id": "af713b05",
>>>>>>> af1f1bf05939d59fffa98a301cd66975a330dae0
   "metadata": {},
   "outputs": [],
   "source": [
    "# # assign entity names to ids\n",
    "# for row in predictions.iterrows():\n",
    "#     tail = row[1].tail_label\n",
    "#     node_type = row[1].node_type\n",
    "    \n",
    "#     if node_type == 'drug':\n",
    "#         tail_name = drug_id_map_dict[tail]\n",
    "#     elif node_type == 'food':\n",
    "#         tail_name = food_id_map_dict[tail]\n",
    "#     else:\n",
    "#         tail_name = compound_id_map_dict[tail]\n",
    "        \n",
    "#     print(tail, tail_name)    "
   ]
  },
  {
   "cell_type": "code",
   "execution_count": 19,
   "id": "a17d2195",
   "metadata": {},
   "outputs": [],
   "source": [
    "# check if the predicted drug/food is in different interaction with the same drug in the training data\n",
    "\n",
    "# idx = drug_id\n",
    "# snd_idx = 'DB11166'\n",
    "\n",
    "# train_triplets = pd.read_csv(triplets_dir + 'train.tsv', sep='\\t', index_col=[0])\n",
    "# valid_triplets = pd.read_csv(triplets_dir + 'valid.tsv', sep='\\t', index_col=[0])\n",
    "# test_triplets = pd.read_csv(triplets_dir + 'test.tsv', sep='\\t', index_col=[0])\n",
    "\n",
    "# filtered_triplets = train_triplets.loc[train_triplets.index == idx]\n",
    "# in_train = filtered_triplets.loc[filtered_triplets['tail'] == snd_idx].any().sum()\n",
    "\n",
    "# filtered_triplets = valid_triplets.loc[valid_triplets.index == idx]\n",
    "# in_valid = filtered_triplets.loc[filtered_triplets['tail'] == snd_idx].any().sum()\n",
    "\n",
    "# filtered_triplets = test_triplets.loc[test_triplets.index == idx]\n",
    "# in_test = filtered_triplets.loc[filtered_triplets['tail'] == snd_idx].any().sum()\n",
    "\n",
    "# print(f'Relation in triplets:')\n",
    "# print(f'- train:', 'yes' if in_train else 'no')\n",
    "# print(f'- valid:', 'yes' if in_valid else 'no')\n",
    "# print(f'- test:', 'yes' if in_test else 'no')\n",
    "      "
   ]
  },
  {
   "cell_type": "markdown",
   "id": "ad8a5389",
   "metadata": {},
   "source": [
    "### Metrics"
   ]
  },
  {
   "cell_type": "code",
   "execution_count": 24,
   "id": "4ee463a1",
   "metadata": {},
   "outputs": [
    {
     "name": "stdout",
     "output_type": "stream",
     "text": [
<<<<<<< HEAD
      "Avg. hits@10: 0.3508005822416303\n",
      "Avg. hits@20: 0.6783114992721979\n",
      "Avg. hits@30: 1.0502183406113537\n",
      "Avg. hits@100: 3.6098981077147014\n"
=======
      "7\n",
      "2\n"
>>>>>>> af1f1bf05939d59fffa98a301cd66975a330dae0
     ]
    }
   ],
   "source": [
<<<<<<< HEAD
    "# hits@k (how many predicted triplets in the first k positions are in test data)\n",
    "\n",
    "hits10 = []\n",
    "hits20 = []\n",
    "hits30 = []\n",
    "hits100 = []\n",
    "\n",
    "for drug in common_drugs_ids:\n",
    "    preds = get_predictions(drug)\n",
=======
    "print(predictions.in_validation.sum())\n",
    "print(predictions.in_testing.sum())"
   ]
  },
  {
   "cell_type": "code",
   "execution_count": null,
   "id": "7633811c",
   "metadata": {},
   "outputs": [],
   "source": [
    "# assign entity names to ids\n",
    "for row in predictions.iterrows():\n",
    "    tail = row[1].tail_label\n",
    "    node_type = row[1].node_type\n",
>>>>>>> af1f1bf05939d59fffa98a301cd66975a330dae0
    "    \n",
    "    if preds is None:\n",
    "        continue\n",
    "        \n",
    "    hits10.append(preds.in_testing[:10].sum())\n",
    "    hits20.append(preds.in_testing[:20].sum())\n",
    "    hits30.append(preds.in_testing[:30].sum())\n",
    "    hits100.append(preds.in_testing[:100].sum())\n",
    "    \n",
    "\n",
    "print('Avg. hits@10:', np.mean(hits10))\n",
    "print('Avg. hits@20:', np.mean(hits20))\n",
    "print('Avg. hits@30:', np.mean(hits30))\n",
    "print('Avg. hits@100:', np.mean(hits100))"
   ]
  },
  {
   "cell_type": "code",
<<<<<<< HEAD
   "execution_count": 25,
   "id": "5607da9c",
=======
   "execution_count": 9,
   "id": "a17d2195",
>>>>>>> af1f1bf05939d59fffa98a301cd66975a330dae0
   "metadata": {},
   "outputs": [
    {
     "name": "stdout",
     "output_type": "stream",
     "text": [
<<<<<<< HEAD
      "MRR: 0.11616360047320831\n"
=======
      "Relation in triplets:\n",
      "- train: no\n",
      "- valid: no\n",
      "- test: yes\n"
>>>>>>> af1f1bf05939d59fffa98a301cd66975a330dae0
     ]
    }
   ],
   "source": [
<<<<<<< HEAD
    "# MRR (https://en.wikipedia.org/wiki/Mean_reciprocal_rank)\n",
    "# if the predicted triplet isn't in the first 100 test data -> index = 100\n",
    "\n",
    "mrr = []\n",
    "\n",
    "for drug in common_drugs_ids:\n",
    "    preds = get_predictions(drug)\n",
    "    \n",
    "    if preds is None:\n",
    "        continue\n",
    "    \n",
    "    try:\n",
    "        idx = 1 / (list(preds.in_testing).index(True) + 1)\n",
    "    except:\n",
    "        idx = 1 / 100\n",
    "    mrr.append(idx)\n",
    "    \n",
    "print('MRR:', np.mean(mrr))"
   ]
  },
  {
   "cell_type": "markdown",
   "id": "a167c642",
   "metadata": {},
   "source": [
    "### All common drugs"
   ]
  },
  {
   "cell_type": "code",
   "execution_count": null,
   "id": "0b07e5e5",
   "metadata": {},
   "outputs": [],
   "source": [
    "# common_drugs_all = pd.read_csv('../data/common_drugs_num_interactions.csv', sep=';', index_col=[0])\n",
    "# common_drugs_all = common_drugs_all[['drug_name', 'db_id']].dropna()\n",
    "# common_drugs_all"
=======
    "# check if the predicted drug/food is in different interaction with the same drug in the training data\n",
    "\n",
    "# idx = drug_id\n",
    "# snd_idx = 'DB11166'\n",
    "\n",
    "# train_triplets = pd.read_csv(triplets_dir + 'train.tsv', sep='\\t', index_col=[0])\n",
    "# valid_triplets = pd.read_csv(triplets_dir + 'valid.tsv', sep='\\t', index_col=[0])\n",
    "# test_triplets = pd.read_csv(triplets_dir + 'test.tsv', sep='\\t', index_col=[0])\n",
    "\n",
    "# filtered_triplets = train_triplets.loc[train_triplets.index == idx]\n",
    "# in_train = filtered_triplets.loc[filtered_triplets['tail'] == snd_idx].any().sum()\n",
    "\n",
    "# filtered_triplets = valid_triplets.loc[valid_triplets.index == idx]\n",
    "# in_valid = filtered_triplets.loc[filtered_triplets['tail'] == snd_idx].any().sum()\n",
    "\n",
    "# filtered_triplets = test_triplets.loc[test_triplets.index == idx]\n",
    "# in_test = filtered_triplets.loc[filtered_triplets['tail'] == snd_idx].any().sum()\n",
    "\n",
    "# print(f'Relation in triplets:')\n",
    "# print(f'- train:', 'yes' if in_train else 'no')\n",
    "# print(f'- valid:', 'yes' if in_valid else 'no')\n",
    "# print(f'- test:', 'yes' if in_test else 'no')\n",
    "      "
>>>>>>> af1f1bf05939d59fffa98a301cd66975a330dae0
   ]
  },
  {
   "cell_type": "markdown",
   "id": "ad8a5389",
   "metadata": {},
   "source": [
    "### Metrics"
   ]
  },
  {
   "cell_type": "code",
   "execution_count": 29,
   "id": "4ee463a1",
   "metadata": {},
   "outputs": [
    {
     "name": "stdout",
     "output_type": "stream",
     "text": [
      "Avg. hits@10: 0.5\n",
      "Avg. hits@20: 0.75\n",
      "Avg. hits@30: 0.8125\n",
      "Avg. hits@100: 3.5\n"
     ]
    }
   ],
   "source": [
    "# hits@k (how many predicted triplets in the first k positions are in test data)\n",
    "\n",
    "hits10 = []\n",
    "hits20 = []\n",
    "hits30 = []\n",
    "hits100 = []\n",
    "\n",
    "for drug in common_drugs_ids:\n",
    "    preds = get_predictions(drug)\n",
    "    \n",
    "    if preds is None:\n",
    "        continue\n",
    "        \n",
    "    hits10.append(preds.in_testing[:10].sum())\n",
    "    hits20.append(preds.in_testing[:20].sum())\n",
    "    hits30.append(preds.in_testing[:30].sum())\n",
    "    hits100.append(preds.in_testing[:100].sum())\n",
    "    \n",
    "\n",
    "print('Avg. hits@10:', np.mean(hits10))\n",
    "print('Avg. hits@20:', np.mean(hits20))\n",
    "print('Avg. hits@30:', np.mean(hits30))\n",
    "print('Avg. hits@100:', np.mean(hits100))"
   ]
  },
  {
   "cell_type": "code",
   "execution_count": 37,
   "id": "5607da9c",
   "metadata": {},
   "outputs": [
    {
     "name": "stdout",
     "output_type": "stream",
     "text": [
      "MRR: 22.3\n"
     ]
    }
   ],
   "source": [
    "# MRR (https://en.wikipedia.org/wiki/Mean_reciprocal_rank)\n",
    "# if the predicted triplet isn't in the first 100 test data -> index = 100\n",
    "\n",
    "mrr = []\n",
    "\n",
    "for drug in common_drugs_ids:\n",
    "    preds = get_predictions(drug)\n",
    "    \n",
    "    if preds is None:\n",
    "        continue\n",
    "    \n",
    "    try:\n",
    "        idx = list(preds.in_testing).index(True) + 1\n",
    "        mrr.append(idx)\n",
    "    except:\n",
    "        idx = 100\n",
    "    \n",
    "print('MRR:', np.mean(mrr))"
   ]
  },
  {
   "cell_type": "code",
   "execution_count": 34,
   "id": "5bf7f266",
   "metadata": {},
   "outputs": [
    {
     "ename": "ValueError",
     "evalue": "True is not in list",
     "output_type": "error",
     "traceback": [
      "\u001b[0;31m---------------------------------------------------------------------------\u001b[0m",
      "\u001b[0;31mValueError\u001b[0m                                Traceback (most recent call last)",
      "Cell \u001b[0;32mIn[34], line 2\u001b[0m\n\u001b[1;32m      1\u001b[0m l \u001b[38;5;241m=\u001b[39m [\u001b[38;5;28;01mFalse\u001b[39;00m, \u001b[38;5;28;01mFalse\u001b[39;00m]\n\u001b[0;32m----> 2\u001b[0m \u001b[43ml\u001b[49m\u001b[38;5;241;43m.\u001b[39;49m\u001b[43mindex\u001b[49m\u001b[43m(\u001b[49m\u001b[38;5;28;43;01mTrue\u001b[39;49;00m\u001b[43m,\u001b[49m\u001b[43m \u001b[49m\u001b[38;5;241;43m0\u001b[39;49m\u001b[43m)\u001b[49m\n",
      "\u001b[0;31mValueError\u001b[0m: True is not in list"
     ]
    }
   ],
   "source": [
    "l = [False, False]\n",
    "l.index(True, 0)"
   ]
  },
  {
   "cell_type": "markdown",
   "id": "a167c642",
   "metadata": {},
   "source": [
    "### All common drugs"
   ]
  },
  {
   "cell_type": "code",
   "execution_count": 10,
   "id": "0b07e5e5",
   "metadata": {},
   "outputs": [],
   "source": [
    "# common_drugs_all = pd.read_csv('../data/common_drugs_num_interactions.csv', sep=';', index_col=[0])\n",
    "# common_drugs_all = common_drugs_all[['drug_name', 'db_id']].dropna()\n",
    "# common_drugs_all"
   ]
  }
 ],
 "metadata": {
  "kernelspec": {
   "display_name": "Python 3 (ipykernel)",
   "language": "python",
   "name": "python3"
  },
  "language_info": {
   "codemirror_mode": {
    "name": "ipython",
    "version": 3
   },
   "file_extension": ".py",
   "mimetype": "text/x-python",
   "name": "python",
   "nbconvert_exporter": "python",
   "pygments_lexer": "ipython3",
   "version": "3.8.10"
  }
 },
 "nbformat": 4,
 "nbformat_minor": 5
}
