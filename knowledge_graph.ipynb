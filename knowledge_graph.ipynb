{
 "cells": [
  {
   "cell_type": "markdown",
   "metadata": {},
   "source": [
    "## Knowledge Graph\n",
    "#### Drug-Food or Drug-Supplements interaction prediction"
   ]
  },
  {
   "cell_type": "code",
   "execution_count": 1,
   "metadata": {},
   "outputs": [],
   "source": [
    "import warnings\n",
    "warnings.filterwarnings('ignore')"
   ]
  },
  {
   "cell_type": "code",
   "execution_count": 2,
   "metadata": {},
   "outputs": [],
   "source": [
    "import pandas as pd\n",
    "from sklearn.model_selection import train_test_split\n",
    "import matplotlib.pyplot as plt\n",
    "\n",
    "from pykeen.models import predict\n",
    "from pykeen.pipeline import pipeline\n",
    "from pykeen.triples import TriplesFactory\n",
    "from pykeen.models import TransE\n",
    "from pykeen.evaluation import RankBasedEvaluator\n",
    "\n",
    "from os import listdir"
   ]
  },
  {
   "cell_type": "markdown",
   "metadata": {},
   "source": [
    "### Split data into train, validation and test sets"
   ]
  },
  {
   "cell_type": "code",
   "execution_count": 3,
   "metadata": {},
   "outputs": [],
   "source": [
    "data_dir = 'data/triplets/'"
   ]
  },
  {
   "cell_type": "code",
   "execution_count": 4,
   "metadata": {},
   "outputs": [
    {
     "data": {
      "text/html": [
       "<div>\n",
       "<style scoped>\n",
       "    .dataframe tbody tr th:only-of-type {\n",
       "        vertical-align: middle;\n",
       "    }\n",
       "\n",
       "    .dataframe tbody tr th {\n",
       "        vertical-align: top;\n",
       "    }\n",
       "\n",
       "    .dataframe thead th {\n",
       "        text-align: right;\n",
       "    }\n",
       "</style>\n",
       "<table border=\"1\" class=\"dataframe\">\n",
       "  <thead>\n",
       "    <tr style=\"text-align: right;\">\n",
       "      <th></th>\n",
       "      <th>drug1</th>\n",
       "      <th>interaction</th>\n",
       "      <th>drug2</th>\n",
       "    </tr>\n",
       "  </thead>\n",
       "  <tbody>\n",
       "    <tr>\n",
       "      <th>0</th>\n",
       "      <td>Apixaban</td>\n",
       "      <td>increase_anticoagulant_activities</td>\n",
       "      <td>Lepirudin</td>\n",
       "    </tr>\n",
       "    <tr>\n",
       "      <th>1</th>\n",
       "      <td>Dabigatran etexilate</td>\n",
       "      <td>increase_anticoagulant_activities</td>\n",
       "      <td>Lepirudin</td>\n",
       "    </tr>\n",
       "    <tr>\n",
       "      <th>2</th>\n",
       "      <td>Dasatinib</td>\n",
       "      <td>increase_bleeding</td>\n",
       "      <td>Lepirudin</td>\n",
       "    </tr>\n",
       "    <tr>\n",
       "      <th>3</th>\n",
       "      <td>Dasatinib</td>\n",
       "      <td>increase_hemorrhage</td>\n",
       "      <td>Lepirudin</td>\n",
       "    </tr>\n",
       "    <tr>\n",
       "      <th>4</th>\n",
       "      <td>Deferasirox</td>\n",
       "      <td>increase_gastrointestinal_bleeding</td>\n",
       "      <td>Lepirudin</td>\n",
       "    </tr>\n",
       "  </tbody>\n",
       "</table>\n",
       "</div>"
      ],
      "text/plain": [
       "                  drug1                         interaction      drug2\n",
       "0              Apixaban   increase_anticoagulant_activities  Lepirudin\n",
       "1  Dabigatran etexilate   increase_anticoagulant_activities  Lepirudin\n",
       "2             Dasatinib                   increase_bleeding  Lepirudin\n",
       "3             Dasatinib                 increase_hemorrhage  Lepirudin\n",
       "4           Deferasirox  increase_gastrointestinal_bleeding  Lepirudin"
      ]
     },
     "execution_count": 4,
     "metadata": {},
     "output_type": "execute_result"
    }
   ],
   "source": [
    "ddi_df = pd.read_csv(data_dir + 'ddi.tsv', sep='\\t', index_col=[0])\n",
    "ddi_df.head()"
   ]
  },
  {
   "cell_type": "code",
   "execution_count": 5,
   "metadata": {},
   "outputs": [
    {
     "name": "stdout",
     "output_type": "stream",
     "text": [
      "total interactions: 3123450\n",
      "unique interactions: 205\n"
     ]
    },
    {
     "data": {
      "text/plain": [
       "interaction\n",
       "decrease_absorption                             576\n",
       "decrease_adverse_effects                        384\n",
       "decrease_anticholinergic_activities              26\n",
       "decrease_anticoagulant_activities              5174\n",
       "decrease_antihypertensive_activities          63420\n",
       "                                              ...  \n",
       "increase_visual_accommodation_disturbances        2\n",
       "increase_vomiting                                54\n",
       "increase_water_intoxication                     256\n",
       "increase_weakness                              1710\n",
       "increase_weight_gain                             16\n",
       "Length: 205, dtype: int64"
      ]
     },
     "execution_count": 5,
     "metadata": {},
     "output_type": "execute_result"
    }
   ],
   "source": [
    "print('total interactions:', ddi_df.shape[0])\n",
    "print('unique interactions:', len(set(ddi_df.interaction)))\n",
    "\n",
    "interaction_counts = ddi_df.groupby(by=['interaction']).size()\n",
    "interaction_counts"
   ]
  },
  {
   "cell_type": "code",
   "execution_count": 6,
   "metadata": {},
   "outputs": [
    {
     "data": {
      "text/plain": [
       "{'decrease_absorption',\n",
       " 'decrease_adverse_effects',\n",
       " 'decrease_anticholinergic_activities',\n",
       " 'decrease_anticoagulant_activities',\n",
       " 'decrease_antihypertensive_activities',\n",
       " 'decrease_antiplatelet_activities',\n",
       " 'decrease_arrhythmogenic_activities',\n",
       " 'decrease_bioavailability',\n",
       " 'decrease_bronchodilatory_activities',\n",
       " 'decrease_cardiotoxicity',\n",
       " 'decrease_cytotoxicity',\n",
       " 'decrease_diuretic_activities',\n",
       " 'decrease_effectiveness',\n",
       " 'decrease_excretion_rate',\n",
       " 'decrease_fluid_retaining_activities',\n",
       " 'decrease_hypertension',\n",
       " 'decrease_hypoglycemia',\n",
       " 'decrease_hypotension',\n",
       " 'decrease_metabolism',\n",
       " 'decrease_myopathy',\n",
       " 'decrease_nephrotoxicity',\n",
       " 'decrease_neuromuscular_blockade',\n",
       " 'decrease_protein_binding',\n",
       " 'decrease_qtc_prolongation',\n",
       " 'decrease_rhabdomyolysis',\n",
       " 'decrease_sedation',\n",
       " 'decrease_seizure',\n",
       " 'decrease_serum_concentration',\n",
       " 'decrease_skeletal_muscle_relaxing_activities',\n",
       " 'decrease_stimulatory_activities',\n",
       " 'decrease_therapeutic_efficacy',\n",
       " 'decrease_vasoconstricting_activities',\n",
       " 'decrease_vasopressor_activities',\n",
       " 'increase_adverse_effects',\n",
       " 'increase_alpha-adrenergic_activities',\n",
       " 'increase_analgesic_activities',\n",
       " 'increase_anemia',\n",
       " 'increase_angioedema',\n",
       " 'increase_anti-angiogenesis',\n",
       " 'increase_anticholinergic_activities',\n",
       " 'increase_anticoagulant_activities',\n",
       " 'increase_anticonvulsant_toxicity',\n",
       " 'increase_antihypertensive_activities',\n",
       " 'increase_antiplatelet_activities',\n",
       " 'increase_antipsychotic_activities',\n",
       " 'increase_arrhythmogenic_activities',\n",
       " 'increase_atrioventricular_blocking_(av_block)_activities',\n",
       " 'increase_bioavailability',\n",
       " 'increase_bleeding',\n",
       " 'increase_bradycardia',\n",
       " 'increase_bronchoconstrictory_activities',\n",
       " 'increase_bronchospasm',\n",
       " 'increase_bruising',\n",
       " 'increase_cardiac_arrest',\n",
       " 'increase_cardiac_arrhythmia',\n",
       " 'increase_cardiodepressant_activities',\n",
       " 'increase_cardiotoxicity',\n",
       " 'increase_cardiovascular_complications',\n",
       " 'increase_cardiovascular_impairment',\n",
       " 'increase_change_in_thyroid_function_activities',\n",
       " 'increase_cns_depression_activities',\n",
       " 'increase_cns_stimulation',\n",
       " 'increase_confusion',\n",
       " 'increase_congestive_heart_failure',\n",
       " 'increase_constipation',\n",
       " 'increase_convulsion',\n",
       " 'increase_cutaneous_drug_reaction',\n",
       " 'increase_cytopenia',\n",
       " 'increase_death',\n",
       " 'increase_decreased_alertness_activities',\n",
       " 'increase_dermatologic_adverse_activities',\n",
       " 'increase_diuretic_activities',\n",
       " 'increase_dizziness',\n",
       " 'increase_drowsiness',\n",
       " 'increase_dyspnea',\n",
       " 'increase_edema_formation',\n",
       " 'increase_electrolyte_disturbance_activities',\n",
       " 'increase_electrolyte_imbalance',\n",
       " 'increase_elevated_creatine_kinase_(cpk)',\n",
       " 'increase_encephalopathy',\n",
       " 'increase_excretion_rate',\n",
       " 'increase_extrapyramidal_symptoms',\n",
       " 'increase_facial_flushing',\n",
       " 'increase_fluid_retaining_activities',\n",
       " 'increase_fluid_retention',\n",
       " 'increase_gastrointestinal_bleeding',\n",
       " 'increase_gastrointestinal_irritation',\n",
       " 'increase_gastrointestinal_motility_reducing_activities',\n",
       " 'increase_gastrointestinal_ulceration',\n",
       " 'increase_generalized_seizure',\n",
       " 'increase_gouty_arthritis',\n",
       " 'increase_granulocytopenia',\n",
       " 'increase_hemorrhage',\n",
       " 'increase_hemorrhagic_cystitis',\n",
       " 'increase_hepatotoxic_activities',\n",
       " 'increase_hyperbilirubinemia',\n",
       " 'increase_hypercalcemia',\n",
       " 'increase_hypercoagulability',\n",
       " 'increase_hyperglycemia',\n",
       " 'increase_hyperkalemia',\n",
       " 'increase_hyperkinetic_symptoms',\n",
       " 'increase_hypersensitivity_reaction',\n",
       " 'increase_hypertension',\n",
       " 'increase_hyperthermia',\n",
       " 'increase_hypertrichosis',\n",
       " 'increase_hyperuricemia',\n",
       " 'increase_hypocalcemia',\n",
       " 'increase_hypoglycemia',\n",
       " 'increase_hypokalemia',\n",
       " 'increase_hypolipidaemic_activities',\n",
       " 'increase_hypomagnesemia',\n",
       " 'increase_hypomania',\n",
       " 'increase_hyponatremia',\n",
       " 'increase_hypotension',\n",
       " 'increase_hypothyroid_activities',\n",
       " 'increase_hypotonia',\n",
       " 'increase_immunosuppressive_activities',\n",
       " 'increase_increased_glucose',\n",
       " 'increase_increased_serum_creatinine',\n",
       " 'increase_increased_transaminases',\n",
       " 'increase_infection',\n",
       " 'increase_intraocular_pressure',\n",
       " 'increase_irritability',\n",
       " 'increase_ischemic_colitis',\n",
       " 'increase_jaw_osteonecrosis',\n",
       " 'increase_lactic_acidosis',\n",
       " 'increase_leukopenia',\n",
       " 'increase_liver_damage',\n",
       " 'increase_liver_enzyme_elevations',\n",
       " 'increase_metabolic_acidosis',\n",
       " 'increase_metabolism',\n",
       " 'increase_methemoglobinemia',\n",
       " 'increase_mucosal_ulceration',\n",
       " 'increase_myelosuppression',\n",
       " 'increase_myocardial_depression',\n",
       " 'increase_myoglobinuria',\n",
       " 'increase_myopathic_rhabdomyolysis_activities',\n",
       " 'increase_myopathy',\n",
       " 'increase_nausea',\n",
       " 'increase_nephrotoxicity',\n",
       " 'increase_neuroexcitatory_activities',\n",
       " 'increase_neuroleptic_malignant_syndrome',\n",
       " 'increase_neuromuscular_blockade',\n",
       " 'increase_neurotoxic_activities',\n",
       " 'increase_neutropenia',\n",
       " 'increase_nitritoid_reactions',\n",
       " 'increase_oligohydrosis',\n",
       " 'increase_opioid_antagonism_activities',\n",
       " 'increase_opioid_toxicity',\n",
       " 'increase_orthostatic_hypotension',\n",
       " 'increase_osteomalacia',\n",
       " 'increase_ototoxicity',\n",
       " 'increase_pancreatitis_activities',\n",
       " 'increase_peptic_ulcer',\n",
       " 'increase_peripheral_neuropathy',\n",
       " 'increase_photosensitizing_activities',\n",
       " 'increase_priapism',\n",
       " 'increase_pseudotumor_cerebri',\n",
       " 'increase_psychotic_reaction',\n",
       " 'increase_pulmonary_toxicity',\n",
       " 'increase_qtc_prolongation',\n",
       " 'increase_rash',\n",
       " 'increase_reduced_gastrointestinal_motility',\n",
       " 'increase_reduced_intravascular_volume',\n",
       " 'increase_renal_failure',\n",
       " 'increase_respiratory_depression',\n",
       " 'increase_rhabdomyolysis',\n",
       " 'increase_sedation',\n",
       " 'increase_seizure',\n",
       " 'increase_serotonergic_activities',\n",
       " 'increase_serotonin_syndrome',\n",
       " 'increase_serum_concentration',\n",
       " 'increase_severe_leukopenia',\n",
       " 'increase_shortness_of_breath',\n",
       " 'increase_sinus_node_depression',\n",
       " 'increase_skeletal_muscle_relaxing_activities',\n",
       " 'increase_sleep_disorders',\n",
       " 'increase_smooth_muscle_relaxing_activities',\n",
       " 'increase_somnolence',\n",
       " 'increase_stevens-johnson_syndrome',\n",
       " 'increase_sympathomimetic_activities',\n",
       " 'increase_syncope',\n",
       " 'increase_tachycardia',\n",
       " 'increase_tardive_dyskinesia',\n",
       " 'increase_tendinopathy',\n",
       " 'increase_teratogenic_activities',\n",
       " 'increase_therapeutic_efficacy',\n",
       " 'increase_thrombocytopenia',\n",
       " 'increase_thromboembolism',\n",
       " 'increase_thrombogenic_activities',\n",
       " 'increase_thrombosis',\n",
       " 'increase_torsade_de_pointes',\n",
       " 'increase_ulceration',\n",
       " 'increase_urinary_retention',\n",
       " 'increase_uterotonic_activities',\n",
       " 'increase_vasoconstricting_activities',\n",
       " 'increase_vasodilatory_activities',\n",
       " 'increase_vasopressor_activities',\n",
       " 'increase_vasospastic_reactions',\n",
       " 'increase_ventricular_arrhythmias',\n",
       " 'increase_visual_accommodation_disturbances',\n",
       " 'increase_vomiting',\n",
       " 'increase_water_intoxication',\n",
       " 'increase_weakness',\n",
       " 'increase_weight_gain'}"
      ]
     },
     "execution_count": 6,
     "metadata": {},
     "output_type": "execute_result"
    }
   ],
   "source": [
    "set(ddi_df.interaction)"
   ]
  },
  {
   "cell_type": "code",
   "execution_count": 5,
   "metadata": {},
   "outputs": [
    {
     "data": {
      "text/html": [
       "<div>\n",
       "<style scoped>\n",
       "    .dataframe tbody tr th:only-of-type {\n",
       "        vertical-align: middle;\n",
       "    }\n",
       "\n",
       "    .dataframe tbody tr th {\n",
       "        vertical-align: top;\n",
       "    }\n",
       "\n",
       "    .dataframe thead th {\n",
       "        text-align: right;\n",
       "    }\n",
       "</style>\n",
       "<table border=\"1\" class=\"dataframe\">\n",
       "  <thead>\n",
       "    <tr style=\"text-align: right;\">\n",
       "      <th></th>\n",
       "      <th>CUI1</th>\n",
       "      <th>REL</th>\n",
       "      <th>CUI2</th>\n",
       "    </tr>\n",
       "  </thead>\n",
       "  <tbody>\n",
       "    <tr>\n",
       "      <th>689301</th>\n",
       "      <td>1-Androsten-3beta-ol-17-one</td>\n",
       "      <td>interacts_with</td>\n",
       "      <td>Testosterone</td>\n",
       "    </tr>\n",
       "    <tr>\n",
       "      <th>689302</th>\n",
       "      <td>4-DHEA</td>\n",
       "      <td>interacts_with</td>\n",
       "      <td>Testosterone</td>\n",
       "    </tr>\n",
       "    <tr>\n",
       "      <th>689319</th>\n",
       "      <td>Blackbush</td>\n",
       "      <td>interacts_with</td>\n",
       "      <td>Cytochrome P450 2D6</td>\n",
       "    </tr>\n",
       "    <tr>\n",
       "      <th>689320</th>\n",
       "      <td>Blackbush</td>\n",
       "      <td>interacts_with</td>\n",
       "      <td>TOPICAL DRUGS</td>\n",
       "    </tr>\n",
       "    <tr>\n",
       "      <th>689322</th>\n",
       "      <td>Blackbush</td>\n",
       "      <td>interacts_with</td>\n",
       "      <td>Cytochrome P450 3A4 substrates</td>\n",
       "    </tr>\n",
       "  </tbody>\n",
       "</table>\n",
       "</div>"
      ],
      "text/plain": [
       "                               CUI1             REL  \\\n",
       "689301  1-Androsten-3beta-ol-17-one  interacts_with   \n",
       "689302                       4-DHEA  interacts_with   \n",
       "689319                    Blackbush  interacts_with   \n",
       "689320                    Blackbush  interacts_with   \n",
       "689322                    Blackbush  interacts_with   \n",
       "\n",
       "                                  CUI2  \n",
       "689301                    Testosterone  \n",
       "689302                    Testosterone  \n",
       "689319             Cytochrome P450 2D6  \n",
       "689320                   TOPICAL DRUGS  \n",
       "689322  Cytochrome P450 3A4 substrates  "
      ]
     },
     "execution_count": 5,
     "metadata": {},
     "output_type": "execute_result"
    }
   ],
   "source": [
    "drug_supplement_df = pd.read_csv(data_dir + 'ds_relations.tsv', sep='\\t', index_col=[0])\n",
    "# drug_supplement_df = drug_supplement_df[drug_supplement_df['REL'] != 'has_ingredient']\n",
    "drug_supplement_df.head()"
   ]
  },
  {
   "cell_type": "code",
   "execution_count": 6,
   "metadata": {},
   "outputs": [
    {
     "name": "stdout",
     "output_type": "stream",
     "text": [
      "total interactions: 3057\n",
      "unique interactions: 1\n"
     ]
    },
    {
     "data": {
      "text/plain": [
       "REL\n",
       "interacts_with    3057\n",
       "dtype: int64"
      ]
     },
     "execution_count": 6,
     "metadata": {},
     "output_type": "execute_result"
    }
   ],
   "source": [
    "print('total interactions:', drug_supplement_df.shape[0])\n",
    "print('unique interactions:', len(set(drug_supplement_df.REL)))\n",
    "\n",
    "ds_interaction_counts = drug_supplement_df.groupby(by=['REL']).size()\n",
    "ds_interaction_counts"
   ]
  },
  {
   "cell_type": "code",
   "execution_count": 7,
   "metadata": {},
   "outputs": [
    {
     "ename": "NameError",
     "evalue": "name 'interaction_counts' is not defined",
     "output_type": "error",
     "traceback": [
      "\u001b[0;31m---------------------------------------------------------------------------\u001b[0m",
      "\u001b[0;31mNameError\u001b[0m                                 Traceback (most recent call last)",
      "Cell \u001b[0;32mIn [7], line 1\u001b[0m\n\u001b[0;32m----> 1\u001b[0m interactions_count \u001b[38;5;241m=\u001b[39m pd\u001b[38;5;241m.\u001b[39mconcat([\u001b[43minteraction_counts\u001b[49m, ds_interaction_counts])\n\u001b[1;32m      2\u001b[0m interactions_count\u001b[38;5;241m.\u001b[39mto_csv(\u001b[38;5;124m'\u001b[39m\u001b[38;5;124minteraction_counts.csv\u001b[39m\u001b[38;5;124m'\u001b[39m, header\u001b[38;5;241m=\u001b[39m[\u001b[38;5;124m'\u001b[39m\u001b[38;5;124minteraction_count\u001b[39m\u001b[38;5;124m'\u001b[39m])\n",
      "\u001b[0;31mNameError\u001b[0m: name 'interaction_counts' is not defined"
     ]
    }
   ],
   "source": [
    "interactions_count = pd.concat([interaction_counts, ds_interaction_counts])\n",
    "interactions_count.to_csv('interaction_counts.csv', header=['interaction_count'])"
   ]
  },
  {
   "cell_type": "code",
   "execution_count": 8,
   "metadata": {},
   "outputs": [],
   "source": [
    "def compute_size(n):\n",
    "    if n == 2:\n",
    "        return 1, 1\n",
    "    if n == 3:\n",
    "        return 1, 2\n",
    "    if n == 4:\n",
    "        return 2, 3\n",
    "    if n == 5:\n",
    "        return 3, 4\n",
    "    if n == 6:\n",
    "        return 4, 5\n",
    "    # n == 7\n",
    "    return 4, 6 "
   ]
  },
  {
   "cell_type": "code",
   "execution_count": 9,
   "metadata": {},
   "outputs": [],
   "source": [
    "# train : valid : test = 80 : 10 : 10\n",
    "def split_data_relation(df_relation):\n",
    "    \n",
    "    # too few triplets with the realtion\n",
    "    if df_relation.shape[0] <= 7:\n",
    "        train_size, valid_size = compute_size(df_relation.shape[0])\n",
    "        \n",
    "        # shuffle df_relation\n",
    "        df_relation = df_relation.sample(frac=1, random_state=42)\n",
    "        \n",
    "        X_train = df_relation.iloc[:train_size]\n",
    "        X_valid = df_relation.iloc[train_size:valid_size]\n",
    "        X_test = df_relation.iloc[valid_size:]\n",
    "\n",
    "    else:\n",
    "        X_train, X_rem = train_test_split(df_relation, train_size=0.8, random_state=42)\n",
    "        X_valid, X_test = train_test_split(X_rem, test_size=0.5, random_state=42)\n",
    "        \n",
    "    return X_train, X_valid, X_test"
   ]
  },
  {
   "cell_type": "code",
   "execution_count": 10,
   "metadata": {},
   "outputs": [],
   "source": [
    "# split drug-supplements relation dataset\n",
    "def split_drug_supplements_dataset(drug_supplement_df):\n",
    "    relations = set(drug_supplement_df.REL)\n",
    "    \n",
    "    train_triplets = pd.DataFrame(columns=['CUI1', 'REL', 'CUI2'])\n",
    "    valid_triplets = pd.DataFrame(columns=['CUI1', 'REL', 'CUI2'])\n",
    "    test_triplets = pd.DataFrame(columns=['CUI1', 'REL', 'CUI2'])\n",
    "\n",
    "    for rel in relations:\n",
    "        train, valid, test = split_data_relation(drug_supplement_df[drug_supplement_df['REL'] == rel])\n",
    "        train_triplets = pd.concat([train_triplets, train])\n",
    "        valid_triplets = pd.concat([valid_triplets, valid])\n",
    "        test_triplets = pd.concat([test_triplets, test])\n",
    "\n",
    "    train_triplets.rename(columns={'CUI1': 'head', 'REL': 'relation', 'CUI2': 'tail'}, inplace=True)\n",
    "    valid_triplets.rename(columns={'CUI1': 'head', 'REL': 'relation', 'CUI2': 'tail'}, inplace=True)\n",
    "    test_triplets.rename(columns={'CUI1': 'head', 'REL': 'relation', 'CUI2': 'tail'}, inplace=True)    \n",
    "\n",
    "\n",
    "    print('train dataset size:', train_triplets.shape[0])\n",
    "    print('validation dataset size:',valid_triplets.shape[0])\n",
    "    print('test dataset size:',test_triplets.shape[0])\n",
    "    \n",
    "    return train_triplets, valid_triplets, test_triplets"
   ]
  },
  {
   "cell_type": "code",
   "execution_count": 11,
   "metadata": {},
   "outputs": [],
   "source": [
    "# split drug-drug interaction dataset (from DrugBank)\n",
    "def split_ddi_dataset(ddi_df):\n",
    "    interactions = set(ddi_df.interaction)\n",
    "    \n",
    "    train_triplets = pd.DataFrame(columns=['drug1', 'interaction', 'drug2'])\n",
    "    valid_triplets = pd.DataFrame(columns=['drug1', 'interaction', 'drug2'])\n",
    "    test_triplets = pd.DataFrame(columns=['drug1', 'interaction', 'drug2'])\n",
    "    \n",
    "    for inter in interactions:\n",
    "        train, valid, test = split_data_relation(ddi_df[ddi_df['interaction'] == inter])\n",
    "        train_triplets = pd.concat([train_triplets, train])\n",
    "        valid_triplets = pd.concat([valid_triplets, valid])\n",
    "        test_triplets = pd.concat([test_triplets, test])\n",
    "        \n",
    "    train_triplets.rename(columns={'drug1': 'head', 'interaction': 'relation', 'drug2': 'tail'}, inplace=True)\n",
    "    valid_triplets.rename(columns={'drug1': 'head', 'interaction': 'relation', 'drug2': 'tail'}, inplace=True)\n",
    "    test_triplets.rename(columns={'drug1': 'head', 'interaction': 'relation', 'drug2': 'tail'}, inplace=True)    \n",
    "\n",
    "\n",
    "    print('train dataset size:', train_triplets.shape[0])\n",
    "    print('validation dataset size:',valid_triplets.shape[0])\n",
    "    print('test dataset size:',test_triplets.shape[0])\n",
    "    \n",
    "    return train_triplets, valid_triplets, test_triplets    \n",
    "    "
   ]
  },
  {
   "cell_type": "code",
   "execution_count": 12,
   "metadata": {},
   "outputs": [
    {
     "name": "stdout",
     "output_type": "stream",
     "text": [
      "DrugBank drug-drug interactions\n",
      "train dataset size: 2498661\n",
      "validation dataset size: 312349\n",
      "test dataset size: 312440\n",
      "\n",
      "Drug Supplement database - drug-suplement interactions\n",
      "train dataset size: 2445\n",
      "validation dataset size: 306\n",
      "test dataset size: 306\n"
     ]
    }
   ],
   "source": [
    "# DrugBank drug-drug interactions\n",
    "print('DrugBank drug-drug interactions')\n",
    "train_triplets_ddi, valid_triplets_ddi, test_triplets_ddi = split_ddi_dataset(ddi_df)\n",
    "\n",
    "print()\n",
    "\n",
    "# Drug Supplement database - drug-suplement interactions\n",
    "print('Drug Supplement database - drug-suplement interactions')\n",
    "train_triplets_ds, valid_triplets_ds, test_triplets_ds = split_drug_supplements_dataset(drug_supplement_df)"
   ]
  },
  {
   "cell_type": "code",
   "execution_count": 15,
   "metadata": {},
   "outputs": [
    {
     "name": "stdout",
     "output_type": "stream",
     "text": [
      "All interactions:\n",
      "train dataset size: 2513753\n",
      "validation dataset size: 314235\n",
      "test dataset size: 314329\n"
     ]
    }
   ],
   "source": [
    "# all interactions\n",
    "train_triplets = pd.concat([train_triplets_ddi, train_triplets_ds])\n",
    "valid_triplets = pd.concat([valid_triplets_ddi, valid_triplets_ds])\n",
    "test_triplets = pd.concat([test_triplets_ddi, test_triplets_ds])\n",
    "\n",
    "print('All interactions:')\n",
    "print('train dataset size:', train_triplets.shape[0])\n",
    "print('validation dataset size:',valid_triplets.shape[0])\n",
    "print('test dataset size:',test_triplets.shape[0])"
   ]
  },
  {
   "cell_type": "code",
   "execution_count": 16,
   "metadata": {},
   "outputs": [
    {
     "name": "stdout",
     "output_type": "stream",
     "text": [
      "Number of unique interactions: 210\n",
      "['increase_thrombocytopenia', 'increase_hyperkalemia', 'increase_cardiac_arrest', 'increase_thromboembolism', 'decrease_serum_concentration', 'increase_nausea', 'increase_hemorrhagic_cystitis', 'increase_infection', 'increase_cardiodepressant_activities', 'increase_neuroleptic_malignant_syndrome']\n"
     ]
    }
   ],
   "source": [
    "all_relations = set(train_triplets.relation)\n",
    "print('Number of unique interactions:', len(all_relations))\n",
    "print(list(all_relations)[:10])"
   ]
  },
  {
   "cell_type": "markdown",
   "metadata": {},
   "source": [
    "#### Add rest of the data into the training set"
   ]
  },
  {
   "cell_type": "code",
   "execution_count": 17,
   "metadata": {},
   "outputs": [
    {
     "name": "stdout",
     "output_type": "stream",
     "text": [
      "Final size of train dataset (with other relations): 3591743\n"
     ]
    }
   ],
   "source": [
    "files = listdir(data_dir)\n",
    "\n",
    "for file in files:\n",
    "    if file == 'ddi.tsv' or file == '.ipynb_checkpoints' or file == 'ds_relations.tsv':\n",
    "        continue\n",
    "    if 'train' in file or 'valid' in file or 'test' in file:\n",
    "        continue\n",
    "           \n",
    "    df = pd.read_csv(data_dir + file, sep='\\t', index_col=[0])\n",
    "    \n",
    "    # if file == 'ds_relations.tsv':\n",
    "    #     df = df[df['REL'] == 'has_ingredient']\n",
    "    \n",
    "    df.set_axis(['head', 'relation', 'tail'], axis=1, inplace=True) \n",
    "    train_triplets = pd.concat([train_triplets, df])\n",
    "    \n",
    "print('Final size of train dataset (with other relations):', train_triplets.shape[0]) "
   ]
  },
  {
   "cell_type": "code",
   "execution_count": 18,
   "metadata": {},
   "outputs": [],
   "source": [
    "train_triplets = train_triplets.astype(str)\n",
    "valid_triplets = valid_triplets.astype(str)\n",
    "test_triplets = test_triplets.astype(str)"
   ]
  },
  {
   "cell_type": "code",
   "execution_count": 19,
   "metadata": {},
   "outputs": [],
   "source": [
    "# save train, valid and test datasets\n",
    "\n",
    "train_triplets.to_csv(data_dir + 'train.tsv', sep='\\t')\n",
    "valid_triplets.to_csv(data_dir + 'valid.tsv', sep='\\t')\n",
    "test_triplets.to_csv(data_dir + 'test.tsv', sep='\\t')"
   ]
  },
  {
   "cell_type": "markdown",
   "metadata": {},
   "source": [
    "#### Convert datasets into Triples Factory format"
   ]
  },
  {
   "cell_type": "code",
   "execution_count": 20,
   "metadata": {},
   "outputs": [],
   "source": [
    "def convert_to_triples_factory(data):\n",
    "    tf_data = TriplesFactory.from_labeled_triples(\n",
    "      data[[\"head\", \"relation\", \"tail\"]].values,\n",
    "      create_inverse_triples=False,\n",
    "      entity_to_id=None,\n",
    "      relation_to_id=None,\n",
    "      compact_id=False \n",
    "    )\n",
    "    print(tf_data)  # kam mizeji nejake trojice? - jiny pocet zde a po vytvoreni datasetu\n",
    "    return tf_data"
   ]
  },
  {
   "cell_type": "code",
   "execution_count": 21,
   "metadata": {},
   "outputs": [
    {
     "name": "stdout",
     "output_type": "stream",
     "text": [
      "TriplesFactory(num_entities=647147, num_relations=219, create_inverse_triples=False, num_triples=4008014)\n",
      "TriplesFactory(num_entities=5629, num_relations=187, create_inverse_triples=False, num_triples=314106)\n",
      "TriplesFactory(num_entities=5593, num_relations=210, create_inverse_triples=False, num_triples=314223)\n"
     ]
    }
   ],
   "source": [
    "tf_train = convert_to_triples_factory(train_triplets)\n",
    "tf_valid = convert_to_triples_factory(valid_triplets)\n",
    "tf_test = convert_to_triples_factory(test_triplets)\n"
   ]
  },
  {
   "cell_type": "code",
   "execution_count": 22,
   "metadata": {},
   "outputs": [
    {
     "name": "stderr",
     "output_type": "stream",
     "text": [
      "using automatically assigned random_state=3004141852\n",
      "using automatically assigned random_state=758830119\n",
      "using automatically assigned random_state=2869471791\n"
     ]
    }
   ],
   "source": [
    "# take just subset of data for testing\n",
    "\n",
    "train_sub, _ = tf_train.split(0.15)\n",
    "valid_sub, _ = tf_valid.split(0.15)\n",
    "test_sub, _ = tf_test.split(0.15)"
   ]
  },
  {
   "cell_type": "code",
   "execution_count": 23,
   "metadata": {},
   "outputs": [
    {
     "data": {
      "text/plain": [
       "TriplesFactory(num_entities=647147, num_relations=219, create_inverse_triples=False, num_triples=601202)"
      ]
     },
     "execution_count": 23,
     "metadata": {},
     "output_type": "execute_result"
    }
   ],
   "source": [
    "train_sub"
   ]
  },
  {
   "cell_type": "markdown",
   "metadata": {},
   "source": [
    "### Model"
   ]
  },
  {
   "cell_type": "code",
   "execution_count": null,
   "metadata": {},
   "outputs": [],
   "source": [
    "# evaluation_relation_whitelist = all_relations"
   ]
  },
  {
   "cell_type": "code",
   "execution_count": null,
   "metadata": {},
   "outputs": [],
   "source": [
    "# creating a model\n",
    "result = pipeline(\n",
    "    training=train_sub,\n",
    "    testing=test_sub,\n",
    "    validation=valid_sub,\n",
    "    model='TransE',\n",
    "    epochs=1,\n",
    "    evaluator=RankBasedEvaluator,\n",
    "#     model_kwargs=dict(embedding_dim=128),\n",
    "    device='gpu',\n",
    "    optimizer='Adam',\n",
    "#     evaluation_relation_whitelist=evaluation_relation_whitelist,\n",
    "#     training_kwargs=dict(\n",
    "#         num_epochs=2,\n",
    "#         checkpoint_name='transE_checkpoint.pt',\n",
    "#         checkpoint_directory='kg_ckeckpoints',\n",
    "#         checkpoint_frequency=0\n",
    "#     ),\n",
    ")"
   ]
  },
  {
   "cell_type": "code",
   "execution_count": null,
   "metadata": {},
   "outputs": [],
   "source": [
    "result.plot()"
   ]
  },
  {
   "cell_type": "code",
   "execution_count": null,
   "metadata": {},
   "outputs": [],
   "source": [
    "hits_at_10 = result.get_metric('hits@10')\n",
    "hits_at_10"
   ]
  },
  {
   "cell_type": "code",
   "execution_count": null,
   "metadata": {},
   "outputs": [],
   "source": [
    "result.training"
   ]
  },
  {
   "cell_type": "code",
   "execution_count": null,
   "metadata": {},
   "outputs": [],
   "source": [
    "# predictions\n",
    "\n",
    "# model = result.model\n",
    "\n",
    "# predictions_df = predict.get_prediction_df(\n",
    "#     model, \n",
    "#     triples_factory=result.training, \n",
    "#     tail_label='Kiwi', \n",
    "#     relation_label='increase_sleep_disorders')\n",
    "\n",
    "# predictions_df.head(15)\n",
    "\n",
    "predicted_tails_df = predict.get_tail_prediction_df(\n",
    "        model = result.model, \n",
    "        head_label = \"Ibuprofen\", \n",
    "        relation_label = \"decrease_adverse_effects\", \n",
    "        triples_factory = result.training,\n",
    "    )\n",
    "\n",
    "predicted_tails_df.head(20)"
   ]
  },
  {
   "cell_type": "code",
   "execution_count": null,
   "metadata": {},
   "outputs": [],
   "source": [
    "# evaluation\n",
    "# # ????\n",
    "# evaluator = RankBasedEvaluator()\n",
    "\n",
    "# triples = tf_test.mapped_triples\n",
    "\n",
    "# eval_results = evaluator.evaluate(\n",
    "#     model=model,\n",
    "#     mapped_triples=triples,\n",
    "#     batch_size=1024,\n",
    "#     additional_filter_triples=[\n",
    "#        train_sub.mapped_triples,\n",
    "#        valid_sub.mapped_triples,\n",
    "#     ],\n",
    "# )"
   ]
  },
  {
   "cell_type": "code",
   "execution_count": null,
   "metadata": {},
   "outputs": [],
   "source": [
    "# eval_results.to_df()"
   ]
  },
  {
   "cell_type": "code",
   "execution_count": null,
   "metadata": {},
   "outputs": [],
   "source": [
    "result.metric_results.to_df()"
   ]
  },
  {
   "cell_type": "code",
   "execution_count": null,
   "metadata": {},
   "outputs": [],
   "source": [
    "result.save_to_directory(\"results\")"
   ]
  },
  {
   "cell_type": "markdown",
   "metadata": {},
   "source": [
    "---------------------------------------------------------------------------------------"
   ]
  },
  {
   "cell_type": "markdown",
   "metadata": {},
   "source": [
    "## KG parameters setting"
   ]
  },
  {
   "cell_type": "code",
   "execution_count": 10,
   "metadata": {},
   "outputs": [
    {
     "name": "stderr",
     "output_type": "stream",
     "text": [
      "WARNING:pykeen.pipeline.api:No random seed is specified. Setting to 921595332.\n",
      "INFO:pykeen.pipeline.api:Using device: gpu\n",
      "INFO:pykeen.datasets.utils:Loading cached preprocessed dataset from file:///work/.data/pykeen/datasets/nations/cache/47DEQpj8HBSa-_TImW-5JCeuQeRkm5NM\n",
      "INFO:pykeen.triples.triples_factory:Loading from file:///work/.data/pykeen/datasets/nations/cache/47DEQpj8HBSa-_TImW-5JCeuQeRkm5NM/training\n",
      "INFO:pykeen.triples.triples_factory:Loading from file:///work/.data/pykeen/datasets/nations/cache/47DEQpj8HBSa-_TImW-5JCeuQeRkm5NM/testing\n",
      "INFO:pykeen.triples.triples_factory:Loading from file:///work/.data/pykeen/datasets/nations/cache/47DEQpj8HBSa-_TImW-5JCeuQeRkm5NM/validation\n",
      "Training epochs on cuda:0:   0%|                                               | 0/50 [00:00<?, ?epoch/s]\n",
      "Training batches on cuda:0:   0%|                                               | 0/7 [00:00<?, ?batch/s]\u001b[A\n",
      "Training epochs on cuda:0:   2%|▎             | 1/50 [00:00<00:05,  9.14epoch/s, loss=1.7, prev_loss=nan]\u001b[A\n",
      "Training batches on cuda:0:   0%|                                               | 0/7 [00:00<?, ?batch/s]\u001b[A\n",
      "Training epochs on cuda:0:   4%|▌            | 2/50 [00:00<00:05,  9.07epoch/s, loss=1.48, prev_loss=1.7]\u001b[A\n",
      "Training batches on cuda:0:   0%|                                               | 0/7 [00:00<?, ?batch/s]\u001b[A\n",
      "Training epochs on cuda:0:   6%|▋           | 3/50 [00:00<00:05,  9.05epoch/s, loss=1.38, prev_loss=1.48]\u001b[A\n",
      "Training batches on cuda:0:   0%|                                               | 0/7 [00:00<?, ?batch/s]\u001b[A\n",
      "Training epochs on cuda:0:   8%|█            | 4/50 [00:00<00:05,  9.10epoch/s, loss=1.3, prev_loss=1.38]\u001b[A\n",
      "Training batches on cuda:0:   0%|                                               | 0/7 [00:00<?, ?batch/s]\u001b[A\n",
      "Training epochs on cuda:0:  10%|█▎           | 5/50 [00:00<00:04,  9.13epoch/s, loss=1.22, prev_loss=1.3]\u001b[A\n",
      "Training batches on cuda:0:   0%|                                               | 0/7 [00:00<?, ?batch/s]\u001b[A\n",
      "Training epochs on cuda:0:  12%|█▍          | 6/50 [00:00<00:04,  9.23epoch/s, loss=1.23, prev_loss=1.22]\u001b[A\n",
      "Training batches on cuda:0:   0%|                                               | 0/7 [00:00<?, ?batch/s]\u001b[A\n",
      "Training epochs on cuda:0:  14%|█▋          | 7/50 [00:00<00:04,  9.25epoch/s, loss=1.15, prev_loss=1.23]\u001b[A\n",
      "Training batches on cuda:0:   0%|                                               | 0/7 [00:00<?, ?batch/s]\u001b[A\n",
      "Training epochs on cuda:0:  16%|██           | 8/50 [00:00<00:04,  9.31epoch/s, loss=1.2, prev_loss=1.15]\u001b[A\n",
      "Training batches on cuda:0:   0%|                                               | 0/7 [00:00<?, ?batch/s]\u001b[A\n",
      "Training epochs on cuda:0:  18%|██▎          | 9/50 [00:00<00:04,  9.34epoch/s, loss=1.11, prev_loss=1.2]\u001b[A\n",
      "Training batches on cuda:0:   0%|                                               | 0/7 [00:00<?, ?batch/s]\u001b[A\n",
      "Training epochs on cuda:0:  20%|██▏        | 10/50 [00:01<00:04,  9.32epoch/s, loss=1.09, prev_loss=1.11]\u001b[A\n",
      "Training batches on cuda:0:   0%|                                               | 0/7 [00:00<?, ?batch/s]\u001b[A\n",
      "Training epochs on cuda:0:  22%|██▍        | 11/50 [00:01<00:04,  9.34epoch/s, loss=1.06, prev_loss=1.09]\u001b[A\n",
      "Training batches on cuda:0:   0%|                                               | 0/7 [00:00<?, ?batch/s]\u001b[A\n",
      "Training epochs on cuda:0:  24%|██▋        | 12/50 [00:01<00:04,  9.24epoch/s, loss=1.17, prev_loss=1.06]\u001b[A\n",
      "Training batches on cuda:0:   0%|                                               | 0/7 [00:00<?, ?batch/s]\u001b[A\n",
      "Training epochs on cuda:0:  26%|██▊        | 13/50 [00:01<00:03,  9.26epoch/s, loss=1.12, prev_loss=1.17]\u001b[A\n",
      "Training batches on cuda:0:   0%|                                               | 0/7 [00:00<?, ?batch/s]\u001b[A\n",
      "Training epochs on cuda:0:  28%|███        | 14/50 [00:01<00:03,  9.23epoch/s, loss=1.09, prev_loss=1.12]\u001b[A\n",
      "Training batches on cuda:0:   0%|                                               | 0/7 [00:00<?, ?batch/s]\u001b[A\n",
      "Training epochs on cuda:0:  30%|███▎       | 15/50 [00:01<00:03,  9.10epoch/s, loss=1.07, prev_loss=1.09]\u001b[A\n",
      "Training batches on cuda:0:   0%|                                               | 0/7 [00:00<?, ?batch/s]\u001b[A\n",
      "Training epochs on cuda:0:  32%|███▌       | 16/50 [00:01<00:03,  9.11epoch/s, loss=1.06, prev_loss=1.07]\u001b[A\n",
      "Training batches on cuda:0:   0%|                                               | 0/7 [00:00<?, ?batch/s]\u001b[A\n",
      "Training epochs on cuda:0:  34%|███▍      | 17/50 [00:01<00:03,  9.21epoch/s, loss=0.972, prev_loss=1.06]\u001b[A\n",
      "Training batches on cuda:0:   0%|                                               | 0/7 [00:00<?, ?batch/s]\u001b[A\n",
      "Training epochs on cuda:0:  36%|███▉       | 18/50 [00:01<00:03,  9.29epoch/s, loss=1.1, prev_loss=0.972]\u001b[A\n",
      "Training batches on cuda:0:   0%|                                               | 0/7 [00:00<?, ?batch/s]\u001b[A\n",
      "Training epochs on cuda:0:  38%|████▌       | 19/50 [00:02<00:03,  9.39epoch/s, loss=1.05, prev_loss=1.1]\u001b[A\n",
      "Training batches on cuda:0:   0%|                                               | 0/7 [00:00<?, ?batch/s]\u001b[A\n",
      "Training epochs on cuda:0:  40%|████▍      | 20/50 [00:02<00:03,  9.39epoch/s, loss=1.01, prev_loss=1.05]\u001b[A\n",
      "Training batches on cuda:0:   0%|                                               | 0/7 [00:00<?, ?batch/s]\u001b[A\n",
      "Training epochs on cuda:0:  42%|█████▉        | 21/50 [00:02<00:03,  9.44epoch/s, loss=1, prev_loss=1.01]\u001b[A\n",
      "Training batches on cuda:0:   0%|                                               | 0/7 [00:00<?, ?batch/s]\u001b[A\n",
      "Training epochs on cuda:0:  44%|██████▏       | 22/50 [00:02<00:02,  9.46epoch/s, loss=1.01, prev_loss=1]\u001b[A\n",
      "Training batches on cuda:0:   0%|                                               | 0/7 [00:00<?, ?batch/s]\u001b[A\n",
      "Training epochs on cuda:0:  46%|████▌     | 23/50 [00:02<00:02,  9.37epoch/s, loss=0.962, prev_loss=1.01]\u001b[A\n",
      "Training batches on cuda:0:   0%|                                               | 0/7 [00:00<?, ?batch/s]\u001b[A\n",
      "Training epochs on cuda:0:  48%|████▊     | 24/50 [00:02<00:02,  9.41epoch/s, loss=1.02, prev_loss=0.962]\u001b[A\n",
      "Training batches on cuda:0:   0%|                                               | 0/7 [00:00<?, ?batch/s]\u001b[A\n",
      "Training epochs on cuda:0:  50%|█████▌     | 25/50 [00:02<00:02,  9.29epoch/s, loss=1.01, prev_loss=1.02]\u001b[A\n",
      "Training batches on cuda:0:   0%|                                               | 0/7 [00:00<?, ?batch/s]\u001b[A\n",
      "Training epochs on cuda:0:  52%|█████▏    | 26/50 [00:02<00:02,  9.23epoch/s, loss=0.981, prev_loss=1.01]\u001b[A\n",
      "Training batches on cuda:0:   0%|                                               | 0/7 [00:00<?, ?batch/s]\u001b[A\n",
      "Training epochs on cuda:0:  54%|████▊    | 27/50 [00:02<00:02,  9.32epoch/s, loss=0.925, prev_loss=0.981]\u001b[A\n",
      "Training batches on cuda:0:   0%|                                               | 0/7 [00:00<?, ?batch/s]\u001b[A\n",
      "Training epochs on cuda:0:  56%|███████▎     | 28/50 [00:03<00:02,  9.37epoch/s, loss=1, prev_loss=0.925]\u001b[A\n",
      "Training batches on cuda:0:   0%|                                               | 0/7 [00:00<?, ?batch/s]\u001b[A\n",
      "Training epochs on cuda:0:  58%|███████▌     | 29/50 [00:03<00:02,  9.42epoch/s, loss=0.963, prev_loss=1]\u001b[A\n",
      "Training batches on cuda:0:   0%|                                               | 0/7 [00:00<?, ?batch/s]\u001b[A\n",
      "Training epochs on cuda:0:  60%|█████▍   | 30/50 [00:03<00:02,  9.37epoch/s, loss=0.996, prev_loss=0.963]\u001b[A\n",
      "Training batches on cuda:0:   0%|                                               | 0/7 [00:00<?, ?batch/s]\u001b[A\n",
      "Training epochs on cuda:0:  62%|█████▌   | 31/50 [00:03<00:02,  9.44epoch/s, loss=0.933, prev_loss=0.996]\u001b[A\n",
      "Training batches on cuda:0:   0%|                                               | 0/7 [00:00<?, ?batch/s]\u001b[A\n",
      "Training epochs on cuda:0:  64%|█████▊   | 32/50 [00:03<00:01,  9.50epoch/s, loss=0.953, prev_loss=0.933]\u001b[A\n",
      "Training batches on cuda:0:   0%|                                               | 0/7 [00:00<?, ?batch/s]\u001b[A\n",
      "Training epochs on cuda:0:  66%|█████▉   | 33/50 [00:03<00:01,  9.52epoch/s, loss=0.952, prev_loss=0.953]\u001b[A\n",
      "Training batches on cuda:0:   0%|                                               | 0/7 [00:00<?, ?batch/s]\u001b[A\n"
     ]
    },
    {
     "name": "stderr",
     "output_type": "stream",
     "text": [
      "Training epochs on cuda:0:  68%|██████   | 34/50 [00:03<00:01,  9.51epoch/s, loss=0.934, prev_loss=0.952]\u001b[A\n",
      "Training batches on cuda:0:   0%|                                               | 0/7 [00:00<?, ?batch/s]\u001b[A\n",
      "Training epochs on cuda:0:  70%|██████▎  | 35/50 [00:03<00:01,  9.53epoch/s, loss=0.959, prev_loss=0.934]\u001b[A\n",
      "Training batches on cuda:0:   0%|                                               | 0/7 [00:00<?, ?batch/s]\u001b[A\n",
      "Training epochs on cuda:0:  72%|██████▍  | 36/50 [00:03<00:01,  9.50epoch/s, loss=0.857, prev_loss=0.959]\u001b[A\n",
      "Training batches on cuda:0:   0%|                                               | 0/7 [00:00<?, ?batch/s]\u001b[A\n",
      "Training epochs on cuda:0:  74%|██████▋  | 37/50 [00:03<00:01,  9.54epoch/s, loss=0.879, prev_loss=0.857]\u001b[A\n",
      "Training batches on cuda:0:   0%|                                               | 0/7 [00:00<?, ?batch/s]\u001b[A\n",
      "Training epochs on cuda:0:  76%|██████▊  | 38/50 [00:04<00:01,  9.56epoch/s, loss=0.899, prev_loss=0.879]\u001b[A\n",
      "Training batches on cuda:0:   0%|                                               | 0/7 [00:00<?, ?batch/s]\u001b[A\n",
      "Training epochs on cuda:0:  78%|███████  | 39/50 [00:04<00:01,  9.52epoch/s, loss=0.956, prev_loss=0.899]\u001b[A\n",
      "Training batches on cuda:0:   0%|                                               | 0/7 [00:00<?, ?batch/s]\u001b[A\n",
      "Training epochs on cuda:0:  80%|███████▏ | 40/50 [00:04<00:01,  9.54epoch/s, loss=0.885, prev_loss=0.956]\u001b[A\n",
      "Training batches on cuda:0:   0%|                                               | 0/7 [00:00<?, ?batch/s]\u001b[A\n",
      "Training epochs on cuda:0:  82%|████████▏ | 41/50 [00:04<00:00,  9.58epoch/s, loss=0.92, prev_loss=0.885]\u001b[A\n",
      "Training batches on cuda:0:   0%|                                               | 0/7 [00:00<?, ?batch/s]\u001b[A\n",
      "Training epochs on cuda:0:  84%|████████▍ | 42/50 [00:04<00:00,  9.50epoch/s, loss=0.834, prev_loss=0.92]\u001b[A\n",
      "Training batches on cuda:0:   0%|                                               | 0/7 [00:00<?, ?batch/s]\u001b[A\n",
      "Training epochs on cuda:0:  86%|███████▋ | 43/50 [00:04<00:00,  9.52epoch/s, loss=0.862, prev_loss=0.834]\u001b[A\n",
      "Training batches on cuda:0:   0%|                                               | 0/7 [00:00<?, ?batch/s]\u001b[A\n",
      "Training epochs on cuda:0:  88%|███████▉ | 44/50 [00:04<00:00,  9.55epoch/s, loss=0.879, prev_loss=0.862]\u001b[A\n",
      "Training batches on cuda:0:   0%|                                               | 0/7 [00:00<?, ?batch/s]\u001b[A\n",
      "Training epochs on cuda:0:  90%|████████ | 45/50 [00:04<00:00,  9.57epoch/s, loss=0.873, prev_loss=0.879]\u001b[A\n",
      "Training batches on cuda:0:   0%|                                               | 0/7 [00:00<?, ?batch/s]\u001b[A\n",
      "Training epochs on cuda:0:  92%|████████▎| 46/50 [00:04<00:00,  9.60epoch/s, loss=0.916, prev_loss=0.873]\u001b[A\n",
      "Training batches on cuda:0:   0%|                                               | 0/7 [00:00<?, ?batch/s]\u001b[A\n",
      "Training epochs on cuda:0:  94%|████████▍| 47/50 [00:05<00:00,  9.60epoch/s, loss=0.869, prev_loss=0.916]\u001b[A\n",
      "Training batches on cuda:0:   0%|                                               | 0/7 [00:00<?, ?batch/s]\u001b[A\n",
      "Training epochs on cuda:0:  96%|█████████▌| 48/50 [00:05<00:00,  9.58epoch/s, loss=0.88, prev_loss=0.869]\u001b[A\n",
      "Training batches on cuda:0:   0%|                                               | 0/7 [00:00<?, ?batch/s]\u001b[A\n",
      "Training epochs on cuda:0:  98%|█████████▊| 49/50 [00:05<00:00,  9.59epoch/s, loss=0.861, prev_loss=0.88]\u001b[A\n",
      "Training batches on cuda:0:   0%|                                               | 0/7 [00:00<?, ?batch/s]\u001b[A\n",
      "Training epochs on cuda:0: 100%|█████████| 50/50 [00:05<00:00,  9.40epoch/s, loss=0.819, prev_loss=0.861]\u001b[A\n",
      "INFO:pykeen.evaluation.evaluator:Starting batch_size search for evaluation now...\n",
      "INFO:pykeen.evaluation.evaluator:Concluded batch_size search with batch_size=201.\n",
      "Evaluating on cuda:0: 100%|████████████████████████████████████████| 201/201 [00:00<00:00, 8.99ktriple/s]\n",
      "INFO:pykeen.evaluation.evaluator:Evaluation took 0.03s seconds\n"
     ]
    }
   ],
   "source": [
    "result = pipeline(\n",
    "    dataset='Nations',\n",
    "    model='TransE',\n",
    "    epochs=50,\n",
    "    evaluator=RankBasedEvaluator,\n",
    "    model_kwargs={\n",
    "        'embedding_dim': 150\n",
    "    },\n",
    "    regularizer = \"Lp\",\n",
    "    regularizer_kwargs = {\n",
    "      \"apply_only_once\": False,\n",
    "      \"weight\": 0.01,\n",
    "      \"p\": 2.0,\n",
    "      \"normalize\": False\n",
    "    },\n",
    "    \n",
    "    device='gpu',\n",
    "    optimizer = \"AdaGrad\",\n",
    "    optimizer_kwargs = {\n",
    "      \"lr\": 0.01\n",
    "    },\n",
    ")"
   ]
  },
  {
   "cell_type": "code",
   "execution_count": 6,
   "metadata": {},
   "outputs": [
    {
     "data": {
      "text/plain": [
       "TransE(\n",
       "  (loss): MarginRankingLoss(\n",
       "    (margin_activation): ReLU()\n",
       "  )\n",
       "  (interaction): TransEInteraction()\n",
       "  (entity_representations): ModuleList(\n",
       "    (0): Embedding(\n",
       "      (regularizer): LpRegularizer()\n",
       "      (_embeddings): Embedding(14, 100)\n",
       "    )\n",
       "  )\n",
       "  (relation_representations): ModuleList(\n",
       "    (0): Embedding(\n",
       "      (regularizer): LpRegularizer()\n",
       "      (_embeddings): Embedding(55, 100)\n",
       "    )\n",
       "  )\n",
       "  (weight_regularizers): ModuleList()\n",
       ")"
      ]
     },
     "execution_count": 6,
     "metadata": {},
     "output_type": "execute_result"
    }
   ],
   "source": [
    "model = result.model\n",
    "model"
   ]
  },
  {
   "cell_type": "code",
   "execution_count": 11,
   "metadata": {},
   "outputs": [
    {
     "data": {
      "image/png": "[encoded data removed]",
      "text/plain": [
       "<Figure size 640x480 with 1 Axes>"
      ]
     },
     "metadata": {},
     "output_type": "display_data"
    }
   ],
   "source": [
    "result.plot_losses()\n",
    "plt.show()"
   ]
  },
  {
   "cell_type": "code",
   "execution_count": 12,
   "metadata": {},
   "outputs": [
    {
     "data": {
      "text/html": [
       "<div>\n",
       "<style scoped>\n",
       "    .dataframe tbody tr th:only-of-type {\n",
       "        vertical-align: middle;\n",
       "    }\n",
       "\n",
       "    .dataframe tbody tr th {\n",
       "        vertical-align: top;\n",
       "    }\n",
       "\n",
       "    .dataframe thead th {\n",
       "        text-align: right;\n",
       "    }\n",
       "</style>\n",
       "<table border=\"1\" class=\"dataframe\">\n",
       "  <thead>\n",
       "    <tr style=\"text-align: right;\">\n",
       "      <th></th>\n",
       "      <th>Side</th>\n",
       "      <th>Type</th>\n",
       "      <th>Metric</th>\n",
       "      <th>Value</th>\n",
       "    </tr>\n",
       "  </thead>\n",
       "  <tbody>\n",
       "    <tr>\n",
       "      <th>0</th>\n",
       "      <td>head</td>\n",
       "      <td>optimistic</td>\n",
       "      <td>z_geometric_mean_rank</td>\n",
       "      <td>0.460870</td>\n",
       "    </tr>\n",
       "    <tr>\n",
       "      <th>1</th>\n",
       "      <td>tail</td>\n",
       "      <td>optimistic</td>\n",
       "      <td>z_geometric_mean_rank</td>\n",
       "      <td>2.644154</td>\n",
       "    </tr>\n",
       "    <tr>\n",
       "      <th>2</th>\n",
       "      <td>both</td>\n",
       "      <td>optimistic</td>\n",
       "      <td>z_geometric_mean_rank</td>\n",
       "      <td>2.246284</td>\n",
       "    </tr>\n",
       "    <tr>\n",
       "      <th>3</th>\n",
       "      <td>head</td>\n",
       "      <td>realistic</td>\n",
       "      <td>z_geometric_mean_rank</td>\n",
       "      <td>0.460874</td>\n",
       "    </tr>\n",
       "    <tr>\n",
       "      <th>4</th>\n",
       "      <td>tail</td>\n",
       "      <td>realistic</td>\n",
       "      <td>z_geometric_mean_rank</td>\n",
       "      <td>2.644154</td>\n",
       "    </tr>\n",
       "    <tr>\n",
       "      <th>...</th>\n",
       "      <td>...</td>\n",
       "      <td>...</td>\n",
       "      <td>...</td>\n",
       "      <td>...</td>\n",
       "    </tr>\n",
       "    <tr>\n",
       "      <th>220</th>\n",
       "      <td>tail</td>\n",
       "      <td>realistic</td>\n",
       "      <td>adjusted_hits_at_k</td>\n",
       "      <td>0.441398</td>\n",
       "    </tr>\n",
       "    <tr>\n",
       "      <th>221</th>\n",
       "      <td>both</td>\n",
       "      <td>realistic</td>\n",
       "      <td>adjusted_hits_at_k</td>\n",
       "      <td>0.484395</td>\n",
       "    </tr>\n",
       "    <tr>\n",
       "      <th>222</th>\n",
       "      <td>head</td>\n",
       "      <td>pessimistic</td>\n",
       "      <td>adjusted_hits_at_k</td>\n",
       "      <td>0.527993</td>\n",
       "    </tr>\n",
       "    <tr>\n",
       "      <th>223</th>\n",
       "      <td>tail</td>\n",
       "      <td>pessimistic</td>\n",
       "      <td>adjusted_hits_at_k</td>\n",
       "      <td>0.441398</td>\n",
       "    </tr>\n",
       "    <tr>\n",
       "      <th>224</th>\n",
       "      <td>both</td>\n",
       "      <td>pessimistic</td>\n",
       "      <td>adjusted_hits_at_k</td>\n",
       "      <td>0.484395</td>\n",
       "    </tr>\n",
       "  </tbody>\n",
       "</table>\n",
       "<p>225 rows × 4 columns</p>\n",
       "</div>"
      ],
      "text/plain": [
       "     Side         Type                 Metric     Value\n",
       "0    head   optimistic  z_geometric_mean_rank  0.460870\n",
       "1    tail   optimistic  z_geometric_mean_rank  2.644154\n",
       "2    both   optimistic  z_geometric_mean_rank  2.246284\n",
       "3    head    realistic  z_geometric_mean_rank  0.460874\n",
       "4    tail    realistic  z_geometric_mean_rank  2.644154\n",
       "..    ...          ...                    ...       ...\n",
       "220  tail    realistic     adjusted_hits_at_k  0.441398\n",
       "221  both    realistic     adjusted_hits_at_k  0.484395\n",
       "222  head  pessimistic     adjusted_hits_at_k  0.527993\n",
       "223  tail  pessimistic     adjusted_hits_at_k  0.441398\n",
       "224  both  pessimistic     adjusted_hits_at_k  0.484395\n",
       "\n",
       "[225 rows x 4 columns]"
      ]
     },
     "execution_count": 12,
     "metadata": {},
     "output_type": "execute_result"
    }
   ],
   "source": [
    "result.metric_results.to_df()"
   ]
  },
  {
   "cell_type": "code",
   "execution_count": 14,
   "metadata": {},
   "outputs": [],
   "source": [
    "from pykeen.hpo import hpo_pipeline_from_config"
   ]
  },
  {
   "cell_type": "code",
   "execution_count": 35,
   "metadata": {},
   "outputs": [],
   "source": [
    "config = {\n",
    "    'optuna': dict(\n",
    "        n_trials=5,\n",
    "    ),\n",
    "    'pipeline': dict(\n",
    "        dataset='Nations',\n",
    "        model='TransR',\n",
    "        model_kwargs_ranges=dict(\n",
    "               embedding_dim=dict(type=int, low=20, high=160, q=20),\n",
    "        ),\n",
    "        optimizer='Adam',\n",
    "        optimizer_kwargs=dict(lr=0.01),\n",
    "        loss='marginranking',\n",
    "        loss_kwargs=dict(margin=1),\n",
    "        training_loop='slcwa',\n",
    "        training_kwargs=dict(num_epochs=100, batch_size=128),\n",
    "        negative_sampler='basic',\n",
    "        negative_sampler_kwargs=dict(num_negs_per_pos=1),\n",
    "        evaluator_kwargs=dict(filtered=True),\n",
    "        evaluation_kwargs=dict(batch_size=128),\n",
    "        stopper='early',\n",
    "        stopper_kwargs=dict(frequency=5, patience=2, relative_delta=0.002),\n",
    "    )\n",
    "}"
   ]
  },
  {
   "cell_type": "code",
   "execution_count": 36,
   "metadata": {},
   "outputs": [
    {
     "name": "stderr",
     "output_type": "stream",
     "text": [
      "\u001b[32m[I 2023-01-30 08:51:50,765]\u001b[0m A new study created in memory with name: no-name-25b2b092-921e-4ec5-ae4d-faedde1c5222\u001b[0m\n",
      "INFO:pykeen.hpo.hpo:Using model: <class 'pykeen.models.unimodal.trans_r.TransR'>\n",
      "INFO:pykeen.hpo.hpo:Using loss: <class 'pykeen.losses.MarginRankingLoss'>\n",
      "INFO:pykeen.hpo.hpo:Using optimizer: <class 'torch.optim.adam.Adam'>\n",
      "INFO:pykeen.hpo.hpo:Using training loop: <class 'pykeen.training.slcwa.SLCWATrainingLoop'>\n",
      "INFO:pykeen.hpo.hpo:Using negative sampler: <class 'pykeen.sampling.basic_negative_sampler.BasicNegativeSampler'>\n",
      "INFO:pykeen.hpo.hpo:Using evaluator: <class 'pykeen.evaluation.rank_based_evaluator.RankBasedEvaluator'>\n",
      "INFO:pykeen.hpo.hpo:Attempting to maximize both.realistic.inverse_harmonic_mean_rank\n",
      "INFO:pykeen.hpo.hpo:Filter validation triples when testing: True\n",
      "WARNING:pykeen.pipeline.api:No random seed is specified. Setting to 1472285884.\n",
      "INFO:pykeen.pipeline.api:Using device: None\n",
      "INFO:pykeen.datasets.utils:Loading cached preprocessed dataset from file:///work/.data/pykeen/datasets/nations/cache/47DEQpj8HBSa-_TImW-5JCeuQeRkm5NM\n",
      "INFO:pykeen.triples.triples_factory:Loading from file:///work/.data/pykeen/datasets/nations/cache/47DEQpj8HBSa-_TImW-5JCeuQeRkm5NM/training\n",
      "INFO:pykeen.triples.triples_factory:Loading from file:///work/.data/pykeen/datasets/nations/cache/47DEQpj8HBSa-_TImW-5JCeuQeRkm5NM/testing\n",
      "INFO:pykeen.triples.triples_factory:Loading from file:///work/.data/pykeen/datasets/nations/cache/47DEQpj8HBSa-_TImW-5JCeuQeRkm5NM/validation\n",
      "INFO:pykeen.stoppers.early_stopping:Inferred checkpoint path for best model weights: /work/.data/pykeen/checkpoints/best-model-weights-4b28e5c7-364e-482a-b0b7-cf8a84fa4f75.pt\n",
      "Training epochs on cuda:0:   0%|                                              | 0/100 [00:00<?, ?epoch/s]\n",
      "Training batches on cuda:0:   0%|                                              | 0/13 [00:00<?, ?batch/s]\u001b[A\n",
      "Training epochs on cuda:0:   1%|            | 1/100 [00:00<00:16,  6.05epoch/s, loss=1.33, prev_loss=nan]\u001b[A\n",
      "Training batches on cuda:0:   0%|                                              | 0/13 [00:00<?, ?batch/s]\u001b[A\n",
      "Training epochs on cuda:0:   2%|▏          | 2/100 [00:00<00:16,  6.07epoch/s, loss=1.09, prev_loss=1.33]\u001b[A\n",
      "Training batches on cuda:0:   0%|                                              | 0/13 [00:00<?, ?batch/s]\u001b[A\n",
      "Training epochs on cuda:0:   3%|▎         | 3/100 [00:00<00:16,  6.05epoch/s, loss=0.871, prev_loss=1.09]\u001b[A\n",
      "Training batches on cuda:0:   0%|                                              | 0/13 [00:00<?, ?batch/s]\u001b[A\n",
      "Training epochs on cuda:0:   4%|▎        | 4/100 [00:00<00:15,  6.17epoch/s, loss=0.752, prev_loss=0.871]\u001b[A\n",
      "Training batches on cuda:0:   0%|                                              | 0/13 [00:00<?, ?batch/s]\u001b[A\n",
      "Training epochs on cuda:0:   4%|▎        | 4/100 [00:00<00:15,  6.17epoch/s, loss=0.749, prev_loss=0.752]\u001b[AINFO:pykeen.evaluation.evaluator:Evaluation took 0.03s seconds\n",
      "INFO:pykeen.stoppers.early_stopping:New best result at epoch 5: 0.9798994974874372. Saved model weights to /work/.data/pykeen/checkpoints/best-model-weights-4b28e5c7-364e-482a-b0b7-cf8a84fa4f75.pt\n",
      "INFO:pykeen.training.training_loop:=> Saved checkpoint after having finished epoch 5.\n",
      "Training epochs on cuda:0:   5%|▍        | 5/100 [00:00<00:17,  5.56epoch/s, loss=0.749, prev_loss=0.752]\n",
      "Training batches on cuda:0:   0%|                                              | 0/13 [00:00<?, ?batch/s]\u001b[A\n",
      "Training epochs on cuda:0:   6%|▋          | 6/100 [00:01<00:16,  5.65epoch/s, loss=0.7, prev_loss=0.749]\u001b[A\n",
      "Training batches on cuda:0:   0%|                                              | 0/13 [00:00<?, ?batch/s]\u001b[A\n",
      "Training epochs on cuda:0:   7%|▊          | 7/100 [00:01<00:15,  5.82epoch/s, loss=0.676, prev_loss=0.7]\u001b[A\n",
      "Training batches on cuda:0:   0%|                                              | 0/13 [00:00<?, ?batch/s]\u001b[A\n",
      "Training epochs on cuda:0:   8%|▋        | 8/100 [00:01<00:15,  5.84epoch/s, loss=0.649, prev_loss=0.676]\u001b[A\n",
      "Training batches on cuda:0:   0%|                                              | 0/13 [00:00<?, ?batch/s]\u001b[A\n",
      "Training epochs on cuda:0:   9%|▉         | 9/100 [00:01<00:15,  5.87epoch/s, loss=0.66, prev_loss=0.649]\u001b[A\n",
      "Training batches on cuda:0:   0%|                                              | 0/13 [00:00<?, ?batch/s]\u001b[A\n",
      "Training epochs on cuda:0:   9%|▉         | 9/100 [00:01<00:15,  5.87epoch/s, loss=0.648, prev_loss=0.66]\u001b[AINFO:pykeen.evaluation.evaluator:Starting batch_size search for evaluation now...\n",
      "INFO:pykeen.evaluation.evaluator:Concluded batch_size search with batch_size=199.\n",
      "INFO:pykeen.evaluation.evaluator:Evaluation took 0.03s seconds\n",
      "INFO:pykeen.stoppers.early_stopping:New best result at epoch 10: 0.9849246231155779. Saved model weights to /work/.data/pykeen/checkpoints/best-model-weights-4b28e5c7-364e-482a-b0b7-cf8a84fa4f75.pt\n",
      "INFO:pykeen.training.training_loop:=> Saved checkpoint after having finished epoch 10.\n",
      "Training epochs on cuda:0:  10%|▉        | 10/100 [00:01<00:23,  3.88epoch/s, loss=0.648, prev_loss=0.66]\n",
      "Training batches on cuda:0:   0%|                                              | 0/13 [00:00<?, ?batch/s]\u001b[A\n",
      "Training epochs on cuda:0:  11%|▉       | 11/100 [00:02<00:20,  4.45epoch/s, loss=0.632, prev_loss=0.648]\u001b[A\n",
      "Training batches on cuda:0:   0%|                                              | 0/13 [00:00<?, ?batch/s]\u001b[A\n",
      "Training epochs on cuda:0:  12%|▉       | 12/100 [00:02<00:17,  4.97epoch/s, loss=0.627, prev_loss=0.632]\u001b[A\n",
      "Training batches on cuda:0:   0%|                                              | 0/13 [00:00<?, ?batch/s]\u001b[A\n",
      "Training epochs on cuda:0:  13%|█       | 13/100 [00:02<00:16,  5.32epoch/s, loss=0.602, prev_loss=0.627]\u001b[A\n",
      "Training batches on cuda:0:   0%|                                              | 0/13 [00:00<?, ?batch/s]\u001b[A\n",
      "Training epochs on cuda:0:  14%|█       | 14/100 [00:02<00:15,  5.62epoch/s, loss=0.606, prev_loss=0.602]\u001b[A\n",
      "Training batches on cuda:0:   0%|                                              | 0/13 [00:00<?, ?batch/s]\u001b[A\n",
      "Training epochs on cuda:0:  14%|█       | 14/100 [00:02<00:15,  5.62epoch/s, loss=0.594, prev_loss=0.606]\u001b[AINFO:pykeen.evaluation.evaluator:Evaluation took 0.03s seconds\n",
      "INFO:pykeen.stoppers.early_stopping:New best result at epoch 15: 0.9974874371859297. Saved model weights to /work/.data/pykeen/checkpoints/best-model-weights-4b28e5c7-364e-482a-b0b7-cf8a84fa4f75.pt\n",
      "INFO:pykeen.training.training_loop:=> Saved checkpoint after having finished epoch 15.\n",
      "Training epochs on cuda:0:  15%|█▏      | 15/100 [00:02<00:16,  5.11epoch/s, loss=0.594, prev_loss=0.606]\n",
      "Training batches on cuda:0:   0%|                                              | 0/13 [00:00<?, ?batch/s]\u001b[A\n",
      "Training epochs on cuda:0:  16%|█▎      | 16/100 [00:02<00:15,  5.44epoch/s, loss=0.633, prev_loss=0.594]\u001b[A\n",
      "Training batches on cuda:0:   0%|                                              | 0/13 [00:00<?, ?batch/s]\u001b[A\n",
      "Training epochs on cuda:0:  17%|█▎      | 17/100 [00:03<00:14,  5.67epoch/s, loss=0.613, prev_loss=0.633]\u001b[A\n",
      "Training batches on cuda:0:   0%|                                              | 0/13 [00:00<?, ?batch/s]\u001b[A\n",
      "Training epochs on cuda:0:  18%|█▍      | 18/100 [00:03<00:13,  5.89epoch/s, loss=0.608, prev_loss=0.613]\u001b[A\n",
      "Training batches on cuda:0:   0%|                                              | 0/13 [00:00<?, ?batch/s]\u001b[A\n",
      "Training epochs on cuda:0:  19%|█▌      | 19/100 [00:03<00:13,  6.11epoch/s, loss=0.576, prev_loss=0.608]\u001b[A\n",
      "Training batches on cuda:0:   0%|                                              | 0/13 [00:00<?, ?batch/s]\u001b[A\n",
      "Training epochs on cuda:0:  19%|█▌      | 19/100 [00:03<00:13,  6.11epoch/s, loss=0.613, prev_loss=0.576]\u001b[AINFO:pykeen.evaluation.evaluator:Evaluation took 0.03s seconds\n",
      "Training epochs on cuda:0:  20%|█▌      | 20/100 [00:03<00:13,  5.98epoch/s, loss=0.613, prev_loss=0.576]\n",
      "Training batches on cuda:0:   0%|                                              | 0/13 [00:00<?, ?batch/s]\u001b[A\n",
      "Training epochs on cuda:0:  21%|█▋      | 21/100 [00:03<00:12,  6.15epoch/s, loss=0.554, prev_loss=0.613]\u001b[A\n",
      "Training batches on cuda:0:   0%|                                              | 0/13 [00:00<?, ?batch/s]\u001b[A\n"
     ]
    },
    {
     "name": "stderr",
     "output_type": "stream",
     "text": [
      "Training epochs on cuda:0:  22%|█▊      | 22/100 [00:03<00:12,  6.30epoch/s, loss=0.596, prev_loss=0.554]\u001b[A\n",
      "Training batches on cuda:0:   0%|                                              | 0/13 [00:00<?, ?batch/s]\u001b[A\n",
      "Training epochs on cuda:0:  23%|█▊      | 23/100 [00:04<00:12,  6.32epoch/s, loss=0.596, prev_loss=0.596]\u001b[A\n",
      "Training batches on cuda:0:   0%|                                              | 0/13 [00:00<?, ?batch/s]\u001b[A\n",
      "Training epochs on cuda:0:  24%|█▉      | 24/100 [00:04<00:12,  6.33epoch/s, loss=0.582, prev_loss=0.596]\u001b[A\n",
      "Training batches on cuda:0:   0%|                                              | 0/13 [00:00<?, ?batch/s]\u001b[A\n",
      "Training epochs on cuda:0:  24%|█▉      | 24/100 [00:04<00:12,  6.33epoch/s, loss=0.569, prev_loss=0.582]\u001b[AINFO:pykeen.evaluation.evaluator:Evaluation took 0.03s seconds\n",
      "INFO:pykeen.stoppers.early_stopping:Stopping early at epoch 25. The best result 0.9974874371859297 occurred at epoch 15.\n",
      "INFO:pykeen.stoppers.early_stopping:Re-loading weights from best epoch from /work/.data/pykeen/checkpoints/best-model-weights-4b28e5c7-364e-482a-b0b7-cf8a84fa4f75.pt\n",
      "Training epochs on cuda:0:  24%|█▉      | 24/100 [00:04<00:14,  5.41epoch/s, loss=0.569, prev_loss=0.582]\n",
      "Evaluating on cuda:0: 100%|████████████████████████████████████████| 199/199 [00:00<00:00, 8.81ktriple/s]\n",
      "INFO:pykeen.evaluation.evaluator:Evaluation took 0.03s seconds\n",
      "\u001b[32m[I 2023-01-30 08:51:55,438]\u001b[0m Trial 0 finished with value: 0.39824604988098145 and parameters: {'model.embedding_dim': 160, 'model.relation_dim': 160, 'model.scoring_fct_norm': 2}. Best is trial 0 with value: 0.39824604988098145.\u001b[0m\n",
      "WARNING:pykeen.pipeline.api:No random seed is specified. Setting to 2811458799.\n",
      "INFO:pykeen.pipeline.api:Using device: None\n",
      "INFO:pykeen.datasets.utils:Loading cached preprocessed dataset from file:///work/.data/pykeen/datasets/nations/cache/47DEQpj8HBSa-_TImW-5JCeuQeRkm5NM\n",
      "INFO:pykeen.triples.triples_factory:Loading from file:///work/.data/pykeen/datasets/nations/cache/47DEQpj8HBSa-_TImW-5JCeuQeRkm5NM/training\n",
      "INFO:pykeen.triples.triples_factory:Loading from file:///work/.data/pykeen/datasets/nations/cache/47DEQpj8HBSa-_TImW-5JCeuQeRkm5NM/testing\n",
      "INFO:pykeen.triples.triples_factory:Loading from file:///work/.data/pykeen/datasets/nations/cache/47DEQpj8HBSa-_TImW-5JCeuQeRkm5NM/validation\n",
      "INFO:pykeen.stoppers.early_stopping:Inferred checkpoint path for best model weights: /work/.data/pykeen/checkpoints/best-model-weights-7fe22970-d851-4632-926f-71b11e003d98.pt\n",
      "Training epochs on cuda:0:   0%|                                              | 0/100 [00:00<?, ?epoch/s]\n",
      "Training batches on cuda:0:   0%|                                              | 0/13 [00:00<?, ?batch/s]\u001b[A\n",
      "Training epochs on cuda:0:   1%|            | 1/100 [00:00<00:15,  6.20epoch/s, loss=1.21, prev_loss=nan]\u001b[A\n",
      "Training batches on cuda:0:   0%|                                              | 0/13 [00:00<?, ?batch/s]\u001b[A\n",
      "Training epochs on cuda:0:   2%|▏         | 2/100 [00:00<00:15,  6.14epoch/s, loss=0.919, prev_loss=1.21]\u001b[A\n",
      "Training batches on cuda:0:   0%|                                              | 0/13 [00:00<?, ?batch/s]\u001b[A\n",
      "Training epochs on cuda:0:   3%|▎         | 3/100 [00:00<00:16,  6.03epoch/s, loss=0.83, prev_loss=0.919]\u001b[A\n",
      "Training batches on cuda:0:   0%|                                              | 0/13 [00:00<?, ?batch/s]\u001b[A\n",
      "Training epochs on cuda:0:   4%|▍         | 4/100 [00:00<00:15,  6.27epoch/s, loss=0.769, prev_loss=0.83]\u001b[A\n",
      "Training batches on cuda:0:   0%|                                              | 0/13 [00:00<?, ?batch/s]\u001b[A\n",
      "Training epochs on cuda:0:   4%|▎        | 4/100 [00:00<00:15,  6.27epoch/s, loss=0.716, prev_loss=0.769]\u001b[AINFO:pykeen.evaluation.evaluator:Evaluation took 0.03s seconds\n",
      "INFO:pykeen.stoppers.early_stopping:New best result at epoch 5: 0.9849246231155779. Saved model weights to /work/.data/pykeen/checkpoints/best-model-weights-7fe22970-d851-4632-926f-71b11e003d98.pt\n",
      "INFO:pykeen.training.training_loop:=> Saved checkpoint after having finished epoch 5.\n",
      "Training epochs on cuda:0:   5%|▍        | 5/100 [00:00<00:16,  5.75epoch/s, loss=0.716, prev_loss=0.769]\n",
      "Training batches on cuda:0:   0%|                                              | 0/13 [00:00<?, ?batch/s]\u001b[A\n",
      "Training epochs on cuda:0:   6%|▌        | 6/100 [00:00<00:15,  6.08epoch/s, loss=0.704, prev_loss=0.716]\u001b[A\n",
      "Training batches on cuda:0:   0%|                                              | 0/13 [00:00<?, ?batch/s]\u001b[A\n",
      "Training epochs on cuda:0:   7%|▋        | 7/100 [00:01<00:15,  6.12epoch/s, loss=0.655, prev_loss=0.704]\u001b[A\n",
      "Training batches on cuda:0:   0%|                                              | 0/13 [00:00<?, ?batch/s]\u001b[A\n",
      "Training epochs on cuda:0:   8%|▋        | 8/100 [00:01<00:15,  6.05epoch/s, loss=0.672, prev_loss=0.655]\u001b[A\n",
      "Training batches on cuda:0:   0%|                                              | 0/13 [00:00<?, ?batch/s]\u001b[A\n",
      "Training epochs on cuda:0:   9%|▊        | 9/100 [00:01<00:15,  6.04epoch/s, loss=0.642, prev_loss=0.672]\u001b[A\n",
      "Training batches on cuda:0:   0%|                                              | 0/13 [00:00<?, ?batch/s]\u001b[A\n",
      "Training epochs on cuda:0:   9%|▉         | 9/100 [00:01<00:15,  6.04epoch/s, loss=0.63, prev_loss=0.642]\u001b[AINFO:pykeen.evaluation.evaluator:Starting batch_size search for evaluation now...\n",
      "INFO:pykeen.evaluation.evaluator:Concluded batch_size search with batch_size=199.\n",
      "INFO:pykeen.evaluation.evaluator:Evaluation took 0.03s seconds\n",
      "Training epochs on cuda:0:  10%|▉        | 10/100 [00:01<00:21,  4.19epoch/s, loss=0.63, prev_loss=0.642]\n",
      "Training batches on cuda:0:   0%|                                              | 0/13 [00:00<?, ?batch/s]\u001b[A\n",
      "Training epochs on cuda:0:  11%|█         | 11/100 [00:02<00:19,  4.67epoch/s, loss=0.64, prev_loss=0.63]\u001b[A\n",
      "Training batches on cuda:0:   0%|                                              | 0/13 [00:00<?, ?batch/s]\u001b[A\n",
      "Training epochs on cuda:0:  12%|█        | 12/100 [00:02<00:17,  5.09epoch/s, loss=0.622, prev_loss=0.64]\u001b[A\n",
      "Training batches on cuda:0:   0%|                                              | 0/13 [00:00<?, ?batch/s]\u001b[A\n",
      "Training epochs on cuda:0:  13%|█       | 13/100 [00:02<00:16,  5.39epoch/s, loss=0.603, prev_loss=0.622]\u001b[A\n",
      "Training batches on cuda:0:   0%|                                              | 0/13 [00:00<?, ?batch/s]\u001b[A\n",
      "Training epochs on cuda:0:  14%|█       | 14/100 [00:02<00:15,  5.62epoch/s, loss=0.644, prev_loss=0.603]\u001b[A\n",
      "Training batches on cuda:0:   0%|                                              | 0/13 [00:00<?, ?batch/s]\u001b[A\n",
      "Training epochs on cuda:0:  14%|█       | 14/100 [00:02<00:15,  5.62epoch/s, loss=0.608, prev_loss=0.644]\u001b[AINFO:pykeen.evaluation.evaluator:Evaluation took 0.03s seconds\n",
      "INFO:pykeen.stoppers.early_stopping:Stopping early at epoch 15. The best result 0.9849246231155779 occurred at epoch 5.\n",
      "INFO:pykeen.stoppers.early_stopping:Re-loading weights from best epoch from /work/.data/pykeen/checkpoints/best-model-weights-7fe22970-d851-4632-926f-71b11e003d98.pt\n",
      "Training epochs on cuda:0:  14%|█       | 14/100 [00:02<00:16,  5.16epoch/s, loss=0.608, prev_loss=0.644]\n",
      "Evaluating on cuda:0: 100%|████████████████████████████████████████| 199/199 [00:00<00:00, 9.02ktriple/s]\n",
      "INFO:pykeen.evaluation.evaluator:Evaluation took 0.03s seconds\n",
      "\u001b[32m[I 2023-01-30 08:51:58,319]\u001b[0m Trial 1 finished with value: 0.3979331851005554 and parameters: {'model.embedding_dim': 120, 'model.relation_dim': 176, 'model.scoring_fct_norm': 2}. Best is trial 0 with value: 0.39824604988098145.\u001b[0m\n",
      "WARNING:pykeen.pipeline.api:No random seed is specified. Setting to 347671274.\n",
      "INFO:pykeen.pipeline.api:Using device: None\n",
      "INFO:pykeen.datasets.utils:Loading cached preprocessed dataset from file:///work/.data/pykeen/datasets/nations/cache/47DEQpj8HBSa-_TImW-5JCeuQeRkm5NM\n",
      "INFO:pykeen.triples.triples_factory:Loading from file:///work/.data/pykeen/datasets/nations/cache/47DEQpj8HBSa-_TImW-5JCeuQeRkm5NM/training\n",
      "INFO:pykeen.triples.triples_factory:Loading from file:///work/.data/pykeen/datasets/nations/cache/47DEQpj8HBSa-_TImW-5JCeuQeRkm5NM/testing\n",
      "INFO:pykeen.triples.triples_factory:Loading from file:///work/.data/pykeen/datasets/nations/cache/47DEQpj8HBSa-_TImW-5JCeuQeRkm5NM/validation\n"
     ]
    },
    {
     "name": "stderr",
     "output_type": "stream",
     "text": [
      "INFO:pykeen.stoppers.early_stopping:Inferred checkpoint path for best model weights: /work/.data/pykeen/checkpoints/best-model-weights-af972ce4-edd4-47cd-8d7a-4976a48fee4d.pt\n",
      "Training epochs on cuda:0:   0%|                                              | 0/100 [00:00<?, ?epoch/s]\n",
      "Training batches on cuda:0:   0%|                                              | 0/13 [00:00<?, ?batch/s]\u001b[A\n",
      "Training epochs on cuda:0:   1%|            | 1/100 [00:00<00:15,  6.27epoch/s, loss=1.97, prev_loss=nan]\u001b[A\n",
      "Training batches on cuda:0:   0%|                                              | 0/13 [00:00<?, ?batch/s]\u001b[A\n",
      "Training epochs on cuda:0:   2%|▏          | 2/100 [00:00<00:15,  6.15epoch/s, loss=1.53, prev_loss=1.97]\u001b[A\n",
      "Training batches on cuda:0:   0%|                                              | 0/13 [00:00<?, ?batch/s]\u001b[A\n",
      "Training epochs on cuda:0:   3%|▎          | 3/100 [00:00<00:15,  6.17epoch/s, loss=1.23, prev_loss=1.53]\u001b[A\n",
      "Training batches on cuda:0:   0%|                                              | 0/13 [00:00<?, ?batch/s]\u001b[A\n",
      "Training epochs on cuda:0:   4%|▍          | 4/100 [00:00<00:15,  6.07epoch/s, loss=1.08, prev_loss=1.23]\u001b[A\n",
      "Training batches on cuda:0:   0%|                                              | 0/13 [00:00<?, ?batch/s]\u001b[A\n",
      "Training epochs on cuda:0:   4%|▌             | 4/100 [00:00<00:15,  6.07epoch/s, loss=1, prev_loss=1.08]\u001b[AINFO:pykeen.evaluation.evaluator:Evaluation took 0.03s seconds\n",
      "INFO:pykeen.stoppers.early_stopping:New best result at epoch 5: 0.9723618090452262. Saved model weights to /work/.data/pykeen/checkpoints/best-model-weights-af972ce4-edd4-47cd-8d7a-4976a48fee4d.pt\n",
      "INFO:pykeen.training.training_loop:=> Saved checkpoint after having finished epoch 5.\n",
      "Training epochs on cuda:0:   5%|▋             | 5/100 [00:00<00:16,  5.70epoch/s, loss=1, prev_loss=1.08]\n",
      "Training batches on cuda:0:   0%|                                              | 0/13 [00:00<?, ?batch/s]\u001b[A\n",
      "Training epochs on cuda:0:   6%|▊            | 6/100 [00:01<00:16,  5.76epoch/s, loss=0.902, prev_loss=1]\u001b[A\n",
      "Training batches on cuda:0:   0%|                                              | 0/13 [00:00<?, ?batch/s]\u001b[A\n",
      "Training epochs on cuda:0:   7%|▋        | 7/100 [00:01<00:16,  5.79epoch/s, loss=0.941, prev_loss=0.902]\u001b[A\n",
      "Training batches on cuda:0:   0%|                                              | 0/13 [00:00<?, ?batch/s]\u001b[A\n",
      "Training epochs on cuda:0:   8%|▋        | 8/100 [00:01<00:15,  5.82epoch/s, loss=0.857, prev_loss=0.941]\u001b[A\n",
      "Training batches on cuda:0:   0%|                                              | 0/13 [00:00<?, ?batch/s]\u001b[A\n",
      "Training epochs on cuda:0:   9%|▊        | 9/100 [00:01<00:15,  5.90epoch/s, loss=0.845, prev_loss=0.857]\u001b[A\n",
      "Training batches on cuda:0:   0%|                                              | 0/13 [00:00<?, ?batch/s]\u001b[A\n",
      "Training epochs on cuda:0:   9%|▊        | 9/100 [00:01<00:15,  5.90epoch/s, loss=0.835, prev_loss=0.845]\u001b[AINFO:pykeen.evaluation.evaluator:Starting batch_size search for evaluation now...\n",
      "INFO:pykeen.evaluation.evaluator:Concluded batch_size search with batch_size=199.\n",
      "INFO:pykeen.evaluation.evaluator:Evaluation took 0.03s seconds\n",
      "INFO:pykeen.stoppers.early_stopping:New best result at epoch 10: 0.9849246231155779. Saved model weights to /work/.data/pykeen/checkpoints/best-model-weights-af972ce4-edd4-47cd-8d7a-4976a48fee4d.pt\n",
      "INFO:pykeen.training.training_loop:=> Saved checkpoint after having finished epoch 10.\n",
      "Training epochs on cuda:0:  10%|▊       | 10/100 [00:01<00:21,  4.16epoch/s, loss=0.835, prev_loss=0.845]\n",
      "Training batches on cuda:0:   0%|                                              | 0/13 [00:00<?, ?batch/s]\u001b[A\n",
      "Training epochs on cuda:0:  11%|▉       | 11/100 [00:02<00:19,  4.62epoch/s, loss=0.909, prev_loss=0.835]\u001b[A\n",
      "Training batches on cuda:0:   0%|                                              | 0/13 [00:00<?, ?batch/s]\u001b[A\n",
      "Training epochs on cuda:0:  12%|▉       | 12/100 [00:02<00:17,  5.00epoch/s, loss=0.837, prev_loss=0.909]\u001b[A\n",
      "Training batches on cuda:0:   0%|                                              | 0/13 [00:00<?, ?batch/s]\u001b[A\n",
      "Training epochs on cuda:0:  13%|█       | 13/100 [00:02<00:16,  5.31epoch/s, loss=0.873, prev_loss=0.837]\u001b[A\n",
      "Training batches on cuda:0:   0%|                                              | 0/13 [00:00<?, ?batch/s]\u001b[A\n",
      "Training epochs on cuda:0:  14%|█       | 14/100 [00:02<00:15,  5.59epoch/s, loss=0.872, prev_loss=0.873]\u001b[A\n",
      "Training batches on cuda:0:   0%|                                              | 0/13 [00:00<?, ?batch/s]\u001b[A\n",
      "Training epochs on cuda:0:  14%|█       | 14/100 [00:02<00:15,  5.59epoch/s, loss=0.839, prev_loss=0.872]\u001b[AINFO:pykeen.evaluation.evaluator:Evaluation took 0.03s seconds\n",
      "Training epochs on cuda:0:  15%|█▏      | 15/100 [00:02<00:15,  5.55epoch/s, loss=0.839, prev_loss=0.872]\n",
      "Training batches on cuda:0:   0%|                                              | 0/13 [00:00<?, ?batch/s]\u001b[A\n",
      "Training epochs on cuda:0:  16%|█▎      | 16/100 [00:02<00:14,  5.78epoch/s, loss=0.812, prev_loss=0.839]\u001b[A\n",
      "Training batches on cuda:0:   0%|                                              | 0/13 [00:00<?, ?batch/s]\u001b[A\n",
      "Training epochs on cuda:0:  17%|█▎      | 17/100 [00:03<00:13,  5.95epoch/s, loss=0.835, prev_loss=0.812]\u001b[A\n",
      "Training batches on cuda:0:   0%|                                              | 0/13 [00:00<?, ?batch/s]\u001b[A\n",
      "Training epochs on cuda:0:  18%|█▍      | 18/100 [00:03<00:13,  6.07epoch/s, loss=0.827, prev_loss=0.835]\u001b[A\n",
      "Training batches on cuda:0:   0%|                                              | 0/13 [00:00<?, ?batch/s]\u001b[A\n",
      "Training epochs on cuda:0:  19%|█▌      | 19/100 [00:03<00:13,  6.18epoch/s, loss=0.816, prev_loss=0.827]\u001b[A\n",
      "Training batches on cuda:0:   0%|                                              | 0/13 [00:00<?, ?batch/s]\u001b[A\n",
      "Training epochs on cuda:0:  19%|█▌      | 19/100 [00:03<00:13,  6.18epoch/s, loss=0.818, prev_loss=0.816]\u001b[AINFO:pykeen.evaluation.evaluator:Evaluation took 0.03s seconds\n",
      "INFO:pykeen.stoppers.early_stopping:Stopping early at epoch 20. The best result 0.9849246231155779 occurred at epoch 10.\n",
      "INFO:pykeen.stoppers.early_stopping:Re-loading weights from best epoch from /work/.data/pykeen/checkpoints/best-model-weights-af972ce4-edd4-47cd-8d7a-4976a48fee4d.pt\n",
      "Training epochs on cuda:0:  19%|█▌      | 19/100 [00:03<00:15,  5.34epoch/s, loss=0.818, prev_loss=0.816]\n",
      "Evaluating on cuda:0: 100%|████████████████████████████████████████| 199/199 [00:00<00:00, 8.79ktriple/s]\n",
      "INFO:pykeen.evaluation.evaluator:Evaluation took 0.03s seconds\n",
      "\u001b[32m[I 2023-01-30 08:52:02,033]\u001b[0m Trial 2 finished with value: 0.4220447242259979 and parameters: {'model.embedding_dim': 80, 'model.relation_dim': 80, 'model.scoring_fct_norm': 1}. Best is trial 2 with value: 0.4220447242259979.\u001b[0m\n",
      "WARNING:pykeen.pipeline.api:No random seed is specified. Setting to 3436956242.\n",
      "INFO:pykeen.pipeline.api:Using device: None\n",
      "INFO:pykeen.datasets.utils:Loading cached preprocessed dataset from file:///work/.data/pykeen/datasets/nations/cache/47DEQpj8HBSa-_TImW-5JCeuQeRkm5NM\n",
      "INFO:pykeen.triples.triples_factory:Loading from file:///work/.data/pykeen/datasets/nations/cache/47DEQpj8HBSa-_TImW-5JCeuQeRkm5NM/training\n",
      "INFO:pykeen.triples.triples_factory:Loading from file:///work/.data/pykeen/datasets/nations/cache/47DEQpj8HBSa-_TImW-5JCeuQeRkm5NM/testing\n",
      "INFO:pykeen.triples.triples_factory:Loading from file:///work/.data/pykeen/datasets/nations/cache/47DEQpj8HBSa-_TImW-5JCeuQeRkm5NM/validation\n",
      "INFO:pykeen.stoppers.early_stopping:Inferred checkpoint path for best model weights: /work/.data/pykeen/checkpoints/best-model-weights-7787cfb2-be2d-4ac8-b456-ca29db6e09ff.pt\n",
      "Training epochs on cuda:0:   0%|                                              | 0/100 [00:00<?, ?epoch/s]\n",
      "Training batches on cuda:0:   0%|                                              | 0/13 [00:00<?, ?batch/s]\u001b[A\n",
      "Training epochs on cuda:0:   1%|            | 1/100 [00:00<00:15,  6.22epoch/s, loss=1.26, prev_loss=nan]\u001b[A\n",
      "Training batches on cuda:0:   0%|                                              | 0/13 [00:00<?, ?batch/s]\u001b[A\n",
      "Training epochs on cuda:0:   2%|▎             | 2/100 [00:00<00:15,  6.28epoch/s, loss=1, prev_loss=1.26]\u001b[A\n"
     ]
    },
    {
     "name": "stderr",
     "output_type": "stream",
     "text": [
      "Training batches on cuda:0:   0%|                                              | 0/13 [00:00<?, ?batch/s]\u001b[A\n",
      "Training epochs on cuda:0:   3%|▍            | 3/100 [00:00<00:15,  6.26epoch/s, loss=0.835, prev_loss=1]\u001b[A\n",
      "Training batches on cuda:0:   0%|                                              | 0/13 [00:00<?, ?batch/s]\u001b[A\n",
      "Training epochs on cuda:0:   4%|▎        | 4/100 [00:00<00:15,  6.26epoch/s, loss=0.777, prev_loss=0.835]\u001b[A\n",
      "Training batches on cuda:0:   0%|                                              | 0/13 [00:00<?, ?batch/s]\u001b[A\n",
      "Training epochs on cuda:0:   4%|▎        | 4/100 [00:00<00:15,  6.26epoch/s, loss=0.697, prev_loss=0.777]\u001b[AINFO:pykeen.evaluation.evaluator:Evaluation took 0.03s seconds\n",
      "INFO:pykeen.stoppers.early_stopping:New best result at epoch 5: 0.9949748743718593. Saved model weights to /work/.data/pykeen/checkpoints/best-model-weights-7787cfb2-be2d-4ac8-b456-ca29db6e09ff.pt\n",
      "INFO:pykeen.training.training_loop:=> Saved checkpoint after having finished epoch 5.\n",
      "Training epochs on cuda:0:   5%|▍        | 5/100 [00:00<00:16,  5.73epoch/s, loss=0.697, prev_loss=0.777]\n",
      "Training batches on cuda:0:   0%|                                              | 0/13 [00:00<?, ?batch/s]\u001b[A\n",
      "Training epochs on cuda:0:   6%|▌        | 6/100 [00:00<00:15,  5.92epoch/s, loss=0.709, prev_loss=0.697]\u001b[A\n",
      "Training batches on cuda:0:   0%|                                              | 0/13 [00:00<?, ?batch/s]\u001b[A\n",
      "Training epochs on cuda:0:   7%|▋        | 7/100 [00:01<00:15,  6.07epoch/s, loss=0.641, prev_loss=0.709]\u001b[A\n",
      "Training batches on cuda:0:   0%|                                              | 0/13 [00:00<?, ?batch/s]\u001b[A\n",
      "Training epochs on cuda:0:   8%|▋        | 8/100 [00:01<00:14,  6.16epoch/s, loss=0.658, prev_loss=0.641]\u001b[A\n",
      "Training batches on cuda:0:   0%|                                              | 0/13 [00:00<?, ?batch/s]\u001b[A\n",
      "Training epochs on cuda:0:   9%|▊        | 9/100 [00:01<00:14,  6.12epoch/s, loss=0.656, prev_loss=0.658]\u001b[A\n",
      "Training batches on cuda:0:   0%|                                              | 0/13 [00:00<?, ?batch/s]\u001b[A\n",
      "Training epochs on cuda:0:   9%|▊        | 9/100 [00:01<00:14,  6.12epoch/s, loss=0.624, prev_loss=0.656]\u001b[AINFO:pykeen.evaluation.evaluator:Starting batch_size search for evaluation now...\n",
      "INFO:pykeen.evaluation.evaluator:Concluded batch_size search with batch_size=199.\n",
      "INFO:pykeen.evaluation.evaluator:Evaluation took 0.03s seconds\n",
      "Training epochs on cuda:0:  10%|▊       | 10/100 [00:01<00:21,  4.25epoch/s, loss=0.624, prev_loss=0.656]\n",
      "Training batches on cuda:0:   0%|                                              | 0/13 [00:00<?, ?batch/s]\u001b[A\n",
      "Training epochs on cuda:0:  11%|▉       | 11/100 [00:02<00:18,  4.73epoch/s, loss=0.621, prev_loss=0.624]\u001b[A\n",
      "Training batches on cuda:0:   0%|                                              | 0/13 [00:00<?, ?batch/s]\u001b[A\n",
      "Training epochs on cuda:0:  12%|▉       | 12/100 [00:02<00:17,  5.09epoch/s, loss=0.643, prev_loss=0.621]\u001b[A\n",
      "Training batches on cuda:0:   0%|                                              | 0/13 [00:00<?, ?batch/s]\u001b[A\n",
      "Training epochs on cuda:0:  13%|█       | 13/100 [00:02<00:16,  5.31epoch/s, loss=0.627, prev_loss=0.643]\u001b[A\n",
      "Training batches on cuda:0:   0%|                                              | 0/13 [00:00<?, ?batch/s]\u001b[A\n",
      "Training epochs on cuda:0:  14%|█       | 14/100 [00:02<00:15,  5.44epoch/s, loss=0.601, prev_loss=0.627]\u001b[A\n",
      "Training batches on cuda:0:   0%|                                              | 0/13 [00:00<?, ?batch/s]\u001b[A\n",
      "Training epochs on cuda:0:  14%|█       | 14/100 [00:02<00:15,  5.44epoch/s, loss=0.614, prev_loss=0.601]\u001b[AINFO:pykeen.evaluation.evaluator:Evaluation took 0.03s seconds\n",
      "INFO:pykeen.stoppers.early_stopping:Stopping early at epoch 15. The best result 0.9949748743718593 occurred at epoch 5.\n",
      "INFO:pykeen.stoppers.early_stopping:Re-loading weights from best epoch from /work/.data/pykeen/checkpoints/best-model-weights-7787cfb2-be2d-4ac8-b456-ca29db6e09ff.pt\n",
      "Training epochs on cuda:0:  14%|█       | 14/100 [00:02<00:16,  5.12epoch/s, loss=0.614, prev_loss=0.601]\n",
      "Evaluating on cuda:0: 100%|████████████████████████████████████████| 199/199 [00:00<00:00, 8.76ktriple/s]\n",
      "INFO:pykeen.evaluation.evaluator:Evaluation took 0.03s seconds\n",
      "\u001b[32m[I 2023-01-30 08:52:04,938]\u001b[0m Trial 3 finished with value: 0.4106405675411224 and parameters: {'model.embedding_dim': 120, 'model.relation_dim': 176, 'model.scoring_fct_norm': 2}. Best is trial 2 with value: 0.4220447242259979.\u001b[0m\n",
      "WARNING:pykeen.pipeline.api:No random seed is specified. Setting to 3295295138.\n",
      "INFO:pykeen.pipeline.api:Using device: None\n",
      "INFO:pykeen.datasets.utils:Loading cached preprocessed dataset from file:///work/.data/pykeen/datasets/nations/cache/47DEQpj8HBSa-_TImW-5JCeuQeRkm5NM\n",
      "INFO:pykeen.triples.triples_factory:Loading from file:///work/.data/pykeen/datasets/nations/cache/47DEQpj8HBSa-_TImW-5JCeuQeRkm5NM/training\n",
      "INFO:pykeen.triples.triples_factory:Loading from file:///work/.data/pykeen/datasets/nations/cache/47DEQpj8HBSa-_TImW-5JCeuQeRkm5NM/testing\n",
      "INFO:pykeen.triples.triples_factory:Loading from file:///work/.data/pykeen/datasets/nations/cache/47DEQpj8HBSa-_TImW-5JCeuQeRkm5NM/validation\n",
      "INFO:pykeen.stoppers.early_stopping:Inferred checkpoint path for best model weights: /work/.data/pykeen/checkpoints/best-model-weights-2e07a52d-ef57-447b-8c8c-9aeba209c074.pt\n",
      "Training epochs on cuda:0:   0%|                                              | 0/100 [00:00<?, ?epoch/s]\n",
      "Training batches on cuda:0:   0%|                                              | 0/13 [00:00<?, ?batch/s]\u001b[A\n",
      "Training epochs on cuda:0:   1%|            | 1/100 [00:00<00:15,  6.19epoch/s, loss=1.27, prev_loss=nan]\u001b[A\n",
      "Training batches on cuda:0:   0%|                                              | 0/13 [00:00<?, ?batch/s]\u001b[A\n",
      "Training epochs on cuda:0:   2%|▏          | 2/100 [00:00<00:15,  6.30epoch/s, loss=1.02, prev_loss=1.27]\u001b[A\n",
      "Training batches on cuda:0:   0%|                                              | 0/13 [00:00<?, ?batch/s]\u001b[A\n",
      "Training epochs on cuda:0:   3%|▎         | 3/100 [00:00<00:16,  6.01epoch/s, loss=0.846, prev_loss=1.02]\u001b[A\n",
      "Training batches on cuda:0:   0%|                                              | 0/13 [00:00<?, ?batch/s]\u001b[A\n",
      "Training epochs on cuda:0:   4%|▎        | 4/100 [00:00<00:16,  5.95epoch/s, loss=0.758, prev_loss=0.846]\u001b[A\n",
      "Training batches on cuda:0:   0%|                                              | 0/13 [00:00<?, ?batch/s]\u001b[A\n",
      "Training epochs on cuda:0:   4%|▎        | 4/100 [00:00<00:16,  5.95epoch/s, loss=0.749, prev_loss=0.758]\u001b[AINFO:pykeen.evaluation.evaluator:Evaluation took 0.03s seconds\n",
      "INFO:pykeen.stoppers.early_stopping:New best result at epoch 5: 0.9849246231155779. Saved model weights to /work/.data/pykeen/checkpoints/best-model-weights-2e07a52d-ef57-447b-8c8c-9aeba209c074.pt\n",
      "INFO:pykeen.training.training_loop:=> Saved checkpoint after having finished epoch 5.\n",
      "Training epochs on cuda:0:   5%|▍        | 5/100 [00:00<00:17,  5.37epoch/s, loss=0.749, prev_loss=0.758]\n",
      "Training batches on cuda:0:   0%|                                              | 0/13 [00:00<?, ?batch/s]\u001b[A\n",
      "Training epochs on cuda:0:   6%|▌        | 6/100 [00:01<00:17,  5.48epoch/s, loss=0.705, prev_loss=0.749]\u001b[A\n",
      "Training batches on cuda:0:   0%|                                              | 0/13 [00:00<?, ?batch/s]\u001b[A\n",
      "Training epochs on cuda:0:   7%|▋        | 7/100 [00:01<00:16,  5.60epoch/s, loss=0.671, prev_loss=0.705]\u001b[A\n",
      "Training batches on cuda:0:   0%|                                              | 0/13 [00:00<?, ?batch/s]\u001b[A\n",
      "Training epochs on cuda:0:   8%|▋        | 8/100 [00:01<00:15,  5.76epoch/s, loss=0.644, prev_loss=0.671]\u001b[A\n",
      "Training batches on cuda:0:   0%|                                              | 0/13 [00:00<?, ?batch/s]\u001b[A\n",
      "Training epochs on cuda:0:   9%|▊        | 9/100 [00:01<00:15,  5.92epoch/s, loss=0.622, prev_loss=0.644]\u001b[A\n",
      "Training batches on cuda:0:   0%|                                              | 0/13 [00:00<?, ?batch/s]\u001b[A\n",
      "Training epochs on cuda:0:   9%|▊        | 9/100 [00:01<00:15,  5.92epoch/s, loss=0.657, prev_loss=0.622]\u001b[AINFO:pykeen.evaluation.evaluator:Starting batch_size search for evaluation now...\n",
      "INFO:pykeen.evaluation.evaluator:Concluded batch_size search with batch_size=199.\n"
     ]
    },
    {
     "name": "stderr",
     "output_type": "stream",
     "text": [
      "INFO:pykeen.evaluation.evaluator:Evaluation took 0.03s seconds\n",
      "Training epochs on cuda:0:  10%|▊       | 10/100 [00:01<00:21,  4.19epoch/s, loss=0.657, prev_loss=0.622]\n",
      "Training batches on cuda:0:   0%|                                              | 0/13 [00:00<?, ?batch/s]\u001b[A\n",
      "Training epochs on cuda:0:  11%|▉       | 11/100 [00:02<00:19,  4.64epoch/s, loss=0.635, prev_loss=0.657]\u001b[A\n",
      "Training batches on cuda:0:   0%|                                              | 0/13 [00:00<?, ?batch/s]\u001b[A\n",
      "Training epochs on cuda:0:  12%|▉       | 12/100 [00:02<00:17,  5.00epoch/s, loss=0.622, prev_loss=0.635]\u001b[A\n",
      "Training batches on cuda:0:   0%|                                              | 0/13 [00:00<?, ?batch/s]\u001b[A\n",
      "Training epochs on cuda:0:  13%|█       | 13/100 [00:02<00:16,  5.25epoch/s, loss=0.625, prev_loss=0.622]\u001b[A\n",
      "Training batches on cuda:0:   0%|                                              | 0/13 [00:00<?, ?batch/s]\u001b[A\n",
      "Training epochs on cuda:0:  14%|█       | 14/100 [00:02<00:15,  5.46epoch/s, loss=0.634, prev_loss=0.625]\u001b[A\n",
      "Training batches on cuda:0:   0%|                                              | 0/13 [00:00<?, ?batch/s]\u001b[A\n",
      "Training epochs on cuda:0:  14%|█       | 14/100 [00:02<00:15,  5.46epoch/s, loss=0.596, prev_loss=0.634]\u001b[AINFO:pykeen.evaluation.evaluator:Evaluation took 0.03s seconds\n",
      "INFO:pykeen.stoppers.early_stopping:Stopping early at epoch 15. The best result 0.9849246231155779 occurred at epoch 5.\n",
      "INFO:pykeen.stoppers.early_stopping:Re-loading weights from best epoch from /work/.data/pykeen/checkpoints/best-model-weights-2e07a52d-ef57-447b-8c8c-9aeba209c074.pt\n",
      "Training epochs on cuda:0:  14%|█       | 14/100 [00:02<00:17,  4.99epoch/s, loss=0.596, prev_loss=0.634]\n",
      "Evaluating on cuda:0: 100%|████████████████████████████████████████| 199/199 [00:00<00:00, 8.94ktriple/s]\n",
      "INFO:pykeen.evaluation.evaluator:Evaluation took 0.03s seconds\n",
      "\u001b[32m[I 2023-01-30 08:52:07,921]\u001b[0m Trial 4 finished with value: 0.4087142050266266 and parameters: {'model.embedding_dim': 120, 'model.relation_dim': 224, 'model.scoring_fct_norm': 2}. Best is trial 2 with value: 0.4220447242259979.\u001b[0m\n"
     ]
    }
   ],
   "source": [
    "hpo_pipeline_result = hpo_pipeline_from_config(config)"
   ]
  },
  {
   "cell_type": "code",
   "execution_count": 30,
   "metadata": {},
   "outputs": [],
   "source": [
    "hpo_pipeline_result.save_to_directory('hpo_results')"
   ]
  }
 ],
 "metadata": {
  "kernelspec": {
   "display_name": "Python 3 (ipykernel)",
   "language": "python",
   "name": "python3"
  },
  "language_info": {
   "codemirror_mode": {
    "name": "ipython",
    "version": 3
   },
   "file_extension": ".py",
   "mimetype": "text/x-python",
   "name": "python",
   "nbconvert_exporter": "python",
   "pygments_lexer": "ipython3",
   "version": "3.8.10"
  },
  "vscode": {
   "interpreter": {
    "hash": "8343f1c295490ad08729f17064e1ab8ac071c711efe2732632787d24e0261b0e"
   }
  }
 },
 "nbformat": 4,
 "nbformat_minor": 2
}
