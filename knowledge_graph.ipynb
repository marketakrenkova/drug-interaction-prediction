{
 "cells": [
  {
   "cell_type": "markdown",
   "metadata": {},
   "source": [
    "## Knowledge Graph\n",
    "#### Drug-Food or Drug-Supplements interaction prediction"
   ]
  },
  {
   "cell_type": "code",
   "execution_count": 1,
   "metadata": {},
   "outputs": [],
   "source": [
    "import pandas as pd\n",
    "from sklearn.model_selection import train_test_split"
   ]
  },
  {
   "cell_type": "markdown",
   "metadata": {},
   "source": [
    "### Split data to train and test datasets"
   ]
  },
  {
   "cell_type": "code",
   "execution_count": 2,
   "metadata": {},
   "outputs": [],
   "source": [
    "data_dir = 'data/triplets/'"
   ]
  },
  {
   "cell_type": "code",
   "execution_count": 3,
   "metadata": {},
   "outputs": [],
   "source": [
    "ddi_df = pd.read_csv(data_dir + 'ddi.tsv', sep='\\t')"
   ]
  },
  {
   "cell_type": "code",
   "execution_count": 4,
   "metadata": {},
   "outputs": [
    {
     "name": "stdout",
     "output_type": "stream",
     "text": [
      "total interactions: 3123450\n",
      "unique interactions: 205\n"
     ]
    },
    {
     "data": {
      "text/plain": [
       "interaction\n",
       "decrease_absorption                             576\n",
       "decrease_adverse_effects                        384\n",
       "decrease_anticholinergic_activities              26\n",
       "decrease_anticoagulant_activities              5174\n",
       "decrease_antihypertensive_activities          63420\n",
       "                                              ...  \n",
       "increase_visual_accommodation_disturbances        2\n",
       "increase_vomiting                                54\n",
       "increase_water_intoxication                     256\n",
       "increase_weakness                              1710\n",
       "increase_weight_gain                             16\n",
       "Length: 205, dtype: int64"
      ]
     },
     "execution_count": 4,
     "metadata": {},
     "output_type": "execute_result"
    }
   ],
   "source": [
    "print('total interactions:', ddi_df.shape[0])\n",
    "print('unique interactions:', len(set(ddi_df.interaction)))\n",
    "\n",
    "ddi_df.groupby(by=['interaction']).size()"
   ]
  },
  {
   "cell_type": "code",
   "execution_count": 5,
   "metadata": {},
   "outputs": [
    {
     "data": {
      "text/html": [
       "<div>\n",
       "<style scoped>\n",
       "    .dataframe tbody tr th:only-of-type {\n",
       "        vertical-align: middle;\n",
       "    }\n",
       "\n",
       "    .dataframe tbody tr th {\n",
       "        vertical-align: top;\n",
       "    }\n",
       "\n",
       "    .dataframe thead th {\n",
       "        text-align: right;\n",
       "    }\n",
       "</style>\n",
       "<table border=\"1\" class=\"dataframe\">\n",
       "  <thead>\n",
       "    <tr style=\"text-align: right;\">\n",
       "      <th></th>\n",
       "      <th>Unnamed: 0</th>\n",
       "      <th>CUI1</th>\n",
       "      <th>REL</th>\n",
       "      <th>CUI2</th>\n",
       "    </tr>\n",
       "  </thead>\n",
       "  <tbody>\n",
       "    <tr>\n",
       "      <th>689297</th>\n",
       "      <td>689297</td>\n",
       "      <td>DC0477348</td>\n",
       "      <td>has_adverse_effect_on</td>\n",
       "      <td>DC0478433</td>\n",
       "    </tr>\n",
       "    <tr>\n",
       "      <th>689298</th>\n",
       "      <td>689298</td>\n",
       "      <td>DC0477348</td>\n",
       "      <td>has_adverse_effect_on</td>\n",
       "      <td>DC0478434</td>\n",
       "    </tr>\n",
       "    <tr>\n",
       "      <th>689299</th>\n",
       "      <td>689299</td>\n",
       "      <td>DC0477348</td>\n",
       "      <td>has_adverse_effect_on</td>\n",
       "      <td>DC0478432</td>\n",
       "    </tr>\n",
       "    <tr>\n",
       "      <th>689300</th>\n",
       "      <td>689300</td>\n",
       "      <td>DC0477348</td>\n",
       "      <td>has_adverse_effect_on</td>\n",
       "      <td>DC0478435</td>\n",
       "    </tr>\n",
       "    <tr>\n",
       "      <th>689301</th>\n",
       "      <td>689301</td>\n",
       "      <td>DC0477348</td>\n",
       "      <td>interacts_with</td>\n",
       "      <td>DC0478436</td>\n",
       "    </tr>\n",
       "  </tbody>\n",
       "</table>\n",
       "</div>"
      ],
      "text/plain": [
       "        Unnamed: 0       CUI1                    REL       CUI2\n",
       "689297      689297  DC0477348  has_adverse_effect_on  DC0478433\n",
       "689298      689298  DC0477348  has_adverse_effect_on  DC0478434\n",
       "689299      689299  DC0477348  has_adverse_effect_on  DC0478432\n",
       "689300      689300  DC0477348  has_adverse_effect_on  DC0478435\n",
       "689301      689301  DC0477348         interacts_with  DC0478436"
      ]
     },
     "execution_count": 5,
     "metadata": {},
     "output_type": "execute_result"
    }
   ],
   "source": [
    "drug_supplement_df = pd.read_csv(data_dir + 'ds_relations.tsv', sep='\\t')\n",
    "drug_supplement_df = drug_supplement_df[drug_supplement_df['REL'] != 'has_ingredient']\n",
    "drug_supplement_df.head()"
   ]
  },
  {
   "cell_type": "code",
   "execution_count": 18,
   "metadata": {},
   "outputs": [
    {
     "name": "stdout",
     "output_type": "stream",
     "text": [
      "total interactions: 18867\n",
      "unique interactions: 5\n"
     ]
    },
    {
     "data": {
      "text/plain": [
       "REL\n",
       "has_adverse_effect_on    3120\n",
       "has_adverse_reaction     2093\n",
       "has_therapeutic_class    5443\n",
       "interacts_with           3057\n",
       "is_effective_for         5154\n",
       "dtype: int64"
      ]
     },
     "execution_count": 18,
     "metadata": {},
     "output_type": "execute_result"
    }
   ],
   "source": [
    "print('total interactions:', drug_supplement_df.shape[0])\n",
    "print('unique interactions:', len(set(drug_supplement_df.REL)))\n",
    "\n",
    "drug_supplement_df.groupby(by=['REL']).size()"
   ]
  },
  {
   "cell_type": "code",
   "execution_count": null,
   "metadata": {},
   "outputs": [],
   "source": [
    "def split_data():\n",
    "    "
   ]
  }
 ],
 "metadata": {
  "kernelspec": {
   "display_name": "Python 3 (ipykernel)",
   "language": "python",
   "name": "python3"
  },
  "language_info": {
   "codemirror_mode": {
    "name": "ipython",
    "version": 3
   },
   "file_extension": ".py",
   "mimetype": "text/x-python",
   "name": "python",
   "nbconvert_exporter": "python",
   "pygments_lexer": "ipython3",
   "version": "3.8.10"
  },
  "vscode": {
   "interpreter": {
    "hash": "8343f1c295490ad08729f17064e1ab8ac071c711efe2732632787d24e0261b0e"
   }
  }
 },
 "nbformat": 4,
 "nbformat_minor": 2
}
