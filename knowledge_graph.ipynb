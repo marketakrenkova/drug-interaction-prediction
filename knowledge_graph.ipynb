{
 "cells": [
  {
   "cell_type": "markdown",
   "metadata": {},
   "source": [
    "## Knowledge Graph\n",
    "#### Drug-Food or Drug-Supplements interaction prediction"
   ]
  },
  {
   "cell_type": "code",
   "execution_count": 1,
   "metadata": {},
   "outputs": [],
   "source": [
    "import warnings\n",
    "warnings.filterwarnings('ignore')"
   ]
  },
  {
   "cell_type": "code",
   "execution_count": 2,
   "metadata": {},
   "outputs": [],
   "source": [
    "import pandas as pd\n",
    "from sklearn.model_selection import train_test_split\n",
    "import matplotlib.pyplot as plt\n",
    "\n",
    "from pykeen.models import predict\n",
    "from pykeen.pipeline import pipeline\n",
    "from pykeen.triples import TriplesFactory\n",
    "from pykeen.models import TransE\n",
    "from pykeen.evaluation import RankBasedEvaluator\n",
    "\n",
    "from os import listdir"
   ]
  },
  {
   "cell_type": "markdown",
   "metadata": {},
   "source": [
    "### Split data into train, validation and test sets"
   ]
  },
  {
   "cell_type": "code",
   "execution_count": 3,
   "metadata": {},
   "outputs": [],
   "source": [
    "data_dir = 'data/triplets/'"
   ]
  },
  {
   "cell_type": "code",
   "execution_count": 4,
   "metadata": {},
   "outputs": [
    {
     "data": {
      "text/html": [
       "<div>\n",
       "<style scoped>\n",
       "    .dataframe tbody tr th:only-of-type {\n",
       "        vertical-align: middle;\n",
       "    }\n",
       "\n",
       "    .dataframe tbody tr th {\n",
       "        vertical-align: top;\n",
       "    }\n",
       "\n",
       "    .dataframe thead th {\n",
       "        text-align: right;\n",
       "    }\n",
       "</style>\n",
       "<table border=\"1\" class=\"dataframe\">\n",
       "  <thead>\n",
       "    <tr style=\"text-align: right;\">\n",
       "      <th></th>\n",
       "      <th>drug1</th>\n",
       "      <th>interaction</th>\n",
       "      <th>drug2</th>\n",
       "    </tr>\n",
       "  </thead>\n",
       "  <tbody>\n",
       "    <tr>\n",
       "      <th>0</th>\n",
       "      <td>Apixaban</td>\n",
       "      <td>increase_anticoagulant_activities</td>\n",
       "      <td>Lepirudin</td>\n",
       "    </tr>\n",
       "    <tr>\n",
       "      <th>1</th>\n",
       "      <td>Dabigatran etexilate</td>\n",
       "      <td>increase_anticoagulant_activities</td>\n",
       "      <td>Lepirudin</td>\n",
       "    </tr>\n",
       "    <tr>\n",
       "      <th>2</th>\n",
       "      <td>Dasatinib</td>\n",
       "      <td>increase_bleeding</td>\n",
       "      <td>Lepirudin</td>\n",
       "    </tr>\n",
       "    <tr>\n",
       "      <th>3</th>\n",
       "      <td>Dasatinib</td>\n",
       "      <td>increase_hemorrhage</td>\n",
       "      <td>Lepirudin</td>\n",
       "    </tr>\n",
       "    <tr>\n",
       "      <th>4</th>\n",
       "      <td>Deferasirox</td>\n",
       "      <td>increase_gastrointestinal_bleeding</td>\n",
       "      <td>Lepirudin</td>\n",
       "    </tr>\n",
       "  </tbody>\n",
       "</table>\n",
       "</div>"
      ],
      "text/plain": [
       "                  drug1                         interaction      drug2\n",
       "0              Apixaban   increase_anticoagulant_activities  Lepirudin\n",
       "1  Dabigatran etexilate   increase_anticoagulant_activities  Lepirudin\n",
       "2             Dasatinib                   increase_bleeding  Lepirudin\n",
       "3             Dasatinib                 increase_hemorrhage  Lepirudin\n",
       "4           Deferasirox  increase_gastrointestinal_bleeding  Lepirudin"
      ]
     },
     "execution_count": 4,
     "metadata": {},
     "output_type": "execute_result"
    }
   ],
   "source": [
    "ddi_df = pd.read_csv(data_dir + 'ddi.tsv', sep='\\t', index_col=[0])\n",
    "ddi_df.head()"
   ]
  },
  {
   "cell_type": "code",
   "execution_count": 5,
   "metadata": {},
   "outputs": [
    {
     "name": "stdout",
     "output_type": "stream",
     "text": [
      "total interactions: 3123450\n",
      "unique interactions: 205\n"
     ]
    },
    {
     "data": {
      "text/plain": [
       "interaction\n",
       "decrease_absorption                             576\n",
       "decrease_adverse_effects                        384\n",
       "decrease_anticholinergic_activities              26\n",
       "decrease_anticoagulant_activities              5174\n",
       "decrease_antihypertensive_activities          63420\n",
       "                                              ...  \n",
       "increase_visual_accommodation_disturbances        2\n",
       "increase_vomiting                                54\n",
       "increase_water_intoxication                     256\n",
       "increase_weakness                              1710\n",
       "increase_weight_gain                             16\n",
       "Length: 205, dtype: int64"
      ]
     },
     "execution_count": 5,
     "metadata": {},
     "output_type": "execute_result"
    }
   ],
   "source": [
    "print('total interactions:', ddi_df.shape[0])\n",
    "print('unique interactions:', len(set(ddi_df.interaction)))\n",
    "\n",
    "interaction_counts = ddi_df.groupby(by=['interaction']).size()\n",
    "interaction_counts"
   ]
  },
  {
   "cell_type": "code",
   "execution_count": 6,
   "metadata": {},
   "outputs": [
    {
     "data": {
      "text/plain": [
       "{'decrease_absorption',\n",
       " 'decrease_adverse_effects',\n",
       " 'decrease_anticholinergic_activities',\n",
       " 'decrease_anticoagulant_activities',\n",
       " 'decrease_antihypertensive_activities',\n",
       " 'decrease_antiplatelet_activities',\n",
       " 'decrease_arrhythmogenic_activities',\n",
       " 'decrease_bioavailability',\n",
       " 'decrease_bronchodilatory_activities',\n",
       " 'decrease_cardiotoxicity',\n",
       " 'decrease_cytotoxicity',\n",
       " 'decrease_diuretic_activities',\n",
       " 'decrease_effectiveness',\n",
       " 'decrease_excretion_rate',\n",
       " 'decrease_fluid_retaining_activities',\n",
       " 'decrease_hypertension',\n",
       " 'decrease_hypoglycemia',\n",
       " 'decrease_hypotension',\n",
       " 'decrease_metabolism',\n",
       " 'decrease_myopathy',\n",
       " 'decrease_nephrotoxicity',\n",
       " 'decrease_neuromuscular_blockade',\n",
       " 'decrease_protein_binding',\n",
       " 'decrease_qtc_prolongation',\n",
       " 'decrease_rhabdomyolysis',\n",
       " 'decrease_sedation',\n",
       " 'decrease_seizure',\n",
       " 'decrease_serum_concentration',\n",
       " 'decrease_skeletal_muscle_relaxing_activities',\n",
       " 'decrease_stimulatory_activities',\n",
       " 'decrease_therapeutic_efficacy',\n",
       " 'decrease_vasoconstricting_activities',\n",
       " 'decrease_vasopressor_activities',\n",
       " 'increase_adverse_effects',\n",
       " 'increase_alpha-adrenergic_activities',\n",
       " 'increase_analgesic_activities',\n",
       " 'increase_anemia',\n",
       " 'increase_angioedema',\n",
       " 'increase_anti-angiogenesis',\n",
       " 'increase_anticholinergic_activities',\n",
       " 'increase_anticoagulant_activities',\n",
       " 'increase_anticonvulsant_toxicity',\n",
       " 'increase_antihypertensive_activities',\n",
       " 'increase_antiplatelet_activities',\n",
       " 'increase_antipsychotic_activities',\n",
       " 'increase_arrhythmogenic_activities',\n",
       " 'increase_atrioventricular_blocking_(av_block)_activities',\n",
       " 'increase_bioavailability',\n",
       " 'increase_bleeding',\n",
       " 'increase_bradycardia',\n",
       " 'increase_bronchoconstrictory_activities',\n",
       " 'increase_bronchospasm',\n",
       " 'increase_bruising',\n",
       " 'increase_cardiac_arrest',\n",
       " 'increase_cardiac_arrhythmia',\n",
       " 'increase_cardiodepressant_activities',\n",
       " 'increase_cardiotoxicity',\n",
       " 'increase_cardiovascular_complications',\n",
       " 'increase_cardiovascular_impairment',\n",
       " 'increase_change_in_thyroid_function_activities',\n",
       " 'increase_cns_depression_activities',\n",
       " 'increase_cns_stimulation',\n",
       " 'increase_confusion',\n",
       " 'increase_congestive_heart_failure',\n",
       " 'increase_constipation',\n",
       " 'increase_convulsion',\n",
       " 'increase_cutaneous_drug_reaction',\n",
       " 'increase_cytopenia',\n",
       " 'increase_death',\n",
       " 'increase_decreased_alertness_activities',\n",
       " 'increase_dermatologic_adverse_activities',\n",
       " 'increase_diuretic_activities',\n",
       " 'increase_dizziness',\n",
       " 'increase_drowsiness',\n",
       " 'increase_dyspnea',\n",
       " 'increase_edema_formation',\n",
       " 'increase_electrolyte_disturbance_activities',\n",
       " 'increase_electrolyte_imbalance',\n",
       " 'increase_elevated_creatine_kinase_(cpk)',\n",
       " 'increase_encephalopathy',\n",
       " 'increase_excretion_rate',\n",
       " 'increase_extrapyramidal_symptoms',\n",
       " 'increase_facial_flushing',\n",
       " 'increase_fluid_retaining_activities',\n",
       " 'increase_fluid_retention',\n",
       " 'increase_gastrointestinal_bleeding',\n",
       " 'increase_gastrointestinal_irritation',\n",
       " 'increase_gastrointestinal_motility_reducing_activities',\n",
       " 'increase_gastrointestinal_ulceration',\n",
       " 'increase_generalized_seizure',\n",
       " 'increase_gouty_arthritis',\n",
       " 'increase_granulocytopenia',\n",
       " 'increase_hemorrhage',\n",
       " 'increase_hemorrhagic_cystitis',\n",
       " 'increase_hepatotoxic_activities',\n",
       " 'increase_hyperbilirubinemia',\n",
       " 'increase_hypercalcemia',\n",
       " 'increase_hypercoagulability',\n",
       " 'increase_hyperglycemia',\n",
       " 'increase_hyperkalemia',\n",
       " 'increase_hyperkinetic_symptoms',\n",
       " 'increase_hypersensitivity_reaction',\n",
       " 'increase_hypertension',\n",
       " 'increase_hyperthermia',\n",
       " 'increase_hypertrichosis',\n",
       " 'increase_hyperuricemia',\n",
       " 'increase_hypocalcemia',\n",
       " 'increase_hypoglycemia',\n",
       " 'increase_hypokalemia',\n",
       " 'increase_hypolipidaemic_activities',\n",
       " 'increase_hypomagnesemia',\n",
       " 'increase_hypomania',\n",
       " 'increase_hyponatremia',\n",
       " 'increase_hypotension',\n",
       " 'increase_hypothyroid_activities',\n",
       " 'increase_hypotonia',\n",
       " 'increase_immunosuppressive_activities',\n",
       " 'increase_increased_glucose',\n",
       " 'increase_increased_serum_creatinine',\n",
       " 'increase_increased_transaminases',\n",
       " 'increase_infection',\n",
       " 'increase_intraocular_pressure',\n",
       " 'increase_irritability',\n",
       " 'increase_ischemic_colitis',\n",
       " 'increase_jaw_osteonecrosis',\n",
       " 'increase_lactic_acidosis',\n",
       " 'increase_leukopenia',\n",
       " 'increase_liver_damage',\n",
       " 'increase_liver_enzyme_elevations',\n",
       " 'increase_metabolic_acidosis',\n",
       " 'increase_metabolism',\n",
       " 'increase_methemoglobinemia',\n",
       " 'increase_mucosal_ulceration',\n",
       " 'increase_myelosuppression',\n",
       " 'increase_myocardial_depression',\n",
       " 'increase_myoglobinuria',\n",
       " 'increase_myopathic_rhabdomyolysis_activities',\n",
       " 'increase_myopathy',\n",
       " 'increase_nausea',\n",
       " 'increase_nephrotoxicity',\n",
       " 'increase_neuroexcitatory_activities',\n",
       " 'increase_neuroleptic_malignant_syndrome',\n",
       " 'increase_neuromuscular_blockade',\n",
       " 'increase_neurotoxic_activities',\n",
       " 'increase_neutropenia',\n",
       " 'increase_nitritoid_reactions',\n",
       " 'increase_oligohydrosis',\n",
       " 'increase_opioid_antagonism_activities',\n",
       " 'increase_opioid_toxicity',\n",
       " 'increase_orthostatic_hypotension',\n",
       " 'increase_osteomalacia',\n",
       " 'increase_ototoxicity',\n",
       " 'increase_pancreatitis_activities',\n",
       " 'increase_peptic_ulcer',\n",
       " 'increase_peripheral_neuropathy',\n",
       " 'increase_photosensitizing_activities',\n",
       " 'increase_priapism',\n",
       " 'increase_pseudotumor_cerebri',\n",
       " 'increase_psychotic_reaction',\n",
       " 'increase_pulmonary_toxicity',\n",
       " 'increase_qtc_prolongation',\n",
       " 'increase_rash',\n",
       " 'increase_reduced_gastrointestinal_motility',\n",
       " 'increase_reduced_intravascular_volume',\n",
       " 'increase_renal_failure',\n",
       " 'increase_respiratory_depression',\n",
       " 'increase_rhabdomyolysis',\n",
       " 'increase_sedation',\n",
       " 'increase_seizure',\n",
       " 'increase_serotonergic_activities',\n",
       " 'increase_serotonin_syndrome',\n",
       " 'increase_serum_concentration',\n",
       " 'increase_severe_leukopenia',\n",
       " 'increase_shortness_of_breath',\n",
       " 'increase_sinus_node_depression',\n",
       " 'increase_skeletal_muscle_relaxing_activities',\n",
       " 'increase_sleep_disorders',\n",
       " 'increase_smooth_muscle_relaxing_activities',\n",
       " 'increase_somnolence',\n",
       " 'increase_stevens-johnson_syndrome',\n",
       " 'increase_sympathomimetic_activities',\n",
       " 'increase_syncope',\n",
       " 'increase_tachycardia',\n",
       " 'increase_tardive_dyskinesia',\n",
       " 'increase_tendinopathy',\n",
       " 'increase_teratogenic_activities',\n",
       " 'increase_therapeutic_efficacy',\n",
       " 'increase_thrombocytopenia',\n",
       " 'increase_thromboembolism',\n",
       " 'increase_thrombogenic_activities',\n",
       " 'increase_thrombosis',\n",
       " 'increase_torsade_de_pointes',\n",
       " 'increase_ulceration',\n",
       " 'increase_urinary_retention',\n",
       " 'increase_uterotonic_activities',\n",
       " 'increase_vasoconstricting_activities',\n",
       " 'increase_vasodilatory_activities',\n",
       " 'increase_vasopressor_activities',\n",
       " 'increase_vasospastic_reactions',\n",
       " 'increase_ventricular_arrhythmias',\n",
       " 'increase_visual_accommodation_disturbances',\n",
       " 'increase_vomiting',\n",
       " 'increase_water_intoxication',\n",
       " 'increase_weakness',\n",
       " 'increase_weight_gain'}"
      ]
     },
     "execution_count": 6,
     "metadata": {},
     "output_type": "execute_result"
    }
   ],
   "source": [
    "set(ddi_df.interaction)"
   ]
  },
  {
   "cell_type": "code",
   "execution_count": 7,
   "metadata": {},
   "outputs": [
    {
     "data": {
      "text/html": [
       "<div>\n",
       "<style scoped>\n",
       "    .dataframe tbody tr th:only-of-type {\n",
       "        vertical-align: middle;\n",
       "    }\n",
       "\n",
       "    .dataframe tbody tr th {\n",
       "        vertical-align: top;\n",
       "    }\n",
       "\n",
       "    .dataframe thead th {\n",
       "        text-align: right;\n",
       "    }\n",
       "</style>\n",
       "<table border=\"1\" class=\"dataframe\">\n",
       "  <thead>\n",
       "    <tr style=\"text-align: right;\">\n",
       "      <th></th>\n",
       "      <th>CUI1</th>\n",
       "      <th>REL</th>\n",
       "      <th>CUI2</th>\n",
       "    </tr>\n",
       "  </thead>\n",
       "  <tbody>\n",
       "    <tr>\n",
       "      <th>689297</th>\n",
       "      <td>1-Androsten-3beta-ol-17-one</td>\n",
       "      <td>has_adverse_effect_on</td>\n",
       "      <td>Hepatic</td>\n",
       "    </tr>\n",
       "    <tr>\n",
       "      <th>689298</th>\n",
       "      <td>1-Androsten-3beta-ol-17-one</td>\n",
       "      <td>has_adverse_effect_on</td>\n",
       "      <td>Cardiovascular</td>\n",
       "    </tr>\n",
       "    <tr>\n",
       "      <th>689299</th>\n",
       "      <td>1-Androsten-3beta-ol-17-one</td>\n",
       "      <td>has_adverse_effect_on</td>\n",
       "      <td>Renal and urinary disorders</td>\n",
       "    </tr>\n",
       "    <tr>\n",
       "      <th>689300</th>\n",
       "      <td>1-Androsten-3beta-ol-17-one</td>\n",
       "      <td>has_adverse_effect_on</td>\n",
       "      <td>Vascular disorders</td>\n",
       "    </tr>\n",
       "    <tr>\n",
       "      <th>689301</th>\n",
       "      <td>1-Androsten-3beta-ol-17-one</td>\n",
       "      <td>interacts_with</td>\n",
       "      <td>Testosterone</td>\n",
       "    </tr>\n",
       "  </tbody>\n",
       "</table>\n",
       "</div>"
      ],
      "text/plain": [
       "                               CUI1                    REL  \\\n",
       "689297  1-Androsten-3beta-ol-17-one  has_adverse_effect_on   \n",
       "689298  1-Androsten-3beta-ol-17-one  has_adverse_effect_on   \n",
       "689299  1-Androsten-3beta-ol-17-one  has_adverse_effect_on   \n",
       "689300  1-Androsten-3beta-ol-17-one  has_adverse_effect_on   \n",
       "689301  1-Androsten-3beta-ol-17-one         interacts_with   \n",
       "\n",
       "                               CUI2  \n",
       "689297                      Hepatic  \n",
       "689298               Cardiovascular  \n",
       "689299  Renal and urinary disorders  \n",
       "689300           Vascular disorders  \n",
       "689301                 Testosterone  "
      ]
     },
     "execution_count": 7,
     "metadata": {},
     "output_type": "execute_result"
    }
   ],
   "source": [
    "drug_supplement_df = pd.read_csv(data_dir + 'ds_relations.tsv', sep='\\t', index_col=[0])\n",
    "# drug_supplement_df = drug_supplement_df[drug_supplement_df['REL'] != 'has_ingredient']\n",
    "drug_supplement_df.head()"
   ]
  },
  {
   "cell_type": "code",
   "execution_count": 8,
   "metadata": {},
   "outputs": [
    {
     "name": "stdout",
     "output_type": "stream",
     "text": [
      "total interactions: 18867\n",
      "unique interactions: 5\n"
     ]
    },
    {
     "data": {
      "text/plain": [
       "REL\n",
       "has_adverse_effect_on    3120\n",
       "has_adverse_reaction     2093\n",
       "has_therapeutic_class    5443\n",
       "interacts_with           3057\n",
       "is_effective_for         5154\n",
       "dtype: int64"
      ]
     },
     "execution_count": 8,
     "metadata": {},
     "output_type": "execute_result"
    }
   ],
   "source": [
    "print('total interactions:', drug_supplement_df.shape[0])\n",
    "print('unique interactions:', len(set(drug_supplement_df.REL)))\n",
    "\n",
    "ds_interaction_counts = drug_supplement_df.groupby(by=['REL']).size()\n",
    "ds_interaction_counts"
   ]
  },
  {
   "cell_type": "code",
   "execution_count": 9,
   "metadata": {},
   "outputs": [],
   "source": [
    "interactions_count = pd.concat([interaction_counts, ds_interaction_counts])\n",
    "interactions_count.to_csv('interaction_counts.csv', header=['interaction_count'])"
   ]
  },
  {
   "cell_type": "code",
   "execution_count": 10,
   "metadata": {},
   "outputs": [],
   "source": [
    "def compute_size(n):\n",
    "    if n == 2:\n",
    "        return 1, 1\n",
    "    if n == 3:\n",
    "        return 1, 2\n",
    "    if n == 4:\n",
    "        return 2, 3\n",
    "    if n == 5:\n",
    "        return 3, 4\n",
    "    if n == 6:\n",
    "        return 4, 5\n",
    "    # n == 7\n",
    "    return 4, 6 "
   ]
  },
  {
   "cell_type": "code",
   "execution_count": 11,
   "metadata": {},
   "outputs": [],
   "source": [
    "# train : valid : test = 80 : 10 : 10\n",
    "def split_data_relation(df_relation):\n",
    "    \n",
    "    # too few triplets with the realtion\n",
    "    if df_relation.shape[0] <= 7:\n",
    "        train_size, valid_size = compute_size(df_relation.shape[0])\n",
    "        \n",
    "        # shuffle df_relation\n",
    "        df_relation = df_relation.sample(frac=1, random_state=42)\n",
    "        \n",
    "        X_train = df_relation.iloc[:train_size]\n",
    "        X_valid = df_relation.iloc[train_size:valid_size]\n",
    "        X_test = df_relation.iloc[valid_size:]\n",
    "\n",
    "    else:\n",
    "        X_train, X_rem = train_test_split(df_relation, train_size=0.8, random_state=42)\n",
    "        X_valid, X_test = train_test_split(X_rem, test_size=0.5, random_state=42)\n",
    "        \n",
    "    return X_train, X_valid, X_test"
   ]
  },
  {
   "cell_type": "code",
   "execution_count": 12,
   "metadata": {},
   "outputs": [],
   "source": [
    "# split drug-supplements relation dataset\n",
    "def split_drug_supplements_dataset(drug_supplement_df):\n",
    "    relations = set(drug_supplement_df.REL)\n",
    "    \n",
    "    train_triplets = pd.DataFrame(columns=['CUI1', 'REL', 'CUI2'])\n",
    "    valid_triplets = pd.DataFrame(columns=['CUI1', 'REL', 'CUI2'])\n",
    "    test_triplets = pd.DataFrame(columns=['CUI1', 'REL', 'CUI2'])\n",
    "\n",
    "    for rel in relations:\n",
    "        train, valid, test = split_data_relation(drug_supplement_df[drug_supplement_df['REL'] == rel])\n",
    "        train_triplets = pd.concat([train_triplets, train])\n",
    "        valid_triplets = pd.concat([valid_triplets, valid])\n",
    "        test_triplets = pd.concat([test_triplets, test])\n",
    "\n",
    "    train_triplets.rename(columns={'CUI1': 'head', 'REL': 'relation', 'CUI2': 'tail'}, inplace=True)\n",
    "    valid_triplets.rename(columns={'CUI1': 'head', 'REL': 'relation', 'CUI2': 'tail'}, inplace=True)\n",
    "    test_triplets.rename(columns={'CUI1': 'head', 'REL': 'relation', 'CUI2': 'tail'}, inplace=True)    \n",
    "\n",
    "\n",
    "    print('train dataset size:', train_triplets.shape[0])\n",
    "    print('validation dataset size:',valid_triplets.shape[0])\n",
    "    print('test dataset size:',test_triplets.shape[0])\n",
    "    \n",
    "    return train_triplets, valid_triplets, test_triplets"
   ]
  },
  {
   "cell_type": "code",
   "execution_count": 13,
   "metadata": {},
   "outputs": [],
   "source": [
    "# split drug-drug interaction dataset (from DrugBank)\n",
    "def split_ddi_dataset(ddi_df):\n",
    "    interactions = set(ddi_df.interaction)\n",
    "    \n",
    "    train_triplets = pd.DataFrame(columns=['drug1', 'interaction', 'drug2'])\n",
    "    valid_triplets = pd.DataFrame(columns=['drug1', 'interaction', 'drug2'])\n",
    "    test_triplets = pd.DataFrame(columns=['drug1', 'interaction', 'drug2'])\n",
    "    \n",
    "    for inter in interactions:\n",
    "        train, valid, test = split_data_relation(ddi_df[ddi_df['interaction'] == inter])\n",
    "        train_triplets = pd.concat([train_triplets, train])\n",
    "        valid_triplets = pd.concat([valid_triplets, valid])\n",
    "        test_triplets = pd.concat([test_triplets, test])\n",
    "        \n",
    "    train_triplets.rename(columns={'drug1': 'head', 'interaction': 'relation', 'drug2': 'tail'}, inplace=True)\n",
    "    valid_triplets.rename(columns={'drug1': 'head', 'interaction': 'relation', 'drug2': 'tail'}, inplace=True)\n",
    "    test_triplets.rename(columns={'drug1': 'head', 'interaction': 'relation', 'drug2': 'tail'}, inplace=True)    \n",
    "\n",
    "\n",
    "    print('train dataset size:', train_triplets.shape[0])\n",
    "    print('validation dataset size:',valid_triplets.shape[0])\n",
    "    print('test dataset size:',test_triplets.shape[0])\n",
    "    \n",
    "    return train_triplets, valid_triplets, test_triplets    \n",
    "    "
   ]
  },
  {
   "cell_type": "code",
   "execution_count": 14,
   "metadata": {},
   "outputs": [
    {
     "name": "stdout",
     "output_type": "stream",
     "text": [
      "DrugBank drug-drug interactions\n",
      "train dataset size: 2498661\n",
      "validation dataset size: 312349\n",
      "test dataset size: 312440\n",
      "\n",
      "Drug Supplement database - drug-suplement interactions\n",
      "train dataset size: 15092\n",
      "validation dataset size: 1886\n",
      "test dataset size: 1889\n"
     ]
    }
   ],
   "source": [
    "# DrugBank drug-drug interactions\n",
    "print('DrugBank drug-drug interactions')\n",
    "train_triplets_ddi, valid_triplets_ddi, test_triplets_ddi = split_ddi_dataset(ddi_df)\n",
    "\n",
    "print()\n",
    "\n",
    "# Drug Supplement database - drug-suplement interactions\n",
    "print('Drug Supplement database - drug-suplement interactions')\n",
    "train_triplets_ds, valid_triplets_ds, test_triplets_ds = split_drug_supplements_dataset(drug_supplement_df)"
   ]
  },
  {
   "cell_type": "code",
   "execution_count": 15,
   "metadata": {},
   "outputs": [
    {
     "name": "stdout",
     "output_type": "stream",
     "text": [
      "All interactions:\n",
      "train dataset size: 2513753\n",
      "validation dataset size: 314235\n",
      "test dataset size: 314329\n"
     ]
    }
   ],
   "source": [
    "# all interactions\n",
    "train_triplets = pd.concat([train_triplets_ddi, train_triplets_ds])\n",
    "valid_triplets = pd.concat([valid_triplets_ddi, valid_triplets_ds])\n",
    "test_triplets = pd.concat([test_triplets_ddi, test_triplets_ds])\n",
    "\n",
    "print('All interactions:')\n",
    "print('train dataset size:', train_triplets.shape[0])\n",
    "print('validation dataset size:',valid_triplets.shape[0])\n",
    "print('test dataset size:',test_triplets.shape[0])"
   ]
  },
  {
   "cell_type": "code",
   "execution_count": 16,
   "metadata": {},
   "outputs": [
    {
     "name": "stdout",
     "output_type": "stream",
     "text": [
      "Number of unique interactions: 210\n",
      "['increase_thrombocytopenia', 'increase_hyperkalemia', 'increase_cardiac_arrest', 'increase_thromboembolism', 'decrease_serum_concentration', 'increase_nausea', 'increase_hemorrhagic_cystitis', 'increase_infection', 'increase_cardiodepressant_activities', 'increase_neuroleptic_malignant_syndrome']\n"
     ]
    }
   ],
   "source": [
    "all_relations = set(train_triplets.relation)\n",
    "print('Number of unique interactions:', len(all_relations))\n",
    "print(list(all_relations)[:10])"
   ]
  },
  {
   "cell_type": "markdown",
   "metadata": {},
   "source": [
    "#### Add rest of the data into the training set"
   ]
  },
  {
   "cell_type": "code",
   "execution_count": 17,
   "metadata": {},
   "outputs": [
    {
     "name": "stdout",
     "output_type": "stream",
     "text": [
      "Final size of train dataset (with other relations): 3591743\n"
     ]
    }
   ],
   "source": [
    "files = listdir(data_dir)\n",
    "\n",
    "for file in files:\n",
    "    if file == 'ddi.tsv' or file == '.ipynb_checkpoints' or file == 'ds_relations.tsv':\n",
    "        continue\n",
    "    if 'train' in file or 'valid' in file or 'test' in file:\n",
    "        continue\n",
    "           \n",
    "    df = pd.read_csv(data_dir + file, sep='\\t', index_col=[0])\n",
    "    \n",
    "    # if file == 'ds_relations.tsv':\n",
    "    #     df = df[df['REL'] == 'has_ingredient']\n",
    "    \n",
    "    df.set_axis(['head', 'relation', 'tail'], axis=1, inplace=True) \n",
    "    train_triplets = pd.concat([train_triplets, df])\n",
    "    \n",
    "print('Final size of train dataset (with other relations):', train_triplets.shape[0]) "
   ]
  },
  {
   "cell_type": "code",
   "execution_count": 18,
   "metadata": {},
   "outputs": [],
   "source": [
    "train_triplets = train_triplets.astype(str)\n",
    "valid_triplets = valid_triplets.astype(str)\n",
    "test_triplets = test_triplets.astype(str)"
   ]
  },
  {
   "cell_type": "code",
   "execution_count": 19,
   "metadata": {},
   "outputs": [],
   "source": [
    "# save train, valid and test datasets\n",
    "\n",
    "train_triplets.to_csv(data_dir + 'train.tsv', sep='\\t')\n",
    "valid_triplets.to_csv(data_dir + 'valid.tsv', sep='\\t')\n",
    "test_triplets.to_csv(data_dir + 'test.tsv', sep='\\t')"
   ]
  },
  {
   "cell_type": "markdown",
   "metadata": {},
   "source": [
    "#### Convert datasets into Triples Factory format"
   ]
  },
  {
   "cell_type": "code",
   "execution_count": 20,
   "metadata": {},
   "outputs": [],
   "source": [
    "def convert_to_triples_factory(data):\n",
    "    tf_data = TriplesFactory.from_labeled_triples(\n",
    "      data[[\"head\", \"relation\", \"tail\"]].values,\n",
    "      create_inverse_triples=False,\n",
    "      entity_to_id=None,\n",
    "      relation_to_id=None,\n",
    "      compact_id=False \n",
    "    )\n",
    "    print(tf_data)  # kam mizeji nejake trojice? - jiny pocet zde a po vytvoreni datasetu\n",
    "    return tf_data"
   ]
  },
  {
   "cell_type": "code",
   "execution_count": 21,
   "metadata": {},
   "outputs": [
    {
     "name": "stdout",
     "output_type": "stream",
     "text": [
      "TriplesFactory(num_entities=647147, num_relations=219, create_inverse_triples=False, num_triples=4008014)\n",
      "TriplesFactory(num_entities=5629, num_relations=187, create_inverse_triples=False, num_triples=314106)\n",
      "TriplesFactory(num_entities=5593, num_relations=210, create_inverse_triples=False, num_triples=314223)\n"
     ]
    }
   ],
   "source": [
    "tf_train = convert_to_triples_factory(train_triplets)\n",
    "tf_valid = convert_to_triples_factory(valid_triplets)\n",
    "tf_test = convert_to_triples_factory(test_triplets)\n"
   ]
  },
  {
   "cell_type": "code",
   "execution_count": 22,
   "metadata": {},
   "outputs": [
    {
     "name": "stderr",
     "output_type": "stream",
     "text": [
      "using automatically assigned random_state=3004141852\n",
      "using automatically assigned random_state=758830119\n",
      "using automatically assigned random_state=2869471791\n"
     ]
    }
   ],
   "source": [
    "# take just subset of data for testing\n",
    "\n",
    "train_sub, _ = tf_train.split(0.15)\n",
    "valid_sub, _ = tf_valid.split(0.15)\n",
    "test_sub, _ = tf_test.split(0.15)"
   ]
  },
  {
   "cell_type": "code",
   "execution_count": 23,
   "metadata": {},
   "outputs": [
    {
     "data": {
      "text/plain": [
       "TriplesFactory(num_entities=647147, num_relations=219, create_inverse_triples=False, num_triples=601202)"
      ]
     },
     "execution_count": 23,
     "metadata": {},
     "output_type": "execute_result"
    }
   ],
   "source": [
    "train_sub"
   ]
  },
  {
   "cell_type": "markdown",
   "metadata": {},
   "source": [
    "### Model"
   ]
  },
  {
   "cell_type": "code",
   "execution_count": null,
   "metadata": {},
   "outputs": [],
   "source": [
    "# evaluation_relation_whitelist = all_relations"
   ]
  },
  {
   "cell_type": "code",
   "execution_count": null,
   "metadata": {},
   "outputs": [],
   "source": [
    "# creating a model\n",
    "result = pipeline(\n",
    "    training=train_sub,\n",
    "    testing=test_sub,\n",
    "    validation=valid_sub,\n",
    "    model='TransE',\n",
    "    epochs=1,\n",
    "    evaluator=RankBasedEvaluator,\n",
    "#     model_kwargs=dict(embedding_dim=128),\n",
    "    device='gpu',\n",
    "    optimizer='Adam',\n",
    "#     evaluation_relation_whitelist=evaluation_relation_whitelist,\n",
    "#     training_kwargs=dict(\n",
    "#         num_epochs=2,\n",
    "#         checkpoint_name='transE_checkpoint.pt',\n",
    "#         checkpoint_directory='kg_ckeckpoints',\n",
    "#         checkpoint_frequency=0\n",
    "#     ),\n",
    ")"
   ]
  },
  {
   "cell_type": "code",
   "execution_count": null,
   "metadata": {},
   "outputs": [],
   "source": [
    "result.plot()"
   ]
  },
  {
   "cell_type": "code",
   "execution_count": null,
   "metadata": {},
   "outputs": [],
   "source": [
    "hits_at_10 = result.get_metric('hits@10')\n",
    "hits_at_10"
   ]
  },
  {
   "cell_type": "code",
   "execution_count": null,
   "metadata": {},
   "outputs": [],
   "source": [
    "result.training"
   ]
  },
  {
   "cell_type": "code",
   "execution_count": null,
   "metadata": {},
   "outputs": [],
   "source": [
    "# predictions\n",
    "\n",
    "# model = result.model\n",
    "\n",
    "# predictions_df = predict.get_prediction_df(\n",
    "#     model, \n",
    "#     triples_factory=result.training, \n",
    "#     tail_label='Kiwi', \n",
    "#     relation_label='increase_sleep_disorders')\n",
    "\n",
    "# predictions_df.head(15)\n",
    "\n",
    "predicted_tails_df = predict.get_tail_prediction_df(\n",
    "        model = result.model, \n",
    "        head_label = \"Ibuprofen\", \n",
    "        relation_label = \"decrease_adverse_effects\", \n",
    "        triples_factory = result.training,\n",
    "    )\n",
    "\n",
    "predicted_tails_df.head(20)"
   ]
  },
  {
   "cell_type": "code",
   "execution_count": null,
   "metadata": {},
   "outputs": [],
   "source": [
    "# evaluation\n",
    "# # ????\n",
    "# evaluator = RankBasedEvaluator()\n",
    "\n",
    "# triples = tf_test.mapped_triples\n",
    "\n",
    "# eval_results = evaluator.evaluate(\n",
    "#     model=model,\n",
    "#     mapped_triples=triples,\n",
    "#     batch_size=1024,\n",
    "#     additional_filter_triples=[\n",
    "#        train_sub.mapped_triples,\n",
    "#        valid_sub.mapped_triples,\n",
    "#     ],\n",
    "# )"
   ]
  },
  {
   "cell_type": "code",
   "execution_count": null,
   "metadata": {},
   "outputs": [],
   "source": [
    "# eval_results.to_df()"
   ]
  },
  {
   "cell_type": "code",
   "execution_count": null,
   "metadata": {},
   "outputs": [],
   "source": [
    "result.metric_results.to_df()"
   ]
  },
  {
   "cell_type": "code",
   "execution_count": null,
   "metadata": {},
   "outputs": [],
   "source": [
    "result.save_to_directory(\"results\")"
   ]
  }
 ],
 "metadata": {
  "kernelspec": {
   "display_name": "Python 3 (ipykernel)",
   "language": "python",
   "name": "python3"
  },
  "language_info": {
   "codemirror_mode": {
    "name": "ipython",
    "version": 3
   },
   "file_extension": ".py",
   "mimetype": "text/x-python",
   "name": "python",
   "nbconvert_exporter": "python",
   "pygments_lexer": "ipython3",
   "version": "3.7.3"
  },
  "vscode": {
   "interpreter": {
    "hash": "8343f1c295490ad08729f17064e1ab8ac071c711efe2732632787d24e0261b0e"
   }
  }
 },
 "nbformat": 4,
 "nbformat_minor": 2
}
