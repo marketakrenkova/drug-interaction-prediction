{
 "cells": [
  {
   "cell_type": "code",
   "execution_count": 9,
   "metadata": {},
   "outputs": [],
   "source": [
    "import pandas as pd\n",
    "import re"
   ]
  },
  {
   "cell_type": "markdown",
   "metadata": {},
   "source": [
    "#### How much are phytochemicals in drugs?"
   ]
  },
  {
   "cell_type": "code",
   "execution_count": 4,
   "metadata": {},
   "outputs": [
    {
     "data": {
      "text/html": [
       "<div>\n",
       "<style scoped>\n",
       "    .dataframe tbody tr th:only-of-type {\n",
       "        vertical-align: middle;\n",
       "    }\n",
       "\n",
       "    .dataframe tbody tr th {\n",
       "        vertical-align: top;\n",
       "    }\n",
       "\n",
       "    .dataframe thead th {\n",
       "        text-align: right;\n",
       "    }\n",
       "</style>\n",
       "<table border=\"1\" class=\"dataframe\">\n",
       "  <thead>\n",
       "    <tr style=\"text-align: right;\">\n",
       "      <th></th>\n",
       "      <th>drug_name</th>\n",
       "      <th>relation</th>\n",
       "      <th>ingredient</th>\n",
       "    </tr>\n",
       "  </thead>\n",
       "  <tbody>\n",
       "    <tr>\n",
       "      <th>0</th>\n",
       "      <td>Refludan</td>\n",
       "      <td>contains</td>\n",
       "      <td>Lepirudin</td>\n",
       "    </tr>\n",
       "    <tr>\n",
       "      <th>1</th>\n",
       "      <td>Erbitux</td>\n",
       "      <td>contains</td>\n",
       "      <td>Cetuximab</td>\n",
       "    </tr>\n",
       "    <tr>\n",
       "      <th>2</th>\n",
       "      <td>Pulmozyme</td>\n",
       "      <td>contains</td>\n",
       "      <td>Dornase alfa</td>\n",
       "    </tr>\n",
       "    <tr>\n",
       "      <th>3</th>\n",
       "      <td>Pulmozyme 1mg/ml</td>\n",
       "      <td>contains</td>\n",
       "      <td>Dornase alfa</td>\n",
       "    </tr>\n",
       "    <tr>\n",
       "      <th>4</th>\n",
       "      <td>Ontak</td>\n",
       "      <td>contains</td>\n",
       "      <td>Denileukin diftitox</td>\n",
       "    </tr>\n",
       "  </tbody>\n",
       "</table>\n",
       "</div>"
      ],
      "text/plain": [
       "          drug_name  relation           ingredient\n",
       "0          Refludan  contains            Lepirudin\n",
       "1           Erbitux  contains            Cetuximab\n",
       "2         Pulmozyme  contains         Dornase alfa\n",
       "3  Pulmozyme 1mg/ml  contains         Dornase alfa\n",
       "4             Ontak  contains  Denileukin diftitox"
      ]
     },
     "execution_count": 4,
     "metadata": {},
     "output_type": "execute_result"
    }
   ],
   "source": [
    "drug_ingredients = pd.read_csv('data/triplets/ingredients.tsv', sep='\\t', index_col=[0])\n",
    "drug_ingredients.head()"
   ]
  },
  {
   "cell_type": "code",
   "execution_count": 21,
   "metadata": {},
   "outputs": [
    {
     "name": "stdout",
     "output_type": "stream",
     "text": [
      "['alpha-carotene', 'beta-carotene', 'gamma-carotene', 'delta-carotene', 'epsilon-carotene', 'lycopene', 'neurosporene', 'phytofluene', 'phytoene', 'canthaxanthin']\n"
     ]
    }
   ],
   "source": [
    "with open('data/phytochemicals.txt', 'r') as f:\n",
    "    lines = f.readlines()  \n",
    "\n",
    "phytochemicals = [re.sub('\\n', '', x) for x in lines]   \n",
    "phytochemicals = [x.lower() for x in phytochemicals] \n",
    "\n",
    "print(phytochemicals[:10])\n",
    "phytochemicals = set(phytochemicals)"
   ]
  },
  {
   "cell_type": "code",
   "execution_count": 25,
   "metadata": {},
   "outputs": [
    {
     "name": "stdout",
     "output_type": "stream",
     "text": [
      "{'phenylalanine', 'testosterone', 'camphor', 'pectin', 'phenol', 'tocopherol', 'piperine', 'lutein', 'astaxanthin', 'curcumin', 'genistein', 'histidine', 'tryptophan', 'lycopene', 'hesperidin', 'cholecalciferol', 'squalane', 'thymol', 'tyrosine', 'rutin', 'resveratrol', 'capsaicin', 'zeaxanthin', 'borneol', 'eucalyptol', 'paclitaxel', 'geraniol', 'diosmetin', 'menthol'}\n",
      "\n",
      "Number of drugs that contains phytochemicals: 4593 / out of 106826\n"
     ]
    }
   ],
   "source": [
    "drug_names = set(drug_ingredients.drug_name)\n",
    "\n",
    "drugs_with_phytochemicals = dict()\n",
    "phytochemicals_in_drugs = set()\n",
    "\n",
    "for drug_name in drug_names:\n",
    "    ingredients = list(drug_ingredients[drug_ingredients['drug_name'] == drug_name].ingredient.values)\n",
    "    ingredients = [re.sub(' ', '', x.lower()) for x in ingredients]\n",
    "    common_ingredients = list(set(ingredients) & phytochemicals)\n",
    "    if len(common_ingredients) > 0:\n",
    "        drugs_with_phytochemicals[drug_name] = len(common_ingredients) \n",
    "        for ing in common_ingredients:\n",
    "            phytochemicals_in_drugs.add(ing)\n",
    "\n",
    "print(phytochemicals_in_drugs)\n",
    "print()\n",
    "print('Number of drugs that contains phytochemicals:', len(drugs_with_phytochemicals), '/ out of', len(drug_names))"
   ]
  },
  {
   "cell_type": "code",
   "execution_count": null,
   "metadata": {},
   "outputs": [],
   "source": []
  }
 ],
 "metadata": {
  "kernelspec": {
   "display_name": "Python 3.7.3 ('env': venv)",
   "language": "python",
   "name": "python3"
  },
  "language_info": {
   "codemirror_mode": {
    "name": "ipython",
    "version": 3
   },
   "file_extension": ".py",
   "mimetype": "text/x-python",
   "name": "python",
   "nbconvert_exporter": "python",
   "pygments_lexer": "ipython3",
   "version": "3.7.3"
  },
  "orig_nbformat": 4,
  "vscode": {
   "interpreter": {
    "hash": "8343f1c295490ad08729f17064e1ab8ac071c711efe2732632787d24e0261b0e"
   }
  }
 },
 "nbformat": 4,
 "nbformat_minor": 2
}
