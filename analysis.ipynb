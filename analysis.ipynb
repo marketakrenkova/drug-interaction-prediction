{
 "cells": [
  {
   "cell_type": "code",
   "execution_count": 1,
   "metadata": {},
   "outputs": [],
   "source": [
    "import pandas as pd\n",
    "import re"
   ]
  },
  {
   "cell_type": "markdown",
   "metadata": {},
   "source": [
    "#### How much are phytochemicals in drugs?"
   ]
  },
  {
   "cell_type": "code",
   "execution_count": 4,
   "metadata": {},
   "outputs": [
    {
     "data": {
      "text/html": [
       "<div>\n",
       "<style scoped>\n",
       "    .dataframe tbody tr th:only-of-type {\n",
       "        vertical-align: middle;\n",
       "    }\n",
       "\n",
       "    .dataframe tbody tr th {\n",
       "        vertical-align: top;\n",
       "    }\n",
       "\n",
       "    .dataframe thead th {\n",
       "        text-align: right;\n",
       "    }\n",
       "</style>\n",
       "<table border=\"1\" class=\"dataframe\">\n",
       "  <thead>\n",
       "    <tr style=\"text-align: right;\">\n",
       "      <th></th>\n",
       "      <th>drug_name</th>\n",
       "      <th>relation</th>\n",
       "      <th>ingredient</th>\n",
       "    </tr>\n",
       "  </thead>\n",
       "  <tbody>\n",
       "    <tr>\n",
       "      <th>0</th>\n",
       "      <td>Refludan</td>\n",
       "      <td>contains</td>\n",
       "      <td>Lepirudin</td>\n",
       "    </tr>\n",
       "    <tr>\n",
       "      <th>1</th>\n",
       "      <td>Erbitux</td>\n",
       "      <td>contains</td>\n",
       "      <td>Cetuximab</td>\n",
       "    </tr>\n",
       "    <tr>\n",
       "      <th>2</th>\n",
       "      <td>Pulmozyme</td>\n",
       "      <td>contains</td>\n",
       "      <td>Dornase alfa</td>\n",
       "    </tr>\n",
       "    <tr>\n",
       "      <th>3</th>\n",
       "      <td>Pulmozyme 1mg/ml</td>\n",
       "      <td>contains</td>\n",
       "      <td>Dornase alfa</td>\n",
       "    </tr>\n",
       "    <tr>\n",
       "      <th>4</th>\n",
       "      <td>Ontak</td>\n",
       "      <td>contains</td>\n",
       "      <td>Denileukin diftitox</td>\n",
       "    </tr>\n",
       "  </tbody>\n",
       "</table>\n",
       "</div>"
      ],
      "text/plain": [
       "          drug_name  relation           ingredient\n",
       "0          Refludan  contains            Lepirudin\n",
       "1           Erbitux  contains            Cetuximab\n",
       "2         Pulmozyme  contains         Dornase alfa\n",
       "3  Pulmozyme 1mg/ml  contains         Dornase alfa\n",
       "4             Ontak  contains  Denileukin diftitox"
      ]
     },
     "execution_count": 4,
     "metadata": {},
     "output_type": "execute_result"
    }
   ],
   "source": [
    "drug_ingredients = pd.read_csv('data/triplets/ingredients.tsv', sep='\\t', index_col=[0])\n",
    "drug_ingredients.head()"
   ]
  },
  {
   "cell_type": "code",
   "execution_count": 21,
   "metadata": {},
   "outputs": [
    {
     "name": "stdout",
     "output_type": "stream",
     "text": [
      "['alpha-carotene', 'beta-carotene', 'gamma-carotene', 'delta-carotene', 'epsilon-carotene', 'lycopene', 'neurosporene', 'phytofluene', 'phytoene', 'canthaxanthin']\n"
     ]
    }
   ],
   "source": [
    "with open('data/phytochemicals.txt', 'r') as f:\n",
    "    lines = f.readlines()  \n",
    "\n",
    "phytochemicals = [re.sub('\\n', '', x) for x in lines]   \n",
    "phytochemicals = [x.lower() for x in phytochemicals] \n",
    "\n",
    "print(phytochemicals[:10])\n",
    "phytochemicals = set(phytochemicals)"
   ]
  },
  {
   "cell_type": "code",
   "execution_count": 25,
   "metadata": {},
   "outputs": [
    {
     "name": "stdout",
     "output_type": "stream",
     "text": [
      "{'phenylalanine', 'testosterone', 'camphor', 'pectin', 'phenol', 'tocopherol', 'piperine', 'lutein', 'astaxanthin', 'curcumin', 'genistein', 'histidine', 'tryptophan', 'lycopene', 'hesperidin', 'cholecalciferol', 'squalane', 'thymol', 'tyrosine', 'rutin', 'resveratrol', 'capsaicin', 'zeaxanthin', 'borneol', 'eucalyptol', 'paclitaxel', 'geraniol', 'diosmetin', 'menthol'}\n",
      "\n",
      "Number of drugs that contains phytochemicals: 4593 / out of 106826\n"
     ]
    }
   ],
   "source": [
    "drug_names = set(drug_ingredients.drug_name)\n",
    "\n",
    "drugs_with_phytochemicals = dict()\n",
    "phytochemicals_in_drugs = set()\n",
    "\n",
    "for drug_name in drug_names:\n",
    "    ingredients = list(drug_ingredients[drug_ingredients['drug_name'] == drug_name].ingredient.values)\n",
    "    ingredients = [re.sub(' ', '', x.lower()) for x in ingredients]\n",
    "    common_ingredients = list(set(ingredients) & phytochemicals)\n",
    "    if len(common_ingredients) > 0:\n",
    "        drugs_with_phytochemicals[drug_name] = len(common_ingredients) \n",
    "        for ing in common_ingredients:\n",
    "            phytochemicals_in_drugs.add(ing)\n",
    "\n",
    "print(phytochemicals_in_drugs)\n",
    "print()\n",
    "print('Number of drugs that contains phytochemicals:', len(drugs_with_phytochemicals), '/ out of', len(drug_names))"
   ]
  },
  {
   "cell_type": "markdown",
   "metadata": {},
   "source": [
    "### Data Analysis\n",
    "(in training dataset)"
   ]
  },
  {
   "cell_type": "markdown",
   "metadata": {},
   "source": [
    "#### Drugs"
   ]
  },
  {
   "cell_type": "code",
   "execution_count": 7,
   "metadata": {},
   "outputs": [
    {
     "name": "stdout",
     "output_type": "stream",
     "text": [
      "          drug       relation                    inchi_key\n",
      "1  Bivalirudin  has_inchi_key  OIRCOABEOLEUMC-GEJPAHFPSA-N\n",
      "2   Leuprolide  has_inchi_key  GFIJNRVAKGFPGQ-LIJARHBVSA-N\n",
      "3    Goserelin  has_inchi_key  BLCLNMBMMGCOAS-URPVMXJPSA-N\n",
      "\n",
      "           drug      relation                  molecule\n",
      "1     Lepirudin  has_molecule         C287H440N80O110S6\n",
      "2     Cetuximab  has_molecule  C6484H10042N1732O2023S36\n",
      "3  Dornase alfa  has_molecule      C1321H1999N339O396S9\n",
      "\n",
      "           drug     relation                              subclass\n",
      "1     Lepirudin  in_subclass  Amino Acids, Peptides, and Analogues\n",
      "2     Cetuximab  in_subclass  Amino Acids, Peptides, and Analogues\n",
      "3  Dornase alfa  in_subclass  Amino Acids, Peptides, and Analogues\n",
      "\n",
      "         drug  relation                 salt\n",
      "1  Leuprolide  contains   Leuprolide acetate\n",
      "2  Leuprolide  contains  Leuprolide mesylate\n",
      "3  Sermorelin  contains   Sermorelin acetate\n",
      "\n",
      "   drug_name  relation    ingredient\n",
      "0   Refludan  contains     Lepirudin\n",
      "1    Erbitux  contains     Cetuximab\n",
      "2  Pulmozyme  contains  Dornase alfa\n",
      "\n",
      "                  drug1                        interaction      drug2\n",
      "0              Apixaban  increase_anticoagulant_activities  Lepirudin\n",
      "1  Dabigatran etexilate  increase_anticoagulant_activities  Lepirudin\n",
      "2             Dasatinib                  increase_bleeding  Lepirudin\n",
      "\n"
     ]
    }
   ],
   "source": [
    "drug_inchi_key = pd.read_csv('data/triplets/drugs_inchi_key.tsv', sep='\\t', index_col=[0])\n",
    "print(drug_inchi_key.head(3))\n",
    "print()\n",
    "\n",
    "drug_molecule = pd.read_csv('data/triplets/drugs_molecule.tsv', sep='\\t', index_col=[0])\n",
    "print(drug_molecule.head(3))\n",
    "print()\n",
    "\n",
    "drug_subclass = pd.read_csv('data/triplets/drug_subclass.tsv', sep='\\t', index_col=[0])\n",
    "print(drug_subclass.head(3))\n",
    "print()\n",
    "\n",
    "drug_salts = pd.read_csv('data/triplets/drug_salts.tsv', sep='\\t', index_col=[0])\n",
    "print(drug_salts.head(3))\n",
    "print()\n",
    "\n",
    "drug_ingredients = pd.read_csv('data/triplets/ingredients.tsv', sep='\\t', index_col=[0])\n",
    "print(drug_ingredients.head(3))\n",
    "print()\n",
    "\n",
    "drug_interactions = pd.read_csv('data/triplets/ddi.tsv', sep='\\t', index_col=[0])\n",
    "print(drug_interactions.head(3))\n",
    "print()"
   ]
  },
  {
   "cell_type": "markdown",
   "metadata": {},
   "source": [
    "#### Food"
   ]
  },
  {
   "cell_type": "code",
   "execution_count": 9,
   "metadata": {},
   "outputs": [
    {
     "name": "stdout",
     "output_type": "stream",
     "text": [
      "       food  relation    compound\n",
      "0  Angelica  contains    Apigenin\n",
      "1  Angelica  contains    Luteolin\n",
      "2  Angelica  contains  Kaempferol\n",
      "3  Angelica  contains   Myricetin\n",
      "4  Angelica  contains   Quercetin\n",
      "\n",
      "                    compound        relation  cas_number\n",
      "0     Quercetin 3-rutinoside  has_cas_number    153-18-4\n",
      "1  2,6-Dihydroxybenzoic acid  has_cas_number    303-07-1\n",
      "2             (S)-Naringenin  has_cas_number    480-41-1\n",
      "3            L-Chicoric acid  has_cas_number  70831-56-0\n",
      "4                   Phytoene  has_cas_number    540-04-5\n",
      "\n"
     ]
    }
   ],
   "source": [
    "food_compounds = pd.read_csv('data/triplets/food_compound.tsv', sep='\\t', index_col=[0])\n",
    "print(food_compounds.head())\n",
    "print()\n",
    "\n",
    "compounds_cas_num = pd.read_csv('data/triplets/compounds_cas_number.tsv', sep='\\t', index_col=[0])\n",
    "print(compounds_cas_num.head())\n",
    "print()"
   ]
  },
  {
   "cell_type": "markdown",
   "metadata": {},
   "source": [
    "#### Drug Supplements"
   ]
  },
  {
   "cell_type": "code",
   "execution_count": 10,
   "metadata": {},
   "outputs": [
    {
     "name": "stdout",
     "output_type": "stream",
     "text": [
      "                                        CUI1             REL  \\\n",
      "0     Douglas Laboratories - L-Lysine 500 mg  has_ingredient   \n",
      "1  Met-Rx - Pure Protein Shake Vanilla Cream  has_ingredient   \n",
      "2  Met-Rx - Pure Protein Shake Vanilla Cream  has_ingredient   \n",
      "3  Met-Rx - Pure Protein Shake Vanilla Cream  has_ingredient   \n",
      "4  Met-Rx - Pure Protein Shake Vanilla Cream  has_ingredient   \n",
      "\n",
      "                    CUI2  \n",
      "0     L-Lysine Free Form  \n",
      "1             Saccharide  \n",
      "2     Sodium-D-aspartate  \n",
      "3          Oleovitamin A  \n",
      "4  Magnesium Trisilicate  \n",
      "\n",
      "                               CUI1             REL  \\\n",
      "689301  1-Androsten-3beta-ol-17-one  interacts_with   \n",
      "689302                       4-DHEA  interacts_with   \n",
      "689319                    Blackbush  interacts_with   \n",
      "689320                    Blackbush  interacts_with   \n",
      "689322                    Blackbush  interacts_with   \n",
      "\n",
      "                                  CUI2  \n",
      "689301                    Testosterone  \n",
      "689302                    Testosterone  \n",
      "689319             Cytochrome P450 2D6  \n",
      "689320                   TOPICAL DRUGS  \n",
      "689322  Cytochrome P450 3A4 substrates  \n",
      "\n"
     ]
    }
   ],
   "source": [
    "ds_ingredients = pd.read_csv('data/triplets/ds_ingredients.tsv', sep='\\t', index_col=[0])\n",
    "print(ds_ingredients.head())\n",
    "print()\n",
    "\n",
    "ds_relations = pd.read_csv('data/triplets/ds_relations.tsv', sep='\\t', index_col=[0])\n",
    "print(ds_relations.head())\n",
    "print()"
   ]
  }
 ],
 "metadata": {
  "kernelspec": {
   "display_name": "Python 3.7.3 ('env': venv)",
   "language": "python",
   "name": "python3"
  },
  "language_info": {
   "codemirror_mode": {
    "name": "ipython",
    "version": 3
   },
   "file_extension": ".py",
   "mimetype": "text/x-python",
   "name": "python",
   "nbconvert_exporter": "python",
   "pygments_lexer": "ipython3",
   "version": "3.7.3"
  },
  "orig_nbformat": 4,
  "vscode": {
   "interpreter": {
    "hash": "8343f1c295490ad08729f17064e1ab8ac071c711efe2732632787d24e0261b0e"
   }
  }
 },
 "nbformat": 4,
 "nbformat_minor": 2
}
